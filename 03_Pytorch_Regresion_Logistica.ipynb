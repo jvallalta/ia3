{
  "nbformat": 4,
  "nbformat_minor": 0,
  "metadata": {
    "colab": {
      "name": "03-Pytorch-Regresion_Logistica.ipynb",
      "provenance": [],
      "collapsed_sections": [
        "ghPSdPkCrLyk",
        "n2QOf-HEltUP"
      ],
      "include_colab_link": true
    },
    "kernelspec": {
      "display_name": "Python 3",
      "language": "python",
      "name": "python3"
    },
    "language_info": {
      "codemirror_mode": {
        "name": "ipython",
        "version": 3
      },
      "file_extension": ".py",
      "mimetype": "text/x-python",
      "name": "python",
      "nbconvert_exporter": "python",
      "pygments_lexer": "ipython3",
      "version": "3.8.5"
    },
    "widgets": {
      "application/vnd.jupyter.widget-state+json": {
        "df7c51f5d065449e9b9df7a2fbdc870f": {
          "model_module": "@jupyter-widgets/controls",
          "model_name": "HBoxModel",
          "state": {
            "_view_name": "HBoxView",
            "_dom_classes": [],
            "_model_name": "HBoxModel",
            "_view_module": "@jupyter-widgets/controls",
            "_model_module_version": "1.5.0",
            "_view_count": null,
            "_view_module_version": "1.5.0",
            "box_style": "",
            "layout": "IPY_MODEL_60c765d8246142dabadfbff3100fde08",
            "_model_module": "@jupyter-widgets/controls",
            "children": [
              "IPY_MODEL_29418aaa384743b7921dd0e889dfda10",
              "IPY_MODEL_45352f24787e4f6b9a7aa1d901e300c3"
            ]
          }
        },
        "60c765d8246142dabadfbff3100fde08": {
          "model_module": "@jupyter-widgets/base",
          "model_name": "LayoutModel",
          "state": {
            "_view_name": "LayoutView",
            "grid_template_rows": null,
            "right": null,
            "justify_content": null,
            "_view_module": "@jupyter-widgets/base",
            "overflow": null,
            "_model_module_version": "1.2.0",
            "_view_count": null,
            "flex_flow": null,
            "width": null,
            "min_width": null,
            "border": null,
            "align_items": null,
            "bottom": null,
            "_model_module": "@jupyter-widgets/base",
            "top": null,
            "grid_column": null,
            "overflow_y": null,
            "overflow_x": null,
            "grid_auto_flow": null,
            "grid_area": null,
            "grid_template_columns": null,
            "flex": null,
            "_model_name": "LayoutModel",
            "justify_items": null,
            "grid_row": null,
            "max_height": null,
            "align_content": null,
            "visibility": null,
            "align_self": null,
            "height": null,
            "min_height": null,
            "padding": null,
            "grid_auto_rows": null,
            "grid_gap": null,
            "max_width": null,
            "order": null,
            "_view_module_version": "1.2.0",
            "grid_template_areas": null,
            "object_position": null,
            "object_fit": null,
            "grid_auto_columns": null,
            "margin": null,
            "display": null,
            "left": null
          }
        },
        "29418aaa384743b7921dd0e889dfda10": {
          "model_module": "@jupyter-widgets/controls",
          "model_name": "FloatProgressModel",
          "state": {
            "_view_name": "ProgressView",
            "style": "IPY_MODEL_69c6f1fc5c3f4894b12c6fa8d4d47208",
            "_dom_classes": [],
            "description": "",
            "_model_name": "FloatProgressModel",
            "bar_style": "info",
            "max": 1,
            "_view_module": "@jupyter-widgets/controls",
            "_model_module_version": "1.5.0",
            "value": 1,
            "_view_count": null,
            "_view_module_version": "1.5.0",
            "orientation": "horizontal",
            "min": 0,
            "description_tooltip": null,
            "_model_module": "@jupyter-widgets/controls",
            "layout": "IPY_MODEL_7fd578a60b47418d928f58cda1505f33"
          }
        },
        "45352f24787e4f6b9a7aa1d901e300c3": {
          "model_module": "@jupyter-widgets/controls",
          "model_name": "HTMLModel",
          "state": {
            "_view_name": "HTMLView",
            "style": "IPY_MODEL_1d9469d9dcde4acbbab139c95ce4b001",
            "_dom_classes": [],
            "description": "",
            "_model_name": "HTMLModel",
            "placeholder": "​",
            "_view_module": "@jupyter-widgets/controls",
            "_model_module_version": "1.5.0",
            "value": " 9920512/? [00:20&lt;00:00, 13341458.04it/s]",
            "_view_count": null,
            "_view_module_version": "1.5.0",
            "description_tooltip": null,
            "_model_module": "@jupyter-widgets/controls",
            "layout": "IPY_MODEL_e3d199e60fca40d3a3b69e46fbf83014"
          }
        },
        "69c6f1fc5c3f4894b12c6fa8d4d47208": {
          "model_module": "@jupyter-widgets/controls",
          "model_name": "ProgressStyleModel",
          "state": {
            "_view_name": "StyleView",
            "_model_name": "ProgressStyleModel",
            "description_width": "initial",
            "_view_module": "@jupyter-widgets/base",
            "_model_module_version": "1.5.0",
            "_view_count": null,
            "_view_module_version": "1.2.0",
            "bar_color": null,
            "_model_module": "@jupyter-widgets/controls"
          }
        },
        "7fd578a60b47418d928f58cda1505f33": {
          "model_module": "@jupyter-widgets/base",
          "model_name": "LayoutModel",
          "state": {
            "_view_name": "LayoutView",
            "grid_template_rows": null,
            "right": null,
            "justify_content": null,
            "_view_module": "@jupyter-widgets/base",
            "overflow": null,
            "_model_module_version": "1.2.0",
            "_view_count": null,
            "flex_flow": null,
            "width": null,
            "min_width": null,
            "border": null,
            "align_items": null,
            "bottom": null,
            "_model_module": "@jupyter-widgets/base",
            "top": null,
            "grid_column": null,
            "overflow_y": null,
            "overflow_x": null,
            "grid_auto_flow": null,
            "grid_area": null,
            "grid_template_columns": null,
            "flex": null,
            "_model_name": "LayoutModel",
            "justify_items": null,
            "grid_row": null,
            "max_height": null,
            "align_content": null,
            "visibility": null,
            "align_self": null,
            "height": null,
            "min_height": null,
            "padding": null,
            "grid_auto_rows": null,
            "grid_gap": null,
            "max_width": null,
            "order": null,
            "_view_module_version": "1.2.0",
            "grid_template_areas": null,
            "object_position": null,
            "object_fit": null,
            "grid_auto_columns": null,
            "margin": null,
            "display": null,
            "left": null
          }
        },
        "1d9469d9dcde4acbbab139c95ce4b001": {
          "model_module": "@jupyter-widgets/controls",
          "model_name": "DescriptionStyleModel",
          "state": {
            "_view_name": "StyleView",
            "_model_name": "DescriptionStyleModel",
            "description_width": "",
            "_view_module": "@jupyter-widgets/base",
            "_model_module_version": "1.5.0",
            "_view_count": null,
            "_view_module_version": "1.2.0",
            "_model_module": "@jupyter-widgets/controls"
          }
        },
        "e3d199e60fca40d3a3b69e46fbf83014": {
          "model_module": "@jupyter-widgets/base",
          "model_name": "LayoutModel",
          "state": {
            "_view_name": "LayoutView",
            "grid_template_rows": null,
            "right": null,
            "justify_content": null,
            "_view_module": "@jupyter-widgets/base",
            "overflow": null,
            "_model_module_version": "1.2.0",
            "_view_count": null,
            "flex_flow": null,
            "width": null,
            "min_width": null,
            "border": null,
            "align_items": null,
            "bottom": null,
            "_model_module": "@jupyter-widgets/base",
            "top": null,
            "grid_column": null,
            "overflow_y": null,
            "overflow_x": null,
            "grid_auto_flow": null,
            "grid_area": null,
            "grid_template_columns": null,
            "flex": null,
            "_model_name": "LayoutModel",
            "justify_items": null,
            "grid_row": null,
            "max_height": null,
            "align_content": null,
            "visibility": null,
            "align_self": null,
            "height": null,
            "min_height": null,
            "padding": null,
            "grid_auto_rows": null,
            "grid_gap": null,
            "max_width": null,
            "order": null,
            "_view_module_version": "1.2.0",
            "grid_template_areas": null,
            "object_position": null,
            "object_fit": null,
            "grid_auto_columns": null,
            "margin": null,
            "display": null,
            "left": null
          }
        },
        "244f8e6eb097458d8cf5ce990c4641f8": {
          "model_module": "@jupyter-widgets/controls",
          "model_name": "HBoxModel",
          "state": {
            "_view_name": "HBoxView",
            "_dom_classes": [],
            "_model_name": "HBoxModel",
            "_view_module": "@jupyter-widgets/controls",
            "_model_module_version": "1.5.0",
            "_view_count": null,
            "_view_module_version": "1.5.0",
            "box_style": "",
            "layout": "IPY_MODEL_d01821fb1f80471594424a651567e8e3",
            "_model_module": "@jupyter-widgets/controls",
            "children": [
              "IPY_MODEL_64e02e01ba1341ddbc62f37e3c7e7777",
              "IPY_MODEL_25b837df7be2463b883f9c50a4bf8297"
            ]
          }
        },
        "d01821fb1f80471594424a651567e8e3": {
          "model_module": "@jupyter-widgets/base",
          "model_name": "LayoutModel",
          "state": {
            "_view_name": "LayoutView",
            "grid_template_rows": null,
            "right": null,
            "justify_content": null,
            "_view_module": "@jupyter-widgets/base",
            "overflow": null,
            "_model_module_version": "1.2.0",
            "_view_count": null,
            "flex_flow": null,
            "width": null,
            "min_width": null,
            "border": null,
            "align_items": null,
            "bottom": null,
            "_model_module": "@jupyter-widgets/base",
            "top": null,
            "grid_column": null,
            "overflow_y": null,
            "overflow_x": null,
            "grid_auto_flow": null,
            "grid_area": null,
            "grid_template_columns": null,
            "flex": null,
            "_model_name": "LayoutModel",
            "justify_items": null,
            "grid_row": null,
            "max_height": null,
            "align_content": null,
            "visibility": null,
            "align_self": null,
            "height": null,
            "min_height": null,
            "padding": null,
            "grid_auto_rows": null,
            "grid_gap": null,
            "max_width": null,
            "order": null,
            "_view_module_version": "1.2.0",
            "grid_template_areas": null,
            "object_position": null,
            "object_fit": null,
            "grid_auto_columns": null,
            "margin": null,
            "display": null,
            "left": null
          }
        },
        "64e02e01ba1341ddbc62f37e3c7e7777": {
          "model_module": "@jupyter-widgets/controls",
          "model_name": "FloatProgressModel",
          "state": {
            "_view_name": "ProgressView",
            "style": "IPY_MODEL_8383eaacb6694e578f9cab3ffbfed3f4",
            "_dom_classes": [],
            "description": "",
            "_model_name": "FloatProgressModel",
            "bar_style": "success",
            "max": 1,
            "_view_module": "@jupyter-widgets/controls",
            "_model_module_version": "1.5.0",
            "value": 1,
            "_view_count": null,
            "_view_module_version": "1.5.0",
            "orientation": "horizontal",
            "min": 0,
            "description_tooltip": null,
            "_model_module": "@jupyter-widgets/controls",
            "layout": "IPY_MODEL_60c4489bd3e8493d892008b7e3a8ddf5"
          }
        },
        "25b837df7be2463b883f9c50a4bf8297": {
          "model_module": "@jupyter-widgets/controls",
          "model_name": "HTMLModel",
          "state": {
            "_view_name": "HTMLView",
            "style": "IPY_MODEL_5260ae9eee12412f86a04cf347b59470",
            "_dom_classes": [],
            "description": "",
            "_model_name": "HTMLModel",
            "placeholder": "​",
            "_view_module": "@jupyter-widgets/controls",
            "_model_module_version": "1.5.0",
            "value": " 32768/? [00:00&lt;00:00, 72077.57it/s]",
            "_view_count": null,
            "_view_module_version": "1.5.0",
            "description_tooltip": null,
            "_model_module": "@jupyter-widgets/controls",
            "layout": "IPY_MODEL_632f8acf1a604747bd6ff0f911bffbd3"
          }
        },
        "8383eaacb6694e578f9cab3ffbfed3f4": {
          "model_module": "@jupyter-widgets/controls",
          "model_name": "ProgressStyleModel",
          "state": {
            "_view_name": "StyleView",
            "_model_name": "ProgressStyleModel",
            "description_width": "initial",
            "_view_module": "@jupyter-widgets/base",
            "_model_module_version": "1.5.0",
            "_view_count": null,
            "_view_module_version": "1.2.0",
            "bar_color": null,
            "_model_module": "@jupyter-widgets/controls"
          }
        },
        "60c4489bd3e8493d892008b7e3a8ddf5": {
          "model_module": "@jupyter-widgets/base",
          "model_name": "LayoutModel",
          "state": {
            "_view_name": "LayoutView",
            "grid_template_rows": null,
            "right": null,
            "justify_content": null,
            "_view_module": "@jupyter-widgets/base",
            "overflow": null,
            "_model_module_version": "1.2.0",
            "_view_count": null,
            "flex_flow": null,
            "width": null,
            "min_width": null,
            "border": null,
            "align_items": null,
            "bottom": null,
            "_model_module": "@jupyter-widgets/base",
            "top": null,
            "grid_column": null,
            "overflow_y": null,
            "overflow_x": null,
            "grid_auto_flow": null,
            "grid_area": null,
            "grid_template_columns": null,
            "flex": null,
            "_model_name": "LayoutModel",
            "justify_items": null,
            "grid_row": null,
            "max_height": null,
            "align_content": null,
            "visibility": null,
            "align_self": null,
            "height": null,
            "min_height": null,
            "padding": null,
            "grid_auto_rows": null,
            "grid_gap": null,
            "max_width": null,
            "order": null,
            "_view_module_version": "1.2.0",
            "grid_template_areas": null,
            "object_position": null,
            "object_fit": null,
            "grid_auto_columns": null,
            "margin": null,
            "display": null,
            "left": null
          }
        },
        "5260ae9eee12412f86a04cf347b59470": {
          "model_module": "@jupyter-widgets/controls",
          "model_name": "DescriptionStyleModel",
          "state": {
            "_view_name": "StyleView",
            "_model_name": "DescriptionStyleModel",
            "description_width": "",
            "_view_module": "@jupyter-widgets/base",
            "_model_module_version": "1.5.0",
            "_view_count": null,
            "_view_module_version": "1.2.0",
            "_model_module": "@jupyter-widgets/controls"
          }
        },
        "632f8acf1a604747bd6ff0f911bffbd3": {
          "model_module": "@jupyter-widgets/base",
          "model_name": "LayoutModel",
          "state": {
            "_view_name": "LayoutView",
            "grid_template_rows": null,
            "right": null,
            "justify_content": null,
            "_view_module": "@jupyter-widgets/base",
            "overflow": null,
            "_model_module_version": "1.2.0",
            "_view_count": null,
            "flex_flow": null,
            "width": null,
            "min_width": null,
            "border": null,
            "align_items": null,
            "bottom": null,
            "_model_module": "@jupyter-widgets/base",
            "top": null,
            "grid_column": null,
            "overflow_y": null,
            "overflow_x": null,
            "grid_auto_flow": null,
            "grid_area": null,
            "grid_template_columns": null,
            "flex": null,
            "_model_name": "LayoutModel",
            "justify_items": null,
            "grid_row": null,
            "max_height": null,
            "align_content": null,
            "visibility": null,
            "align_self": null,
            "height": null,
            "min_height": null,
            "padding": null,
            "grid_auto_rows": null,
            "grid_gap": null,
            "max_width": null,
            "order": null,
            "_view_module_version": "1.2.0",
            "grid_template_areas": null,
            "object_position": null,
            "object_fit": null,
            "grid_auto_columns": null,
            "margin": null,
            "display": null,
            "left": null
          }
        },
        "bc2cabe1833e4febb47237fb0ed67b33": {
          "model_module": "@jupyter-widgets/controls",
          "model_name": "HBoxModel",
          "state": {
            "_view_name": "HBoxView",
            "_dom_classes": [],
            "_model_name": "HBoxModel",
            "_view_module": "@jupyter-widgets/controls",
            "_model_module_version": "1.5.0",
            "_view_count": null,
            "_view_module_version": "1.5.0",
            "box_style": "",
            "layout": "IPY_MODEL_ae6f1f3b55dd4090920ae4564e28bee7",
            "_model_module": "@jupyter-widgets/controls",
            "children": [
              "IPY_MODEL_2c604dce52ff4e5d856872844eb40e6b",
              "IPY_MODEL_6152b6ebb78042c985b26fc9bc538b94"
            ]
          }
        },
        "ae6f1f3b55dd4090920ae4564e28bee7": {
          "model_module": "@jupyter-widgets/base",
          "model_name": "LayoutModel",
          "state": {
            "_view_name": "LayoutView",
            "grid_template_rows": null,
            "right": null,
            "justify_content": null,
            "_view_module": "@jupyter-widgets/base",
            "overflow": null,
            "_model_module_version": "1.2.0",
            "_view_count": null,
            "flex_flow": null,
            "width": null,
            "min_width": null,
            "border": null,
            "align_items": null,
            "bottom": null,
            "_model_module": "@jupyter-widgets/base",
            "top": null,
            "grid_column": null,
            "overflow_y": null,
            "overflow_x": null,
            "grid_auto_flow": null,
            "grid_area": null,
            "grid_template_columns": null,
            "flex": null,
            "_model_name": "LayoutModel",
            "justify_items": null,
            "grid_row": null,
            "max_height": null,
            "align_content": null,
            "visibility": null,
            "align_self": null,
            "height": null,
            "min_height": null,
            "padding": null,
            "grid_auto_rows": null,
            "grid_gap": null,
            "max_width": null,
            "order": null,
            "_view_module_version": "1.2.0",
            "grid_template_areas": null,
            "object_position": null,
            "object_fit": null,
            "grid_auto_columns": null,
            "margin": null,
            "display": null,
            "left": null
          }
        },
        "2c604dce52ff4e5d856872844eb40e6b": {
          "model_module": "@jupyter-widgets/controls",
          "model_name": "FloatProgressModel",
          "state": {
            "_view_name": "ProgressView",
            "style": "IPY_MODEL_8d7e959092834006942ed189e1664733",
            "_dom_classes": [],
            "description": "",
            "_model_name": "FloatProgressModel",
            "bar_style": "info",
            "max": 1,
            "_view_module": "@jupyter-widgets/controls",
            "_model_module_version": "1.5.0",
            "value": 1,
            "_view_count": null,
            "_view_module_version": "1.5.0",
            "orientation": "horizontal",
            "min": 0,
            "description_tooltip": null,
            "_model_module": "@jupyter-widgets/controls",
            "layout": "IPY_MODEL_a92e1b75afdc445c996916e83c0c6c1b"
          }
        },
        "6152b6ebb78042c985b26fc9bc538b94": {
          "model_module": "@jupyter-widgets/controls",
          "model_name": "HTMLModel",
          "state": {
            "_view_name": "HTMLView",
            "style": "IPY_MODEL_6198a1dc752b4546b7dac880d69af012",
            "_dom_classes": [],
            "description": "",
            "_model_name": "HTMLModel",
            "placeholder": "​",
            "_view_module": "@jupyter-widgets/controls",
            "_model_module_version": "1.5.0",
            "value": " 1654784/? [00:17&lt;00:00, 11796266.25it/s]",
            "_view_count": null,
            "_view_module_version": "1.5.0",
            "description_tooltip": null,
            "_model_module": "@jupyter-widgets/controls",
            "layout": "IPY_MODEL_8220445019a343c786191148def2e50c"
          }
        },
        "8d7e959092834006942ed189e1664733": {
          "model_module": "@jupyter-widgets/controls",
          "model_name": "ProgressStyleModel",
          "state": {
            "_view_name": "StyleView",
            "_model_name": "ProgressStyleModel",
            "description_width": "initial",
            "_view_module": "@jupyter-widgets/base",
            "_model_module_version": "1.5.0",
            "_view_count": null,
            "_view_module_version": "1.2.0",
            "bar_color": null,
            "_model_module": "@jupyter-widgets/controls"
          }
        },
        "a92e1b75afdc445c996916e83c0c6c1b": {
          "model_module": "@jupyter-widgets/base",
          "model_name": "LayoutModel",
          "state": {
            "_view_name": "LayoutView",
            "grid_template_rows": null,
            "right": null,
            "justify_content": null,
            "_view_module": "@jupyter-widgets/base",
            "overflow": null,
            "_model_module_version": "1.2.0",
            "_view_count": null,
            "flex_flow": null,
            "width": null,
            "min_width": null,
            "border": null,
            "align_items": null,
            "bottom": null,
            "_model_module": "@jupyter-widgets/base",
            "top": null,
            "grid_column": null,
            "overflow_y": null,
            "overflow_x": null,
            "grid_auto_flow": null,
            "grid_area": null,
            "grid_template_columns": null,
            "flex": null,
            "_model_name": "LayoutModel",
            "justify_items": null,
            "grid_row": null,
            "max_height": null,
            "align_content": null,
            "visibility": null,
            "align_self": null,
            "height": null,
            "min_height": null,
            "padding": null,
            "grid_auto_rows": null,
            "grid_gap": null,
            "max_width": null,
            "order": null,
            "_view_module_version": "1.2.0",
            "grid_template_areas": null,
            "object_position": null,
            "object_fit": null,
            "grid_auto_columns": null,
            "margin": null,
            "display": null,
            "left": null
          }
        },
        "6198a1dc752b4546b7dac880d69af012": {
          "model_module": "@jupyter-widgets/controls",
          "model_name": "DescriptionStyleModel",
          "state": {
            "_view_name": "StyleView",
            "_model_name": "DescriptionStyleModel",
            "description_width": "",
            "_view_module": "@jupyter-widgets/base",
            "_model_module_version": "1.5.0",
            "_view_count": null,
            "_view_module_version": "1.2.0",
            "_model_module": "@jupyter-widgets/controls"
          }
        },
        "8220445019a343c786191148def2e50c": {
          "model_module": "@jupyter-widgets/base",
          "model_name": "LayoutModel",
          "state": {
            "_view_name": "LayoutView",
            "grid_template_rows": null,
            "right": null,
            "justify_content": null,
            "_view_module": "@jupyter-widgets/base",
            "overflow": null,
            "_model_module_version": "1.2.0",
            "_view_count": null,
            "flex_flow": null,
            "width": null,
            "min_width": null,
            "border": null,
            "align_items": null,
            "bottom": null,
            "_model_module": "@jupyter-widgets/base",
            "top": null,
            "grid_column": null,
            "overflow_y": null,
            "overflow_x": null,
            "grid_auto_flow": null,
            "grid_area": null,
            "grid_template_columns": null,
            "flex": null,
            "_model_name": "LayoutModel",
            "justify_items": null,
            "grid_row": null,
            "max_height": null,
            "align_content": null,
            "visibility": null,
            "align_self": null,
            "height": null,
            "min_height": null,
            "padding": null,
            "grid_auto_rows": null,
            "grid_gap": null,
            "max_width": null,
            "order": null,
            "_view_module_version": "1.2.0",
            "grid_template_areas": null,
            "object_position": null,
            "object_fit": null,
            "grid_auto_columns": null,
            "margin": null,
            "display": null,
            "left": null
          }
        },
        "ec78c07fabec4a5188ffce4a6891edd6": {
          "model_module": "@jupyter-widgets/controls",
          "model_name": "HBoxModel",
          "state": {
            "_view_name": "HBoxView",
            "_dom_classes": [],
            "_model_name": "HBoxModel",
            "_view_module": "@jupyter-widgets/controls",
            "_model_module_version": "1.5.0",
            "_view_count": null,
            "_view_module_version": "1.5.0",
            "box_style": "",
            "layout": "IPY_MODEL_74413b839a4a4dc1af094e3ac68ff177",
            "_model_module": "@jupyter-widgets/controls",
            "children": [
              "IPY_MODEL_3887150312c54e4aa1911ecc983a22a9",
              "IPY_MODEL_2d313040fc9f461989bfce6c68f6ce99"
            ]
          }
        },
        "74413b839a4a4dc1af094e3ac68ff177": {
          "model_module": "@jupyter-widgets/base",
          "model_name": "LayoutModel",
          "state": {
            "_view_name": "LayoutView",
            "grid_template_rows": null,
            "right": null,
            "justify_content": null,
            "_view_module": "@jupyter-widgets/base",
            "overflow": null,
            "_model_module_version": "1.2.0",
            "_view_count": null,
            "flex_flow": null,
            "width": null,
            "min_width": null,
            "border": null,
            "align_items": null,
            "bottom": null,
            "_model_module": "@jupyter-widgets/base",
            "top": null,
            "grid_column": null,
            "overflow_y": null,
            "overflow_x": null,
            "grid_auto_flow": null,
            "grid_area": null,
            "grid_template_columns": null,
            "flex": null,
            "_model_name": "LayoutModel",
            "justify_items": null,
            "grid_row": null,
            "max_height": null,
            "align_content": null,
            "visibility": null,
            "align_self": null,
            "height": null,
            "min_height": null,
            "padding": null,
            "grid_auto_rows": null,
            "grid_gap": null,
            "max_width": null,
            "order": null,
            "_view_module_version": "1.2.0",
            "grid_template_areas": null,
            "object_position": null,
            "object_fit": null,
            "grid_auto_columns": null,
            "margin": null,
            "display": null,
            "left": null
          }
        },
        "3887150312c54e4aa1911ecc983a22a9": {
          "model_module": "@jupyter-widgets/controls",
          "model_name": "FloatProgressModel",
          "state": {
            "_view_name": "ProgressView",
            "style": "IPY_MODEL_99d34417e003401b9e2beab99681b478",
            "_dom_classes": [],
            "description": "",
            "_model_name": "FloatProgressModel",
            "bar_style": "info",
            "max": 1,
            "_view_module": "@jupyter-widgets/controls",
            "_model_module_version": "1.5.0",
            "value": 0,
            "_view_count": null,
            "_view_module_version": "1.5.0",
            "orientation": "horizontal",
            "min": 0,
            "description_tooltip": null,
            "_model_module": "@jupyter-widgets/controls",
            "layout": "IPY_MODEL_04f29c90736740b08a049258f0190406"
          }
        },
        "2d313040fc9f461989bfce6c68f6ce99": {
          "model_module": "@jupyter-widgets/controls",
          "model_name": "HTMLModel",
          "state": {
            "_view_name": "HTMLView",
            "style": "IPY_MODEL_d9362208b0b44b64916065352d5572a1",
            "_dom_classes": [],
            "description": "",
            "_model_name": "HTMLModel",
            "placeholder": "​",
            "_view_module": "@jupyter-widgets/controls",
            "_model_module_version": "1.5.0",
            "value": " 0/? [00:00&lt;?, ?it/s]",
            "_view_count": null,
            "_view_module_version": "1.5.0",
            "description_tooltip": null,
            "_model_module": "@jupyter-widgets/controls",
            "layout": "IPY_MODEL_711213fbd53745d29cfae689f707744f"
          }
        },
        "99d34417e003401b9e2beab99681b478": {
          "model_module": "@jupyter-widgets/controls",
          "model_name": "ProgressStyleModel",
          "state": {
            "_view_name": "StyleView",
            "_model_name": "ProgressStyleModel",
            "description_width": "initial",
            "_view_module": "@jupyter-widgets/base",
            "_model_module_version": "1.5.0",
            "_view_count": null,
            "_view_module_version": "1.2.0",
            "bar_color": null,
            "_model_module": "@jupyter-widgets/controls"
          }
        },
        "04f29c90736740b08a049258f0190406": {
          "model_module": "@jupyter-widgets/base",
          "model_name": "LayoutModel",
          "state": {
            "_view_name": "LayoutView",
            "grid_template_rows": null,
            "right": null,
            "justify_content": null,
            "_view_module": "@jupyter-widgets/base",
            "overflow": null,
            "_model_module_version": "1.2.0",
            "_view_count": null,
            "flex_flow": null,
            "width": null,
            "min_width": null,
            "border": null,
            "align_items": null,
            "bottom": null,
            "_model_module": "@jupyter-widgets/base",
            "top": null,
            "grid_column": null,
            "overflow_y": null,
            "overflow_x": null,
            "grid_auto_flow": null,
            "grid_area": null,
            "grid_template_columns": null,
            "flex": null,
            "_model_name": "LayoutModel",
            "justify_items": null,
            "grid_row": null,
            "max_height": null,
            "align_content": null,
            "visibility": null,
            "align_self": null,
            "height": null,
            "min_height": null,
            "padding": null,
            "grid_auto_rows": null,
            "grid_gap": null,
            "max_width": null,
            "order": null,
            "_view_module_version": "1.2.0",
            "grid_template_areas": null,
            "object_position": null,
            "object_fit": null,
            "grid_auto_columns": null,
            "margin": null,
            "display": null,
            "left": null
          }
        },
        "d9362208b0b44b64916065352d5572a1": {
          "model_module": "@jupyter-widgets/controls",
          "model_name": "DescriptionStyleModel",
          "state": {
            "_view_name": "StyleView",
            "_model_name": "DescriptionStyleModel",
            "description_width": "",
            "_view_module": "@jupyter-widgets/base",
            "_model_module_version": "1.5.0",
            "_view_count": null,
            "_view_module_version": "1.2.0",
            "_model_module": "@jupyter-widgets/controls"
          }
        },
        "711213fbd53745d29cfae689f707744f": {
          "model_module": "@jupyter-widgets/base",
          "model_name": "LayoutModel",
          "state": {
            "_view_name": "LayoutView",
            "grid_template_rows": null,
            "right": null,
            "justify_content": null,
            "_view_module": "@jupyter-widgets/base",
            "overflow": null,
            "_model_module_version": "1.2.0",
            "_view_count": null,
            "flex_flow": null,
            "width": null,
            "min_width": null,
            "border": null,
            "align_items": null,
            "bottom": null,
            "_model_module": "@jupyter-widgets/base",
            "top": null,
            "grid_column": null,
            "overflow_y": null,
            "overflow_x": null,
            "grid_auto_flow": null,
            "grid_area": null,
            "grid_template_columns": null,
            "flex": null,
            "_model_name": "LayoutModel",
            "justify_items": null,
            "grid_row": null,
            "max_height": null,
            "align_content": null,
            "visibility": null,
            "align_self": null,
            "height": null,
            "min_height": null,
            "padding": null,
            "grid_auto_rows": null,
            "grid_gap": null,
            "max_width": null,
            "order": null,
            "_view_module_version": "1.2.0",
            "grid_template_areas": null,
            "object_position": null,
            "object_fit": null,
            "grid_auto_columns": null,
            "margin": null,
            "display": null,
            "left": null
          }
        }
      }
    }
  },
  "cells": [
    {
      "cell_type": "markdown",
      "metadata": {
        "id": "view-in-github",
        "colab_type": "text"
      },
      "source": [
        "<a href=\"https://colab.research.google.com/github/jvallalta/ia3/blob/main/03_Pytorch_Regresion_Logistica.ipynb\" target=\"_parent\"><img src=\"https://colab.research.google.com/assets/colab-badge.svg\" alt=\"Open In Colab\"/></a>"
      ]
    },
    {
      "cell_type": "markdown",
      "metadata": {
        "id": "ghPSdPkCrLyk"
      },
      "source": [
        "![IDAL](https://i.imgur.com/tIKXIG1.jpg)  \n",
        "\n",
        "#<strong>**Máster en Inteligencia Artificial Avanzada y Aplicada  IA^3**</strong>\n",
        "---\n"
      ]
    },
    {
      "cell_type": "markdown",
      "metadata": {
        "id": "rxh4k85SpESm"
      },
      "source": [
        "# <center>**Regresión logística con Pytorch**</center>"
      ]
    },
    {
      "cell_type": "markdown",
      "metadata": {
        "id": "YL4niY96fTTV"
      },
      "source": [
        "En este notebook vamos a estudiar los siguientes aspectos: \n",
        "\n",
        "* Trabajar con imagenes en Pytorch (empleando el dataset MNIST)\n",
        "* Dividir el conjunto de datos en entrenamiento, test y validación.\n",
        "* Crear modelos en Pytorch a partir de la clase base `nn.Module` y personalizandola. \n",
        "* Interpretar las salidas del modelo coomo probabilidades empleando la fnción softmax y asignar etiquetas en predicción\n",
        "* Emplear métricas de evaluación y funciones de error adecuadas para problemas de clasificación\n",
        "* Desarrollar el proceso de entrernamiento que también evalue el modelo con cel conjunto de validación\n",
        "* Probar el modelo manualmente con ejemplos \n",
        "* Salvar y cargar el modelo para evitar reentrenar desde cero."
      ]
    },
    {
      "cell_type": "markdown",
      "metadata": {
        "id": "BlizBg8UfTTV"
      },
      "source": [
        "## Trabajando con imagenes\n",
        "\n",
        "En este ejemplo vamos a aprovechar lo que ya sabemos sobre Pytorch y la regresion lineal para aplicarlo a un tipo de problema diferente: *clasificación* en este caso de imágenes. Para ello vamos a usar la conocida [*MNIST Handwritten Digits Database*](http://yann.lecun.com/exdb/mnist/) como nuestro conjunto de datos. Consiste en imágenes de 28px por 28px en escala de grises de dígitos escritos a mano (0 a 9) y sus respectivas etiquetas indicando que dígito representa cada imagen. \n",
        "\n",
        "El dataset tiene este aspecto:\n",
        "\n",
        "![mnist-sample](https://i.imgur.com/CAYnuo1.jpg)"
      ]
    },
    {
      "cell_type": "markdown",
      "metadata": {
        "id": "IArll2smfTTV"
      },
      "source": [
        "Empezaremos por importar `torch` y `torchvision`. `torchvision` contiene utilidades para trabajar con imágenes y clases muy útiles para descargar e importar automáticamente conjuntos de datos habituales como MNIST.\r\n",
        "\r\n",
        "(Puedes consultar la [documentación](https://pytorch.org/docs/stable/torchvision/datasets.html) para ver todos los datasets disponibles a traves de esta librería)"
      ]
    },
    {
      "cell_type": "code",
      "metadata": {
        "id": "y_D8CGr0fTTV"
      },
      "source": [
        "# Si ejecutas el notebook de forma local, descomenta la linea que corresponda a tu sistema operativo para instalar las libreriás correspondientes\n",
        "\n",
        "# Linux / Binder\n",
        "# !pip install numpy matplotlib torch==1.7.0+cpu torchvision==0.8.1+cpu torchaudio==0.7.0 -f https://download.pytorch.org/whl/torch_stable.html\n",
        "\n",
        "# Windows\n",
        "# !pip install numpy matplotlib torch==1.7.0+cpu torchvision==0.8.1+cpu torchaudio==0.7.0 -f https://download.pytorch.org/whl/torch_stable.html\n",
        "\n",
        "# MacOS\n",
        "# !pip install numpy matplotlib torch torchvision torchaudio"
      ],
      "execution_count": null,
      "outputs": []
    },
    {
      "cell_type": "code",
      "metadata": {
        "id": "o_xViEWvfTTV"
      },
      "source": [
        "# Importamos\n",
        "import torch\n",
        "import torchvision\n",
        "from torchvision.datasets import MNIST"
      ],
      "execution_count": 1,
      "outputs": []
    },
    {
      "cell_type": "code",
      "metadata": {
        "colab": {
          "base_uri": "https://localhost:8080/",
          "height": 386,
          "referenced_widgets": [
            "df7c51f5d065449e9b9df7a2fbdc870f",
            "60c765d8246142dabadfbff3100fde08",
            "29418aaa384743b7921dd0e889dfda10",
            "45352f24787e4f6b9a7aa1d901e300c3",
            "69c6f1fc5c3f4894b12c6fa8d4d47208",
            "7fd578a60b47418d928f58cda1505f33",
            "1d9469d9dcde4acbbab139c95ce4b001",
            "e3d199e60fca40d3a3b69e46fbf83014",
            "244f8e6eb097458d8cf5ce990c4641f8",
            "d01821fb1f80471594424a651567e8e3",
            "64e02e01ba1341ddbc62f37e3c7e7777",
            "25b837df7be2463b883f9c50a4bf8297",
            "8383eaacb6694e578f9cab3ffbfed3f4",
            "60c4489bd3e8493d892008b7e3a8ddf5",
            "5260ae9eee12412f86a04cf347b59470",
            "632f8acf1a604747bd6ff0f911bffbd3",
            "bc2cabe1833e4febb47237fb0ed67b33",
            "ae6f1f3b55dd4090920ae4564e28bee7",
            "2c604dce52ff4e5d856872844eb40e6b",
            "6152b6ebb78042c985b26fc9bc538b94",
            "8d7e959092834006942ed189e1664733",
            "a92e1b75afdc445c996916e83c0c6c1b",
            "6198a1dc752b4546b7dac880d69af012",
            "8220445019a343c786191148def2e50c",
            "ec78c07fabec4a5188ffce4a6891edd6",
            "74413b839a4a4dc1af094e3ac68ff177",
            "3887150312c54e4aa1911ecc983a22a9",
            "2d313040fc9f461989bfce6c68f6ce99",
            "99d34417e003401b9e2beab99681b478",
            "04f29c90736740b08a049258f0190406",
            "d9362208b0b44b64916065352d5572a1",
            "711213fbd53745d29cfae689f707744f"
          ]
        },
        "id": "q1Skz7dlfTTV",
        "outputId": "2f7dce23-954c-4cf6-a089-b3592c28dd77"
      },
      "source": [
        "# Descargamos el training dataset\n",
        "dataset = MNIST(root='data/', download=True)"
      ],
      "execution_count": 2,
      "outputs": [
        {
          "output_type": "stream",
          "text": [
            "Downloading http://yann.lecun.com/exdb/mnist/train-images-idx3-ubyte.gz to data/MNIST/raw/train-images-idx3-ubyte.gz\n"
          ],
          "name": "stdout"
        },
        {
          "output_type": "display_data",
          "data": {
            "application/vnd.jupyter.widget-view+json": {
              "model_id": "df7c51f5d065449e9b9df7a2fbdc870f",
              "version_minor": 0,
              "version_major": 2
            },
            "text/plain": [
              "HBox(children=(FloatProgress(value=1.0, bar_style='info', max=1.0), HTML(value='')))"
            ]
          },
          "metadata": {
            "tags": []
          }
        },
        {
          "output_type": "stream",
          "text": [
            "Extracting data/MNIST/raw/train-images-idx3-ubyte.gz to data/MNIST/raw\n",
            "Downloading http://yann.lecun.com/exdb/mnist/train-labels-idx1-ubyte.gz to data/MNIST/raw/train-labels-idx1-ubyte.gz\n"
          ],
          "name": "stdout"
        },
        {
          "output_type": "display_data",
          "data": {
            "application/vnd.jupyter.widget-view+json": {
              "model_id": "244f8e6eb097458d8cf5ce990c4641f8",
              "version_minor": 0,
              "version_major": 2
            },
            "text/plain": [
              "HBox(children=(FloatProgress(value=1.0, bar_style='info', max=1.0), HTML(value='')))"
            ]
          },
          "metadata": {
            "tags": []
          }
        },
        {
          "output_type": "stream",
          "text": [
            "Extracting data/MNIST/raw/train-labels-idx1-ubyte.gz to data/MNIST/raw\n",
            "Downloading http://yann.lecun.com/exdb/mnist/t10k-images-idx3-ubyte.gz to data/MNIST/raw/t10k-images-idx3-ubyte.gz\n",
            "\n"
          ],
          "name": "stdout"
        },
        {
          "output_type": "display_data",
          "data": {
            "application/vnd.jupyter.widget-view+json": {
              "model_id": "bc2cabe1833e4febb47237fb0ed67b33",
              "version_minor": 0,
              "version_major": 2
            },
            "text/plain": [
              "HBox(children=(FloatProgress(value=1.0, bar_style='info', max=1.0), HTML(value='')))"
            ]
          },
          "metadata": {
            "tags": []
          }
        },
        {
          "output_type": "stream",
          "text": [
            "Extracting data/MNIST/raw/t10k-images-idx3-ubyte.gz to data/MNIST/raw\n",
            "Downloading http://yann.lecun.com/exdb/mnist/t10k-labels-idx1-ubyte.gz to data/MNIST/raw/t10k-labels-idx1-ubyte.gz\n"
          ],
          "name": "stdout"
        },
        {
          "output_type": "display_data",
          "data": {
            "application/vnd.jupyter.widget-view+json": {
              "model_id": "ec78c07fabec4a5188ffce4a6891edd6",
              "version_minor": 0,
              "version_major": 2
            },
            "text/plain": [
              "HBox(children=(FloatProgress(value=1.0, bar_style='info', max=1.0), HTML(value='')))"
            ]
          },
          "metadata": {
            "tags": []
          }
        },
        {
          "output_type": "stream",
          "text": [
            "Extracting data/MNIST/raw/t10k-labels-idx1-ubyte.gz to data/MNIST/raw\n",
            "Processing...\n",
            "Done!\n"
          ],
          "name": "stdout"
        },
        {
          "output_type": "stream",
          "text": [
            "/usr/local/lib/python3.6/dist-packages/torchvision/datasets/mnist.py:480: UserWarning: The given NumPy array is not writeable, and PyTorch does not support non-writeable tensors. This means you can write to the underlying (supposedly non-writeable) NumPy array using the tensor. You may want to copy the array to protect its data or make it writeable before converting it to a tensor. This type of warning will be suppressed for the rest of this program. (Triggered internally at  /pytorch/torch/csrc/utils/tensor_numpy.cpp:141.)\n",
            "  return torch.from_numpy(parsed.astype(m[2], copy=False)).view(*s)\n"
          ],
          "name": "stderr"
        }
      ]
    },
    {
      "cell_type": "markdown",
      "metadata": {
        "id": "Koi-fVbAfTTV"
      },
      "source": [
        "Una vez ejecutado el código anterior, los datos han sido descargados al directorio `data/` vinculado al notebook  y se ha creado un dataset PyTorch `Dataset`. En siguientes ejecuciones, la descarga será omitida ya que los datos ya están descargados. \r\n",
        "\r\n",
        "Comprobamos el tamaño del dataset."
      ]
    },
    {
      "cell_type": "code",
      "metadata": {
        "colab": {
          "base_uri": "https://localhost:8080/"
        },
        "id": "W9mWyKqAfTTV",
        "outputId": "62dcd437-1e22-4b21-fa5c-575fae0c23bf"
      },
      "source": [
        "len(dataset)"
      ],
      "execution_count": 3,
      "outputs": [
        {
          "output_type": "execute_result",
          "data": {
            "text/plain": [
              "60000"
            ]
          },
          "metadata": {
            "tags": []
          },
          "execution_count": 3
        }
      ]
    },
    {
      "cell_type": "markdown",
      "metadata": {
        "id": "6pRKB16NfTTW"
      },
      "source": [
        "El dataset tiene 60,000 imagenes que vamos a emplear para entrenar el modelo. Disponemos también de un conjunto adicional de test de 10,000 imagenes que será usado para evaluar el modelo y establecer métricas en artículos y/o informes. \r\n",
        "\r\n",
        "Podemos crear el conjunto de test empleando la clase `MNIST` pasando el argumento `train=False` al constructor."
      ]
    },
    {
      "cell_type": "code",
      "metadata": {
        "colab": {
          "base_uri": "https://localhost:8080/"
        },
        "id": "zLqZQOlWfTTW",
        "outputId": "2948c829-7205-45c0-9be4-af9531927ec9"
      },
      "source": [
        "test_dataset = MNIST(root='data/', train=False)\n",
        "len(test_dataset)"
      ],
      "execution_count": 4,
      "outputs": [
        {
          "output_type": "execute_result",
          "data": {
            "text/plain": [
              "10000"
            ]
          },
          "metadata": {
            "tags": []
          },
          "execution_count": 4
        }
      ]
    },
    {
      "cell_type": "markdown",
      "metadata": {
        "id": "bgJru-f7fTTW"
      },
      "source": [
        "Observemos un ejemplo del training dataset:"
      ]
    },
    {
      "cell_type": "code",
      "metadata": {
        "colab": {
          "base_uri": "https://localhost:8080/"
        },
        "id": "4ZmSZeFGfTTW",
        "outputId": "917b0178-aa59-40dd-cd1c-0b8200eabc5a"
      },
      "source": [
        "dataset[0]"
      ],
      "execution_count": 5,
      "outputs": [
        {
          "output_type": "execute_result",
          "data": {
            "text/plain": [
              "(<PIL.Image.Image image mode=L size=28x28 at 0x7F5BAE249588>, 5)"
            ]
          },
          "metadata": {
            "tags": []
          },
          "execution_count": 5
        }
      ]
    },
    {
      "cell_type": "markdown",
      "metadata": {
        "id": "2oBdGAc4fTTX"
      },
      "source": [
        "Vemos que el ejemplo consiste en un par de elementos. Una imagen de 28x28 y una etiqueta indicando el dígito que representa. La imagen es un objeto de la clase `PIL.Image.Image`, la cual es parte de la *Python imaging library* [Pillow](https://pillow.readthedocs.io/en/stable/). Podemos visualizar la imagen en Jupyter usando [`matplotlib`](https://matplotlib.org/)."
      ]
    },
    {
      "cell_type": "code",
      "metadata": {
        "id": "edyBIgXPfTTX"
      },
      "source": [
        "import matplotlib.pyplot as plt\n",
        "%matplotlib inline"
      ],
      "execution_count": 6,
      "outputs": []
    },
    {
      "cell_type": "markdown",
      "metadata": {
        "id": "TSVQL5vJfTTX"
      },
      "source": [
        "La instrucción `%matplotlib inline` indica a Jupyter que queremos que muestre el gráfico en el propio notebook. Sin esa línea, la imagen se mostraría en una ventana popup. Las instrucciones que se inician con `%` son las denominadas *magic commands* y se emplean para configurar el comportamiento del propio Jupyter. Y Puedes encontrar el listado completo de estos comandos aquí: https://ipython.readthedocs.io/en/stable/interactive/magics.html .\n",
        "\n",
        "Veamos un par de ejemplos del dataset: "
      ]
    },
    {
      "cell_type": "code",
      "metadata": {
        "colab": {
          "base_uri": "https://localhost:8080/",
          "height": 282
        },
        "id": "3cxwpTQLfTTX",
        "outputId": "13524ef7-47bc-4fc1-fac6-e9d08b189fe8"
      },
      "source": [
        "image, label = dataset[2]\n",
        "plt.imshow(image, cmap='gray')\n",
        "print('Label:', label)"
      ],
      "execution_count": 7,
      "outputs": [
        {
          "output_type": "stream",
          "text": [
            "Label: 4\n"
          ],
          "name": "stdout"
        },
        {
          "output_type": "display_data",
          "data": {
            "image/png": "[encoded data removed]",
            "text/plain": [
              "<Figure size 432x288 with 1 Axes>"
            ]
          },
          "metadata": {
            "tags": [],
            "needs_background": "light"
          }
        }
      ]
    },
    {
      "cell_type": "code",
      "metadata": {
        "colab": {
          "base_uri": "https://localhost:8080/",
          "height": 282
        },
        "id": "35ELPbM7fTTX",
        "outputId": "eab0eda8-2889-4ac2-f215-c35f7881ed09"
      },
      "source": [
        "image, label = dataset[1499]\n",
        "plt.imshow(image, cmap='gray')\n",
        "print('Label:', label)"
      ],
      "execution_count": 8,
      "outputs": [
        {
          "output_type": "stream",
          "text": [
            "Label: 7\n"
          ],
          "name": "stdout"
        },
        {
          "output_type": "display_data",
          "data": {
            "image/png": "[encoded data removed]",
            "text/plain": [
              "<Figure size 432x288 with 1 Axes>"
            ]
          },
          "metadata": {
            "tags": [],
            "needs_background": "light"
          }
        }
      ]
    },
    {
      "cell_type": "markdown",
      "metadata": {
        "id": "5vO2Gh9RfTTX"
      },
      "source": [
        "Observamos que las imagenes que tenemos son relativamente pequeñas y por tanto el reconocimento del dígito puede llegar a ser dificil, incluso para un ojo humano. No obstante, este dataset no deja de ser muy útil. \r\n",
        "\r\n",
        "Llegado este puntom el principal problema es que Pytorcho no sabe como trabajar con imagenes. De forma similar a otras librerías DL, será necesario transformar las imágenes a tensores. Podemos realizar esto directamente cuando creamos el dataset."
      ]
    },
    {
      "cell_type": "code",
      "metadata": {
        "id": "FBnad_UDfTTX"
      },
      "source": [
        "import torchvision.transforms as transforms"
      ],
      "execution_count": 10,
      "outputs": []
    },
    {
      "cell_type": "markdown",
      "metadata": {
        "id": "084T0emtfTTX"
      },
      "source": [
        "PyTorch datasets nos permite especificar una o más transformaciones que se aplican a las imagenes directamente cuando son cargadas. El módulo `torchvision.transforms` contiene esas funciones predefinidas. Vamos a emplear la transformación `ToTensor` para convertir las imágenes a tensores PyTorch."
      ]
    },
    {
      "cell_type": "code",
      "metadata": {
        "id": "hYvBQ3LzfTTX"
      },
      "source": [
        "# MNIST dataset (imagenes and labels)\n",
        "dataset = MNIST(root='data/', \n",
        "                train=True,\n",
        "                transform=transforms.ToTensor())"
      ],
      "execution_count": 11,
      "outputs": []
    },
    {
      "cell_type": "code",
      "metadata": {
        "colab": {
          "base_uri": "https://localhost:8080/"
        },
        "id": "nCZ4h7jMfTTX",
        "outputId": "21febdd9-a614-4a28-c35d-006c1cffe885"
      },
      "source": [
        "img_tensor, label = dataset[0]\n",
        "print(img_tensor.shape, label)"
      ],
      "execution_count": 12,
      "outputs": [
        {
          "output_type": "stream",
          "text": [
            "torch.Size([1, 28, 28]) 5\n"
          ],
          "name": "stdout"
        }
      ]
    },
    {
      "cell_type": "markdown",
      "metadata": {
        "id": "Io317DfSfTTX"
      },
      "source": [
        "Ahora la imagen ya es un tensor de dimensiones 1x28x28. La primera dimensión indica los canales de color. La segunda y la tercera implican la altura y anchura de la imagen, respectivamente. Como las imñagenes son en escala de grises, solo hay un canal de color. Otros conjuntos de datos con imágenes en colo tendrían 3 canales: rojo, verde y azul (RGB).\n",
        "\n",
        "Veamos algunos valores del interior del tensor:"
      ]
    },
    {
      "cell_type": "code",
      "metadata": {
        "colab": {
          "base_uri": "https://localhost:8080/"
        },
        "id": "prZFgdtefTTX",
        "outputId": "225d72f0-acc5-4ab2-f4cd-0bcbe92fc2b2"
      },
      "source": [
        "print(img_tensor[0,10:15,10:15])\n",
        "print(torch.max(img_tensor), torch.min(img_tensor))"
      ],
      "execution_count": 13,
      "outputs": [
        {
          "output_type": "stream",
          "text": [
            "tensor([[0.0039, 0.6039, 0.9922, 0.3529, 0.0000],\n",
            "        [0.0000, 0.5451, 0.9922, 0.7451, 0.0078],\n",
            "        [0.0000, 0.0431, 0.7451, 0.9922, 0.2745],\n",
            "        [0.0000, 0.0000, 0.1373, 0.9451, 0.8824],\n",
            "        [0.0000, 0.0000, 0.0000, 0.3176, 0.9412]])\n",
            "tensor(1.) tensor(0.)\n"
          ],
          "name": "stdout"
        }
      ]
    },
    {
      "cell_type": "markdown",
      "metadata": {
        "id": "_2HjQ5P5fTTX"
      },
      "source": [
        "La segunda línea de código nos muestra el rango de valores, que va de 0 a 1. O representa el negro, 1 el blanco,  y los valores intermedios representan los diferentes tonos de grises. \r\n",
        "\r\n",
        "Veamos gráficamente el tensor como imagen empleando `plt.imshow`."
      ]
    },
    {
      "cell_type": "code",
      "metadata": {
        "colab": {
          "base_uri": "https://localhost:8080/",
          "height": 265
        },
        "id": "Fw-NvsqpfTTX",
        "outputId": "3de8d710-536d-494b-b29b-b98b4d030ca2"
      },
      "source": [
        "plt.imshow(img_tensor[0,10:15,10:15], cmap='gray');"
      ],
      "execution_count": 14,
      "outputs": [
        {
          "output_type": "display_data",
          "data": {
            "image/png": "[encoded data removed]",
            "text/plain": [
              "<Figure size 432x288 with 1 Axes>"
            ]
          },
          "metadata": {
            "tags": [],
            "needs_background": "light"
          }
        }
      ]
    },
    {
      "cell_type": "markdown",
      "metadata": {
        "id": "qSKTZ8aifTTX"
      },
      "source": [
        "## Conjuntos de entrenamiento, test y validación\n",
        "\n",
        "Como ya sabemos, cuando construimos modelos reales de aprendizaje máquina, es habitual dividir el conjunto de datos en tres partes: \n",
        "\n",
        "1. **Training set** - empleado para entrenar el modelo. Es con el que calculamos el error y usamos para ajustar los pesos empleando el algoritmo de optimización elegido (p.e. descenso de gradiente).\n",
        "2. **Validation set** - se emplea para evaluar el modelo durante el entrenamiento, ajustar los hiperparámetros (como learning rate, etc.) y de esa forma escoger la mejor versión obtenida. \n",
        "3. **Test set** - empleado para comparar diferentes modelos entrenados y para aproximar el modelo a su eficacia final con nuevos datos. .\n",
        "\n",
        "En el conjunto MNIST tenemos 60.000 imágenes para entrenamiento y 10.000 para test. El conjunto de test está específicamente preparado, de forma que diferentes investigadores puedan comprobar y reportar sus resultados contra la misma colección de imagenes.  \n",
        "\n",
        "Dado que no hay un conjunto predefinido de validación, lo vamos a obtener nosotros manualmente dividiendo el conjunto de entrenamiento. Vamos a separar 10.000 imágenes aleatoriamente para validación. Para ello emplearemos el método `random_spilt` de PyTorch."
      ]
    },
    {
      "cell_type": "code",
      "metadata": {
        "colab": {
          "base_uri": "https://localhost:8080/"
        },
        "id": "1dcE0OPBfTTX",
        "outputId": "fb5772bc-f504-45a3-a67f-252dd3b1d8d7"
      },
      "source": [
        "from torch.utils.data import random_split\n",
        "\n",
        "train_ds, val_ds = random_split(dataset, [50000, 10000])\n",
        "len(train_ds), len(val_ds)"
      ],
      "execution_count": 15,
      "outputs": [
        {
          "output_type": "execute_result",
          "data": {
            "text/plain": [
              "(50000, 10000)"
            ]
          },
          "metadata": {
            "tags": []
          },
          "execution_count": 15
        }
      ]
    },
    {
      "cell_type": "markdown",
      "metadata": {
        "id": "CACcvMnZfTTX"
      },
      "source": [
        "Es fundamental que la división de los conjuntos sea **aleatoria**. A menudo, el conjunto de entrenamiento puede estar ordenado de alguna forma. Si nos limitaramos a tomar el ultimo 20% de las imágenes, podriamos estar dejando fuera tanto de entrenamiento como de validación algunas etiquetas. Esto nos llevaría a un modelo defectuoso, que estaría mal entrenado y no sería nada útil.\n",
        "\n",
        "Llegado este punto ya podemos crear data loaders que nos van ayudar a cargar los datos en lotes. En este caso emplearemos lotes de 128 elementos. \n",
        "\n",
        "\n"
      ]
    },
    {
      "cell_type": "code",
      "metadata": {
        "id": "pD_oD7BTfTTX"
      },
      "source": [
        "from torch.utils.data import DataLoader\n",
        "\n",
        "batch_size = 128\n",
        "\n",
        "train_loader = DataLoader(train_ds, batch_size, shuffle=True)\n",
        "val_loader = DataLoader(val_ds, batch_size)"
      ],
      "execution_count": 16,
      "outputs": []
    },
    {
      "cell_type": "markdown",
      "metadata": {
        "id": "NCtbVhkOfTTX"
      },
      "source": [
        "Recordemos que hemos de poner `shuffle=True` para el dataLoader de entrenamiento de forma que aseguremos que los lotes que se generan en cada ciclo (epoch) son diferentes. Esta alatorización ayuda a entrenar más rápido y a generalizar mejor. Por otro lado, dado que el conjunto de validación únicamente es emmpleado para evaluar el modelo, no es necesario barajar las imágenes. "
      ]
    },
    {
      "cell_type": "markdown",
      "metadata": {
        "id": "Fy-lajKQfTTY"
      },
      "source": [
        "## Modelo\n",
        "\n",
        "A continuación vamos a preparar nuestro modelo, teniendo en cuenta las siguientes consideraciones: \n",
        "\n",
        "* Un modelo de  **regresión logística** es practicamente idéntico a un modlo de regresión lineal. Contiene matrices de pesos y biases y su salida se obtiene realizando las mismas operaciones básicas (`pred = x @ w.t() + b`). \n",
        "\n",
        "* De igual forma que con la regresion lineal, podemos emplear la clase base `nn.Linear` para crear el modelo en lugar de crear e inicializar manualmente las matrices.\n",
        "\n",
        "* Dado que `nn.Linear` espera que cada muestra de entrenamiento sea un vector, ahora cada tensor imagen de `1x28x28` tiene que ser \"extendido\" (_flattened_) a un vector de tamaño 784 `(28*28)` antes de ser pasado al modelo. \n",
        "\n",
        "* Finalmente, en este caso la salida para la imagen ya no es un solo valor, sino un vector de tamaño 10, en el que cada elemento significa la probabilidad de que el elemento de entrada sea esa etiqueta en particular (i.e., 0 al 9). La etiqueta predicha será simplemente aquella con el valor de probabilidad más alto. "
      ]
    },
    {
      "cell_type": "code",
      "metadata": {
        "id": "zzVbD7pifTTY"
      },
      "source": [
        "import torch.nn as nn\n",
        "\n",
        "input_size = 28*28\n",
        "num_classes = 10\n",
        "\n",
        "# Modelo de regresión logística\n",
        "model = nn.Linear(input_size, num_classes)"
      ],
      "execution_count": 17,
      "outputs": []
    },
    {
      "cell_type": "markdown",
      "metadata": {
        "id": "2ilamccMfTTY"
      },
      "source": [
        "Este modelo es mucho más grande que el modelo anterior en términos del número de parametros que hay que ajustar (ahora tenemos 10 salidas en lugar de una). \r\n",
        "\r\n",
        "Veamos los pesos y biases: "
      ]
    },
    {
      "cell_type": "code",
      "metadata": {
        "id": "HAj8gVdUfTTY",
        "colab": {
          "base_uri": "https://localhost:8080/"
        },
        "outputId": "9570b2ae-09d7-4e1a-b5ea-13006467740e"
      },
      "source": [
        "print(model.weight.shape)\n",
        "model.weight"
      ],
      "execution_count": 18,
      "outputs": [
        {
          "output_type": "stream",
          "text": [
            "torch.Size([10, 784])\n"
          ],
          "name": "stdout"
        },
        {
          "output_type": "execute_result",
          "data": {
            "text/plain": [
              "Parameter containing:\n",
              "tensor([[-0.0335, -0.0251, -0.0098,  ...,  0.0028,  0.0233, -0.0193],\n",
              "        [-0.0096, -0.0291, -0.0228,  ...,  0.0172, -0.0143,  0.0071],\n",
              "        [-0.0322, -0.0187, -0.0300,  ...,  0.0322, -0.0003,  0.0090],\n",
              "        ...,\n",
              "        [ 0.0168,  0.0041,  0.0072,  ...,  0.0007, -0.0032, -0.0339],\n",
              "        [-0.0127, -0.0162,  0.0133,  ..., -0.0122,  0.0340, -0.0210],\n",
              "        [-0.0322, -0.0289, -0.0016,  ...,  0.0348,  0.0020,  0.0081]],\n",
              "       requires_grad=True)"
            ]
          },
          "metadata": {
            "tags": []
          },
          "execution_count": 18
        }
      ]
    },
    {
      "cell_type": "code",
      "metadata": {
        "id": "fRnviQ34fTTY",
        "colab": {
          "base_uri": "https://localhost:8080/"
        },
        "outputId": "9795043a-38c6-4889-c47b-e6bb15c17ffc"
      },
      "source": [
        "print(model.bias.shape)\n",
        "model.bias"
      ],
      "execution_count": 19,
      "outputs": [
        {
          "output_type": "stream",
          "text": [
            "torch.Size([10])\n"
          ],
          "name": "stdout"
        },
        {
          "output_type": "execute_result",
          "data": {
            "text/plain": [
              "Parameter containing:\n",
              "tensor([-0.0261, -0.0307, -0.0295, -0.0255,  0.0080, -0.0215,  0.0088, -0.0171,\n",
              "        -0.0161,  0.0253], requires_grad=True)"
            ]
          },
          "metadata": {
            "tags": []
          },
          "execution_count": 19
        }
      ]
    },
    {
      "cell_type": "markdown",
      "metadata": {
        "id": "Is6yNefafTTY"
      },
      "source": [
        "Aunque ahora tenemos un total de 7850 parametros, conceptualmente no hay nada muy diferente. Vamos a generar algunos resultados con el modelo que hemos definido. \r\n",
        "Vamos a emplear el primer lote de 128 imágenes del dataset y lo pasamos a nuestro modelo."
      ]
    },
    {
      "cell_type": "code",
      "metadata": {
        "id": "qIuxYOy3fTTY",
        "colab": {
          "base_uri": "https://localhost:8080/",
          "height": 493
        },
        "outputId": "d9bc3f43-897b-4c58-d1be-e07c4bcba5f0"
      },
      "source": [
        "for images, labels in train_loader:\n",
        "    print(labels)\n",
        "    print(images.shape)\n",
        "    outputs = model(images)\n",
        "    print(outputs)\n",
        "    break"
      ],
      "execution_count": 20,
      "outputs": [
        {
          "output_type": "stream",
          "text": [
            "tensor([7, 0, 1, 1, 1, 6, 1, 5, 0, 8, 1, 7, 5, 3, 2, 7, 8, 7, 8, 9, 1, 8, 6, 2,\n",
            "        1, 1, 9, 7, 8, 3, 4, 2, 0, 3, 6, 3, 0, 1, 7, 9, 8, 1, 3, 2, 3, 8, 5, 7,\n",
            "        0, 9, 4, 7, 7, 1, 0, 6, 0, 9, 5, 7, 1, 8, 1, 9, 8, 0, 1, 6, 7, 2, 1, 6,\n",
            "        1, 6, 4, 3, 6, 5, 5, 8, 4, 7, 9, 0, 8, 8, 3, 3, 3, 8, 5, 2, 2, 7, 3, 7,\n",
            "        1, 1, 7, 1, 7, 2, 4, 3, 2, 4, 1, 9, 2, 1, 5, 5, 5, 6, 4, 3, 2, 7, 6, 9,\n",
            "        9, 7, 8, 7, 9, 5, 6, 4])\n",
            "torch.Size([128, 1, 28, 28])\n"
          ],
          "name": "stdout"
        },
        {
          "output_type": "error",
          "ename": "RuntimeError",
          "evalue": "ignored",
          "traceback": [
            "\u001b[0;31m---------------------------------------------------------------------------\u001b[0m",
            "\u001b[0;31mRuntimeError\u001b[0m                              Traceback (most recent call last)",
            "\u001b[0;32m<ipython-input-20-d0fe7d306f83>\u001b[0m in \u001b[0;36m<module>\u001b[0;34m()\u001b[0m\n\u001b[1;32m      2\u001b[0m     \u001b[0mprint\u001b[0m\u001b[0;34m(\u001b[0m\u001b[0mlabels\u001b[0m\u001b[0;34m)\u001b[0m\u001b[0;34m\u001b[0m\u001b[0;34m\u001b[0m\u001b[0m\n\u001b[1;32m      3\u001b[0m     \u001b[0mprint\u001b[0m\u001b[0;34m(\u001b[0m\u001b[0mimages\u001b[0m\u001b[0;34m.\u001b[0m\u001b[0mshape\u001b[0m\u001b[0;34m)\u001b[0m\u001b[0;34m\u001b[0m\u001b[0;34m\u001b[0m\u001b[0m\n\u001b[0;32m----> 4\u001b[0;31m     \u001b[0moutputs\u001b[0m \u001b[0;34m=\u001b[0m \u001b[0mmodel\u001b[0m\u001b[0;34m(\u001b[0m\u001b[0mimages\u001b[0m\u001b[0;34m)\u001b[0m\u001b[0;34m\u001b[0m\u001b[0;34m\u001b[0m\u001b[0m\n\u001b[0m\u001b[1;32m      5\u001b[0m     \u001b[0mprint\u001b[0m\u001b[0;34m(\u001b[0m\u001b[0moutputs\u001b[0m\u001b[0;34m)\u001b[0m\u001b[0;34m\u001b[0m\u001b[0;34m\u001b[0m\u001b[0m\n\u001b[1;32m      6\u001b[0m     \u001b[0;32mbreak\u001b[0m\u001b[0;34m\u001b[0m\u001b[0;34m\u001b[0m\u001b[0m\n",
            "\u001b[0;32m/usr/local/lib/python3.6/dist-packages/torch/nn/modules/module.py\u001b[0m in \u001b[0;36m_call_impl\u001b[0;34m(self, *input, **kwargs)\u001b[0m\n\u001b[1;32m    725\u001b[0m             \u001b[0mresult\u001b[0m \u001b[0;34m=\u001b[0m \u001b[0mself\u001b[0m\u001b[0;34m.\u001b[0m\u001b[0m_slow_forward\u001b[0m\u001b[0;34m(\u001b[0m\u001b[0;34m*\u001b[0m\u001b[0minput\u001b[0m\u001b[0;34m,\u001b[0m \u001b[0;34m**\u001b[0m\u001b[0mkwargs\u001b[0m\u001b[0;34m)\u001b[0m\u001b[0;34m\u001b[0m\u001b[0;34m\u001b[0m\u001b[0m\n\u001b[1;32m    726\u001b[0m         \u001b[0;32melse\u001b[0m\u001b[0;34m:\u001b[0m\u001b[0;34m\u001b[0m\u001b[0;34m\u001b[0m\u001b[0m\n\u001b[0;32m--> 727\u001b[0;31m             \u001b[0mresult\u001b[0m \u001b[0;34m=\u001b[0m \u001b[0mself\u001b[0m\u001b[0;34m.\u001b[0m\u001b[0mforward\u001b[0m\u001b[0;34m(\u001b[0m\u001b[0;34m*\u001b[0m\u001b[0minput\u001b[0m\u001b[0;34m,\u001b[0m \u001b[0;34m**\u001b[0m\u001b[0mkwargs\u001b[0m\u001b[0;34m)\u001b[0m\u001b[0;34m\u001b[0m\u001b[0;34m\u001b[0m\u001b[0m\n\u001b[0m\u001b[1;32m    728\u001b[0m         for hook in itertools.chain(\n\u001b[1;32m    729\u001b[0m                 \u001b[0m_global_forward_hooks\u001b[0m\u001b[0;34m.\u001b[0m\u001b[0mvalues\u001b[0m\u001b[0;34m(\u001b[0m\u001b[0;34m)\u001b[0m\u001b[0;34m,\u001b[0m\u001b[0;34m\u001b[0m\u001b[0;34m\u001b[0m\u001b[0m\n",
            "\u001b[0;32m/usr/local/lib/python3.6/dist-packages/torch/nn/modules/linear.py\u001b[0m in \u001b[0;36mforward\u001b[0;34m(self, input)\u001b[0m\n\u001b[1;32m     91\u001b[0m \u001b[0;34m\u001b[0m\u001b[0m\n\u001b[1;32m     92\u001b[0m     \u001b[0;32mdef\u001b[0m \u001b[0mforward\u001b[0m\u001b[0;34m(\u001b[0m\u001b[0mself\u001b[0m\u001b[0;34m,\u001b[0m \u001b[0minput\u001b[0m\u001b[0;34m:\u001b[0m \u001b[0mTensor\u001b[0m\u001b[0;34m)\u001b[0m \u001b[0;34m->\u001b[0m \u001b[0mTensor\u001b[0m\u001b[0;34m:\u001b[0m\u001b[0;34m\u001b[0m\u001b[0;34m\u001b[0m\u001b[0m\n\u001b[0;32m---> 93\u001b[0;31m         \u001b[0;32mreturn\u001b[0m \u001b[0mF\u001b[0m\u001b[0;34m.\u001b[0m\u001b[0mlinear\u001b[0m\u001b[0;34m(\u001b[0m\u001b[0minput\u001b[0m\u001b[0;34m,\u001b[0m \u001b[0mself\u001b[0m\u001b[0;34m.\u001b[0m\u001b[0mweight\u001b[0m\u001b[0;34m,\u001b[0m \u001b[0mself\u001b[0m\u001b[0;34m.\u001b[0m\u001b[0mbias\u001b[0m\u001b[0;34m)\u001b[0m\u001b[0;34m\u001b[0m\u001b[0;34m\u001b[0m\u001b[0m\n\u001b[0m\u001b[1;32m     94\u001b[0m \u001b[0;34m\u001b[0m\u001b[0m\n\u001b[1;32m     95\u001b[0m     \u001b[0;32mdef\u001b[0m \u001b[0mextra_repr\u001b[0m\u001b[0;34m(\u001b[0m\u001b[0mself\u001b[0m\u001b[0;34m)\u001b[0m \u001b[0;34m->\u001b[0m \u001b[0mstr\u001b[0m\u001b[0;34m:\u001b[0m\u001b[0;34m\u001b[0m\u001b[0;34m\u001b[0m\u001b[0m\n",
            "\u001b[0;32m/usr/local/lib/python3.6/dist-packages/torch/nn/functional.py\u001b[0m in \u001b[0;36mlinear\u001b[0;34m(input, weight, bias)\u001b[0m\n\u001b[1;32m   1690\u001b[0m         \u001b[0mret\u001b[0m \u001b[0;34m=\u001b[0m \u001b[0mtorch\u001b[0m\u001b[0;34m.\u001b[0m\u001b[0maddmm\u001b[0m\u001b[0;34m(\u001b[0m\u001b[0mbias\u001b[0m\u001b[0;34m,\u001b[0m \u001b[0minput\u001b[0m\u001b[0;34m,\u001b[0m \u001b[0mweight\u001b[0m\u001b[0;34m.\u001b[0m\u001b[0mt\u001b[0m\u001b[0;34m(\u001b[0m\u001b[0;34m)\u001b[0m\u001b[0;34m)\u001b[0m\u001b[0;34m\u001b[0m\u001b[0;34m\u001b[0m\u001b[0m\n\u001b[1;32m   1691\u001b[0m     \u001b[0;32melse\u001b[0m\u001b[0;34m:\u001b[0m\u001b[0;34m\u001b[0m\u001b[0;34m\u001b[0m\u001b[0m\n\u001b[0;32m-> 1692\u001b[0;31m         \u001b[0moutput\u001b[0m \u001b[0;34m=\u001b[0m \u001b[0minput\u001b[0m\u001b[0;34m.\u001b[0m\u001b[0mmatmul\u001b[0m\u001b[0;34m(\u001b[0m\u001b[0mweight\u001b[0m\u001b[0;34m.\u001b[0m\u001b[0mt\u001b[0m\u001b[0;34m(\u001b[0m\u001b[0;34m)\u001b[0m\u001b[0;34m)\u001b[0m\u001b[0;34m\u001b[0m\u001b[0;34m\u001b[0m\u001b[0m\n\u001b[0m\u001b[1;32m   1693\u001b[0m         \u001b[0;32mif\u001b[0m \u001b[0mbias\u001b[0m \u001b[0;32mis\u001b[0m \u001b[0;32mnot\u001b[0m \u001b[0;32mNone\u001b[0m\u001b[0;34m:\u001b[0m\u001b[0;34m\u001b[0m\u001b[0;34m\u001b[0m\u001b[0m\n\u001b[1;32m   1694\u001b[0m             \u001b[0moutput\u001b[0m \u001b[0;34m+=\u001b[0m \u001b[0mbias\u001b[0m\u001b[0;34m\u001b[0m\u001b[0;34m\u001b[0m\u001b[0m\n",
            "\u001b[0;31mRuntimeError\u001b[0m: mat1 and mat2 shapes cannot be multiplied (3584x28 and 784x10)"
          ]
        }
      ]
    },
    {
      "cell_type": "code",
      "metadata": {
        "id": "9m-JsBr6lSO8",
        "colab": {
          "base_uri": "https://localhost:8080/"
        },
        "outputId": "f43a1231-f07e-4efa-9f06-aa460fbcbb26"
      },
      "source": [
        "images.shape"
      ],
      "execution_count": 21,
      "outputs": [
        {
          "output_type": "execute_result",
          "data": {
            "text/plain": [
              "torch.Size([128, 1, 28, 28])"
            ]
          },
          "metadata": {
            "tags": []
          },
          "execution_count": 21
        }
      ]
    },
    {
      "cell_type": "code",
      "metadata": {
        "id": "X3_ktSR1lVJQ",
        "colab": {
          "base_uri": "https://localhost:8080/"
        },
        "outputId": "45e8d439-9d24-4b1a-88e9-2977c0572956"
      },
      "source": [
        "images.reshape(128, 784).shape"
      ],
      "execution_count": 22,
      "outputs": [
        {
          "output_type": "execute_result",
          "data": {
            "text/plain": [
              "torch.Size([128, 784])"
            ]
          },
          "metadata": {
            "tags": []
          },
          "execution_count": 22
        }
      ]
    },
    {
      "cell_type": "markdown",
      "metadata": {
        "id": "-lT2ZhMjfTTY"
      },
      "source": [
        "El códio anterior nos ha producido erro porque los datos de entrada no están en la forma correcta. Nuestras imágenes son 1x28x28, pero nosotros las necesitamos como vectores de tamaño 784, i.e. necesitamos \"extenderlas\". Para ello emplearemos el método de tensores `.reshape`, que nos va a permitir eficientemente generar una vista de cada imagen como un vector, sin realmente crear una copia de los datos.  \n",
        "\n",
        "Para incluir esta funcionalidad en nuestro modelo, necesitamos definir un modelo personalizado extendiendo la clase `nn.Module` de PyTorch. \n"
      ]
    },
    {
      "cell_type": "code",
      "metadata": {
        "id": "c2HWol7qfTTY"
      },
      "source": [
        "class MnistModel(nn.Module):\n",
        "    def __init__(self):\n",
        "        super().__init__()\n",
        "        self.linear = nn.Linear(input_size, num_classes)\n",
        "        \n",
        "    def forward(self, xb):\n",
        "        xb = xb.reshape(-1, 784)\n",
        "        out = self.linear(xb)\n",
        "        return out\n",
        "    \n",
        "model = MnistModel()"
      ],
      "execution_count": 23,
      "outputs": []
    },
    {
      "cell_type": "markdown",
      "metadata": {
        "id": "mZKn3GBFfTTY"
      },
      "source": [
        "En el interior del constructor `__init__`, lo que hacemos ens instanciar los pesos y biases empleando `nn.Linear`, de igual forma que lo que hemos visto anteriormente. A continuación preparamos un nuevo método `forward`, el cual toma un lote de entradas cuando es invocado, lo \"extiende\" al formato de tensor de entrada correcto, y lo pasa a la función `self.linear`.\n",
        "\n",
        "`xb.reshape(-1, 28*28)` indica a PyTorch que quremos una *vista* del tensor `xb` en dos dimensiones. La longitud de la segunda dimensión la hemos especificado nosotros (28x28=784). Un argumento de `.reshape` puede ser puesto a `-1` (en nuestro caso, la primera dimensión) para hacer que PyTorch calcule automáticamente el valor necesario, basado en la forma especificada.\n",
        "\n",
        "Nótese que el modelo ya no tiene los atributos `.weight` y `.bias` (ahora están dentro del attributo `.linear`), pero sí que tiene un método `.parameters` que retorna na lista conteniendo los pesos y biases."
      ]
    },
    {
      "cell_type": "code",
      "metadata": {
        "id": "voZF2M_3nVnI",
        "colab": {
          "base_uri": "https://localhost:8080/"
        },
        "outputId": "1d195548-de41-49d0-9797-68cc19da138e"
      },
      "source": [
        "model.linear"
      ],
      "execution_count": 24,
      "outputs": [
        {
          "output_type": "execute_result",
          "data": {
            "text/plain": [
              "Linear(in_features=784, out_features=10, bias=True)"
            ]
          },
          "metadata": {
            "tags": []
          },
          "execution_count": 24
        }
      ]
    },
    {
      "cell_type": "code",
      "metadata": {
        "colab": {
          "base_uri": "https://localhost:8080/"
        },
        "id": "yUlyKm3pPMmS",
        "outputId": "65ef7b9a-3cb5-4370-c74c-9ad0c1f9cc36"
      },
      "source": [
        "model.linear.bias\r\n",
        "\r\n"
      ],
      "execution_count": 25,
      "outputs": [
        {
          "output_type": "execute_result",
          "data": {
            "text/plain": [
              "Parameter containing:\n",
              "tensor([ 0.0124, -0.0287,  0.0037, -0.0268, -0.0101,  0.0248, -0.0048, -0.0208,\n",
              "         0.0282,  0.0097], requires_grad=True)"
            ]
          },
          "metadata": {
            "tags": []
          },
          "execution_count": 25
        }
      ]
    },
    {
      "cell_type": "code",
      "metadata": {
        "id": "JciejPo9fTTY",
        "colab": {
          "base_uri": "https://localhost:8080/"
        },
        "outputId": "0957e2b1-9ea5-499c-a717-03e5eceee5e8"
      },
      "source": [
        "print(model.linear.weight.shape, model.linear.bias.shape)\n",
        "list(model.parameters())"
      ],
      "execution_count": 26,
      "outputs": [
        {
          "output_type": "stream",
          "text": [
            "torch.Size([10, 784]) torch.Size([10])\n"
          ],
          "name": "stdout"
        },
        {
          "output_type": "execute_result",
          "data": {
            "text/plain": [
              "[Parameter containing:\n",
              " tensor([[-0.0037, -0.0310, -0.0225,  ..., -0.0188,  0.0167,  0.0254],\n",
              "         [ 0.0128, -0.0073,  0.0003,  ...,  0.0234,  0.0283, -0.0092],\n",
              "         [ 0.0193, -0.0011,  0.0292,  ..., -0.0308, -0.0280,  0.0133],\n",
              "         ...,\n",
              "         [ 0.0188, -0.0047,  0.0059,  ..., -0.0146,  0.0322, -0.0246],\n",
              "         [ 0.0220,  0.0325, -0.0002,  ..., -0.0228,  0.0142, -0.0203],\n",
              "         [-0.0356, -0.0122,  0.0173,  ..., -0.0036,  0.0233,  0.0008]],\n",
              "        requires_grad=True), Parameter containing:\n",
              " tensor([ 0.0124, -0.0287,  0.0037, -0.0268, -0.0101,  0.0248, -0.0048, -0.0208,\n",
              "          0.0282,  0.0097], requires_grad=True)]"
            ]
          },
          "metadata": {
            "tags": []
          },
          "execution_count": 26
        }
      ]
    },
    {
      "cell_type": "markdown",
      "metadata": {
        "id": "nGvgCQn2fTTY"
      },
      "source": [
        "Ahora podemos usar el modelo que hemos definido. Veamos si funciona correctamente: "
      ]
    },
    {
      "cell_type": "code",
      "metadata": {
        "id": "HJ6FGOvYfTTZ",
        "colab": {
          "base_uri": "https://localhost:8080/"
        },
        "outputId": "b06543af-57db-40bd-bb17-fb59831e2e28"
      },
      "source": [
        "for images, labels in train_loader:\n",
        "    print(images.shape)\n",
        "    outputs = model(images)\n",
        "    break\n",
        "\n",
        "print('outputs.shape : ', outputs.shape)\n",
        "print('Sample outputs :\\n', outputs[:2].data)"
      ],
      "execution_count": 27,
      "outputs": [
        {
          "output_type": "stream",
          "text": [
            "torch.Size([128, 1, 28, 28])\n",
            "outputs.shape :  torch.Size([128, 10])\n",
            "Sample outputs :\n",
            " tensor([[ 5.2753e-01, -2.1475e-01, -1.0958e-01,  1.4950e-04,  1.7668e-01,\n",
            "         -6.3830e-01, -1.7347e-01,  1.6723e-01, -2.6118e-01,  2.9498e-02],\n",
            "        [-2.0242e-02, -1.4736e-01, -1.3137e-01,  1.3729e-02,  1.6410e-01,\n",
            "         -2.1138e-01,  4.1514e-02,  1.6834e-03, -2.1475e-01,  2.1246e-01]])\n"
          ],
          "name": "stdout"
        }
      ]
    },
    {
      "cell_type": "markdown",
      "metadata": {
        "id": "9v407S1jfTTZ"
      },
      "source": [
        "Para cada una de las 128 imagenes, ahora tenemos 10 salidas, una por cada clase. Como se ha indicado anteriormente, tomaremos esos valores de salida como posibilidades. Para ello, los valores de salida deben estar entre el rango 0 y 1, lo cual no es el caso. \n",
        "\n",
        "Para realizar la transformación de los valores obtenidos a probabilidades, emplearemos la función sofmax, que tiene la siguiente fórmula: \n",
        "\n",
        "![softmax](https://i.imgur.com/EAh9jLN.png)\n",
        "\n",
        "Primero reemplazamos cada elemento `yi` de una fila de salida en `e^yi`, haciendo todos los elementos positivos. \n",
        "\n",
        "![](https://www.montereyinstitute.org/courses/DevelopmentalMath/COURSE_TEXT2_RESOURCE/U18_L1_T1_text_final_6_files/image001.png)\n",
        "\n",
        "A continuación dividimos cada uno entre la suma de todos, para asegurar que no superamos el valor 1. El vector vestor resultante ya puede ser interpretado como probabilidades.\n",
        "\n",
        "A pesar de que implementar directamente la función sofmax no es dificil, Pytorch ya cuenta con una implementación propia que además funciona muy bien con tensores multidimensionales (p.e. una lista de filas de salida en nuestro caso)\n"
      ]
    },
    {
      "cell_type": "code",
      "metadata": {
        "id": "Wc7d6WD0fTTZ"
      },
      "source": [
        "import torch.nn.functional as F"
      ],
      "execution_count": 28,
      "outputs": []
    },
    {
      "cell_type": "markdown",
      "metadata": {
        "id": "FbYF4auWfTTZ"
      },
      "source": [
        "La función softmax está incluidoa en el paquete `torch.nn.functional` y requiere que le especifiquemos la dimensión a lo largo de la cual debe ser aplicada."
      ]
    },
    {
      "cell_type": "code",
      "metadata": {
        "id": "6xvjcBVTo14n",
        "colab": {
          "base_uri": "https://localhost:8080/"
        },
        "outputId": "404604de-47b7-4679-c9cc-d7bd37a1af08"
      },
      "source": [
        "outputs[:2]"
      ],
      "execution_count": 29,
      "outputs": [
        {
          "output_type": "execute_result",
          "data": {
            "text/plain": [
              "tensor([[ 5.2753e-01, -2.1475e-01, -1.0958e-01,  1.4950e-04,  1.7668e-01,\n",
              "         -6.3830e-01, -1.7347e-01,  1.6723e-01, -2.6118e-01,  2.9498e-02],\n",
              "        [-2.0242e-02, -1.4736e-01, -1.3137e-01,  1.3729e-02,  1.6410e-01,\n",
              "         -2.1138e-01,  4.1514e-02,  1.6834e-03, -2.1475e-01,  2.1246e-01]],\n",
              "       grad_fn=<SliceBackward>)"
            ]
          },
          "metadata": {
            "tags": []
          },
          "execution_count": 29
        }
      ]
    },
    {
      "cell_type": "code",
      "metadata": {
        "id": "C3neZ1YGfTTZ",
        "colab": {
          "base_uri": "https://localhost:8080/"
        },
        "outputId": "61b99129-dcdc-41d7-c061-c24f6e52f214"
      },
      "source": [
        "# Aplicamos softmax para cada fila de salida\n",
        "probs = F.softmax(outputs, dim=1)\n",
        "\n",
        "# Miramos las probabilidades de unas muestras\n",
        "print(\"Sample probabilities:\\n\", probs[:2].data)\n",
        "\n",
        "# Comprobamos la suma de probabilidades de una fila:\n",
        "print(\"Sum: \", torch.sum(probs[0]).item())"
      ],
      "execution_count": 30,
      "outputs": [
        {
          "output_type": "stream",
          "text": [
            "Sample probabilities:\n",
            " tensor([[0.1705, 0.0811, 0.0901, 0.1006, 0.1200, 0.0531, 0.0846, 0.1189, 0.0775,\n",
            "         0.1036],\n",
            "        [0.0999, 0.0880, 0.0894, 0.1034, 0.1201, 0.0825, 0.1063, 0.1021, 0.0822,\n",
            "         0.1261]])\n",
            "Sum:  1.0\n"
          ],
          "name": "stdout"
        }
      ]
    },
    {
      "cell_type": "markdown",
      "metadata": {
        "id": "k2cgqWGVfTTZ"
      },
      "source": [
        "Finalmente elegiremos la etiqueta de salida simplemente seleccionando el índice de la que mayores probabilidades ha obtenido en cada fila (vector) de salida. Para ello podemos usar `torch.max`, que retorna para cada fila, el mayor elemento y su correspondiente índice."
      ]
    },
    {
      "cell_type": "code",
      "metadata": {
        "id": "1o9a4hAufTTZ",
        "colab": {
          "base_uri": "https://localhost:8080/"
        },
        "outputId": "b2ac4fbf-8fc3-44c0-91b8-5b5cca197f99"
      },
      "source": [
        "max_probs, preds = torch.max(probs, dim=1)\n",
        "print(preds)\n",
        "print(max_probs)"
      ],
      "execution_count": 31,
      "outputs": [
        {
          "output_type": "stream",
          "text": [
            "tensor([0, 9, 9, 4, 0, 4, 2, 0, 4, 4, 1, 0, 3, 8, 4, 0, 0, 8, 0, 0, 7, 7, 0, 0,\n",
            "        4, 0, 7, 9, 0, 4, 4, 5, 0, 0, 7, 7, 4, 4, 0, 8, 0, 2, 7, 6, 0, 0, 4, 7,\n",
            "        7, 0, 7, 0, 0, 3, 2, 7, 4, 4, 7, 7, 0, 4, 4, 8, 7, 0, 9, 6, 0, 0, 4, 6,\n",
            "        9, 0, 9, 8, 4, 3, 4, 0, 4, 0, 8, 0, 4, 4, 7, 7, 4, 9, 7, 7, 4, 1, 7, 8,\n",
            "        1, 4, 7, 0, 0, 3, 0, 7, 8, 8, 3, 7, 7, 0, 4, 7, 4, 2, 0, 6, 3, 9, 7, 7,\n",
            "        8, 0, 7, 4, 2, 4, 9, 0])\n",
            "tensor([0.1705, 0.1261, 0.1110, 0.1312, 0.1374, 0.1124, 0.1364, 0.1405, 0.1355,\n",
            "        0.1256, 0.1358, 0.1063, 0.1418, 0.1210, 0.1480, 0.1203, 0.1309, 0.1150,\n",
            "        0.1228, 0.1539, 0.1401, 0.1422, 0.1382, 0.1518, 0.1147, 0.1507, 0.1202,\n",
            "        0.1208, 0.1271, 0.1247, 0.1237, 0.1211, 0.1426, 0.1537, 0.1379, 0.1196,\n",
            "        0.1376, 0.1269, 0.1187, 0.1263, 0.1237, 0.1117, 0.1216, 0.1135, 0.1353,\n",
            "        0.1247, 0.1187, 0.1348, 0.1223, 0.1334, 0.1148, 0.1264, 0.1264, 0.1510,\n",
            "        0.1336, 0.1199, 0.1249, 0.1303, 0.1143, 0.1248, 0.1361, 0.1471, 0.1290,\n",
            "        0.1224, 0.1293, 0.1303, 0.1457, 0.1174, 0.1322, 0.1612, 0.1525, 0.1163,\n",
            "        0.1161, 0.1292, 0.1400, 0.1178, 0.1203, 0.1331, 0.1410, 0.1161, 0.1544,\n",
            "        0.1366, 0.1263, 0.1169, 0.1214, 0.1164, 0.1202, 0.1205, 0.1402, 0.1202,\n",
            "        0.1259, 0.1375, 0.1162, 0.1275, 0.1239, 0.1159, 0.1449, 0.1363, 0.1323,\n",
            "        0.1376, 0.1188, 0.1285, 0.1349, 0.1447, 0.1272, 0.1129, 0.1233, 0.1505,\n",
            "        0.1106, 0.1330, 0.1225, 0.1186, 0.1262, 0.1135, 0.1189, 0.1245, 0.1248,\n",
            "        0.1245, 0.1298, 0.1268, 0.1230, 0.1382, 0.1622, 0.1367, 0.1292, 0.1166,\n",
            "        0.1218, 0.1259], grad_fn=<MaxBackward0>)\n"
          ],
          "name": "stdout"
        }
      ]
    },
    {
      "cell_type": "markdown",
      "metadata": {
        "id": "IGvKME9WfTTZ"
      },
      "source": [
        "Los números mostrados arriba son las etiquetas predichas para el primer lote de entrenamiento. Vamos a compararlas con las reales. "
      ]
    },
    {
      "cell_type": "code",
      "metadata": {
        "id": "TsT85mhffTTZ",
        "colab": {
          "base_uri": "https://localhost:8080/"
        },
        "outputId": "cfc32a00-6a03-4f14-99ad-033973571e6c"
      },
      "source": [
        "labels"
      ],
      "execution_count": 32,
      "outputs": [
        {
          "output_type": "execute_result",
          "data": {
            "text/plain": [
              "tensor([3, 4, 7, 5, 3, 1, 9, 3, 5, 0, 0, 7, 7, 1, 5, 0, 2, 1, 4, 6, 9, 0, 8, 3,\n",
              "        1, 6, 6, 9, 2, 1, 1, 4, 6, 6, 0, 9, 1, 8, 8, 1, 3, 5, 0, 7, 9, 1, 1, 0,\n",
              "        0, 8, 5, 0, 7, 2, 6, 7, 0, 3, 4, 5, 3, 3, 3, 7, 5, 3, 4, 7, 8, 0, 3, 1,\n",
              "        9, 2, 9, 2, 1, 8, 1, 9, 5, 2, 1, 2, 8, 6, 5, 9, 8, 9, 3, 6, 1, 0, 3, 8,\n",
              "        0, 7, 5, 2, 9, 2, 2, 8, 8, 3, 8, 5, 4, 9, 1, 2, 8, 7, 9, 4, 2, 4, 9, 6,\n",
              "        1, 8, 6, 5, 9, 7, 9, 5])"
            ]
          },
          "metadata": {
            "tags": []
          },
          "execution_count": 32
        }
      ]
    },
    {
      "cell_type": "markdown",
      "metadata": {
        "id": "8AFZgI8SfTTZ"
      },
      "source": [
        "La mayoría de las etiquetas de predicción son diferentes de las reales. Esto es porque hemos empezado con unos valores de pesos y biases elegidos al azar. Evidentemente, necesitamos entrenar el modelo para ajustar los pesos y realizar mejores predicciones."
      ]
    },
    {
      "cell_type": "markdown",
      "metadata": {
        "id": "FegT9vhlfTTZ"
      },
      "source": [
        "## Métrica de evaluación y función de error"
      ]
    },
    {
      "cell_type": "markdown",
      "metadata": {
        "id": "MSiZ3KtqfTTZ"
      },
      "source": [
        "De igual forma que en la regresión linealm necesitamos una forma para evaluar como de bien está haciendolo nuestro modelo. Una forma básica y muy natural consiste en obtener el porcentaje de etiquetas que son correctamente predichas, i.e. la **precision** (**accuracy**)  de las predicciones."
      ]
    },
    {
      "cell_type": "code",
      "metadata": {
        "colab": {
          "base_uri": "https://localhost:8080/"
        },
        "id": "wG0IBPVMp3UE",
        "outputId": "df618e16-370d-40eb-b54e-b9fc50375732"
      },
      "source": [
        "outputs[:2]"
      ],
      "execution_count": 33,
      "outputs": [
        {
          "output_type": "execute_result",
          "data": {
            "text/plain": [
              "tensor([[ 5.2753e-01, -2.1475e-01, -1.0958e-01,  1.4950e-04,  1.7668e-01,\n",
              "         -6.3830e-01, -1.7347e-01,  1.6723e-01, -2.6118e-01,  2.9498e-02],\n",
              "        [-2.0242e-02, -1.4736e-01, -1.3137e-01,  1.3729e-02,  1.6410e-01,\n",
              "         -2.1138e-01,  4.1514e-02,  1.6834e-03, -2.1475e-01,  2.1246e-01]],\n",
              "       grad_fn=<SliceBackward>)"
            ]
          },
          "metadata": {
            "tags": []
          },
          "execution_count": 33
        }
      ]
    },
    {
      "cell_type": "code",
      "metadata": {
        "colab": {
          "base_uri": "https://localhost:8080/"
        },
        "id": "hHgMnCL4qGDt",
        "outputId": "5f422642-7545-47a2-baf9-102940f15023"
      },
      "source": [
        "torch.sum(preds == labels)"
      ],
      "execution_count": 34,
      "outputs": [
        {
          "output_type": "execute_result",
          "data": {
            "text/plain": [
              "tensor(11)"
            ]
          },
          "metadata": {
            "tags": []
          },
          "execution_count": 34
        }
      ]
    },
    {
      "cell_type": "code",
      "metadata": {
        "id": "11hDOTR1fTTZ"
      },
      "source": [
        "def accuracy(outputs, labels):\n",
        "    _, preds = torch.max(outputs, dim=1)\n",
        "    return torch.tensor(torch.sum(preds == labels).item() / len(preds))"
      ],
      "execution_count": 35,
      "outputs": []
    },
    {
      "cell_type": "markdown",
      "metadata": {
        "id": "E258dVOUfTTZ"
      },
      "source": [
        "El  operador `==` realiza una comparación elemento por elemento de los dos tensores que tienen la misma forma y retorna un tensor de resultados de la misma forma, conteniendo `True` para elementos iguales y `False` para los diferentes. Pasando el resultado a `torch.sum` nos retorna el número total de etiquetas que se han predicho correctamente. Finalmente dividimos entre el numero total de etiquetas evaluadas para obtener la precisión. \n",
        "\n",
        "Nótese que en este caso no es necesario aplicar la función softmax al vector de resultados. Esto es así porque `e^x` es una función incremental, i.e., si `y1 > y2`, entonces `e^y1 > e^y2`. Lo mismo se cumple despues de promediar los valores para obtener el softmax. Por tanto podemos saltarnos esa transformación tomando directamente el valor máximo del vector de salida.\n",
        "\n",
        "Calculamos la precision del modelo para el primer lote de datos (sin entrenar)\n",
        "Let's calculate the accuracy of the current model on the first batch of data. "
      ]
    },
    {
      "cell_type": "code",
      "metadata": {
        "colab": {
          "base_uri": "https://localhost:8080/"
        },
        "id": "HwVAxpZXfTTZ",
        "outputId": "42307d96-cf66-4417-89b0-6ee243c0e051"
      },
      "source": [
        "accuracy(outputs, labels)"
      ],
      "execution_count": 36,
      "outputs": [
        {
          "output_type": "execute_result",
          "data": {
            "text/plain": [
              "tensor(0.0859)"
            ]
          },
          "metadata": {
            "tags": []
          },
          "execution_count": 36
        }
      ]
    },
    {
      "cell_type": "code",
      "metadata": {
        "colab": {
          "base_uri": "https://localhost:8080/"
        },
        "id": "jEyaxGIBrNFm",
        "outputId": "ffd8fbe7-60f9-4fd9-c1ed-18913f575bc4"
      },
      "source": [
        "probs"
      ],
      "execution_count": 37,
      "outputs": [
        {
          "output_type": "execute_result",
          "data": {
            "text/plain": [
              "tensor([[0.1705, 0.0811, 0.0901,  ..., 0.1189, 0.0775, 0.1036],\n",
              "        [0.0999, 0.0880, 0.0894,  ..., 0.1021, 0.0822, 0.1261],\n",
              "        [0.1020, 0.0935, 0.1088,  ..., 0.0965, 0.0804, 0.1110],\n",
              "        ...,\n",
              "        [0.1156, 0.0825, 0.0944,  ..., 0.0927, 0.0894, 0.1060],\n",
              "        [0.1103, 0.0899, 0.1043,  ..., 0.1179, 0.0837, 0.1218],\n",
              "        [0.1259, 0.1005, 0.0886,  ..., 0.0950, 0.0870, 0.1094]],\n",
              "       grad_fn=<SoftmaxBackward>)"
            ]
          },
          "metadata": {
            "tags": []
          },
          "execution_count": 37
        }
      ]
    },
    {
      "cell_type": "markdown",
      "metadata": {
        "id": "Te7ORtqVfTTZ"
      },
      "source": [
        "La precisión es una buena forma de evaluar el modelo para nosotros (como humanos). Sin embargo, no la podemos emplear para optimizar el modelo empleando la técnica de descenso de gradiente por las siguientes razones: \n",
        "\n",
        "1. No es una función diferenciable. Tanto `torch.max` como `==` son operaciones no-continuas y no-diferenciables. Por tanto no podemos calcular gradientes con repecto a los pesos y los biases, que nos puedan servir para actualizar los valores en la dirección correcta.\n",
        "\n",
        "2. No tiene en cuenta las probabilidades obtenidas por el modelo, lo que hace que no podamos proveer de suficiente realimentación al modelo para mejoras incrementales. \n",
        "\n",
        "Por esas razones, la precision es utilizada habitualemente como **métrica de evaluacion** pero no como función de pérdida (tambien llamada función de coste). La función de pérdida comúnmente empleada en problemas de clasificación es la función de **entropía cruzada**  (_cross-entropy_), que tiene la siguiente fórmula: \n",
        "\n",
        "![cross-entropy](https://i.imgur.com/VDRDl1D.png)\n",
        "\n",
        "Aunque pueda parecer un poco complicada, en realidad es bastante simple:\n",
        "\n",
        "* Para cada vector de salida, tomamos el valor de probabilidad obtenido para la etiqueta correcta. E.g., si las probailidades obtenidas para una imagen son `[0.1, 0.3, 0.2, ...]` y la etiqueta correcta es `1`, tomaremos el valor `0.3` e inoramos el resto\n",
        "\n",
        "* A continuación obtenemos el [logaritmo](https://en.wikipedia.org/wiki/Logarithm) del valor de probailidad obtenida.  Si la probabilidad es alta, i.e. cercana a 1, entonces el valor obtenido será cercano a 0. Si la probabilidad es baja (cercana a 0) entonces el valor obtenido será un valor negativo alto. Dicho valor lo multiplicaremos por -1 para convertirlo en positivo. Esto resulta en que cuando la predicción es baja obtenemos un valor alto que será tomado como la pérdida o error. Cuando la predicción es alta, el error estará cercano a 0. \n",
        "\n",
        "![](https://www.intmath.com/blog/wp-content/images/2019/05/log10.png)\n",
        "\n",
        "* Finalmente para aprovechar la información de todas las muestras empleadas, tomaremos el promedio de entropía cruzada de todas las filas de salida y tenemos una medida de la pérdida para todo un lote de datos. \n",
        "\n",
        "A diferencia de la precisión. la entropía cruzada es continua y diferenciable. También provee una información de feedback muy útil para esas mejoras incrementales necesarias (mayores probabilidades se traducen en menor pérdida o error). Esas características hacen que esta función sea una buena elección como función de coste para entrenar el modelo. \n",
        "\n",
        "Como era de esperar Pytorch tiene una implementación propia eficiente y preparada para tensores como parte del paquete `torch.nn.functional`. Más aún, tiene implementado internamente la función softmax, por lo que podemos pasarle directamente la salida del modelo sin tener que convertirlo en probavilidades. "
      ]
    },
    {
      "cell_type": "code",
      "metadata": {
        "colab": {
          "base_uri": "https://localhost:8080/"
        },
        "id": "AkkyxKR1r8nm",
        "outputId": "ec81eb1b-1d85-4a16-b9ab-6985bfb80c16"
      },
      "source": [
        "outputs"
      ],
      "execution_count": 38,
      "outputs": [
        {
          "output_type": "execute_result",
          "data": {
            "text/plain": [
              "tensor([[ 0.5275, -0.2148, -0.1096,  ...,  0.1672, -0.2612,  0.0295],\n",
              "        [-0.0202, -0.1474, -0.1314,  ...,  0.0017, -0.2148,  0.2125],\n",
              "        [ 0.0879,  0.0014,  0.1528,  ...,  0.0329, -0.1500,  0.1726],\n",
              "        ...,\n",
              "        [ 0.1756, -0.1621, -0.0275,  ..., -0.0452, -0.0816,  0.0883],\n",
              "        [ 0.1846, -0.0201,  0.1285,  ...,  0.2517, -0.0906,  0.2838],\n",
              "        [ 0.2162, -0.0090, -0.1344,  ..., -0.0655, -0.1528,  0.0757]],\n",
              "       grad_fn=<AddmmBackward>)"
            ]
          },
          "metadata": {
            "tags": []
          },
          "execution_count": 38
        }
      ]
    },
    {
      "cell_type": "code",
      "metadata": {
        "id": "OqWUQpANfTTZ"
      },
      "source": [
        "loss_fn = F.cross_entropy"
      ],
      "execution_count": 39,
      "outputs": []
    },
    {
      "cell_type": "code",
      "metadata": {
        "colab": {
          "base_uri": "https://localhost:8080/"
        },
        "id": "SuESG0hbfTTZ",
        "outputId": "be8e5dfb-2cd7-411b-8031-88f4becdc30d"
      },
      "source": [
        "# Pérdida para el lote actual de datos\n",
        "loss = loss_fn(outputs, labels)\n",
        "print(loss)"
      ],
      "execution_count": 40,
      "outputs": [
        {
          "output_type": "stream",
          "text": [
            "tensor(2.3332, grad_fn=<NllLossBackward>)\n"
          ],
          "name": "stdout"
        }
      ]
    },
    {
      "cell_type": "markdown",
      "metadata": {
        "id": "wFOtpxUqfTTZ"
      },
      "source": [
        "Ahora sabemos que la entropía cruzada es el negativo del logaritmo de la probabilidad predicha para la etiqueta correcta, promediado sobre todas las muestras. Por tanto, una forma en la que podemos interpretar el número resultante obtenido e.g. `2.23` es que `e^-2.23` que es en torno a `0.1` como la probabilidad promedio de acierto de etiqueta correcta. En definitica *cuanto menor pérdida o error, mejor es el modelo*"
      ]
    },
    {
      "cell_type": "markdown",
      "metadata": {
        "id": "hTgl76MgfTTZ"
      },
      "source": [
        "## Entrenamiento del modelo\n",
        "\n",
        "Ahora que ya hemos definido la carga de datos, función de coste y optimizador, estamos listos para entrenar el modelo. El proceso es idéntico al de la regresión lineal, con el añadido de que ahora tenemos una fase de validación para evaluar el modeloo en cada ciclo/epoch. \n",
        "\n",
        "Veamos como queda esto en pseudocódigo:\n",
        "\n",
        "```\n",
        "for epoch in range(num_epochs):\n",
        "    # Fase de entrenamiento\n",
        "    for batch in train_loader:\n",
        "        # Genera predicciones\n",
        "        # Calcula el error/pérdida\n",
        "        # Calcula los gradientes c.r.a. los pesos y biases\n",
        "        # Actualiza los pesos\n",
        "        # Reseteamos los gradientes a cero \n",
        "    # Fase de validación\n",
        "    for batch in val_loader:\n",
        "        # Genera predictiones\n",
        "        # Calcula perdida\n",
        "        # Calcula metricas (accuracy etc.)\n",
        "    # Calcula promediado de loss & metricas\n",
        "    \n",
        "    # Log epoch, loss & metrics para inspecion\n",
        "```\n",
        "\n",
        "Algunas partes del bucle de entrenamiento son específicas del problema que estamos enfrentando (e.g. loss function, metricas etc.) mientras otras son genéricas y pueden ser aplicadas a cualquier problema de aprendizaje máquina. \n",
        "\n",
        "Lo que vamos a hacer es incluir las partes independientes del problema en una función que llamaremos `fit` y que emplearemos para entrenar el modelo. Las partes más específicas las implementaremos añaiendo métodos a la clase base  `nn.Module` que definiremos.\n",
        "\n"
      ]
    },
    {
      "cell_type": "code",
      "metadata": {
        "id": "1cv7a7ukfTTZ"
      },
      "source": [
        "def fit(epochs, lr, model, train_loader, val_loader, opt_func=torch.optim.SGD):\n",
        "    optimizer = opt_func(model.parameters(), lr)\n",
        "    history = [] # Aquí guardaremos resultados por epochs\n",
        "    \n",
        "    for epoch in range(epochs):\n",
        "        \n",
        "        # Entrnamiento \n",
        "        for batch in train_loader:\n",
        "            loss = model.training_step(batch)\n",
        "            loss.backward()\n",
        "            optimizer.step()\n",
        "            optimizer.zero_grad()\n",
        "        \n",
        "        # Validación\n",
        "        result = evaluate(model, val_loader)\n",
        "        model.epoch_end(epoch, result)\n",
        "        history.append(result)\n",
        "\n",
        "    return history"
      ],
      "execution_count": 41,
      "outputs": []
    },
    {
      "cell_type": "markdown",
      "metadata": {
        "id": "TAuhlro7fTTZ"
      },
      "source": [
        "En esta función `fit`  vamos a grabar la pérdida de validación y la métrica para cada epoch. Nos devuelve un histórico del entrenamiento realizado, lo cual será útil para visualizar y deputar. \n",
        "\n",
        "Configuraciones como el tamaño de lote, tasa de aprendizaje, etc. (llamados hiperparámetros) son críticos para la obtención de buenos modelos y tiempos de entrenamiento razonables. Son un área activa de investigación por sí solos. Resulta interesante (y normalmente necesario) ir probando con ellospara ver como afecta al proceso y resultados de entrenmiento.\n",
        "\n",
        "Definimos ahora una función `evaluate` que emplearemos en la fase de validación de la function `fit`."
      ]
    },
    {
      "cell_type": "code",
      "metadata": {
        "id": "N064K5H9ujtQ"
      },
      "source": [
        "l1 = [1, 2, 3, 4, 5]"
      ],
      "execution_count": 42,
      "outputs": []
    },
    {
      "cell_type": "code",
      "metadata": {
        "colab": {
          "base_uri": "https://localhost:8080/"
        },
        "id": "5W8a_hmFujqa",
        "outputId": "7e32c5d5-0531-403b-b31a-500b83ca524d"
      },
      "source": [
        "l2 = [x*2 for x in l1]\n",
        "l2"
      ],
      "execution_count": 43,
      "outputs": [
        {
          "output_type": "execute_result",
          "data": {
            "text/plain": [
              "[2, 4, 6, 8, 10]"
            ]
          },
          "metadata": {
            "tags": []
          },
          "execution_count": 43
        }
      ]
    },
    {
      "cell_type": "code",
      "metadata": {
        "id": "wgWjXs5mfTTZ"
      },
      "source": [
        "def evaluate(model, val_loader):\n",
        "    outputs = [model.validation_step(batch) for batch in val_loader]\n",
        "    return model.validation_epoch_end(outputs)"
      ],
      "execution_count": 44,
      "outputs": []
    },
    {
      "cell_type": "markdown",
      "metadata": {
        "id": "FdcKIXvMfTTZ"
      },
      "source": [
        "Finalmente vamos a redefinir la clase `MnistModel` para incluir una serie de métodos adicionales `training_step`, `validation_step`, `validation_epoch_end`, y `epoch_end` que aprovecharemos en las funciones `fit` y `evaluate`."
      ]
    },
    {
      "cell_type": "code",
      "metadata": {
        "id": "SbJN7ICGfTTZ"
      },
      "source": [
        "class MnistModel(nn.Module):\n",
        "    def __init__(self):\n",
        "        super().__init__()\n",
        "        self.linear = nn.Linear(input_size, num_classes)\n",
        "        \n",
        "    def forward(self, xb):\n",
        "        xb = xb.reshape(-1, 784)\n",
        "        out = self.linear(xb)\n",
        "        return out\n",
        "    \n",
        "    def training_step(self, batch):\n",
        "        images, labels = batch \n",
        "        out = self(images)                  # Genera predicciones\n",
        "        loss = F.cross_entropy(out, labels) # Calcula loss\n",
        "        return loss\n",
        "    \n",
        "    def validation_step(self, batch):\n",
        "        images, labels = batch \n",
        "        out = self(images)                    # Genera predicciones\n",
        "        loss = F.cross_entropy(out, labels)   # Calcula loss\n",
        "        acc = accuracy(out, labels)           # Calcula accuracy\n",
        "        return {'val_loss': loss, 'val_acc': acc}\n",
        "        \n",
        "    def validation_epoch_end(self, outputs):\n",
        "        batch_losses = [x['val_loss'] for x in outputs]\n",
        "        epoch_loss = torch.stack(batch_losses).mean()   # Combina losses\n",
        "        batch_accs = [x['val_acc'] for x in outputs]\n",
        "        epoch_acc = torch.stack(batch_accs).mean()      # Combina accuracies\n",
        "        return {'val_loss': epoch_loss.item(), 'val_acc': epoch_acc.item()}\n",
        "    \n",
        "    def epoch_end(self, epoch, result):\n",
        "        print(\"Epoch [{}], val_loss: {:.4f}, val_acc: {:.4f}\".format(epoch, result['val_loss'], result['val_acc']))\n",
        "    \n",
        "model = MnistModel()"
      ],
      "execution_count": 45,
      "outputs": []
    },
    {
      "cell_type": "markdown",
      "metadata": {
        "id": "Y-omw1RBfTTZ"
      },
      "source": [
        "Antes de entrenar nuestro nuevo modelo, vamos a ver que resultados obtiene con los pesos y biases inicializados aleatoriamente en la fase inicial."
      ]
    },
    {
      "cell_type": "code",
      "metadata": {
        "colab": {
          "base_uri": "https://localhost:8080/"
        },
        "id": "tNUBy9qTfTTZ",
        "outputId": "b7b3fc3f-d668-4ae2-d3c8-750f5dfc46b1"
      },
      "source": [
        "result0 = evaluate(model, val_loader)\n",
        "result0"
      ],
      "execution_count": 46,
      "outputs": [
        {
          "output_type": "execute_result",
          "data": {
            "text/plain": [
              "{'val_acc': 0.11837420612573624, 'val_loss': 2.2922189235687256}"
            ]
          },
          "metadata": {
            "tags": []
          },
          "execution_count": 46
        }
      ]
    },
    {
      "cell_type": "markdown",
      "metadata": {
        "id": "KapQW0CDfTTZ"
      },
      "source": [
        "La precisión inicial es en torno al 10%, que es lo que uno puede esperar de un modelo aleatorio teniendo en cuenta que tenemos 10 valores posibles de salida ( es decir, una posibilidad entre 10 de acertar al escoger aleatoriamente).\n",
        "\n",
        "Vamos a entrenar ahora el modelo. Configuramos 5 epochs inicialmente y observamos los resultados"
      ]
    },
    {
      "cell_type": "code",
      "metadata": {
        "colab": {
          "base_uri": "https://localhost:8080/"
        },
        "id": "MQRahsa6fTTZ",
        "outputId": "78d5312b-9922-4397-89d7-9ce0f7d38bc7"
      },
      "source": [
        "history1 = fit(5, 0.001, model, train_loader, val_loader)"
      ],
      "execution_count": 47,
      "outputs": [
        {
          "output_type": "stream",
          "text": [
            "Epoch [0], val_loss: 1.9317, val_acc: 0.6368\n",
            "Epoch [1], val_loss: 1.6676, val_acc: 0.7388\n",
            "Epoch [2], val_loss: 1.4696, val_acc: 0.7703\n",
            "Epoch [3], val_loss: 1.3198, val_acc: 0.7872\n",
            "Epoch [4], val_loss: 1.2044, val_acc: 0.7993\n"
          ],
          "name": "stdout"
        }
      ]
    },
    {
      "cell_type": "markdown",
      "metadata": {
        "id": "5mcIbHuKfTTa"
      },
      "source": [
        "Ahora tenemos un gran resultado! Simplemente hemos entrenado 5 ciclos y ya estamos en torno al 80% en el validation set. Veamos si epodemos mejorar más entrenando algunos ciclos más. Prueba a cambiar el número de ciclos o learning rate en las celdas siguientes y observa los resultados."
      ]
    },
    {
      "cell_type": "code",
      "metadata": {
        "colab": {
          "base_uri": "https://localhost:8080/"
        },
        "id": "cJvMd9CufTTa",
        "outputId": "d0659524-b22a-4a35-87ad-5dedec5942bf"
      },
      "source": [
        "history2 = fit(10, 0.001, model, train_loader, val_loader)"
      ],
      "execution_count": 48,
      "outputs": [
        {
          "output_type": "stream",
          "text": [
            "Epoch [0], val_loss: 1.1139, val_acc: 0.8071\n",
            "Epoch [1], val_loss: 1.0412, val_acc: 0.8137\n",
            "Epoch [2], val_loss: 0.9817, val_acc: 0.8196\n",
            "Epoch [3], val_loss: 0.9322, val_acc: 0.8236\n",
            "Epoch [4], val_loss: 0.8904, val_acc: 0.8276\n",
            "Epoch [5], val_loss: 0.8547, val_acc: 0.8316\n",
            "Epoch [6], val_loss: 0.8237, val_acc: 0.8340\n",
            "Epoch [7], val_loss: 0.7966, val_acc: 0.8372\n",
            "Epoch [8], val_loss: 0.7727, val_acc: 0.8396\n",
            "Epoch [9], val_loss: 0.7514, val_acc: 0.8416\n"
          ],
          "name": "stdout"
        }
      ]
    },
    {
      "cell_type": "code",
      "metadata": {
        "colab": {
          "base_uri": "https://localhost:8080/"
        },
        "id": "hON9V8GBfTTa",
        "outputId": "74b684fe-790d-41f3-f136-7b5cf90a6e0b"
      },
      "source": [
        "history3 = fit(10, 0.001, model, train_loader, val_loader)"
      ],
      "execution_count": 49,
      "outputs": [
        {
          "output_type": "stream",
          "text": [
            "Epoch [0], val_loss: 0.7323, val_acc: 0.8432\n",
            "Epoch [1], val_loss: 0.7151, val_acc: 0.8451\n",
            "Epoch [2], val_loss: 0.6995, val_acc: 0.8469\n",
            "Epoch [3], val_loss: 0.6853, val_acc: 0.8484\n",
            "Epoch [4], val_loss: 0.6722, val_acc: 0.8502\n",
            "Epoch [5], val_loss: 0.6602, val_acc: 0.8511\n",
            "Epoch [6], val_loss: 0.6491, val_acc: 0.8530\n",
            "Epoch [7], val_loss: 0.6388, val_acc: 0.8539\n",
            "Epoch [8], val_loss: 0.6293, val_acc: 0.8550\n",
            "Epoch [9], val_loss: 0.6203, val_acc: 0.8560\n"
          ],
          "name": "stdout"
        }
      ]
    },
    {
      "cell_type": "code",
      "metadata": {
        "colab": {
          "base_uri": "https://localhost:8080/"
        },
        "id": "V5ALmwZjfTTa",
        "outputId": "73d1c652-5d8b-4288-fa4b-f1e48dd829d2"
      },
      "source": [
        "history4 = fit(15, 0.0001, model, train_loader, val_loader)"
      ],
      "execution_count": 50,
      "outputs": [
        {
          "output_type": "stream",
          "text": [
            "Epoch [0], val_loss: 0.6195, val_acc: 0.8563\n",
            "Epoch [1], val_loss: 0.6186, val_acc: 0.8565\n",
            "Epoch [2], val_loss: 0.6178, val_acc: 0.8566\n",
            "Epoch [3], val_loss: 0.6169, val_acc: 0.8566\n",
            "Epoch [4], val_loss: 0.6161, val_acc: 0.8568\n",
            "Epoch [5], val_loss: 0.6153, val_acc: 0.8568\n",
            "Epoch [6], val_loss: 0.6144, val_acc: 0.8569\n",
            "Epoch [7], val_loss: 0.6136, val_acc: 0.8572\n",
            "Epoch [8], val_loss: 0.6128, val_acc: 0.8572\n",
            "Epoch [9], val_loss: 0.6120, val_acc: 0.8572\n",
            "Epoch [10], val_loss: 0.6112, val_acc: 0.8573\n",
            "Epoch [11], val_loss: 0.6104, val_acc: 0.8575\n",
            "Epoch [12], val_loss: 0.6096, val_acc: 0.8575\n",
            "Epoch [13], val_loss: 0.6088, val_acc: 0.8575\n",
            "Epoch [14], val_loss: 0.6080, val_acc: 0.8576\n"
          ],
          "name": "stdout"
        }
      ]
    },
    {
      "cell_type": "markdown",
      "metadata": {
        "id": "sCm1903IfTTa"
      },
      "source": [
        "Aunque la precisión va mejorando cuando continuamos el entrenamiento, las mejoras son cada vez más pequeñas. \r\n",
        "\r\n",
        "Veamos esto en un gráfico:\r\n"
      ]
    },
    {
      "cell_type": "code",
      "metadata": {
        "colab": {
          "base_uri": "https://localhost:8080/",
          "height": 295
        },
        "id": "swNRQSa0fTTa",
        "outputId": "2ebf040e-db4a-45f9-9415-df8d5f720732"
      },
      "source": [
        "history = [result0] + history1 + history2 + history3 + history4\n",
        "accuracies = [result['val_acc'] for result in history]\n",
        "plt.plot(accuracies, '-x')\n",
        "plt.xlabel('epoch')\n",
        "plt.ylabel('accuracy')\n",
        "plt.title('Accuracy vs. No. of epochs');"
      ],
      "execution_count": null,
      "outputs": [
        {
          "output_type": "display_data",
          "data": {
            "image/png": "[encoded data removed]",
            "text/plain": [
              "<Figure size 432x288 with 1 Axes>"
            ]
          },
          "metadata": {
            "tags": [],
            "needs_background": "light"
          }
        }
      ]
    },
    {
      "cell_type": "markdown",
      "metadata": {
        "id": "G-a7zRGxfTTa"
      },
      "source": [
        "A la vista de los resultados obtenidos y del gráfico, se aprecia fácilmente que probablemente nuestro modelo no pueda ir mucho más allá dde un 905 de precisión, incluso después de entrenar bastantes ciclos. Una posible explicación para esto es que tengamos una tasa de aprendizaje (_learning rate_) alta y sea muy dificil acceder a esas pequeñas mejoras debido al tamaño del  \"paso\" (recordemos el gráfico de la curva del error y el gradiente). Los valores obtenidos pueden estar dando vueltas alrededor del punto óptimo con el mínimo error. Se debe probar diferentes tasas de aprendizaje durante más ciclos de entrenamiento para observar si eso mejora. \n",
        "\n",
        "Sin embargo, otra razón, probablemente más importante es que **el modelo no es lo bastante potente**. Si recordamos la hipótesis inicial planteada al plantear el modelo, hemos asumido que la salida (en este caso las probabilidades de cada clase de salida) es una **función lineal** de las entradas (intensidades de los píxels), ponderadas por unos pesos y on un factor de ajuste al que llamamos bias. Pero eso es una presunción muy débil, pues no tiene porqué existir una relacion lineal entre la intensidad de los píxels en una imagen y el número que representan. Es por ello que aunque funciona razonablemente bien con un pequeño conjunto como MNIST (se ha obtenido en torno al 85%), necesitaremos modelos más sofísticados que sean capaces de captar también relaciones no lineales entre las variables de entrada y sus etiquetas, de forma que puedan ser aplicados en tareas más complejas como clasificación avanzada, reconocimiento de objetos, personas, etc.\n"
      ]
    },
    {
      "cell_type": "markdown",
      "metadata": {
        "id": "HXgOorOIfTTa"
      },
      "source": [
        "## Probando con imágenes individuales"
      ]
    },
    {
      "cell_type": "markdown",
      "metadata": {
        "id": "_qUQKIJefTTa"
      },
      "source": [
        "Una vez que hemos explorado los resultados y la precisión del modelo entrenado, también es necesario ver que resultados produce sobre imágenes nuevas. \r\n",
        "Vamos a probar el modelo con algunas del conjunto de test de 10000 imágenes que como sabemos, no ha intervenido en ningun momento en el entrenamiento. Empezaremos por generar el test dataset empleando el metodo transform de `ToTensor`."
      ]
    },
    {
      "cell_type": "code",
      "metadata": {
        "id": "KqcHUQK3fTTa"
      },
      "source": [
        "# Define test dataset\n",
        "test_dataset = MNIST(root='data/', \n",
        "                     train=False,\n",
        "                     transform=transforms.ToTensor())"
      ],
      "execution_count": 51,
      "outputs": []
    },
    {
      "cell_type": "markdown",
      "metadata": {
        "id": "Sw9J_viefTTa"
      },
      "source": [
        "Revisamos algun eejemplo del conjunto test. "
      ]
    },
    {
      "cell_type": "code",
      "metadata": {
        "colab": {
          "base_uri": "https://localhost:8080/",
          "height": 299
        },
        "id": "yzEdFHq6fTTa",
        "outputId": "4a42c8e7-41d0-4e26-e197-4f232c468260"
      },
      "source": [
        "img, label = test_dataset[10]\n",
        "plt.imshow(img[0], cmap='gray')\n",
        "print('Shape:', img.shape)\n",
        "print('Label:', label)"
      ],
      "execution_count": 52,
      "outputs": [
        {
          "output_type": "stream",
          "text": [
            "Shape: torch.Size([1, 28, 28])\n",
            "Label: 0\n"
          ],
          "name": "stdout"
        },
        {
          "output_type": "display_data",
          "data": {
            "image/png": "[encoded data removed]",
            "text/plain": [
              "<Figure size 432x288 with 1 Axes>"
            ]
          },
          "metadata": {
            "tags": [],
            "needs_background": "light"
          }
        }
      ]
    },
    {
      "cell_type": "markdown",
      "metadata": {
        "id": "QgwbsDUjfTTa"
      },
      "source": [
        "Podemos ahora definir una función auxiliar `predict_image`, que devolverá la etiqueta obtenida para una sola imagen, proporcionada en un tensor individual. "
      ]
    },
    {
      "cell_type": "code",
      "metadata": {
        "id": "9FfeYQaOfTTa"
      },
      "source": [
        "def predict_image(img, model):\n",
        "    xb = img.unsqueeze(0)\n",
        "    yb = model(xb)\n",
        "    _, preds = torch.max(yb, dim=1)\n",
        "    return preds[0].item()"
      ],
      "execution_count": 53,
      "outputs": []
    },
    {
      "cell_type": "markdown",
      "metadata": {
        "id": "9ppgosBYfTTa"
      },
      "source": [
        "`img.unsqueeze` lo que hace es añadir una dimensión adicional al principio del tensor de la imagen 1x28x28, convirtiendolo en un tensor de 1x1x28x28, que el modelo interpretarla como un lote conteniendo una sola imagen\n",
        "\n",
        "Probamos con varias imágenes: "
      ]
    },
    {
      "cell_type": "code",
      "metadata": {
        "colab": {
          "base_uri": "https://localhost:8080/",
          "height": 282
        },
        "id": "sPNcp52ifTTa",
        "outputId": "2cdae469-639b-4235-8a51-8793133faf9e"
      },
      "source": [
        "img, label = test_dataset[0]\n",
        "plt.imshow(img[0], cmap='gray')\n",
        "print('Label:', label, ', Predicted:', predict_image(img, model))"
      ],
      "execution_count": 54,
      "outputs": [
        {
          "output_type": "stream",
          "text": [
            "Label: 7 , Predicted: 7\n"
          ],
          "name": "stdout"
        },
        {
          "output_type": "display_data",
          "data": {
            "image/png": "[encoded data removed]",
            "text/plain": [
              "<Figure size 432x288 with 1 Axes>"
            ]
          },
          "metadata": {
            "tags": [],
            "needs_background": "light"
          }
        }
      ]
    },
    {
      "cell_type": "code",
      "metadata": {
        "colab": {
          "base_uri": "https://localhost:8080/",
          "height": 282
        },
        "id": "Nrj-w1COfTTa",
        "outputId": "1eb57a47-dc36-419a-a75f-3c770cc61aed"
      },
      "source": [
        "img, label = test_dataset[10]\n",
        "plt.imshow(img[0], cmap='gray')\n",
        "print('Label:', label, ', Predicted:', predict_image(img, model))"
      ],
      "execution_count": 55,
      "outputs": [
        {
          "output_type": "stream",
          "text": [
            "Label: 0 , Predicted: 0\n"
          ],
          "name": "stdout"
        },
        {
          "output_type": "display_data",
          "data": {
            "image/png": "[encoded data removed]",
            "text/plain": [
              "<Figure size 432x288 with 1 Axes>"
            ]
          },
          "metadata": {
            "tags": [],
            "needs_background": "light"
          }
        }
      ]
    },
    {
      "cell_type": "code",
      "metadata": {
        "colab": {
          "base_uri": "https://localhost:8080/",
          "height": 282
        },
        "id": "EPrF7gB4fTTb",
        "outputId": "10b0327d-1dd9-4648-aa8d-a1df912b807f"
      },
      "source": [
        "img, label = test_dataset[193]\n",
        "plt.imshow(img[0], cmap='gray')\n",
        "print('Label:', label, ', Predicted:', predict_image(img, model))"
      ],
      "execution_count": 56,
      "outputs": [
        {
          "output_type": "stream",
          "text": [
            "Label: 9 , Predicted: 9\n"
          ],
          "name": "stdout"
        },
        {
          "output_type": "display_data",
          "data": {
            "image/png": "[encoded data removed]",
            "text/plain": [
              "<Figure size 432x288 with 1 Axes>"
            ]
          },
          "metadata": {
            "tags": [],
            "needs_background": "light"
          }
        }
      ]
    },
    {
      "cell_type": "code",
      "metadata": {
        "colab": {
          "base_uri": "https://localhost:8080/",
          "height": 282
        },
        "id": "eetYJdoFfTTb",
        "outputId": "52c3c2c8-40d4-4a09-e856-ab44595f34d7"
      },
      "source": [
        "img, label = test_dataset[1839]\n",
        "plt.imshow(img[0], cmap='gray')\n",
        "print('Label:', label, ', Predicted:', predict_image(img, model))"
      ],
      "execution_count": 57,
      "outputs": [
        {
          "output_type": "stream",
          "text": [
            "Label: 2 , Predicted: 8\n"
          ],
          "name": "stdout"
        },
        {
          "output_type": "display_data",
          "data": {
            "image/png": "[encoded data removed]",
            "text/plain": [
              "<Figure size 432x288 with 1 Axes>"
            ]
          },
          "metadata": {
            "tags": [],
            "needs_background": "light"
          }
        }
      ]
    },
    {
      "cell_type": "markdown",
      "metadata": {
        "id": "jQ6Wsk4TfTTb"
      },
      "source": [
        "Identificando donde lo hace peor nuestro modelo nos puede orientar a mejorar el modelo bien recogiendo más datos de entrenamiento, ajaustando los hiperparámetros, incrementando/ o reduciendo la complejidad del modelo, etc.\n",
        "\n",
        "Como paso final, vamos a obtener los valores de loss y accuracy del modelo sobre todo el conjunto de test. "
      ]
    },
    {
      "cell_type": "code",
      "metadata": {
        "colab": {
          "base_uri": "https://localhost:8080/"
        },
        "id": "6bdjaeG-fTTb",
        "outputId": "10cb383c-67aa-42a5-f944-72f5f07da032"
      },
      "source": [
        "test_loader = DataLoader(test_dataset, batch_size=256)\n",
        "result = evaluate(model, test_loader)\n",
        "result"
      ],
      "execution_count": 58,
      "outputs": [
        {
          "output_type": "execute_result",
          "data": {
            "text/plain": [
              "{'val_acc': 0.8681640625, 'val_loss': 0.5735012292861938}"
            ]
          },
          "metadata": {
            "tags": []
          },
          "execution_count": 58
        }
      ]
    },
    {
      "cell_type": "markdown",
      "metadata": {
        "id": "pfe2IzF3fTTb"
      },
      "source": [
        "Lso resultados obtenidos con el conjunto de test nos pueden orientar sobre las  formas de afrontar una mejora. Si los resultados son muy distintos, es posible que el conjunto de test no esté correctamente muestreado y por tanto no tenga similar distribución a los empleados en el entrenamiento. También se pueden detectar situaciones de sobreajuste en el entrenamiento. En general, valores similares en entrenamiento y test indican que al menos metodológicamente el modelo está bien planteado, si bien puede necesitar mejoras en parámetros, arquitectura, etc. para aumentar sus resultados."
      ]
    },
    {
      "cell_type": "markdown",
      "metadata": {
        "id": "TqC3HEZJfTTb"
      },
      "source": [
        "## Salvar y cargar el modelo"
      ]
    },
    {
      "cell_type": "markdown",
      "metadata": {
        "id": "KyE7vx_zfTTb"
      },
      "source": [
        "Una vez entrenado el modelo (lo cual puede haber requerido mucho tiempo) y obtenido unos resultados aceptables, es importante poder guardar los pesos y biases obtenidos, de forma que podamos recuperarlos y reutilizarlos cuando queramos, evitando así tener que reentrenar desde cero. \r\n",
        "\r\n",
        "Una forma de grabar el modelo será la siguiente:"
      ]
    },
    {
      "cell_type": "code",
      "metadata": {
        "id": "xESC-106fTTb"
      },
      "source": [
        "torch.save(model.state_dict(), 'mnist-logistic.pth')"
      ],
      "execution_count": 59,
      "outputs": []
    },
    {
      "cell_type": "markdown",
      "metadata": {
        "id": "CAHSyFLPfTTb"
      },
      "source": [
        "El método `.state_dict` retorna un `OrderedDict` conteniendo las matrices con los pesos y biases mapeados del modelo que hemos especificado. "
      ]
    },
    {
      "cell_type": "code",
      "metadata": {
        "colab": {
          "base_uri": "https://localhost:8080/"
        },
        "id": "elbp48SCfTTb",
        "outputId": "49a877f9-2714-49e2-f7b9-279d30b0db6e"
      },
      "source": [
        "model.state_dict()"
      ],
      "execution_count": 60,
      "outputs": [
        {
          "output_type": "execute_result",
          "data": {
            "text/plain": [
              "OrderedDict([('linear.weight',\n",
              "              tensor([[-0.0336, -0.0045,  0.0063,  ..., -0.0064,  0.0209, -0.0070],\n",
              "                      [-0.0059, -0.0071,  0.0048,  ..., -0.0297, -0.0181, -0.0351],\n",
              "                      [-0.0041, -0.0023,  0.0307,  ..., -0.0100, -0.0277,  0.0215],\n",
              "                      ...,\n",
              "                      [-0.0054, -0.0341,  0.0073,  ...,  0.0156,  0.0229, -0.0054],\n",
              "                      [-0.0294, -0.0131, -0.0054,  ...,  0.0030, -0.0170,  0.0008],\n",
              "                      [-0.0244,  0.0300,  0.0175,  ...,  0.0094, -0.0264,  0.0123]])),\n",
              "             ('linear.bias',\n",
              "              tensor([-0.0595,  0.1336, -0.0386, -0.0632,  0.0444,  0.0861,  0.0141,  0.0418,\n",
              "                      -0.0832, -0.0042]))])"
            ]
          },
          "metadata": {
            "tags": []
          },
          "execution_count": 60
        }
      ]
    },
    {
      "cell_type": "markdown",
      "metadata": {
        "id": "5PKRLwDPV3nK"
      },
      "source": [
        "**NOTA IMPORTANTE**: si ejecutas el método `torch.sav`en Colab, el fichero generado se graba temporalmente en el directorio de datos del cuaderno. Será necesario descargarlo a un equipo local o trasladarlo a otra ubicación permanente o se perderá cuando finalicemos la sesión. "
      ]
    },
    {
      "cell_type": "markdown",
      "metadata": {
        "id": "Qc9kRTDpfTTb"
      },
      "source": [
        "Para cargar los parámetros del modelo, podemos instanciar un nuevo objeto de la clase inicial `MnistModel`, y a continuación emplear el método `.load_state_dict`."
      ]
    },
    {
      "cell_type": "code",
      "metadata": {
        "id": "OO666r7_1rbW"
      },
      "source": [
        "model2 = MnistModel()"
      ],
      "execution_count": 61,
      "outputs": []
    },
    {
      "cell_type": "code",
      "metadata": {
        "colab": {
          "base_uri": "https://localhost:8080/"
        },
        "id": "aUvYwe4Q1six",
        "outputId": "d75b5187-ef76-43b5-92d1-92fd91ba7718"
      },
      "source": [
        "# inicalmente los parámetros son los que se han adjudicado aleatoriamente al instanciar el objeto\r\n",
        "model2.state_dict()"
      ],
      "execution_count": 62,
      "outputs": [
        {
          "output_type": "execute_result",
          "data": {
            "text/plain": [
              "OrderedDict([('linear.weight',\n",
              "              tensor([[-0.0175, -0.0159, -0.0026,  ..., -0.0044,  0.0047,  0.0137],\n",
              "                      [ 0.0074, -0.0178,  0.0313,  ...,  0.0169, -0.0295,  0.0166],\n",
              "                      [ 0.0315,  0.0341, -0.0114,  ...,  0.0076,  0.0091, -0.0028],\n",
              "                      ...,\n",
              "                      [ 0.0026, -0.0143,  0.0301,  ...,  0.0340,  0.0273, -0.0256],\n",
              "                      [-0.0123, -0.0114,  0.0341,  ..., -0.0149, -0.0232, -0.0185],\n",
              "                      [ 0.0025,  0.0342, -0.0125,  ...,  0.0325,  0.0083,  0.0259]])),\n",
              "             ('linear.bias',\n",
              "              tensor([-0.0171, -0.0126,  0.0228, -0.0236,  0.0322, -0.0208, -0.0101, -0.0127,\n",
              "                       0.0031,  0.0279]))])"
            ]
          },
          "metadata": {
            "tags": []
          },
          "execution_count": 62
        }
      ]
    },
    {
      "cell_type": "code",
      "metadata": {
        "colab": {
          "base_uri": "https://localhost:8080/"
        },
        "id": "gHac9s6e1vyS",
        "outputId": "5cd9e38a-c6e9-402d-fff9-c40973e40875"
      },
      "source": [
        "evaluate(model2, test_loader)"
      ],
      "execution_count": 63,
      "outputs": [
        {
          "output_type": "execute_result",
          "data": {
            "text/plain": [
              "{'val_acc': 0.13437500596046448, 'val_loss': 2.3092026710510254}"
            ]
          },
          "metadata": {
            "tags": []
          },
          "execution_count": 63
        }
      ]
    },
    {
      "cell_type": "code",
      "metadata": {
        "colab": {
          "base_uri": "https://localhost:8080/"
        },
        "id": "bvR1g8ggfTTb",
        "outputId": "a22cd455-fe21-4cc0-88ed-098cfcd8e574"
      },
      "source": [
        "model2.load_state_dict(torch.load('mnist-logistic.pth'))\n",
        "model2.state_dict()"
      ],
      "execution_count": 64,
      "outputs": [
        {
          "output_type": "execute_result",
          "data": {
            "text/plain": [
              "OrderedDict([('linear.weight',\n",
              "              tensor([[-0.0336, -0.0045,  0.0063,  ..., -0.0064,  0.0209, -0.0070],\n",
              "                      [-0.0059, -0.0071,  0.0048,  ..., -0.0297, -0.0181, -0.0351],\n",
              "                      [-0.0041, -0.0023,  0.0307,  ..., -0.0100, -0.0277,  0.0215],\n",
              "                      ...,\n",
              "                      [-0.0054, -0.0341,  0.0073,  ...,  0.0156,  0.0229, -0.0054],\n",
              "                      [-0.0294, -0.0131, -0.0054,  ...,  0.0030, -0.0170,  0.0008],\n",
              "                      [-0.0244,  0.0300,  0.0175,  ...,  0.0094, -0.0264,  0.0123]])),\n",
              "             ('linear.bias',\n",
              "              tensor([-0.0595,  0.1336, -0.0386, -0.0632,  0.0444,  0.0861,  0.0141,  0.0418,\n",
              "                      -0.0832, -0.0042]))])"
            ]
          },
          "metadata": {
            "tags": []
          },
          "execution_count": 64
        }
      ]
    },
    {
      "cell_type": "markdown",
      "metadata": {
        "id": "zhjBm4BMfTTb"
      },
      "source": [
        "Podemos comprobar que los parámetros que tenemos son los que habiamos grabado, y comprobamos que obtenemos en los mismos resultados de loss y accuracy en el conjunto de test, igual que antes."
      ]
    },
    {
      "cell_type": "code",
      "metadata": {
        "colab": {
          "base_uri": "https://localhost:8080/"
        },
        "id": "UynZ4aSLfTTb",
        "outputId": "e57a560f-c8ff-418d-a485-61ade1b36977"
      },
      "source": [
        "test_loader = DataLoader(test_dataset, batch_size=256)\n",
        "result = evaluate(model2, test_loader)\n",
        "result"
      ],
      "execution_count": 65,
      "outputs": [
        {
          "output_type": "execute_result",
          "data": {
            "text/plain": [
              "{'val_acc': 0.8681640625, 'val_loss': 0.5735012292861938}"
            ]
          },
          "metadata": {
            "tags": []
          },
          "execution_count": 65
        }
      ]
    },
    {
      "cell_type": "markdown",
      "metadata": {
        "id": "Mnz8WyThaPOP"
      },
      "source": [
        "Observamos que los valores obtenidos son exactamente los mismos que obtuvimos al realizar la evaluación con el modelo `model` varias celdas más arriba, lo cual indica que los pesos se han cargado correctamente y que nuestro `modelo2` lo está haciendo tan bien como el modelo original de donde proceden los valores de los parámetros. "
      ]
    },
    {
      "cell_type": "markdown",
      "metadata": {
        "id": "n2QOf-HEltUP"
      },
      "source": [
        "## Fin del Notebook"
      ]
    },
    {
      "cell_type": "markdown",
      "metadata": {
        "id": "BZDr1zYmBkRV"
      },
      "source": [
        "Referencias y modelos empleados para el Notebook: \r\n",
        "\r\n",
        "*   Documentación de [Pytorch](https://pytorch.org/docs/stable/index.html) \r\n",
        "*   [PyTorch Tutorial for Deep Learning Researchers](https://github.com/yunjey/pytorch-tutorial) by Yunjey Choi\r\n",
        "*   [FastAI](https://www.fast.ai/) development notebooks by Jeremy Howard.\r\n",
        "*   Documentación y cursos en [Pierian Data](https://www.pieriandata.com/)\r\n",
        "*   Tutoriales y notebooks del curso \"Deep Learning with Pytorch: Zero to GANs\" de [Aakash N S](https://jovian.ai/aakashns)\r\n",
        "\r\n",
        "\r\n",
        "\r\n"
      ]
    }
  ]
}