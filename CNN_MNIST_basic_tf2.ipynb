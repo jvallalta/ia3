{
  "nbformat": 4,
  "nbformat_minor": 0,
  "metadata": {
    "colab": {
      "name": "CNN_MNIST_basic_tf2.ipynb",
      "provenance": [],
      "include_colab_link": true
    },
    "kernelspec": {
      "name": "python3",
      "display_name": "Python 3"
    },
    "accelerator": "GPU"
  },
  "cells": [
    {
      "cell_type": "markdown",
      "metadata": {
        "id": "view-in-github",
        "colab_type": "text"
      },
      "source": [
        "<a href=\"https://colab.research.google.com/github/jvallalta/ia3/blob/main/CNN_MNIST_basic_tf2.ipynb\" target=\"_parent\"><img src=\"https://colab.research.google.com/assets/colab-badge.svg\" alt=\"Open In Colab\"/></a>"
      ]
    },
    {
      "cell_type": "markdown",
      "metadata": {
        "id": "uWufgzw_tf20"
      },
      "source": [
        "# Ejemplo de uso de CNN\n",
        "# en los datos de MNIST"
      ]
    },
    {
      "cell_type": "markdown",
      "metadata": {
        "id": "RvUnVwrNtnuY"
      },
      "source": [
        "leemos los datos"
      ]
    },
    {
      "cell_type": "code",
      "metadata": {
        "id": "GJzzBMOltfOb",
        "colab": {
          "base_uri": "https://localhost:8080/"
        },
        "outputId": "400d36fd-15b2-4dbb-953f-820f5b12479d"
      },
      "source": [
        "from keras.datasets import mnist\n",
        "\n",
        "# descargamos separados en entrenamiento y tes\n",
        "(X_train, y_train), (X_test, y_test) = mnist.load_data()"
      ],
      "execution_count": 1,
      "outputs": [
        {
          "output_type": "stream",
          "text": [
            "Downloading data from https://storage.googleapis.com/tensorflow/tf-keras-datasets/mnist.npz\n",
            "11493376/11490434 [==============================] - 0s 0us/step\n"
          ],
          "name": "stdout"
        }
      ]
    },
    {
      "cell_type": "code",
      "metadata": {
        "id": "CVrsjJ0ypgKS",
        "colab": {
          "base_uri": "https://localhost:8080/"
        },
        "outputId": "9665fbe8-a102-4103-ddbf-2784ca04bbbd"
      },
      "source": [
        "# tamaño de los datos\n",
        "print(X_train.shape)\n",
        "print(y_train.shape)"
      ],
      "execution_count": 2,
      "outputs": [
        {
          "output_type": "stream",
          "text": [
            "(60000, 28, 28)\n",
            "(60000,)\n"
          ],
          "name": "stdout"
        }
      ]
    },
    {
      "cell_type": "markdown",
      "metadata": {
        "id": "IGu7xoCJtqnG"
      },
      "source": [
        "Vemos una imagen"
      ]
    },
    {
      "cell_type": "code",
      "metadata": {
        "id": "idhLs1p7ngXV",
        "colab": {
          "base_uri": "https://localhost:8080/",
          "height": 282
        },
        "outputId": "0c3493da-1711-4160-b7ab-148b0f94e3e9"
      },
      "source": [
        "import matplotlib.pyplot as plt\n",
        "\n",
        "#plot the first image in the dataset\n",
        "plt.imshow(X_train[0,:,:],cmap='gray')\n",
        "\n",
        "# Mostramos la etiqueta de la imagen\n",
        "print(y_train[0])"
      ],
      "execution_count": 3,
      "outputs": [
        {
          "output_type": "stream",
          "text": [
            "5\n"
          ],
          "name": "stdout"
        },
        {
          "output_type": "display_data",
          "data": {
            "image/png": "[encoded data removed]",
            "text/plain": [
              "<Figure size 432x288 with 1 Axes>"
            ]
          },
          "metadata": {
            "tags": [],
            "needs_background": "light"
          }
        }
      ]
    },
    {
      "cell_type": "markdown",
      "metadata": {
        "id": "j78jBp5OttjT"
      },
      "source": [
        "Reordenamos los datos para que tengan \n",
        "(Nº muestras, alto, lado, canales)"
      ]
    },
    {
      "cell_type": "code",
      "metadata": {
        "id": "1wljVbn9nkLF"
      },
      "source": [
        "X_train = X_train.reshape(60000,28,28,1)\n",
        "X_test = X_test.reshape(10000,28,28,1)"
      ],
      "execution_count": 4,
      "outputs": []
    },
    {
      "cell_type": "markdown",
      "metadata": {
        "id": "ENs3C1Ykt77G"
      },
      "source": [
        "Separamos train y test"
      ]
    },
    {
      "cell_type": "code",
      "metadata": {
        "id": "KpM0Nmk6pS7B"
      },
      "source": [
        "X_train = X_train[0:1000,:,:,:]\n",
        "X_test = X_test[0:1000,:,:,:]\n",
        "y_train = y_train[0:1000]\n",
        "y_test = y_test[0:1000]"
      ],
      "execution_count": 5,
      "outputs": []
    },
    {
      "cell_type": "code",
      "metadata": {
        "id": "T98bWv3Pw9k2",
        "colab": {
          "base_uri": "https://localhost:8080/"
        },
        "outputId": "91dfea91-d4cb-418d-80ac-ddb8a6887049"
      },
      "source": [
        "print(X_train.shape)\n",
        "print(y_train.shape)"
      ],
      "execution_count": 6,
      "outputs": [
        {
          "output_type": "stream",
          "text": [
            "(1000, 28, 28, 1)\n",
            "(1000,)\n"
          ],
          "name": "stdout"
        }
      ]
    },
    {
      "cell_type": "markdown",
      "metadata": {
        "id": "bb48aR6zt-Ty"
      },
      "source": [
        "Hacemos el one-hot encoding a las salidas"
      ]
    },
    {
      "cell_type": "code",
      "metadata": {
        "id": "0sE_9bAEnsmw"
      },
      "source": [
        "from keras.utils import to_categorical\n",
        "\n",
        "# me guardo los y_train antes de hacer el one-hot\n",
        "y_train_old = y_train\n",
        "\n",
        "y_train = to_categorical(y_train)\n",
        "y_test = to_categorical(y_test)"
      ],
      "execution_count": 7,
      "outputs": []
    },
    {
      "cell_type": "code",
      "metadata": {
        "id": "o7vWhloYw7Mu",
        "colab": {
          "base_uri": "https://localhost:8080/"
        },
        "outputId": "ea213269-1422-4f54-a8d4-90c1fd0b9b27"
      },
      "source": [
        "print(y_train.shape)"
      ],
      "execution_count": 9,
      "outputs": [
        {
          "output_type": "stream",
          "text": [
            "(1000, 10)\n"
          ],
          "name": "stdout"
        }
      ]
    },
    {
      "cell_type": "code",
      "metadata": {
        "id": "df345MuCr0xl",
        "colab": {
          "base_uri": "https://localhost:8080/"
        },
        "outputId": "9cfb1160-426f-4baa-e7f5-bef2430df358"
      },
      "source": [
        "\n",
        "y_train.dtype"
      ],
      "execution_count": 10,
      "outputs": [
        {
          "output_type": "execute_result",
          "data": {
            "text/plain": [
              "dtype('float32')"
            ]
          },
          "metadata": {
            "tags": []
          },
          "execution_count": 10
        }
      ]
    },
    {
      "cell_type": "code",
      "metadata": {
        "id": "lUifyzb9rD0g",
        "colab": {
          "base_uri": "https://localhost:8080/"
        },
        "outputId": "5885e965-49e0-48be-cf01-f2ff0cdb4a7b"
      },
      "source": [
        "# Lo que antes era \n",
        "print(y_train_old[0,])\n",
        "# Ahora es\n",
        "print(y_train[0,:])"
      ],
      "execution_count": 11,
      "outputs": [
        {
          "output_type": "stream",
          "text": [
            "5\n",
            "[0. 0. 0. 0. 0. 1. 0. 0. 0. 0.]\n"
          ],
          "name": "stdout"
        }
      ]
    },
    {
      "cell_type": "markdown",
      "metadata": {
        "id": "ZglnkqcWuCqV"
      },
      "source": [
        "Definimos el modelo"
      ]
    },
    {
      "cell_type": "code",
      "metadata": {
        "id": "uQHWqWS5nt6y"
      },
      "source": [
        "from keras.models import Sequential\n",
        "from keras.layers import Dense, Conv2D, Flatten, Dropout, BatchNormalization\n",
        "\n",
        "# Usamos un modelo secuencial\n",
        "model = Sequential()\n",
        "\n",
        "# ponemos dos capas de convolución, una flatten y una densa\n",
        "model.add(Conv2D(26, kernel_size=3, activation='relu', input_shape=(28,28,1), padding='valid'))\n",
        "#model.add(Dropout(0.5))\n",
        "model.add(Conv2D(24, kernel_size=3, activation='relu'))\n",
        "#model.add(BatchNormalization())\n",
        "#model.add(Conv2D(32, kernel_size=7, activation='relu'))\n",
        "model.add(Flatten())\n",
        "model.add(Dense(10, activation='softmax'))"
      ],
      "execution_count": 12,
      "outputs": []
    },
    {
      "cell_type": "code",
      "metadata": {
        "id": "GVLSUIGSuJ4i",
        "colab": {
          "base_uri": "https://localhost:8080/"
        },
        "outputId": "1410fae0-180b-42d6-c241-c78aba7482ec"
      },
      "source": [
        "model.summary()"
      ],
      "execution_count": 13,
      "outputs": [
        {
          "output_type": "stream",
          "text": [
            "Model: \"sequential\"\n",
            "_________________________________________________________________\n",
            "Layer (type)                 Output Shape              Param #   \n",
            "=================================================================\n",
            "conv2d (Conv2D)              (None, 26, 26, 26)        260       \n",
            "_________________________________________________________________\n",
            "conv2d_1 (Conv2D)            (None, 24, 24, 24)        5640      \n",
            "_________________________________________________________________\n",
            "flatten (Flatten)            (None, 13824)             0         \n",
            "_________________________________________________________________\n",
            "dense (Dense)                (None, 10)                138250    \n",
            "=================================================================\n",
            "Total params: 144,150\n",
            "Trainable params: 144,150\n",
            "Non-trainable params: 0\n",
            "_________________________________________________________________\n"
          ],
          "name": "stdout"
        }
      ]
    },
    {
      "cell_type": "code",
      "metadata": {
        "id": "ZQM0m-DouJvu"
      },
      "source": [
        ""
      ],
      "execution_count": null,
      "outputs": []
    },
    {
      "cell_type": "markdown",
      "metadata": {
        "id": "t5Ds1LrCuFpd"
      },
      "source": [
        "Se compila el modelo poniendo el optimizador, la funcióón de perdidas y si queremos una métrica"
      ]
    },
    {
      "cell_type": "code",
      "metadata": {
        "id": "Uqup8SlMnwU0"
      },
      "source": [
        "model.compile(optimizer='adam', loss='categorical_crossentropy', metrics=['accuracy'])"
      ],
      "execution_count": 14,
      "outputs": []
    },
    {
      "cell_type": "markdown",
      "metadata": {
        "id": "tPlZ_TUCwDhF"
      },
      "source": [
        "Entrenamos..."
      ]
    },
    {
      "cell_type": "code",
      "metadata": {
        "id": "LjNKLB6Tn7gR",
        "colab": {
          "base_uri": "https://localhost:8080/"
        },
        "outputId": "8f1844fd-ae88-4ae0-c89b-e41927e70843"
      },
      "source": [
        "hist = model.fit(X_train, y_train, validation_data=(X_test, y_test), epochs=50)"
      ],
      "execution_count": 19,
      "outputs": [
        {
          "output_type": "stream",
          "text": [
            "Epoch 1/50\n",
            "32/32 [==============================] - 0s 8ms/step - loss: 7.8224 - accuracy: 0.6010 - val_loss: 0.7066 - val_accuracy: 0.7800\n",
            "Epoch 2/50\n",
            "32/32 [==============================] - 0s 6ms/step - loss: 0.2474 - accuracy: 0.9270 - val_loss: 0.4781 - val_accuracy: 0.8610\n",
            "Epoch 3/50\n",
            "32/32 [==============================] - 0s 6ms/step - loss: 0.0612 - accuracy: 0.9850 - val_loss: 0.4374 - val_accuracy: 0.8780\n",
            "Epoch 4/50\n",
            "32/32 [==============================] - 0s 6ms/step - loss: 0.0108 - accuracy: 0.9990 - val_loss: 0.4522 - val_accuracy: 0.8770\n",
            "Epoch 5/50\n",
            "32/32 [==============================] - 0s 6ms/step - loss: 0.0025 - accuracy: 1.0000 - val_loss: 0.4583 - val_accuracy: 0.8840\n",
            "Epoch 6/50\n",
            "32/32 [==============================] - 0s 6ms/step - loss: 0.0014 - accuracy: 1.0000 - val_loss: 0.4595 - val_accuracy: 0.8850\n",
            "Epoch 7/50\n",
            "32/32 [==============================] - 0s 6ms/step - loss: 9.3834e-04 - accuracy: 1.0000 - val_loss: 0.4637 - val_accuracy: 0.8870\n",
            "Epoch 8/50\n",
            "32/32 [==============================] - 0s 6ms/step - loss: 6.7065e-04 - accuracy: 1.0000 - val_loss: 0.4678 - val_accuracy: 0.8860\n",
            "Epoch 9/50\n",
            "32/32 [==============================] - 0s 6ms/step - loss: 5.0069e-04 - accuracy: 1.0000 - val_loss: 0.4730 - val_accuracy: 0.8870\n",
            "Epoch 10/50\n",
            "32/32 [==============================] - 0s 6ms/step - loss: 3.8571e-04 - accuracy: 1.0000 - val_loss: 0.4799 - val_accuracy: 0.8830\n",
            "Epoch 11/50\n",
            "32/32 [==============================] - 0s 6ms/step - loss: 3.0269e-04 - accuracy: 1.0000 - val_loss: 0.4830 - val_accuracy: 0.8840\n",
            "Epoch 12/50\n",
            "32/32 [==============================] - 0s 6ms/step - loss: 2.4287e-04 - accuracy: 1.0000 - val_loss: 0.4870 - val_accuracy: 0.8820\n",
            "Epoch 13/50\n",
            "32/32 [==============================] - 0s 6ms/step - loss: 2.0195e-04 - accuracy: 1.0000 - val_loss: 0.4910 - val_accuracy: 0.8820\n",
            "Epoch 14/50\n",
            "32/32 [==============================] - 0s 6ms/step - loss: 1.7124e-04 - accuracy: 1.0000 - val_loss: 0.4951 - val_accuracy: 0.8810\n",
            "Epoch 15/50\n",
            "32/32 [==============================] - 0s 6ms/step - loss: 1.4324e-04 - accuracy: 1.0000 - val_loss: 0.4976 - val_accuracy: 0.8810\n",
            "Epoch 16/50\n",
            "32/32 [==============================] - 0s 6ms/step - loss: 1.2287e-04 - accuracy: 1.0000 - val_loss: 0.5021 - val_accuracy: 0.8810\n",
            "Epoch 17/50\n",
            "32/32 [==============================] - 0s 6ms/step - loss: 1.0747e-04 - accuracy: 1.0000 - val_loss: 0.5064 - val_accuracy: 0.8800\n",
            "Epoch 18/50\n",
            "32/32 [==============================] - 0s 6ms/step - loss: 9.4050e-05 - accuracy: 1.0000 - val_loss: 0.5105 - val_accuracy: 0.8780\n",
            "Epoch 19/50\n",
            "32/32 [==============================] - 0s 6ms/step - loss: 8.3040e-05 - accuracy: 1.0000 - val_loss: 0.5136 - val_accuracy: 0.8760\n",
            "Epoch 20/50\n",
            "32/32 [==============================] - 0s 6ms/step - loss: 7.4407e-05 - accuracy: 1.0000 - val_loss: 0.5166 - val_accuracy: 0.8760\n",
            "Epoch 21/50\n",
            "32/32 [==============================] - 0s 6ms/step - loss: 6.6499e-05 - accuracy: 1.0000 - val_loss: 0.5199 - val_accuracy: 0.8760\n",
            "Epoch 22/50\n",
            "32/32 [==============================] - 0s 6ms/step - loss: 6.0059e-05 - accuracy: 1.0000 - val_loss: 0.5243 - val_accuracy: 0.8760\n",
            "Epoch 23/50\n",
            "32/32 [==============================] - 0s 6ms/step - loss: 5.4249e-05 - accuracy: 1.0000 - val_loss: 0.5276 - val_accuracy: 0.8780\n",
            "Epoch 24/50\n",
            "32/32 [==============================] - 0s 6ms/step - loss: 4.9356e-05 - accuracy: 1.0000 - val_loss: 0.5325 - val_accuracy: 0.8770\n",
            "Epoch 25/50\n",
            "32/32 [==============================] - 0s 6ms/step - loss: 4.4963e-05 - accuracy: 1.0000 - val_loss: 0.5351 - val_accuracy: 0.8780\n",
            "Epoch 26/50\n",
            "32/32 [==============================] - 0s 6ms/step - loss: 4.1242e-05 - accuracy: 1.0000 - val_loss: 0.5382 - val_accuracy: 0.8760\n",
            "Epoch 27/50\n",
            "32/32 [==============================] - 0s 6ms/step - loss: 3.7972e-05 - accuracy: 1.0000 - val_loss: 0.5409 - val_accuracy: 0.8760\n",
            "Epoch 28/50\n",
            "32/32 [==============================] - 0s 6ms/step - loss: 3.5052e-05 - accuracy: 1.0000 - val_loss: 0.5444 - val_accuracy: 0.8760\n",
            "Epoch 29/50\n",
            "32/32 [==============================] - 0s 6ms/step - loss: 3.2483e-05 - accuracy: 1.0000 - val_loss: 0.5475 - val_accuracy: 0.8760\n",
            "Epoch 30/50\n",
            "32/32 [==============================] - 0s 6ms/step - loss: 3.0243e-05 - accuracy: 1.0000 - val_loss: 0.5508 - val_accuracy: 0.8750\n",
            "Epoch 31/50\n",
            "32/32 [==============================] - 0s 6ms/step - loss: 2.8218e-05 - accuracy: 1.0000 - val_loss: 0.5539 - val_accuracy: 0.8740\n",
            "Epoch 32/50\n",
            "32/32 [==============================] - 0s 6ms/step - loss: 2.6216e-05 - accuracy: 1.0000 - val_loss: 0.5560 - val_accuracy: 0.8740\n",
            "Epoch 33/50\n",
            "32/32 [==============================] - 0s 6ms/step - loss: 2.4515e-05 - accuracy: 1.0000 - val_loss: 0.5597 - val_accuracy: 0.8760\n",
            "Epoch 34/50\n",
            "32/32 [==============================] - 0s 6ms/step - loss: 2.2951e-05 - accuracy: 1.0000 - val_loss: 0.5624 - val_accuracy: 0.8770\n",
            "Epoch 35/50\n",
            "32/32 [==============================] - 0s 6ms/step - loss: 2.1591e-05 - accuracy: 1.0000 - val_loss: 0.5648 - val_accuracy: 0.8770\n",
            "Epoch 36/50\n",
            "32/32 [==============================] - 0s 6ms/step - loss: 2.0311e-05 - accuracy: 1.0000 - val_loss: 0.5665 - val_accuracy: 0.8770\n",
            "Epoch 37/50\n",
            "32/32 [==============================] - 0s 6ms/step - loss: 1.9117e-05 - accuracy: 1.0000 - val_loss: 0.5696 - val_accuracy: 0.8760\n",
            "Epoch 38/50\n",
            "32/32 [==============================] - 0s 6ms/step - loss: 1.8110e-05 - accuracy: 1.0000 - val_loss: 0.5721 - val_accuracy: 0.8760\n",
            "Epoch 39/50\n",
            "32/32 [==============================] - 0s 6ms/step - loss: 1.7070e-05 - accuracy: 1.0000 - val_loss: 0.5747 - val_accuracy: 0.8740\n",
            "Epoch 40/50\n",
            "32/32 [==============================] - 0s 6ms/step - loss: 1.6182e-05 - accuracy: 1.0000 - val_loss: 0.5771 - val_accuracy: 0.8740\n",
            "Epoch 41/50\n",
            "32/32 [==============================] - 0s 6ms/step - loss: 1.5322e-05 - accuracy: 1.0000 - val_loss: 0.5787 - val_accuracy: 0.8740\n",
            "Epoch 42/50\n",
            "32/32 [==============================] - 0s 6ms/step - loss: 1.4576e-05 - accuracy: 1.0000 - val_loss: 0.5815 - val_accuracy: 0.8740\n",
            "Epoch 43/50\n",
            "32/32 [==============================] - 0s 6ms/step - loss: 1.3823e-05 - accuracy: 1.0000 - val_loss: 0.5840 - val_accuracy: 0.8740\n",
            "Epoch 44/50\n",
            "32/32 [==============================] - 0s 6ms/step - loss: 1.3196e-05 - accuracy: 1.0000 - val_loss: 0.5858 - val_accuracy: 0.8740\n",
            "Epoch 45/50\n",
            "32/32 [==============================] - 0s 6ms/step - loss: 1.2592e-05 - accuracy: 1.0000 - val_loss: 0.5879 - val_accuracy: 0.8740\n",
            "Epoch 46/50\n",
            "32/32 [==============================] - 0s 6ms/step - loss: 1.1989e-05 - accuracy: 1.0000 - val_loss: 0.5902 - val_accuracy: 0.8750\n",
            "Epoch 47/50\n",
            "32/32 [==============================] - 0s 6ms/step - loss: 1.1476e-05 - accuracy: 1.0000 - val_loss: 0.5922 - val_accuracy: 0.8740\n",
            "Epoch 48/50\n",
            "32/32 [==============================] - 0s 6ms/step - loss: 1.0953e-05 - accuracy: 1.0000 - val_loss: 0.5942 - val_accuracy: 0.8740\n",
            "Epoch 49/50\n",
            "32/32 [==============================] - 0s 6ms/step - loss: 1.0493e-05 - accuracy: 1.0000 - val_loss: 0.5961 - val_accuracy: 0.8740\n",
            "Epoch 50/50\n",
            "32/32 [==============================] - 0s 6ms/step - loss: 1.0028e-05 - accuracy: 1.0000 - val_loss: 0.5983 - val_accuracy: 0.8750\n"
          ],
          "name": "stdout"
        }
      ]
    },
    {
      "cell_type": "markdown",
      "metadata": {
        "id": "Okm9j6NCwHsp"
      },
      "source": [
        "Evaluamos en test"
      ]
    },
    {
      "cell_type": "code",
      "metadata": {
        "id": "194RRmusoEC7",
        "colab": {
          "base_uri": "https://localhost:8080/"
        },
        "outputId": "c7ab304e-3983-47fe-b47d-dda270a16db5"
      },
      "source": [
        "score = model.evaluate(X_test,y_test)\n",
        "score"
      ],
      "execution_count": 20,
      "outputs": [
        {
          "output_type": "stream",
          "text": [
            "32/32 [==============================] - 0s 2ms/step - loss: 0.5983 - accuracy: 0.8750\n"
          ],
          "name": "stdout"
        },
        {
          "output_type": "execute_result",
          "data": {
            "text/plain": [
              "[0.5982553958892822, 0.875]"
            ]
          },
          "metadata": {
            "tags": []
          },
          "execution_count": 20
        }
      ]
    },
    {
      "cell_type": "code",
      "metadata": {
        "id": "1DEu-6oToKYo"
      },
      "source": [
        ""
      ],
      "execution_count": 20,
      "outputs": []
    },
    {
      "cell_type": "markdown",
      "metadata": {
        "id": "MNeYOiOEwL5b"
      },
      "source": [
        "Ploteamos la evolución"
      ]
    },
    {
      "cell_type": "code",
      "metadata": {
        "id": "u2arW_sOqI3c",
        "colab": {
          "base_uri": "https://localhost:8080/",
          "height": 282
        },
        "outputId": "2b641610-eff8-4a11-8155-77ba41f373fc"
      },
      "source": [
        "import matplotlib.pyplot as plt\n",
        "%matplotlib inline\n",
        "plt.figure\n",
        "plt.plot(hist.history['loss'],label='train')\n",
        "plt.plot(hist.history['val_loss'],'r',label='validation')\n",
        "plt.legend()\n"
      ],
      "execution_count": 21,
      "outputs": [
        {
          "output_type": "execute_result",
          "data": {
            "text/plain": [
              "<matplotlib.legend.Legend at 0x7f27033fc710>"
            ]
          },
          "metadata": {
            "tags": []
          },
          "execution_count": 21
        },
        {
          "output_type": "display_data",
          "data": {
            "image/png": "[encoded data removed]",
            "text/plain": [
              "<Figure size 432x288 with 1 Axes>"
            ]
          },
          "metadata": {
            "tags": [],
            "needs_background": "light"
          }
        }
      ]
    },
    {
      "cell_type": "code",
      "metadata": {
        "id": "7mN0MrhorXQu",
        "colab": {
          "base_uri": "https://localhost:8080/",
          "height": 282
        },
        "outputId": "e38b73ad-ad0b-404d-a20e-ea136c1a24d6"
      },
      "source": [
        "# Evolucion en accuracy\n",
        "\n",
        "import matplotlib.pyplot as plt\n",
        "%matplotlib inline\n",
        "plt.figure\n",
        "plt.plot(hist.history['accuracy'],label='train')\n",
        "plt.plot(hist.history['val_accuracy'],'r',label='validation')\n",
        "plt.legend()\n"
      ],
      "execution_count": 22,
      "outputs": [
        {
          "output_type": "execute_result",
          "data": {
            "text/plain": [
              "<matplotlib.legend.Legend at 0x7f26f0046748>"
            ]
          },
          "metadata": {
            "tags": []
          },
          "execution_count": 22
        },
        {
          "output_type": "display_data",
          "data": {
            "image/png": "[encoded data removed]",
            "text/plain": [
              "<Figure size 432x288 with 1 Axes>"
            ]
          },
          "metadata": {
            "tags": [],
            "needs_background": "light"
          }
        }
      ]
    },
    {
      "cell_type": "markdown",
      "metadata": {
        "id": "Oz8ttLJoqj-3"
      },
      "source": [
        "# Aplicamos en test"
      ]
    },
    {
      "cell_type": "code",
      "metadata": {
        "id": "PHbEJOmaqmf-"
      },
      "source": [
        "# Predecimos en test\n",
        "preds_test = model.predict(X_test)"
      ],
      "execution_count": 23,
      "outputs": []
    },
    {
      "cell_type": "code",
      "metadata": {
        "id": "Y5Vv9euGqZVv",
        "colab": {
          "base_uri": "https://localhost:8080/",
          "height": 302
        },
        "outputId": "83736f5c-e7ba-4072-92b4-c75dd967a1b8"
      },
      "source": [
        "import numpy as np\n",
        "# Elegimos una imagen de test\n",
        "idx_mostrar = 90\n",
        "# Mostramos la imagen\n",
        "plt.imshow(np.squeeze(X_test[idx_mostrar,:,:,]),cmap=\"gray\")\n",
        "# Mostramos las probabilidades que da el modelo a cada clase\n",
        "print([\"p(y=%d|x) = %.4f\"%(i,p) for i,p in enumerate(preds_test[idx_mostrar])])"
      ],
      "execution_count": 24,
      "outputs": [
        {
          "output_type": "stream",
          "text": [
            "['p(y=0|x) = 0.0000', 'p(y=1|x) = 0.0000', 'p(y=2|x) = 0.0000', 'p(y=3|x) = 1.0000', 'p(y=4|x) = 0.0000', 'p(y=5|x) = 0.0000', 'p(y=6|x) = 0.0000', 'p(y=7|x) = 0.0000', 'p(y=8|x) = 0.0000', 'p(y=9|x) = 0.0000']\n"
          ],
          "name": "stdout"
        },
        {
          "output_type": "display_data",
          "data": {
            "image/png": "[encoded data removed]",
            "text/plain": [
              "<Figure size 432x288 with 1 Axes>"
            ]
          },
          "metadata": {
            "tags": [],
            "needs_background": "light"
          }
        }
      ]
    },
    {
      "cell_type": "code",
      "metadata": {
        "id": "hWtas-PJr4pQ"
      },
      "source": [
        ""
      ],
      "execution_count": null,
      "outputs": []
    }
  ]
}