{
  "nbformat": 4,
  "nbformat_minor": 0,
  "metadata": {
    "kernelspec": {
      "display_name": "Python 3",
      "language": "python",
      "name": "python3"
    },
    "language_info": {
      "codemirror_mode": {
        "name": "ipython",
        "version": 3
      },
      "file_extension": ".py",
      "mimetype": "text/x-python",
      "name": "python",
      "nbconvert_exporter": "python",
      "pygments_lexer": "ipython3",
      "version": "3.7.1"
    },
    "colab": {
      "name": "3-GRU_AEP_PT.ipynb",
      "provenance": [],
      "collapsed_sections": [],
      "toc_visible": true,
      "include_colab_link": true
    },
    "accelerator": "GPU",
    "widgets": {
      "application/vnd.jupyter.widget-state+json": {
        "70fb2b4d01404a15ab21c74c22514873": {
          "model_module": "@jupyter-widgets/controls",
          "model_name": "HBoxModel",
          "state": {
            "_view_name": "HBoxView",
            "_dom_classes": [],
            "_model_name": "HBoxModel",
            "_view_module": "@jupyter-widgets/controls",
            "_model_module_version": "1.5.0",
            "_view_count": null,
            "_view_module_version": "1.5.0",
            "box_style": "",
            "layout": "IPY_MODEL_9d99a8f062cd46f6a1c2daff82d8d59e",
            "_model_module": "@jupyter-widgets/controls",
            "children": [
              "IPY_MODEL_0a95bb31044b4f7ea0330ec7e432d391",
              "IPY_MODEL_b1df23db1e074063823ddfbdae468dc6"
            ]
          }
        },
        "9d99a8f062cd46f6a1c2daff82d8d59e": {
          "model_module": "@jupyter-widgets/base",
          "model_name": "LayoutModel",
          "state": {
            "_view_name": "LayoutView",
            "grid_template_rows": null,
            "right": null,
            "justify_content": null,
            "_view_module": "@jupyter-widgets/base",
            "overflow": null,
            "_model_module_version": "1.2.0",
            "_view_count": null,
            "flex_flow": null,
            "width": null,
            "min_width": null,
            "border": null,
            "align_items": null,
            "bottom": null,
            "_model_module": "@jupyter-widgets/base",
            "top": null,
            "grid_column": null,
            "overflow_y": null,
            "overflow_x": null,
            "grid_auto_flow": null,
            "grid_area": null,
            "grid_template_columns": null,
            "flex": null,
            "_model_name": "LayoutModel",
            "justify_items": null,
            "grid_row": null,
            "max_height": null,
            "align_content": null,
            "visibility": null,
            "align_self": null,
            "height": null,
            "min_height": null,
            "padding": null,
            "grid_auto_rows": null,
            "grid_gap": null,
            "max_width": null,
            "order": null,
            "_view_module_version": "1.2.0",
            "grid_template_areas": null,
            "object_position": null,
            "object_fit": null,
            "grid_auto_columns": null,
            "margin": null,
            "display": null,
            "left": null
          }
        },
        "0a95bb31044b4f7ea0330ec7e432d391": {
          "model_module": "@jupyter-widgets/controls",
          "model_name": "FloatProgressModel",
          "state": {
            "_view_name": "ProgressView",
            "style": "IPY_MODEL_8ff5ae6c8149455fa76d9268ca52b12c",
            "_dom_classes": [],
            "description": "100%",
            "_model_name": "FloatProgressModel",
            "bar_style": "success",
            "max": 15,
            "_view_module": "@jupyter-widgets/controls",
            "_model_module_version": "1.5.0",
            "value": 15,
            "_view_count": null,
            "_view_module_version": "1.5.0",
            "orientation": "horizontal",
            "min": 0,
            "description_tooltip": null,
            "_model_module": "@jupyter-widgets/controls",
            "layout": "IPY_MODEL_88c9ca5900a740218e2cba9725e851c7"
          }
        },
        "b1df23db1e074063823ddfbdae468dc6": {
          "model_module": "@jupyter-widgets/controls",
          "model_name": "HTMLModel",
          "state": {
            "_view_name": "HTMLView",
            "style": "IPY_MODEL_2d5ee95967c348e7b1d9b22a0591c93d",
            "_dom_classes": [],
            "description": "",
            "_model_name": "HTMLModel",
            "placeholder": "​",
            "_view_module": "@jupyter-widgets/controls",
            "_model_module_version": "1.5.0",
            "value": " 15/15 [06:00&lt;00:00, 24.01s/it]",
            "_view_count": null,
            "_view_module_version": "1.5.0",
            "description_tooltip": null,
            "_model_module": "@jupyter-widgets/controls",
            "layout": "IPY_MODEL_2f89cae2462d45a88b0406406d12dd7d"
          }
        },
        "8ff5ae6c8149455fa76d9268ca52b12c": {
          "model_module": "@jupyter-widgets/controls",
          "model_name": "ProgressStyleModel",
          "state": {
            "_view_name": "StyleView",
            "_model_name": "ProgressStyleModel",
            "description_width": "initial",
            "_view_module": "@jupyter-widgets/base",
            "_model_module_version": "1.5.0",
            "_view_count": null,
            "_view_module_version": "1.2.0",
            "bar_color": null,
            "_model_module": "@jupyter-widgets/controls"
          }
        },
        "88c9ca5900a740218e2cba9725e851c7": {
          "model_module": "@jupyter-widgets/base",
          "model_name": "LayoutModel",
          "state": {
            "_view_name": "LayoutView",
            "grid_template_rows": null,
            "right": null,
            "justify_content": null,
            "_view_module": "@jupyter-widgets/base",
            "overflow": null,
            "_model_module_version": "1.2.0",
            "_view_count": null,
            "flex_flow": null,
            "width": null,
            "min_width": null,
            "border": null,
            "align_items": null,
            "bottom": null,
            "_model_module": "@jupyter-widgets/base",
            "top": null,
            "grid_column": null,
            "overflow_y": null,
            "overflow_x": null,
            "grid_auto_flow": null,
            "grid_area": null,
            "grid_template_columns": null,
            "flex": null,
            "_model_name": "LayoutModel",
            "justify_items": null,
            "grid_row": null,
            "max_height": null,
            "align_content": null,
            "visibility": null,
            "align_self": null,
            "height": null,
            "min_height": null,
            "padding": null,
            "grid_auto_rows": null,
            "grid_gap": null,
            "max_width": null,
            "order": null,
            "_view_module_version": "1.2.0",
            "grid_template_areas": null,
            "object_position": null,
            "object_fit": null,
            "grid_auto_columns": null,
            "margin": null,
            "display": null,
            "left": null
          }
        },
        "2d5ee95967c348e7b1d9b22a0591c93d": {
          "model_module": "@jupyter-widgets/controls",
          "model_name": "DescriptionStyleModel",
          "state": {
            "_view_name": "StyleView",
            "_model_name": "DescriptionStyleModel",
            "description_width": "",
            "_view_module": "@jupyter-widgets/base",
            "_model_module_version": "1.5.0",
            "_view_count": null,
            "_view_module_version": "1.2.0",
            "_model_module": "@jupyter-widgets/controls"
          }
        },
        "2f89cae2462d45a88b0406406d12dd7d": {
          "model_module": "@jupyter-widgets/base",
          "model_name": "LayoutModel",
          "state": {
            "_view_name": "LayoutView",
            "grid_template_rows": null,
            "right": null,
            "justify_content": null,
            "_view_module": "@jupyter-widgets/base",
            "overflow": null,
            "_model_module_version": "1.2.0",
            "_view_count": null,
            "flex_flow": null,
            "width": null,
            "min_width": null,
            "border": null,
            "align_items": null,
            "bottom": null,
            "_model_module": "@jupyter-widgets/base",
            "top": null,
            "grid_column": null,
            "overflow_y": null,
            "overflow_x": null,
            "grid_auto_flow": null,
            "grid_area": null,
            "grid_template_columns": null,
            "flex": null,
            "_model_name": "LayoutModel",
            "justify_items": null,
            "grid_row": null,
            "max_height": null,
            "align_content": null,
            "visibility": null,
            "align_self": null,
            "height": null,
            "min_height": null,
            "padding": null,
            "grid_auto_rows": null,
            "grid_gap": null,
            "max_width": null,
            "order": null,
            "_view_module_version": "1.2.0",
            "grid_template_areas": null,
            "object_position": null,
            "object_fit": null,
            "grid_auto_columns": null,
            "margin": null,
            "display": null,
            "left": null
          }
        }
      }
    }
  },
  "cells": [
    {
      "cell_type": "markdown",
      "metadata": {
        "id": "view-in-github",
        "colab_type": "text"
      },
      "source": [
        "<a href=\"https://colab.research.google.com/github/jvallalta/ia3/blob/main/3_GRU_AEP_PT.ipynb\" target=\"_parent\"><img src=\"https://colab.research.google.com/assets/colab-badge.svg\" alt=\"Open In Colab\"/></a>"
      ]
    },
    {
      "cell_type": "markdown",
      "metadata": {
        "id": "dPSdI5f9E5iY"
      },
      "source": [
        "![IDAL](https://i.imgur.com/tIKXIG1.jpg)  \r\n",
        "\r\n",
        "#**Máster en Inteligencia Artificial Avanzada y Aplicada:  IA^3**\r\n",
        "---"
      ]
    },
    {
      "cell_type": "markdown",
      "metadata": {
        "id": "f7he17T2FK0C"
      },
      "source": [
        "#<strong><center>Predicción de consumo energético: GRU vs LSTM</center></strong>"
      ]
    },
    {
      "cell_type": "markdown",
      "metadata": {
        "id": "kF75btraYOaR"
      },
      "source": [
        "En este cuaderno, utilizaremos un modelo GRU para una tarea de predicción de series temporales y compararemos el rendimiento del modelo GRU contra un modelo LSTM. Los modelos LSTM los vais a estudiar en detalle en próximas sesiones, pero aquí va un pequeño adelanto comparativo. \n",
        "\n",
        "El conjunto de datos que utilizaremos es el conjunto de datos de consumo de energía por hora que se puede encontrar en [Kaggle](https://www.kaggle.com/robikscube/hourly-energy-consumption). El conjunto de datos contiene datos de consumo de energía en diferentes regiones de los Estados Unidos registrados cada hora.\n",
        "\n",
        "El objetivo de esta implementación es crear un modelo que pueda predecir con exactitud el uso de energía en la siguiente hora dados los datos históricos de uso. Utilizaremos tanto el modelo GRU como el LSTM para entrenar en un conjunto de datos históricos y evaluaremos ambos modelos en un conjunto de pruebas no visto. Para ello, comenzaremos con la selección de características, el preprocesamiento de datos, seguido de la definición, el entrenamiento y, finalmente, la evaluación de los modelos.\n",
        "\n",
        "Utilizaremos la librería PyTorch para implementar ambos tipos de modelos junto con otras librerías de Python habituales en el análisis de datos."
      ]
    },
    {
      "cell_type": "code",
      "metadata": {
        "id": "rH5PDlOmYOab"
      },
      "source": [
        "import os\n",
        "import time\n",
        "\n",
        "import numpy as np\n",
        "import pandas as pd\n",
        "import matplotlib.pyplot as plt\n",
        "\n",
        "import torch\n",
        "import torch.nn as nn\n",
        "from torch.utils.data import TensorDataset, DataLoader\n",
        "\n",
        "from tqdm import tqdm_notebook\n",
        "from sklearn.preprocessing import MinMaxScaler\n",
        "\n",
        "\n"
      ],
      "execution_count": 1,
      "outputs": []
    },
    {
      "cell_type": "code",
      "metadata": {
        "colab": {
          "base_uri": "https://localhost:8080/",
          "height": 204
        },
        "id": "DvNeXIgdYOae",
        "outputId": "04652972-a430-428b-aa47-4328e06c6863"
      },
      "source": [
        "data_dir = '/content/AEP_data/'\r\n",
        "pd.read_csv('AEP_hourly.csv').head()"
      ],
      "execution_count": 2,
      "outputs": [
        {
          "output_type": "execute_result",
          "data": {
            "text/html": [
              "<div>\n",
              "<style scoped>\n",
              "    .dataframe tbody tr th:only-of-type {\n",
              "        vertical-align: middle;\n",
              "    }\n",
              "\n",
              "    .dataframe tbody tr th {\n",
              "        vertical-align: top;\n",
              "    }\n",
              "\n",
              "    .dataframe thead th {\n",
              "        text-align: right;\n",
              "    }\n",
              "</style>\n",
              "<table border=\"1\" class=\"dataframe\">\n",
              "  <thead>\n",
              "    <tr style=\"text-align: right;\">\n",
              "      <th></th>\n",
              "      <th>Datetime</th>\n",
              "      <th>AEP_MW</th>\n",
              "    </tr>\n",
              "  </thead>\n",
              "  <tbody>\n",
              "    <tr>\n",
              "      <th>0</th>\n",
              "      <td>2004-12-31 01:00:00</td>\n",
              "      <td>13478.0</td>\n",
              "    </tr>\n",
              "    <tr>\n",
              "      <th>1</th>\n",
              "      <td>2004-12-31 02:00:00</td>\n",
              "      <td>12865.0</td>\n",
              "    </tr>\n",
              "    <tr>\n",
              "      <th>2</th>\n",
              "      <td>2004-12-31 03:00:00</td>\n",
              "      <td>12577.0</td>\n",
              "    </tr>\n",
              "    <tr>\n",
              "      <th>3</th>\n",
              "      <td>2004-12-31 04:00:00</td>\n",
              "      <td>12517.0</td>\n",
              "    </tr>\n",
              "    <tr>\n",
              "      <th>4</th>\n",
              "      <td>2004-12-31 05:00:00</td>\n",
              "      <td>12670.0</td>\n",
              "    </tr>\n",
              "  </tbody>\n",
              "</table>\n",
              "</div>"
            ],
            "text/plain": [
              "              Datetime   AEP_MW\n",
              "0  2004-12-31 01:00:00  13478.0\n",
              "1  2004-12-31 02:00:00  12865.0\n",
              "2  2004-12-31 03:00:00  12577.0\n",
              "3  2004-12-31 04:00:00  12517.0\n",
              "4  2004-12-31 05:00:00  12670.0"
            ]
          },
          "metadata": {
            "tags": []
          },
          "execution_count": 2
        }
      ]
    },
    {
      "cell_type": "markdown",
      "metadata": {
        "id": "mdu_5rs2YOae"
      },
      "source": [
        "Tenemos un total de **12** archivos *.csv* que contienen datos de tendencias energéticas horarias (*'est_hourly.paruqet'* y *'pjm_hourly_est.csv'* no se utilizan). En nuestro siguiente paso, leeremos estos archivos y preprocesaremos estos datos en este orden:\n",
        "- Obteniendo los datos de tiempo de cada paso de tiempo individual y generalizándolos\n",
        "    - Hora del día *es decir, 0-23*.\n",
        "    - Día de la semana *es decir, del 1 al 7*.\n",
        "    - Mes *es 1-12*.\n",
        "    - Día del año *es decir, 1-365*.\n",
        "    \n",
        "    \n",
        "- Escala los datos a valores entre 0 y 1\n",
        "    - Los algoritmos tienden a funcionar mejor o a converger más rápidamente cuando las características están en una escala relativamente similar y/o se acercan a una distribución normal\n",
        "    - La escala preserva la forma de la distribución original y no reduce la importancia de los valores atípicos.\n",
        "    \n",
        "    \n",
        "- Agrupar los datos en secuencias que se utilizarán como entradas del modelo y almacenar sus correspondientes etiquetas\n",
        "    - La **longitud de la secuencia** o **período de espera** es el número de puntos de datos de la historia que el modelo utilizará para hacer la predicción\n",
        "    - La etiqueta será el siguiente punto de datos en el tiempo después del último de la secuencia de entrada\n",
        "    \n",
        "\n",
        "- Las entradas y las etiquetas se dividirán en conjuntos de entrenamiento y de prueba."
      ]
    },
    {
      "cell_type": "code",
      "metadata": {
        "id": "0fXc5GTZYOaf",
        "colab": {
          "base_uri": "https://localhost:8080/",
          "height": 304,
          "referenced_widgets": [
            "70fb2b4d01404a15ab21c74c22514873",
            "9d99a8f062cd46f6a1c2daff82d8d59e",
            "0a95bb31044b4f7ea0330ec7e432d391",
            "b1df23db1e074063823ddfbdae468dc6",
            "8ff5ae6c8149455fa76d9268ca52b12c",
            "88c9ca5900a740218e2cba9725e851c7",
            "2d5ee95967c348e7b1d9b22a0591c93d",
            "2f89cae2462d45a88b0406406d12dd7d"
          ]
        },
        "outputId": "c0ff065a-f790-49ed-c370-3a413ac58473"
      },
      "source": [
        "# The scaler objects will be stored in this dictionary so that our output test data from the model can be re-scaled during evaluation\n",
        "label_scalers = {}\n",
        "\n",
        "train_x = []\n",
        "test_x = {}\n",
        "test_y = {}\n",
        "\n",
        "for file in tqdm_notebook(os.listdir()): \n",
        "    # Skipping the files we're not using\n",
        "    if file[-4:] != \".csv\" or file == \"pjm_hourly_est.csv\":\n",
        "        continue\n",
        "        \n",
        "    print(file)\n",
        "    # Store csv file in a Pandas DataFrame\n",
        "    df = pd.read_csv(file, parse_dates=[0])\n",
        "    # Processing the time data into suitable input formats\n",
        "    df['hour'] = df.apply(lambda x: x['Datetime'].hour,axis=1)\n",
        "    df['dayofweek'] = df.apply(lambda x: x['Datetime'].dayofweek,axis=1)\n",
        "    df['month'] = df.apply(lambda x: x['Datetime'].month,axis=1)\n",
        "    df['dayofyear'] = df.apply(lambda x: x['Datetime'].dayofyear,axis=1)\n",
        "    df = df.sort_values(\"Datetime\").drop(\"Datetime\",axis=1)\n",
        "    \n",
        "    # Scaling the input data\n",
        "    sc = MinMaxScaler()\n",
        "    label_sc = MinMaxScaler()\n",
        "    data = sc.fit_transform(df.values)\n",
        "    # Obtaining the Scale for the labels(usage data) so that output can be re-scaled to actual value during evaluation\n",
        "    label_sc.fit(df.iloc[:,0].values.reshape(-1,1))\n",
        "    label_scalers[file] = label_sc\n",
        "    \n",
        "    # Define lookback period and split inputs/labels\n",
        "    lookback = 90\n",
        "    inputs = np.zeros((len(data)-lookback,lookback,df.shape[1]))\n",
        "    labels = np.zeros(len(data)-lookback)\n",
        "    \n",
        "    for i in range(lookback, len(data)):\n",
        "        inputs[i-lookback] = data[i-lookback:i]\n",
        "        labels[i-lookback] = data[i,0]\n",
        "    inputs = inputs.reshape(-1,lookback,df.shape[1])\n",
        "    labels = labels.reshape(-1,1)\n",
        "    \n",
        "    # Split data into train/test portions and combining all data from different files into a single array\n",
        "    test_portion = int(0.1*len(inputs))\n",
        "    if len(train_x) == 0:\n",
        "        train_x = inputs[:-test_portion]\n",
        "        train_y = labels[:-test_portion]\n",
        "    else:\n",
        "        train_x = np.concatenate((train_x,inputs[:-test_portion]))\n",
        "        train_y = np.concatenate((train_y,labels[:-test_portion]))\n",
        "    test_x[file] = (inputs[-test_portion:])\n",
        "    test_y[file] = (labels[-test_portion:])"
      ],
      "execution_count": 4,
      "outputs": [
        {
          "output_type": "stream",
          "text": [
            "/usr/local/lib/python3.6/dist-packages/ipykernel_launcher.py:8: TqdmDeprecationWarning: This function will be removed in tqdm==5.0.0\n",
            "Please use `tqdm.notebook.tqdm` instead of `tqdm.tqdm_notebook`\n",
            "  \n"
          ],
          "name": "stderr"
        },
        {
          "output_type": "display_data",
          "data": {
            "application/vnd.jupyter.widget-view+json": {
              "model_id": "70fb2b4d01404a15ab21c74c22514873",
              "version_minor": 0,
              "version_major": 2
            },
            "text/plain": [
              "HBox(children=(FloatProgress(value=0.0, max=15.0), HTML(value='')))"
            ]
          },
          "metadata": {
            "tags": []
          }
        },
        {
          "output_type": "stream",
          "text": [
            "PJME_hourly.csv\n",
            "EKPC_hourly.csv\n",
            "DAYTON_hourly.csv\n",
            "AEP_hourly.csv\n",
            "DEOK_hourly.csv\n",
            "DUQ_hourly.csv\n",
            "FE_hourly.csv\n",
            "NI_hourly.csv\n",
            "PJMW_hourly.csv\n",
            "COMED_hourly.csv\n",
            "DOM_hourly.csv\n",
            "\n"
          ],
          "name": "stdout"
        }
      ]
    },
    {
      "cell_type": "code",
      "metadata": {
        "colab": {
          "base_uri": "https://localhost:8080/"
        },
        "id": "Bf1gPAwBYOag",
        "outputId": "32917440-8dd1-4788-89c7-fdeaa663b261"
      },
      "source": [
        "print(train_x.shape)"
      ],
      "execution_count": 5,
      "outputs": [
        {
          "output_type": "stream",
          "text": [
            "(950659, 90, 5)\n"
          ],
          "name": "stdout"
        }
      ]
    },
    {
      "cell_type": "code",
      "metadata": {
        "colab": {
          "base_uri": "https://localhost:8080/"
        },
        "id": "5kIZTcZwjFn6",
        "outputId": "bc9ae70a-5c13-4fef-d7e7-ce4b660f584c"
      },
      "source": [
        "train_x[1:5]"
      ],
      "execution_count": 6,
      "outputs": [
        {
          "output_type": "execute_result",
          "data": {
            "text/plain": [
              "array([[[0.31014432, 0.08695652, 0.16666667, 0.        , 0.        ],\n",
              "        [0.29101443, 0.13043478, 0.16666667, 0.        , 0.        ],\n",
              "        [0.28136522, 0.17391304, 0.16666667, 0.        , 0.        ],\n",
              "        ...,\n",
              "        [0.4217634 , 0.73913043, 0.66666667, 0.        , 0.00821918],\n",
              "        [0.48806489, 0.7826087 , 0.66666667, 0.        , 0.00821918],\n",
              "        [0.49971558, 0.82608696, 0.66666667, 0.        , 0.00821918]],\n",
              "\n",
              "       [[0.29101443, 0.13043478, 0.16666667, 0.        , 0.        ],\n",
              "        [0.28136522, 0.17391304, 0.16666667, 0.        , 0.        ],\n",
              "        [0.28469399, 0.2173913 , 0.16666667, 0.        , 0.        ],\n",
              "        ...,\n",
              "        [0.48806489, 0.7826087 , 0.66666667, 0.        , 0.00821918],\n",
              "        [0.49971558, 0.82608696, 0.66666667, 0.        , 0.00821918],\n",
              "        [0.48446224, 0.86956522, 0.66666667, 0.        , 0.00821918]],\n",
              "\n",
              "       [[0.28136522, 0.17391304, 0.16666667, 0.        , 0.        ],\n",
              "        [0.28469399, 0.2173913 , 0.16666667, 0.        , 0.        ],\n",
              "        [0.29727167, 0.26086957, 0.16666667, 0.        , 0.        ],\n",
              "        ...,\n",
              "        [0.49971558, 0.82608696, 0.66666667, 0.        , 0.00821918],\n",
              "        [0.48446224, 0.86956522, 0.66666667, 0.        , 0.00821918],\n",
              "        [0.46809228, 0.91304348, 0.66666667, 0.        , 0.00821918]],\n",
              "\n",
              "       [[0.28469399, 0.2173913 , 0.16666667, 0.        , 0.        ],\n",
              "        [0.29727167, 0.26086957, 0.16666667, 0.        , 0.        ],\n",
              "        [0.31105025, 0.30434783, 0.16666667, 0.        , 0.        ],\n",
              "        ...,\n",
              "        [0.48446224, 0.86956522, 0.66666667, 0.        , 0.00821918],\n",
              "        [0.46809228, 0.91304348, 0.66666667, 0.        , 0.00821918],\n",
              "        [0.43872327, 0.95652174, 0.66666667, 0.        , 0.00821918]]])"
            ]
          },
          "metadata": {
            "tags": []
          },
          "execution_count": 6
        }
      ]
    },
    {
      "cell_type": "markdown",
      "metadata": {
        "id": "h_TJazVJYOah"
      },
      "source": [
        "Tenemos un total de 980.185 secuencias de datos de entrenamiento\n",
        "\n",
        "Para mejorar la velocidad de nuestro entrenamiento, podemos procesar los datos en lotes para que el modelo no necesite actualizar sus pesos con tanta frecuencia. Las clases *Dataset* y *DataLoader* de Torch son útiles para dividir nuestros datos en lotes y mezclarlos."
      ]
    },
    {
      "cell_type": "code",
      "metadata": {
        "id": "M4K0eR3NYOah"
      },
      "source": [
        "batch_size = 1024\n",
        "\n",
        "train_data = TensorDataset(torch.from_numpy(train_x), torch.from_numpy(train_y))\n",
        "train_loader = DataLoader(train_data, shuffle=True, batch_size=batch_size, drop_last=True)"
      ],
      "execution_count": 7,
      "outputs": []
    },
    {
      "cell_type": "markdown",
      "metadata": {
        "id": "sLEmJEO0YOai"
      },
      "source": [
        "También podemos comprobar si tenemos alguna GPU para acelerar nuestro tiempo de entrenamiento. Si utilizas GPU para ejecutar este código, el tiempo de entrenamiento se reducirá considerablemente."
      ]
    },
    {
      "cell_type": "code",
      "metadata": {
        "id": "BbMyeCrNYOak"
      },
      "source": [
        "# torch.cuda.is_available() checks and returns a Boolean True if a GPU is available, else it'll return False\n",
        "is_cuda = torch.cuda.is_available()\n",
        "\n",
        "# If we have a GPU available, we'll set our device to GPU. We'll use this device variable later in our code.\n",
        "if is_cuda:\n",
        "    device = torch.device(\"cuda\")\n",
        "else:\n",
        "    device = torch.device(\"cpu\")"
      ],
      "execution_count": 8,
      "outputs": []
    },
    {
      "cell_type": "code",
      "metadata": {
        "colab": {
          "base_uri": "https://localhost:8080/"
        },
        "id": "kKv0fIxpd9S2",
        "outputId": "9cf83b4f-20a3-45da-b6b6-32ca0f041841"
      },
      "source": [
        "device"
      ],
      "execution_count": 9,
      "outputs": [
        {
          "output_type": "execute_result",
          "data": {
            "text/plain": [
              "device(type='cuda')"
            ]
          },
          "metadata": {
            "tags": []
          },
          "execution_count": 9
        }
      ]
    },
    {
      "cell_type": "markdown",
      "metadata": {
        "id": "HTXKWbOSYOam"
      },
      "source": [
        "A continuación, definiremos la estructura de los modelos GRU y LSTM. Ambos modelos tienen la misma estructura, con la única diferencia de la **capa recurrente** (GRU/LSTM) y la inicialización del estado oculto. El estado oculto para el LSTM es una tupla que contiene tanto el **estado de las celdas** como el **estado oculto**, mientras que el GRU sólo tiene un único estado oculto."
      ]
    },
    {
      "cell_type": "code",
      "metadata": {
        "id": "meFHlBdyYOam"
      },
      "source": [
        "class GRUNet(nn.Module):\n",
        "    def __init__(self, input_dim, hidden_dim, output_dim, n_layers, drop_prob=0.2):\n",
        "        super(GRUNet, self).__init__()\n",
        "        self.hidden_dim = hidden_dim\n",
        "        self.n_layers = n_layers\n",
        "        \n",
        "        self.gru = nn.GRU(input_dim, hidden_dim, n_layers, batch_first=True, dropout=drop_prob)\n",
        "        self.fc = nn.Linear(hidden_dim, output_dim)\n",
        "        self.relu = nn.ReLU()\n",
        "        \n",
        "    def forward(self, x, h):\n",
        "        out, h = self.gru(x, h)\n",
        "        out = self.fc(self.relu(out[:,-1]))\n",
        "        return out, h\n",
        "    \n",
        "    def init_hidden(self, batch_size):\n",
        "        weight = next(self.parameters()).data\n",
        "        hidden = weight.new(self.n_layers, batch_size, self.hidden_dim).zero_().to(device)\n",
        "        return hidden\n",
        "\n",
        "class LSTMNet(nn.Module):\n",
        "    def __init__(self, input_dim, hidden_dim, output_dim, n_layers, drop_prob=0.2):\n",
        "        super(LSTMNet, self).__init__()\n",
        "        self.hidden_dim = hidden_dim\n",
        "        self.n_layers = n_layers\n",
        "        \n",
        "        self.lstm = nn.LSTM(input_dim, hidden_dim, n_layers, batch_first=True, dropout=drop_prob)\n",
        "        self.fc = nn.Linear(hidden_dim, output_dim)\n",
        "        self.relu = nn.ReLU()\n",
        "        \n",
        "    def forward(self, x, h):\n",
        "        out, h = self.lstm(x, h)\n",
        "        out = self.fc(self.relu(out[:,-1]))\n",
        "        return out, h\n",
        "    \n",
        "    def init_hidden(self, batch_size):\n",
        "        weight = next(self.parameters()).data\n",
        "        hidden = (weight.new(self.n_layers, batch_size, self.hidden_dim).zero_().to(device),\n",
        "                  weight.new(self.n_layers, batch_size, self.hidden_dim).zero_().to(device))\n",
        "        return hidden"
      ],
      "execution_count": 10,
      "outputs": []
    },
    {
      "cell_type": "markdown",
      "metadata": {
        "id": "b_wVKeHcYOao"
      },
      "source": [
        "El proceso de entrenamiento lo vamos a definir en una función a continuación para que podamos reproducirlo para ambos modelos, especificandolo como parámetro. \n",
        "\n",
        "Ambos modelos tendrán el mismo número de **dimensiones** en el *estado oculto* y en las *capas*, se entrenarán con el mismo número de **epochs** y la misma **tasa de aprendizaje**, y se entrenarán y probarán con el mismo conjunto de datos.\n",
        "\n",
        "Con el fin de comparar el rendimiento de ambos modelos, también haremos un seguimiento del tiempo que tarda el modelo en entrenarse y, finalmente, compararemos la precisión final de ambos modelos en el conjunto de pruebas. Para medir la precisión, utilizaremos el *Porcentaje Medio Absoluto de Error Simétrico (sMAPE)* para evaluar los modelos. El *sMAPE* es la suma de la **diferencia absoluta** entre los valores predichos y los reales dividida por la media de los valores predichos y los reales, lo que da un porcentaje que mide la cantidad de error. \n",
        "\n",
        "Esta es la fórmula de *sMAPE*:\n",
        "\n",
        "$sMAPE = \\frac{100%}{n}\\sum_{t=1}^n \\frac{|F_t - A_t|}{(|F_t + A_t|)/2}$\n"
      ]
    },
    {
      "cell_type": "code",
      "metadata": {
        "id": "pOrfDsV1YOap"
      },
      "source": [
        "def train(train_loader, learn_rate, hidden_dim=256, EPOCHS=5, model_type=\"GRU\"):\n",
        "    \n",
        "    # Setting common hyperparameters\n",
        "    input_dim = next(iter(train_loader))[0].shape[2]\n",
        "    output_dim = 1\n",
        "    n_layers = 2\n",
        "    # Instantiating the models\n",
        "    if model_type == \"GRU\":\n",
        "        model = GRUNet(input_dim, hidden_dim, output_dim, n_layers)\n",
        "    else:\n",
        "        model = LSTMNet(input_dim, hidden_dim, output_dim, n_layers)\n",
        "    model.to(device)\n",
        "    \n",
        "    # Defining loss function and optimizer\n",
        "    criterion = nn.MSELoss()\n",
        "    optimizer = torch.optim.Adam(model.parameters(), lr=learn_rate)\n",
        "    \n",
        "    model.train()\n",
        "    print(\"Starting Training of {} model\".format(model_type))\n",
        "    epoch_times = []\n",
        "    # Start training loop\n",
        "    for epoch in range(1,EPOCHS+1):\n",
        "        start_time = time.clock()\n",
        "        h = model.init_hidden(batch_size)\n",
        "        avg_loss = 0.\n",
        "        counter = 0\n",
        "        for x, label in train_loader:\n",
        "            counter += 1\n",
        "            if model_type == \"GRU\":\n",
        "                h = h.data\n",
        "            else:\n",
        "                h = tuple([e.data for e in h])\n",
        "            model.zero_grad()\n",
        "            \n",
        "            out, h = model(x.to(device).float(), h)\n",
        "            loss = criterion(out, label.to(device).float())\n",
        "            loss.backward()\n",
        "            optimizer.step()\n",
        "            avg_loss += loss.item()\n",
        "            if counter%200 == 0:\n",
        "                print(\"Epoch {}......Step: {}/{}....... Average Loss for Epoch: {}\".format(epoch, counter, len(train_loader), avg_loss/counter))\n",
        "        current_time = time.clock()\n",
        "        print(\"Epoch {}/{} Done, Total Loss: {}\".format(epoch, EPOCHS, avg_loss/len(train_loader)))\n",
        "        print(\"Time Elapsed for Epoch: {} seconds\".format(str(current_time-start_time)))\n",
        "        epoch_times.append(current_time-start_time)\n",
        "    print(\"Total Training Time: {} seconds\".format(str(sum(epoch_times))))\n",
        "    return model\n",
        "\n",
        "def evaluate(model, test_x, test_y, label_scalers):\n",
        "    model.eval()\n",
        "    outputs = []\n",
        "    targets = []\n",
        "    start_time = time.clock()\n",
        "    for i in test_x.keys():\n",
        "        inp = torch.from_numpy(np.array(test_x[i]))\n",
        "        labs = torch.from_numpy(np.array(test_y[i]))\n",
        "        h = model.init_hidden(inp.shape[0])\n",
        "        out, h = model(inp.to(device).float(), h)\n",
        "        outputs.append(label_scalers[i].inverse_transform(out.cpu().detach().numpy()).reshape(-1))\n",
        "        targets.append(label_scalers[i].inverse_transform(labs.numpy()).reshape(-1))\n",
        "    print(\"Evaluation Time: {}\".format(str(time.clock()-start_time)))\n",
        "    sMAPE = 0\n",
        "    for i in range(len(outputs)):\n",
        "        sMAPE += np.mean(abs(outputs[i]-targets[i])/(targets[i]+outputs[i])/2)/len(outputs)\n",
        "    print(\"sMAPE: {}%\".format(sMAPE*100))\n",
        "    return outputs, targets, sMAPE"
      ],
      "execution_count": 11,
      "outputs": []
    },
    {
      "cell_type": "code",
      "metadata": {
        "scrolled": true,
        "colab": {
          "base_uri": "https://localhost:8080/"
        },
        "id": "lHDNYd7BYOaq",
        "outputId": "ad613bb7-360b-42e5-bbf0-21715d2d6f9e"
      },
      "source": [
        "lr = 0.001\n",
        "gru_model = train(train_loader, lr, model_type=\"GRU\")"
      ],
      "execution_count": 12,
      "outputs": [
        {
          "output_type": "stream",
          "text": [
            "Starting Training of GRU model\n",
            "Epoch 1......Step: 200/928....... Average Loss for Epoch: 0.005753577111754567\n",
            "Epoch 1......Step: 400/928....... Average Loss for Epoch: 0.0032386081602453487\n",
            "Epoch 1......Step: 600/928....... Average Loss for Epoch: 0.0023038979877795405\n",
            "Epoch 1......Step: 800/928....... Average Loss for Epoch: 0.001813806378886511\n",
            "Epoch 1/5 Done, Total Loss: 0.001601617562739883\n",
            "Time Elapsed for Epoch: 124.10791499999999 seconds\n",
            "Epoch 2......Step: 200/928....... Average Loss for Epoch: 0.00026059444520797114\n",
            "Epoch 2......Step: 400/928....... Average Loss for Epoch: 0.00023878939955466195\n",
            "Epoch 2......Step: 600/928....... Average Loss for Epoch: 0.00022345229209652946\n",
            "Epoch 2......Step: 800/928....... Average Loss for Epoch: 0.00021530064621401833\n",
            "Epoch 2/5 Done, Total Loss: 0.00021042719086396792\n",
            "Time Elapsed for Epoch: 132.357246 seconds\n",
            "Epoch 3......Step: 200/928....... Average Loss for Epoch: 0.00017103442689403892\n",
            "Epoch 3......Step: 400/928....... Average Loss for Epoch: 0.0001649974341489724\n",
            "Epoch 3......Step: 600/928....... Average Loss for Epoch: 0.00016153226840591136\n",
            "Epoch 3......Step: 800/928....... Average Loss for Epoch: 0.00015716615830569937\n",
            "Epoch 3/5 Done, Total Loss: 0.00015583749449558975\n",
            "Time Elapsed for Epoch: 132.53053800000004 seconds\n",
            "Epoch 4......Step: 200/928....... Average Loss for Epoch: 0.0001349069107163814\n",
            "Epoch 4......Step: 400/928....... Average Loss for Epoch: 0.00014385232543645543\n",
            "Epoch 4......Step: 600/928....... Average Loss for Epoch: 0.00013639776182875114\n",
            "Epoch 4......Step: 800/928....... Average Loss for Epoch: 0.0001321627539164183\n",
            "Epoch 4/5 Done, Total Loss: 0.0001307265216492569\n",
            "Time Elapsed for Epoch: 132.60306400000002 seconds\n",
            "Epoch 5......Step: 200/928....... Average Loss for Epoch: 0.00011761214289435885\n",
            "Epoch 5......Step: 400/928....... Average Loss for Epoch: 0.00011891497137185069\n",
            "Epoch 5......Step: 600/928....... Average Loss for Epoch: 0.00011851235819146192\n",
            "Epoch 5......Step: 800/928....... Average Loss for Epoch: 0.00011825280262200977\n",
            "Epoch 5/5 Done, Total Loss: 0.00011786522627673925\n",
            "Time Elapsed for Epoch: 132.61354200000005 seconds\n",
            "Total Training Time: 654.212305 seconds\n"
          ],
          "name": "stdout"
        }
      ]
    },
    {
      "cell_type": "code",
      "metadata": {
        "id": "ftJnMoD1YOaq",
        "colab": {
          "base_uri": "https://localhost:8080/"
        },
        "outputId": "b91b7124-025e-4963-9ebf-a57bc8d32d2d"
      },
      "source": [
        "lstm_model = train(train_loader, lr, model_type=\"LSTM\")"
      ],
      "execution_count": 13,
      "outputs": [
        {
          "output_type": "stream",
          "text": [
            "Starting Training of LSTM model\n",
            "Epoch 1......Step: 200/928....... Average Loss for Epoch: 0.0150261230871547\n",
            "Epoch 1......Step: 400/928....... Average Loss for Epoch: 0.008292381891806144\n",
            "Epoch 1......Step: 600/928....... Average Loss for Epoch: 0.0058017946796220105\n",
            "Epoch 1......Step: 800/928....... Average Loss for Epoch: 0.004492629709457106\n",
            "Epoch 1/5 Done, Total Loss: 0.003930582772854591\n",
            "Time Elapsed for Epoch: 174.852392 seconds\n",
            "Epoch 2......Step: 200/928....... Average Loss for Epoch: 0.0003523661266081035\n",
            "Epoch 2......Step: 400/928....... Average Loss for Epoch: 0.00032672492583515124\n",
            "Epoch 2......Step: 600/928....... Average Loss for Epoch: 0.0003074647481359231\n",
            "Epoch 2......Step: 800/928....... Average Loss for Epoch: 0.00029117985210177724\n",
            "Epoch 2/5 Done, Total Loss: 0.0002828639640342615\n",
            "Time Elapsed for Epoch: 174.8860759999999 seconds\n",
            "Epoch 3......Step: 200/928....... Average Loss for Epoch: 0.00023199935982120222\n",
            "Epoch 3......Step: 400/928....... Average Loss for Epoch: 0.00021946468328678747\n",
            "Epoch 3......Step: 600/928....... Average Loss for Epoch: 0.00021904003704548814\n",
            "Epoch 3......Step: 800/928....... Average Loss for Epoch: 0.0002143006961523497\n",
            "Epoch 3/5 Done, Total Loss: 0.00021017440311534927\n",
            "Time Elapsed for Epoch: 175.99313800000004 seconds\n",
            "Epoch 4......Step: 200/928....... Average Loss for Epoch: 0.00018223252038296778\n",
            "Epoch 4......Step: 400/928....... Average Loss for Epoch: 0.00017816579445934622\n",
            "Epoch 4......Step: 600/928....... Average Loss for Epoch: 0.00017523985203297344\n",
            "Epoch 4......Step: 800/928....... Average Loss for Epoch: 0.00017064290464077203\n",
            "Epoch 4/5 Done, Total Loss: 0.00016927070496735566\n",
            "Time Elapsed for Epoch: 176.324202 seconds\n",
            "Epoch 5......Step: 200/928....... Average Loss for Epoch: 0.00015453650688868948\n",
            "Epoch 5......Step: 400/928....... Average Loss for Epoch: 0.00015115938698727403\n",
            "Epoch 5......Step: 600/928....... Average Loss for Epoch: 0.00014750215800935014\n",
            "Epoch 5......Step: 800/928....... Average Loss for Epoch: 0.00014458190974437458\n",
            "Epoch 5/5 Done, Total Loss: 0.00014414418004387948\n",
            "Time Elapsed for Epoch: 176.59147100000018 seconds\n",
            "Total Training Time: 878.6472790000001 seconds\n"
          ],
          "name": "stdout"
        }
      ]
    },
    {
      "cell_type": "markdown",
      "metadata": {
        "id": "XCIWNzk4YOar"
      },
      "source": [
        "Como podemos ver en el tiempo de entrenamiento de ambos modelos, el modelo GRU es el claro ganador en términos de **velocidad**, como hemos mencionado anteriormente. Esto es algo lógico ya que la arquitectura GTU requiere **menos parametros de entrenamiento**.\n",
        "\n",
        "Pasando a medir la precisión de ambos modelos, ahora utilizaremos nuestra función evaluate() y el conjunto de datos de prueba."
      ]
    },
    {
      "cell_type": "code",
      "metadata": {
        "colab": {
          "base_uri": "https://localhost:8080/"
        },
        "id": "2ZubwWRBYOar",
        "outputId": "bdd702ce-8c78-4c7e-b7c0-cb14da72fc1f"
      },
      "source": [
        "gru_outputs, targets, gru_sMAPE = evaluate(gru_model, test_x, test_y, label_scalers)"
      ],
      "execution_count": 14,
      "outputs": [
        {
          "output_type": "stream",
          "text": [
            "Evaluation Time: 3.9039479999999003\n",
            "sMAPE: 0.2896741343073694%\n"
          ],
          "name": "stdout"
        }
      ]
    },
    {
      "cell_type": "code",
      "metadata": {
        "colab": {
          "base_uri": "https://localhost:8080/"
        },
        "id": "jv_HZSYQhdCC",
        "outputId": "38ce10c8-3849-4f91-b0f4-20048bcdca5e"
      },
      "source": [
        "gru_outputs[1:5]"
      ],
      "execution_count": 15,
      "outputs": [
        {
          "output_type": "execute_result",
          "data": {
            "text/plain": [
              "[array([1663.8187, 1486.6855, 1407.4971, ..., 1765.3381, 1667.6415,\n",
              "        1473.4307], dtype=float32),\n",
              " array([2092.5293, 2073.5493, 2092.6497, ..., 2458.5461, 2282.7168,\n",
              "        2083.5095], dtype=float32),\n",
              " array([16470.748, 16471.191, 16832.18 , ..., 17176.477, 16180.392,\n",
              "        14891.29 ], dtype=float32),\n",
              " array([3528.89  , 3456.1365, 3378.5576, ..., 3851.3748, 3658.2585,\n",
              "        3296.8542], dtype=float32)]"
            ]
          },
          "metadata": {
            "tags": []
          },
          "execution_count": 15
        }
      ]
    },
    {
      "cell_type": "code",
      "metadata": {
        "colab": {
          "base_uri": "https://localhost:8080/"
        },
        "id": "IKVsY9V6hlS6",
        "outputId": "89555d00-707b-4b6b-c284-e55ac6863745"
      },
      "source": [
        "targets[1:5]"
      ],
      "execution_count": 16,
      "outputs": [
        {
          "output_type": "execute_result",
          "data": {
            "text/plain": [
              "[array([1599., 1483., 1418., ..., 1756., 1619., 1448.]),\n",
              " array([2063., 2061., 2119., ..., 2405., 2250., 2042.]),\n",
              " array([16370., 16517., 16935., ..., 17001., 15964., 14809.]),\n",
              " array([3504., 3482., 3380., ..., 3851., 3575., 3281.])]"
            ]
          },
          "metadata": {
            "tags": []
          },
          "execution_count": 16
        }
      ]
    },
    {
      "cell_type": "code",
      "metadata": {
        "colab": {
          "base_uri": "https://localhost:8080/",
          "height": 204
        },
        "id": "ZLCyes-ZiM9o",
        "outputId": "4c066e08-f2ee-45b1-88c0-1f962e77c0fd"
      },
      "source": [
        "df.tail()"
      ],
      "execution_count": 17,
      "outputs": [
        {
          "output_type": "execute_result",
          "data": {
            "text/html": [
              "<div>\n",
              "<style scoped>\n",
              "    .dataframe tbody tr th:only-of-type {\n",
              "        vertical-align: middle;\n",
              "    }\n",
              "\n",
              "    .dataframe tbody tr th {\n",
              "        vertical-align: top;\n",
              "    }\n",
              "\n",
              "    .dataframe thead th {\n",
              "        text-align: right;\n",
              "    }\n",
              "</style>\n",
              "<table border=\"1\" class=\"dataframe\">\n",
              "  <thead>\n",
              "    <tr style=\"text-align: right;\">\n",
              "      <th></th>\n",
              "      <th>DOM_MW</th>\n",
              "      <th>hour</th>\n",
              "      <th>dayofweek</th>\n",
              "      <th>month</th>\n",
              "      <th>dayofyear</th>\n",
              "    </tr>\n",
              "  </thead>\n",
              "  <tbody>\n",
              "    <tr>\n",
              "      <th>111073</th>\n",
              "      <td>14038.0</td>\n",
              "      <td>20</td>\n",
              "      <td>3</td>\n",
              "      <td>8</td>\n",
              "      <td>214</td>\n",
              "    </tr>\n",
              "    <tr>\n",
              "      <th>111074</th>\n",
              "      <td>13832.0</td>\n",
              "      <td>21</td>\n",
              "      <td>3</td>\n",
              "      <td>8</td>\n",
              "      <td>214</td>\n",
              "    </tr>\n",
              "    <tr>\n",
              "      <th>111075</th>\n",
              "      <td>13312.0</td>\n",
              "      <td>22</td>\n",
              "      <td>3</td>\n",
              "      <td>8</td>\n",
              "      <td>214</td>\n",
              "    </tr>\n",
              "    <tr>\n",
              "      <th>111076</th>\n",
              "      <td>12390.0</td>\n",
              "      <td>23</td>\n",
              "      <td>3</td>\n",
              "      <td>8</td>\n",
              "      <td>214</td>\n",
              "    </tr>\n",
              "    <tr>\n",
              "      <th>111077</th>\n",
              "      <td>11385.0</td>\n",
              "      <td>0</td>\n",
              "      <td>4</td>\n",
              "      <td>8</td>\n",
              "      <td>215</td>\n",
              "    </tr>\n",
              "  </tbody>\n",
              "</table>\n",
              "</div>"
            ],
            "text/plain": [
              "         DOM_MW  hour  dayofweek  month  dayofyear\n",
              "111073  14038.0    20          3      8        214\n",
              "111074  13832.0    21          3      8        214\n",
              "111075  13312.0    22          3      8        214\n",
              "111076  12390.0    23          3      8        214\n",
              "111077  11385.0     0          4      8        215"
            ]
          },
          "metadata": {
            "tags": []
          },
          "execution_count": 17
        }
      ]
    },
    {
      "cell_type": "code",
      "metadata": {
        "id": "3Ho6vhaMYOas",
        "colab": {
          "base_uri": "https://localhost:8080/"
        },
        "outputId": "55807c24-a6a3-4e78-a16d-001da95187f4"
      },
      "source": [
        "lstm_outputs, targets, lstm_sMAPE = evaluate(lstm_model, test_x, test_y, label_scalers)"
      ],
      "execution_count": 18,
      "outputs": [
        {
          "output_type": "stream",
          "text": [
            "Evaluation Time: 5.001993000000084\n",
            "sMAPE: 0.27909713308278955%\n"
          ],
          "name": "stdout"
        }
      ]
    },
    {
      "cell_type": "code",
      "metadata": {
        "colab": {
          "base_uri": "https://localhost:8080/"
        },
        "id": "AmHVpW9_ELGN",
        "outputId": "ac66be35-b788-470c-8408-bb365f84406a"
      },
      "source": [
        "train_x"
      ],
      "execution_count": 22,
      "outputs": [
        {
          "output_type": "execute_result",
          "data": {
            "text/plain": [
              "array([[[0.3339092 , 0.04347826, 0.16666667, 0.        , 0.        ],\n",
              "        [0.31014432, 0.08695652, 0.16666667, 0.        , 0.        ],\n",
              "        [0.29101443, 0.13043478, 0.16666667, 0.        , 0.        ],\n",
              "        ...,\n",
              "        [0.39624987, 0.69565217, 0.66666667, 0.        , 0.00821918],\n",
              "        [0.4217634 , 0.73913043, 0.66666667, 0.        , 0.00821918],\n",
              "        [0.48806489, 0.7826087 , 0.66666667, 0.        , 0.00821918]],\n",
              "\n",
              "       [[0.31014432, 0.08695652, 0.16666667, 0.        , 0.        ],\n",
              "        [0.29101443, 0.13043478, 0.16666667, 0.        , 0.        ],\n",
              "        [0.28136522, 0.17391304, 0.16666667, 0.        , 0.        ],\n",
              "        ...,\n",
              "        [0.4217634 , 0.73913043, 0.66666667, 0.        , 0.00821918],\n",
              "        [0.48806489, 0.7826087 , 0.66666667, 0.        , 0.00821918],\n",
              "        [0.49971558, 0.82608696, 0.66666667, 0.        , 0.00821918]],\n",
              "\n",
              "       [[0.29101443, 0.13043478, 0.16666667, 0.        , 0.        ],\n",
              "        [0.28136522, 0.17391304, 0.16666667, 0.        , 0.        ],\n",
              "        [0.28469399, 0.2173913 , 0.16666667, 0.        , 0.        ],\n",
              "        ...,\n",
              "        [0.48806489, 0.7826087 , 0.66666667, 0.        , 0.00821918],\n",
              "        [0.49971558, 0.82608696, 0.66666667, 0.        , 0.00821918],\n",
              "        [0.48446224, 0.86956522, 0.66666667, 0.        , 0.00821918]],\n",
              "\n",
              "       ...,\n",
              "\n",
              "       [[0.38420433, 0.47826087, 1.        , 0.27272727, 0.24931507],\n",
              "        [0.37336994, 0.52173913, 1.        , 0.27272727, 0.24931507],\n",
              "        [0.36577115, 0.56521739, 1.        , 0.27272727, 0.24931507],\n",
              "        ...,\n",
              "        [0.30331405, 0.08695652, 0.5       , 0.27272727, 0.26027397],\n",
              "        [0.2945877 , 0.13043478, 0.5       , 0.27272727, 0.26027397],\n",
              "        [0.29223453, 0.17391304, 0.5       , 0.27272727, 0.26027397]],\n",
              "\n",
              "       [[0.37336994, 0.52173913, 1.        , 0.27272727, 0.24931507],\n",
              "        [0.36577115, 0.56521739, 1.        , 0.27272727, 0.24931507],\n",
              "        [0.35807432, 0.60869565, 1.        , 0.27272727, 0.24931507],\n",
              "        ...,\n",
              "        [0.2945877 , 0.13043478, 0.5       , 0.27272727, 0.26027397],\n",
              "        [0.29223453, 0.17391304, 0.5       , 0.27272727, 0.26027397],\n",
              "        [0.29904893, 0.2173913 , 0.5       , 0.27272727, 0.26027397]],\n",
              "\n",
              "       [[0.36577115, 0.56521739, 1.        , 0.27272727, 0.24931507],\n",
              "        [0.35807432, 0.60869565, 1.        , 0.27272727, 0.24931507],\n",
              "        [0.34861261, 0.65217391, 1.        , 0.27272727, 0.24931507],\n",
              "        ...,\n",
              "        [0.29223453, 0.17391304, 0.5       , 0.27272727, 0.26027397],\n",
              "        [0.29904893, 0.2173913 , 0.5       , 0.27272727, 0.26027397],\n",
              "        [0.32792431, 0.26086957, 0.5       , 0.27272727, 0.26027397]]])"
            ]
          },
          "metadata": {
            "tags": []
          },
          "execution_count": 22
        }
      ]
    },
    {
      "cell_type": "markdown",
      "metadata": {
        "id": "VoZvgSFTYOas"
      },
      "source": [
        "Aunque el modelo LSTM puede haber cometido menos errores y haber superado ligeramente al modelo GRU en términos de precisión del rendimiento, la diferencia es insignificante y, por tanto, no concluyente. \r\n",
        "\r\n",
        "Se han realizado numerosas  pruebas en las que se comparan estos dos modelos, pero en general no ha habido un ganador claro en cuanto a cuál es la mejor arquitectura en general. La realidad indica que la mejor solución a cada problema suele ser muy específica y dependiente de la naturaleza del problea, tipo de datos, etc. sin que haya una regla aplicable para todos los casos."
      ]
    },
    {
      "cell_type": "markdown",
      "metadata": {
        "id": "l5alV4HaLW4Q"
      },
      "source": [
        "## Referencias"
      ]
    },
    {
      "cell_type": "markdown",
      "metadata": {
        "id": "3AYeyZjKLaJC"
      },
      "source": [
        "* *texto en cursiva* Documento inspirado en los ejemplos disponibles en FloidHub: https://github.com/floydhub/examples\r\n",
        "* Doc oficial Pytorch https://pytorch.org/docs/stable/generated/torch.nn.RNN.html\r\n",
        "* https://pytorch.org/tutorials/intermediate/char_rnn_classification_tutorial.html"
      ]
    },
    {
      "cell_type": "markdown",
      "metadata": {
        "id": "bA76f4TuLaqd"
      },
      "source": [
        "## Fin del cuaderno"
      ]
    }
  ]
}