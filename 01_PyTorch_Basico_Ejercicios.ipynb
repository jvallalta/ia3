{
  "nbformat": 4,
  "nbformat_minor": 0,
  "metadata": {
    "kernelspec": {
      "display_name": "Python 3",
      "language": "python",
      "name": "python3"
    },
    "language_info": {
      "codemirror_mode": {
        "name": "ipython",
        "version": 3
      },
      "file_extension": ".py",
      "mimetype": "text/x-python",
      "name": "python",
      "nbconvert_exporter": "python",
      "pygments_lexer": "ipython3",
      "version": "3.7.3"
    },
    "colab": {
      "name": "01-PyTorch_Basico_Ejercicios.ipynb",
      "provenance": [],
      "collapsed_sections": [
        "n2QOf-HEltUP"
      ],
      "include_colab_link": true
    }
  },
  "cells": [
    {
      "cell_type": "markdown",
      "metadata": {
        "id": "view-in-github",
        "colab_type": "text"
      },
      "source": [
        "<a href=\"https://colab.research.google.com/github/jvallalta/ia3/blob/main/01_PyTorch_Basico_Ejercicios.ipynb\" target=\"_parent\"><img src=\"https://colab.research.google.com/assets/colab-badge.svg\" alt=\"Open In Colab\"/></a>"
      ]
    },
    {
      "cell_type": "markdown",
      "metadata": {
        "id": "AVBv0eq8108q"
      },
      "source": [
        "![IDAL](https://i.imgur.com/tIKXIG1.jpg)  \n",
        "\n",
        "#**Máster en Inteligencia Artificial Avanzada y Aplicada:  IA^3**\n",
        "---\n"
      ]
    },
    {
      "cell_type": "markdown",
      "metadata": {
        "collapsed": true,
        "id": "VEvbppY2MddM"
      },
      "source": [
        "# PyTorch Basico Ejercicios \n",
        "\n",
        "En estos ejercicos crearemos algunos tensores y realizaremos operaciones básicos sobre ellos.\n"
      ]
    },
    {
      "cell_type": "markdown",
      "metadata": {
        "id": "a-WqWFLrFX0N"
      },
      "source": [
        "### 1. Realiza las importaciones standard\n",
        "Importa torch and NumPy"
      ]
    },
    {
      "cell_type": "code",
      "metadata": {
        "id": "7-iBtl_qFX0O"
      },
      "source": [
        "# TU CÓDIGO AQUÍ\n",
        "import torch\n",
        "import numpy as np"
      ],
      "execution_count": 3,
      "outputs": []
    },
    {
      "cell_type": "markdown",
      "metadata": {
        "id": "-WEIgHwpFX0P"
      },
      "source": [
        "### 2. Configura una semilla para los generadores de ambos Numpy y Pytorch con el valor \"42\"\n",
        "Esto permite reproducir los mismos resultados \"aleatorios\""
      ]
    },
    {
      "cell_type": "code",
      "metadata": {
        "id": "t3FGQjvFFX0P"
      },
      "source": [
        "# TU CÓDIGO AQUÍ\r\n",
        "torch.manual_seed(42)\r\n",
        "np.random.seed(42)"
      ],
      "execution_count": 6,
      "outputs": []
    },
    {
      "cell_type": "markdown",
      "metadata": {
        "id": "m7-jK-a9FX0Q"
      },
      "source": [
        "### 3. Crea un NumPy array llamado \"arr\" que contenga 6 enteros aleatorios entre 0 (incluido) y 5 (excluido)"
      ]
    },
    {
      "cell_type": "code",
      "metadata": {
        "id": "Xp5Yr_jyFX0Q",
        "colab": {
          "base_uri": "https://localhost:8080/"
        },
        "outputId": "fa1e6d11-33fb-4752-9b95-d918a0e756d5"
      },
      "source": [
        "# TU CÓDIGO AQUÍ\n",
        "arr=np.random.randint(0,5,6)\n",
        "arr\n",
        "\n"
      ],
      "execution_count": 9,
      "outputs": [
        {
          "output_type": "execute_result",
          "data": {
            "text/plain": [
              "array([3, 4, 2, 4, 4, 1])"
            ]
          },
          "metadata": {
            "tags": []
          },
          "execution_count": 9
        }
      ]
    },
    {
      "cell_type": "code",
      "metadata": {
        "colab": {
          "base_uri": "https://localhost:8080/"
        },
        "id": "2wCuVmuVFX0R",
        "outputId": "0769aa05-8d5b-4990-a981-77bd1bcf1a4c"
      },
      "source": [
        "# No escribas aquí. Compara tu resultado con lo que se muestra:"
      ],
      "execution_count": null,
      "outputs": [
        {
          "output_type": "stream",
          "text": [
            "[3 4 2 4 4 1]\n"
          ],
          "name": "stdout"
        }
      ]
    },
    {
      "cell_type": "markdown",
      "metadata": {
        "id": "VNKMiwSBFX0T"
      },
      "source": [
        "### 4. Crea a tensor \"x\" del array anterior "
      ]
    },
    {
      "cell_type": "code",
      "metadata": {
        "id": "ecB12BtPFX0T",
        "colab": {
          "base_uri": "https://localhost:8080/"
        },
        "outputId": "b92bacdb-e397-4bde-b6e6-3dfb60cc0b68"
      },
      "source": [
        "# TU CÓDIGO AQUÍ\n",
        "x=torch.from_numpy(arr)\n",
        "x"
      ],
      "execution_count": 11,
      "outputs": [
        {
          "output_type": "execute_result",
          "data": {
            "text/plain": [
              "tensor([3, 4, 2, 4, 4, 1])"
            ]
          },
          "metadata": {
            "tags": []
          },
          "execution_count": 11
        }
      ]
    },
    {
      "cell_type": "code",
      "metadata": {
        "colab": {
          "base_uri": "https://localhost:8080/"
        },
        "id": "gF-3xtRPFX0U",
        "outputId": "effa235d-c341-4cc3-876c-04bdffce48e2"
      },
      "source": [
        "# No escribas aquí. Compara tu resultado con lo que se muestra:"
      ],
      "execution_count": null,
      "outputs": [
        {
          "output_type": "stream",
          "text": [
            "tensor([3, 4, 2, 4, 4, 1])\n"
          ],
          "name": "stdout"
        }
      ]
    },
    {
      "cell_type": "markdown",
      "metadata": {
        "id": "ZeLzZWH8FX0U"
      },
      "source": [
        "### 5. Cambia el tipo de dato (`dtype`) de x de 'int32' a 'int64'\n",
        "Nota: 'int64' tambien se puesde llamar 'LongTensor'"
      ]
    },
    {
      "cell_type": "code",
      "metadata": {
        "id": "H0hrptRGFX0V",
        "colab": {
          "base_uri": "https://localhost:8080/",
          "height": 35
        },
        "outputId": "2b15c1ec-9062-4867-ddee-422b1aa324b2"
      },
      "source": [
        "# TU CÓDIGO AQUÍ\n",
        "x=x.type(torch.int64)\n",
        "x.type()"
      ],
      "execution_count": 17,
      "outputs": [
        {
          "output_type": "execute_result",
          "data": {
            "application/vnd.google.colaboratory.intrinsic+json": {
              "type": "string"
            },
            "text/plain": [
              "'torch.LongTensor'"
            ]
          },
          "metadata": {
            "tags": []
          },
          "execution_count": 17
        }
      ]
    },
    {
      "cell_type": "code",
      "metadata": {
        "colab": {
          "base_uri": "https://localhost:8080/"
        },
        "id": "SOGD2bfOFX0V",
        "outputId": "a0d4cdd5-366e-480f-e8e7-6e7e0779f585"
      },
      "source": [
        "# No escribas aquí. Compara tu resultado con lo que se muestra:"
      ],
      "execution_count": null,
      "outputs": [
        {
          "output_type": "stream",
          "text": [
            "torch.LongTensor\n"
          ],
          "name": "stdout"
        }
      ]
    },
    {
      "cell_type": "markdown",
      "metadata": {
        "id": "vRIev8pKFX0W"
      },
      "source": [
        "### 6. Cambia la forma del tensor a un 3x2 tensor\n",
        "Hay varias formas de hacer esto"
      ]
    },
    {
      "cell_type": "code",
      "metadata": {
        "id": "l4bMCN17FX0W",
        "colab": {
          "base_uri": "https://localhost:8080/"
        },
        "outputId": "afc5bacb-4157-4833-d12b-7803c1a62ad5"
      },
      "source": [
        "# TU CÓDIGO AQUÍ\n",
        "x=x.reshape(3,2)\n",
        "x\n"
      ],
      "execution_count": 18,
      "outputs": [
        {
          "output_type": "execute_result",
          "data": {
            "text/plain": [
              "tensor([[3, 4],\n",
              "        [2, 4],\n",
              "        [4, 1]])"
            ]
          },
          "metadata": {
            "tags": []
          },
          "execution_count": 18
        }
      ]
    },
    {
      "cell_type": "code",
      "metadata": {
        "colab": {
          "base_uri": "https://localhost:8080/"
        },
        "id": "liSfn9nXFX0X",
        "outputId": "1c578862-f555-4f23-8dba-4193ae02bfea"
      },
      "source": [
        "# No escribas aquí. Compara tu resultado con lo que se muestra:"
      ],
      "execution_count": null,
      "outputs": [
        {
          "output_type": "stream",
          "text": [
            "tensor([[3, 4],\n",
            "        [2, 4],\n",
            "        [4, 1]])\n"
          ],
          "name": "stdout"
        }
      ]
    },
    {
      "cell_type": "markdown",
      "metadata": {
        "id": "-crPCW01FX0X"
      },
      "source": [
        "### 7. Retorna la columna de la derecha del tensor the right-hand column of tensor x\r\n",
        "\r\n",
        "Atención a la forma de hacerlo. Hay varias posibilidades y cada una entrega los datos de forma diferente"
      ]
    },
    {
      "cell_type": "code",
      "metadata": {
        "id": "_Bd2N5_uLTdd",
        "colab": {
          "base_uri": "https://localhost:8080/"
        },
        "outputId": "02596063-48b1-47a7-a441-2ce121b176fe"
      },
      "source": [
        "# # TU CÓDIGO AQUÍ\r\n",
        "print(x[:,1:])"
      ],
      "execution_count": 22,
      "outputs": [
        {
          "output_type": "stream",
          "text": [
            "tensor([[4],\n",
            "        [4],\n",
            "        [1]])\n"
          ],
          "name": "stdout"
        }
      ]
    },
    {
      "cell_type": "code",
      "metadata": {
        "colab": {
          "base_uri": "https://localhost:8080/"
        },
        "id": "psHUi5tFFX0Y",
        "outputId": "f864cce7-fda2-4aca-9c4c-d2018371b597"
      },
      "source": [
        "# No escribas aquí. Compara tu resultado con lo que se muestra:"
      ],
      "execution_count": null,
      "outputs": [
        {
          "output_type": "stream",
          "text": [
            "tensor([[4],\n",
            "        [4],\n",
            "        [1]])\n"
          ],
          "name": "stdout"
        }
      ]
    },
    {
      "cell_type": "code",
      "metadata": {
        "id": "i_qBV5xFNo03",
        "colab": {
          "base_uri": "https://localhost:8080/"
        },
        "outputId": "78112b0a-0485-471f-f1df-7b75a34edb04"
      },
      "source": [
        "# TU CÓDIGO AQUÍ\r\n",
        "print(x[:,1])"
      ],
      "execution_count": 21,
      "outputs": [
        {
          "output_type": "stream",
          "text": [
            "tensor([4, 4, 1])\n"
          ],
          "name": "stdout"
        }
      ]
    },
    {
      "cell_type": "code",
      "metadata": {
        "colab": {
          "base_uri": "https://localhost:8080/"
        },
        "id": "lL2nx3aUKP_X",
        "outputId": "e7f5fa40-348c-4efc-d861-2a208b1c652c"
      },
      "source": [
        "# No escribas aquí. Compara tu resultado con lo que se muestra:"
      ],
      "execution_count": null,
      "outputs": [
        {
          "output_type": "stream",
          "text": [
            "tensor([4, 4, 1])\n"
          ],
          "name": "stdout"
        }
      ]
    },
    {
      "cell_type": "markdown",
      "metadata": {
        "id": "seXrwOn0FX0Y"
      },
      "source": [
        "### 8. Sin cambiar x, retorna un tensor con los valores cuadradaticos de x\n",
        "Hay varias formas de hacer esto"
      ]
    },
    {
      "cell_type": "code",
      "metadata": {
        "id": "imgbmhh1LUPK",
        "colab": {
          "base_uri": "https://localhost:8080/"
        },
        "outputId": "b39302f0-9ad4-42fc-ce6a-05bee34bccc3"
      },
      "source": [
        "# TU CÓDIGO AQUÍ\n",
        "print(x*x)\n"
      ],
      "execution_count": 24,
      "outputs": [
        {
          "output_type": "stream",
          "text": [
            "tensor([[ 9, 16],\n",
            "        [ 4, 16],\n",
            "        [16,  1]])\n"
          ],
          "name": "stdout"
        }
      ]
    },
    {
      "cell_type": "code",
      "metadata": {
        "id": "IHqa4hm-FX0c",
        "outputId": "b7b9ba98-dae2-4ab5-e436-ca0adaf5602f"
      },
      "source": [
        "# No escribas aquí. Compara tu resultado con lo que se muestra:"
      ],
      "execution_count": null,
      "outputs": [
        {
          "output_type": "stream",
          "text": [
            "tensor([[ 9, 16],\n",
            "        [ 4, 16],\n",
            "        [16,  1]])\n"
          ],
          "name": "stdout"
        }
      ]
    },
    {
      "cell_type": "markdown",
      "metadata": {
        "id": "j0mS61beFX0d"
      },
      "source": [
        "### 9. Crea un tensor \"y\" con el mismo número de elementos que x, de forma que pueda realizar una multoplicación de matrices.\n",
        "\n",
        "Utiliza funciones de Pytorch directamente para crear un tensor de enteros aleatorios entre 0 (incluido) y 5 (excluido). \n",
        "\n",
        "Ten en cuenta qué forma debe tener para hacer la multiplicación de matrices..."
      ]
    },
    {
      "cell_type": "code",
      "metadata": {
        "id": "TTGQAF9aFX0d",
        "colab": {
          "base_uri": "https://localhost:8080/"
        },
        "outputId": "89941fb2-dc99-4129-8ccb-e9e773bde4d1"
      },
      "source": [
        "# TU CÓDIGO AQUÍ\n",
        "y = torch.randint(0,5, (2,3))\n",
        "print(y)\n"
      ],
      "execution_count": 26,
      "outputs": [
        {
          "output_type": "stream",
          "text": [
            "tensor([[0, 4, 0],\n",
            "        [3, 3, 4]])\n"
          ],
          "name": "stdout"
        }
      ]
    },
    {
      "cell_type": "code",
      "metadata": {
        "id": "VV3yGlzpFX0d",
        "outputId": "59fcb726-f93c-417c-87c1-cdf1d4abfa7e"
      },
      "source": [
        "# No escribas aquí. Compara tu resultado con lo que se muestra:"
      ],
      "execution_count": null,
      "outputs": [
        {
          "output_type": "stream",
          "text": [
            "tensor([[2, 2, 1],\n",
            "        [4, 1, 0]])\n"
          ],
          "name": "stdout"
        }
      ]
    },
    {
      "cell_type": "markdown",
      "metadata": {
        "id": "eERlJ1WiFX0e"
      },
      "source": [
        "### 10. Realiza el producto de matrices entre x e y"
      ]
    },
    {
      "cell_type": "code",
      "metadata": {
        "id": "ltMQrGtSFX0e",
        "colab": {
          "base_uri": "https://localhost:8080/"
        },
        "outputId": "270d6416-e3ef-481c-9c8d-f6372646c7d0"
      },
      "source": [
        "# TU CÓDIGO AQUÍ\n",
        "torch.mm(x,y)\n"
      ],
      "execution_count": 27,
      "outputs": [
        {
          "output_type": "execute_result",
          "data": {
            "text/plain": [
              "tensor([[12, 24, 16],\n",
              "        [12, 20, 16],\n",
              "        [ 3, 19,  4]])"
            ]
          },
          "metadata": {
            "tags": []
          },
          "execution_count": 27
        }
      ]
    },
    {
      "cell_type": "code",
      "metadata": {
        "id": "hBGN5ITuFX0f",
        "outputId": "a3d13bb5-573c-49a4-dab4-8d041442b865"
      },
      "source": [
        "# No escribas aquí. Compara tu resultado con lo que se muestra:"
      ],
      "execution_count": null,
      "outputs": [
        {
          "output_type": "stream",
          "text": [
            "tensor([[22, 10,  3],\n",
            "        [20,  8,  2],\n",
            "        [12,  9,  4]])\n"
          ],
          "name": "stdout"
        }
      ]
    },
    {
      "cell_type": "markdown",
      "metadata": {
        "id": "dqMUG9NWFX0f"
      },
      "source": [
        "## Enhorabuena! Vamos calentando motores..."
      ]
    },
    {
      "cell_type": "markdown",
      "metadata": {
        "id": "n2QOf-HEltUP"
      },
      "source": [
        "## Fin del Notebook"
      ]
    },
    {
      "cell_type": "markdown",
      "metadata": {
        "id": "BZDr1zYmBkRV"
      },
      "source": [
        "Referencias y modelos empleados para el Notebook: \r\n",
        "\r\n",
        "*   Documentación de [Pytorch](https://pytorch.org/docs/stable/index.html) \r\n",
        "*   [PyTorch Tutorial for Deep Learning Researchers](https://github.com/yunjey/pytorch-tutorial) by Yunjey Choi\r\n",
        "*   [FastAI](https://www.fast.ai/) development notebooks by Jeremy Howard.\r\n",
        "*   Documentación y cursos en [Pierian Data](https://www.pieriandata.com/)\r\n"
      ]
    }
  ]
}