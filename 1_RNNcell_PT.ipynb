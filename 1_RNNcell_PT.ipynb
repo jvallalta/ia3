{
  "nbformat": 4,
  "nbformat_minor": 0,
  "metadata": {
    "colab": {
      "name": "1-RNNcell_PT.ipynb",
      "provenance": [],
      "collapsed_sections": [],
      "include_colab_link": true
    },
    "kernelspec": {
      "display_name": "Python 3",
      "language": "python",
      "name": "python3"
    },
    "widgets": {
      "application/vnd.jupyter.widget-state+json": {
        "80105e818f304ef786756f28caaa57d1": {
          "model_module": "@jupyter-widgets/controls",
          "model_name": "HBoxModel",
          "state": {
            "_view_name": "HBoxView",
            "_dom_classes": [],
            "_model_name": "HBoxModel",
            "_view_module": "@jupyter-widgets/controls",
            "_model_module_version": "1.5.0",
            "_view_count": null,
            "_view_module_version": "1.5.0",
            "box_style": "",
            "layout": "IPY_MODEL_ceb1f202028a4fc6bc646e36779c677d",
            "_model_module": "@jupyter-widgets/controls",
            "children": [
              "IPY_MODEL_d4bba1b8f4a44284ab6a22f7a438ed63",
              "IPY_MODEL_83518916f84b4aff805f51241f6ed0d2"
            ]
          }
        },
        "ceb1f202028a4fc6bc646e36779c677d": {
          "model_module": "@jupyter-widgets/base",
          "model_name": "LayoutModel",
          "state": {
            "_view_name": "LayoutView",
            "grid_template_rows": null,
            "right": null,
            "justify_content": null,
            "_view_module": "@jupyter-widgets/base",
            "overflow": null,
            "_model_module_version": "1.2.0",
            "_view_count": null,
            "flex_flow": null,
            "width": null,
            "min_width": null,
            "border": null,
            "align_items": null,
            "bottom": null,
            "_model_module": "@jupyter-widgets/base",
            "top": null,
            "grid_column": null,
            "overflow_y": null,
            "overflow_x": null,
            "grid_auto_flow": null,
            "grid_area": null,
            "grid_template_columns": null,
            "flex": null,
            "_model_name": "LayoutModel",
            "justify_items": null,
            "grid_row": null,
            "max_height": null,
            "align_content": null,
            "visibility": null,
            "align_self": null,
            "height": null,
            "min_height": null,
            "padding": null,
            "grid_auto_rows": null,
            "grid_gap": null,
            "max_width": null,
            "order": null,
            "_view_module_version": "1.2.0",
            "grid_template_areas": null,
            "object_position": null,
            "object_fit": null,
            "grid_auto_columns": null,
            "margin": null,
            "display": null,
            "left": null
          }
        },
        "d4bba1b8f4a44284ab6a22f7a438ed63": {
          "model_module": "@jupyter-widgets/controls",
          "model_name": "FloatProgressModel",
          "state": {
            "_view_name": "ProgressView",
            "style": "IPY_MODEL_63884da3865d4a289fd29a00540647f9",
            "_dom_classes": [],
            "description": "",
            "_model_name": "FloatProgressModel",
            "bar_style": "info",
            "max": 1,
            "_view_module": "@jupyter-widgets/controls",
            "_model_module_version": "1.5.0",
            "value": 1,
            "_view_count": null,
            "_view_module_version": "1.5.0",
            "orientation": "horizontal",
            "min": 0,
            "description_tooltip": null,
            "_model_module": "@jupyter-widgets/controls",
            "layout": "IPY_MODEL_154bece6220b4ec89aeeac4c81388363"
          }
        },
        "83518916f84b4aff805f51241f6ed0d2": {
          "model_module": "@jupyter-widgets/controls",
          "model_name": "HTMLModel",
          "state": {
            "_view_name": "HTMLView",
            "style": "IPY_MODEL_7fecc25ac54c475f9dccd26a52628aa2",
            "_dom_classes": [],
            "description": "",
            "_model_name": "HTMLModel",
            "placeholder": "​",
            "_view_module": "@jupyter-widgets/controls",
            "_model_module_version": "1.5.0",
            "value": " 9920512/? [00:19&lt;00:00, 1542324.12it/s]",
            "_view_count": null,
            "_view_module_version": "1.5.0",
            "description_tooltip": null,
            "_model_module": "@jupyter-widgets/controls",
            "layout": "IPY_MODEL_2c1410ae42df4326aec9f367d4234d50"
          }
        },
        "63884da3865d4a289fd29a00540647f9": {
          "model_module": "@jupyter-widgets/controls",
          "model_name": "ProgressStyleModel",
          "state": {
            "_view_name": "StyleView",
            "_model_name": "ProgressStyleModel",
            "description_width": "initial",
            "_view_module": "@jupyter-widgets/base",
            "_model_module_version": "1.5.0",
            "_view_count": null,
            "_view_module_version": "1.2.0",
            "bar_color": null,
            "_model_module": "@jupyter-widgets/controls"
          }
        },
        "154bece6220b4ec89aeeac4c81388363": {
          "model_module": "@jupyter-widgets/base",
          "model_name": "LayoutModel",
          "state": {
            "_view_name": "LayoutView",
            "grid_template_rows": null,
            "right": null,
            "justify_content": null,
            "_view_module": "@jupyter-widgets/base",
            "overflow": null,
            "_model_module_version": "1.2.0",
            "_view_count": null,
            "flex_flow": null,
            "width": null,
            "min_width": null,
            "border": null,
            "align_items": null,
            "bottom": null,
            "_model_module": "@jupyter-widgets/base",
            "top": null,
            "grid_column": null,
            "overflow_y": null,
            "overflow_x": null,
            "grid_auto_flow": null,
            "grid_area": null,
            "grid_template_columns": null,
            "flex": null,
            "_model_name": "LayoutModel",
            "justify_items": null,
            "grid_row": null,
            "max_height": null,
            "align_content": null,
            "visibility": null,
            "align_self": null,
            "height": null,
            "min_height": null,
            "padding": null,
            "grid_auto_rows": null,
            "grid_gap": null,
            "max_width": null,
            "order": null,
            "_view_module_version": "1.2.0",
            "grid_template_areas": null,
            "object_position": null,
            "object_fit": null,
            "grid_auto_columns": null,
            "margin": null,
            "display": null,
            "left": null
          }
        },
        "7fecc25ac54c475f9dccd26a52628aa2": {
          "model_module": "@jupyter-widgets/controls",
          "model_name": "DescriptionStyleModel",
          "state": {
            "_view_name": "StyleView",
            "_model_name": "DescriptionStyleModel",
            "description_width": "",
            "_view_module": "@jupyter-widgets/base",
            "_model_module_version": "1.5.0",
            "_view_count": null,
            "_view_module_version": "1.2.0",
            "_model_module": "@jupyter-widgets/controls"
          }
        },
        "2c1410ae42df4326aec9f367d4234d50": {
          "model_module": "@jupyter-widgets/base",
          "model_name": "LayoutModel",
          "state": {
            "_view_name": "LayoutView",
            "grid_template_rows": null,
            "right": null,
            "justify_content": null,
            "_view_module": "@jupyter-widgets/base",
            "overflow": null,
            "_model_module_version": "1.2.0",
            "_view_count": null,
            "flex_flow": null,
            "width": null,
            "min_width": null,
            "border": null,
            "align_items": null,
            "bottom": null,
            "_model_module": "@jupyter-widgets/base",
            "top": null,
            "grid_column": null,
            "overflow_y": null,
            "overflow_x": null,
            "grid_auto_flow": null,
            "grid_area": null,
            "grid_template_columns": null,
            "flex": null,
            "_model_name": "LayoutModel",
            "justify_items": null,
            "grid_row": null,
            "max_height": null,
            "align_content": null,
            "visibility": null,
            "align_self": null,
            "height": null,
            "min_height": null,
            "padding": null,
            "grid_auto_rows": null,
            "grid_gap": null,
            "max_width": null,
            "order": null,
            "_view_module_version": "1.2.0",
            "grid_template_areas": null,
            "object_position": null,
            "object_fit": null,
            "grid_auto_columns": null,
            "margin": null,
            "display": null,
            "left": null
          }
        },
        "474bdd3765d44f189995fb8cdf7988b7": {
          "model_module": "@jupyter-widgets/controls",
          "model_name": "HBoxModel",
          "state": {
            "_view_name": "HBoxView",
            "_dom_classes": [],
            "_model_name": "HBoxModel",
            "_view_module": "@jupyter-widgets/controls",
            "_model_module_version": "1.5.0",
            "_view_count": null,
            "_view_module_version": "1.5.0",
            "box_style": "",
            "layout": "IPY_MODEL_4be1385496cd475fa0cb08869762837c",
            "_model_module": "@jupyter-widgets/controls",
            "children": [
              "IPY_MODEL_4d4285562327466abf002c14ad7eb7fc",
              "IPY_MODEL_3d3174191ce34fba860d70a8f06f5ce3"
            ]
          }
        },
        "4be1385496cd475fa0cb08869762837c": {
          "model_module": "@jupyter-widgets/base",
          "model_name": "LayoutModel",
          "state": {
            "_view_name": "LayoutView",
            "grid_template_rows": null,
            "right": null,
            "justify_content": null,
            "_view_module": "@jupyter-widgets/base",
            "overflow": null,
            "_model_module_version": "1.2.0",
            "_view_count": null,
            "flex_flow": null,
            "width": null,
            "min_width": null,
            "border": null,
            "align_items": null,
            "bottom": null,
            "_model_module": "@jupyter-widgets/base",
            "top": null,
            "grid_column": null,
            "overflow_y": null,
            "overflow_x": null,
            "grid_auto_flow": null,
            "grid_area": null,
            "grid_template_columns": null,
            "flex": null,
            "_model_name": "LayoutModel",
            "justify_items": null,
            "grid_row": null,
            "max_height": null,
            "align_content": null,
            "visibility": null,
            "align_self": null,
            "height": null,
            "min_height": null,
            "padding": null,
            "grid_auto_rows": null,
            "grid_gap": null,
            "max_width": null,
            "order": null,
            "_view_module_version": "1.2.0",
            "grid_template_areas": null,
            "object_position": null,
            "object_fit": null,
            "grid_auto_columns": null,
            "margin": null,
            "display": null,
            "left": null
          }
        },
        "4d4285562327466abf002c14ad7eb7fc": {
          "model_module": "@jupyter-widgets/controls",
          "model_name": "FloatProgressModel",
          "state": {
            "_view_name": "ProgressView",
            "style": "IPY_MODEL_092f900fd15446ad9306210a40046e8f",
            "_dom_classes": [],
            "description": "",
            "_model_name": "FloatProgressModel",
            "bar_style": "success",
            "max": 1,
            "_view_module": "@jupyter-widgets/controls",
            "_model_module_version": "1.5.0",
            "value": 1,
            "_view_count": null,
            "_view_module_version": "1.5.0",
            "orientation": "horizontal",
            "min": 0,
            "description_tooltip": null,
            "_model_module": "@jupyter-widgets/controls",
            "layout": "IPY_MODEL_65a638babdf84ddd854214a2ce52d49b"
          }
        },
        "3d3174191ce34fba860d70a8f06f5ce3": {
          "model_module": "@jupyter-widgets/controls",
          "model_name": "HTMLModel",
          "state": {
            "_view_name": "HTMLView",
            "style": "IPY_MODEL_a9ce57bb75cd4465ad1f3dc4e2b27fa1",
            "_dom_classes": [],
            "description": "",
            "_model_name": "HTMLModel",
            "placeholder": "​",
            "_view_module": "@jupyter-widgets/controls",
            "_model_module_version": "1.5.0",
            "value": " 32768/? [00:00&lt;00:00, 50550.81it/s]",
            "_view_count": null,
            "_view_module_version": "1.5.0",
            "description_tooltip": null,
            "_model_module": "@jupyter-widgets/controls",
            "layout": "IPY_MODEL_707181b5370f42508b212d81380f068c"
          }
        },
        "092f900fd15446ad9306210a40046e8f": {
          "model_module": "@jupyter-widgets/controls",
          "model_name": "ProgressStyleModel",
          "state": {
            "_view_name": "StyleView",
            "_model_name": "ProgressStyleModel",
            "description_width": "initial",
            "_view_module": "@jupyter-widgets/base",
            "_model_module_version": "1.5.0",
            "_view_count": null,
            "_view_module_version": "1.2.0",
            "bar_color": null,
            "_model_module": "@jupyter-widgets/controls"
          }
        },
        "65a638babdf84ddd854214a2ce52d49b": {
          "model_module": "@jupyter-widgets/base",
          "model_name": "LayoutModel",
          "state": {
            "_view_name": "LayoutView",
            "grid_template_rows": null,
            "right": null,
            "justify_content": null,
            "_view_module": "@jupyter-widgets/base",
            "overflow": null,
            "_model_module_version": "1.2.0",
            "_view_count": null,
            "flex_flow": null,
            "width": null,
            "min_width": null,
            "border": null,
            "align_items": null,
            "bottom": null,
            "_model_module": "@jupyter-widgets/base",
            "top": null,
            "grid_column": null,
            "overflow_y": null,
            "overflow_x": null,
            "grid_auto_flow": null,
            "grid_area": null,
            "grid_template_columns": null,
            "flex": null,
            "_model_name": "LayoutModel",
            "justify_items": null,
            "grid_row": null,
            "max_height": null,
            "align_content": null,
            "visibility": null,
            "align_self": null,
            "height": null,
            "min_height": null,
            "padding": null,
            "grid_auto_rows": null,
            "grid_gap": null,
            "max_width": null,
            "order": null,
            "_view_module_version": "1.2.0",
            "grid_template_areas": null,
            "object_position": null,
            "object_fit": null,
            "grid_auto_columns": null,
            "margin": null,
            "display": null,
            "left": null
          }
        },
        "a9ce57bb75cd4465ad1f3dc4e2b27fa1": {
          "model_module": "@jupyter-widgets/controls",
          "model_name": "DescriptionStyleModel",
          "state": {
            "_view_name": "StyleView",
            "_model_name": "DescriptionStyleModel",
            "description_width": "",
            "_view_module": "@jupyter-widgets/base",
            "_model_module_version": "1.5.0",
            "_view_count": null,
            "_view_module_version": "1.2.0",
            "_model_module": "@jupyter-widgets/controls"
          }
        },
        "707181b5370f42508b212d81380f068c": {
          "model_module": "@jupyter-widgets/base",
          "model_name": "LayoutModel",
          "state": {
            "_view_name": "LayoutView",
            "grid_template_rows": null,
            "right": null,
            "justify_content": null,
            "_view_module": "@jupyter-widgets/base",
            "overflow": null,
            "_model_module_version": "1.2.0",
            "_view_count": null,
            "flex_flow": null,
            "width": null,
            "min_width": null,
            "border": null,
            "align_items": null,
            "bottom": null,
            "_model_module": "@jupyter-widgets/base",
            "top": null,
            "grid_column": null,
            "overflow_y": null,
            "overflow_x": null,
            "grid_auto_flow": null,
            "grid_area": null,
            "grid_template_columns": null,
            "flex": null,
            "_model_name": "LayoutModel",
            "justify_items": null,
            "grid_row": null,
            "max_height": null,
            "align_content": null,
            "visibility": null,
            "align_self": null,
            "height": null,
            "min_height": null,
            "padding": null,
            "grid_auto_rows": null,
            "grid_gap": null,
            "max_width": null,
            "order": null,
            "_view_module_version": "1.2.0",
            "grid_template_areas": null,
            "object_position": null,
            "object_fit": null,
            "grid_auto_columns": null,
            "margin": null,
            "display": null,
            "left": null
          }
        },
        "8004d3fbe6594fb99dd34138e653a2f9": {
          "model_module": "@jupyter-widgets/controls",
          "model_name": "HBoxModel",
          "state": {
            "_view_name": "HBoxView",
            "_dom_classes": [],
            "_model_name": "HBoxModel",
            "_view_module": "@jupyter-widgets/controls",
            "_model_module_version": "1.5.0",
            "_view_count": null,
            "_view_module_version": "1.5.0",
            "box_style": "",
            "layout": "IPY_MODEL_19fca5a038c2433ebedca8ab7ccb5367",
            "_model_module": "@jupyter-widgets/controls",
            "children": [
              "IPY_MODEL_da1251f800a84d00a88b4ef0a0a34597",
              "IPY_MODEL_c0f687c6576f48b7a7d2c8c7414f9eb2"
            ]
          }
        },
        "19fca5a038c2433ebedca8ab7ccb5367": {
          "model_module": "@jupyter-widgets/base",
          "model_name": "LayoutModel",
          "state": {
            "_view_name": "LayoutView",
            "grid_template_rows": null,
            "right": null,
            "justify_content": null,
            "_view_module": "@jupyter-widgets/base",
            "overflow": null,
            "_model_module_version": "1.2.0",
            "_view_count": null,
            "flex_flow": null,
            "width": null,
            "min_width": null,
            "border": null,
            "align_items": null,
            "bottom": null,
            "_model_module": "@jupyter-widgets/base",
            "top": null,
            "grid_column": null,
            "overflow_y": null,
            "overflow_x": null,
            "grid_auto_flow": null,
            "grid_area": null,
            "grid_template_columns": null,
            "flex": null,
            "_model_name": "LayoutModel",
            "justify_items": null,
            "grid_row": null,
            "max_height": null,
            "align_content": null,
            "visibility": null,
            "align_self": null,
            "height": null,
            "min_height": null,
            "padding": null,
            "grid_auto_rows": null,
            "grid_gap": null,
            "max_width": null,
            "order": null,
            "_view_module_version": "1.2.0",
            "grid_template_areas": null,
            "object_position": null,
            "object_fit": null,
            "grid_auto_columns": null,
            "margin": null,
            "display": null,
            "left": null
          }
        },
        "da1251f800a84d00a88b4ef0a0a34597": {
          "model_module": "@jupyter-widgets/controls",
          "model_name": "FloatProgressModel",
          "state": {
            "_view_name": "ProgressView",
            "style": "IPY_MODEL_24805f39c56944ef83fceb75b64604fb",
            "_dom_classes": [],
            "description": "",
            "_model_name": "FloatProgressModel",
            "bar_style": "info",
            "max": 1,
            "_view_module": "@jupyter-widgets/controls",
            "_model_module_version": "1.5.0",
            "value": 1,
            "_view_count": null,
            "_view_module_version": "1.5.0",
            "orientation": "horizontal",
            "min": 0,
            "description_tooltip": null,
            "_model_module": "@jupyter-widgets/controls",
            "layout": "IPY_MODEL_010a7f2d7b5e45d184ba301b8013c4ea"
          }
        },
        "c0f687c6576f48b7a7d2c8c7414f9eb2": {
          "model_module": "@jupyter-widgets/controls",
          "model_name": "HTMLModel",
          "state": {
            "_view_name": "HTMLView",
            "style": "IPY_MODEL_3ba14e03704d4e4194f7df96e9709854",
            "_dom_classes": [],
            "description": "",
            "_model_name": "HTMLModel",
            "placeholder": "​",
            "_view_module": "@jupyter-widgets/controls",
            "_model_module_version": "1.5.0",
            "value": " 1654784/? [00:16&lt;00:00, 288648.06it/s]",
            "_view_count": null,
            "_view_module_version": "1.5.0",
            "description_tooltip": null,
            "_model_module": "@jupyter-widgets/controls",
            "layout": "IPY_MODEL_e1653685ef5645e5a68f47f41bce09d2"
          }
        },
        "24805f39c56944ef83fceb75b64604fb": {
          "model_module": "@jupyter-widgets/controls",
          "model_name": "ProgressStyleModel",
          "state": {
            "_view_name": "StyleView",
            "_model_name": "ProgressStyleModel",
            "description_width": "initial",
            "_view_module": "@jupyter-widgets/base",
            "_model_module_version": "1.5.0",
            "_view_count": null,
            "_view_module_version": "1.2.0",
            "bar_color": null,
            "_model_module": "@jupyter-widgets/controls"
          }
        },
        "010a7f2d7b5e45d184ba301b8013c4ea": {
          "model_module": "@jupyter-widgets/base",
          "model_name": "LayoutModel",
          "state": {
            "_view_name": "LayoutView",
            "grid_template_rows": null,
            "right": null,
            "justify_content": null,
            "_view_module": "@jupyter-widgets/base",
            "overflow": null,
            "_model_module_version": "1.2.0",
            "_view_count": null,
            "flex_flow": null,
            "width": null,
            "min_width": null,
            "border": null,
            "align_items": null,
            "bottom": null,
            "_model_module": "@jupyter-widgets/base",
            "top": null,
            "grid_column": null,
            "overflow_y": null,
            "overflow_x": null,
            "grid_auto_flow": null,
            "grid_area": null,
            "grid_template_columns": null,
            "flex": null,
            "_model_name": "LayoutModel",
            "justify_items": null,
            "grid_row": null,
            "max_height": null,
            "align_content": null,
            "visibility": null,
            "align_self": null,
            "height": null,
            "min_height": null,
            "padding": null,
            "grid_auto_rows": null,
            "grid_gap": null,
            "max_width": null,
            "order": null,
            "_view_module_version": "1.2.0",
            "grid_template_areas": null,
            "object_position": null,
            "object_fit": null,
            "grid_auto_columns": null,
            "margin": null,
            "display": null,
            "left": null
          }
        },
        "3ba14e03704d4e4194f7df96e9709854": {
          "model_module": "@jupyter-widgets/controls",
          "model_name": "DescriptionStyleModel",
          "state": {
            "_view_name": "StyleView",
            "_model_name": "DescriptionStyleModel",
            "description_width": "",
            "_view_module": "@jupyter-widgets/base",
            "_model_module_version": "1.5.0",
            "_view_count": null,
            "_view_module_version": "1.2.0",
            "_model_module": "@jupyter-widgets/controls"
          }
        },
        "e1653685ef5645e5a68f47f41bce09d2": {
          "model_module": "@jupyter-widgets/base",
          "model_name": "LayoutModel",
          "state": {
            "_view_name": "LayoutView",
            "grid_template_rows": null,
            "right": null,
            "justify_content": null,
            "_view_module": "@jupyter-widgets/base",
            "overflow": null,
            "_model_module_version": "1.2.0",
            "_view_count": null,
            "flex_flow": null,
            "width": null,
            "min_width": null,
            "border": null,
            "align_items": null,
            "bottom": null,
            "_model_module": "@jupyter-widgets/base",
            "top": null,
            "grid_column": null,
            "overflow_y": null,
            "overflow_x": null,
            "grid_auto_flow": null,
            "grid_area": null,
            "grid_template_columns": null,
            "flex": null,
            "_model_name": "LayoutModel",
            "justify_items": null,
            "grid_row": null,
            "max_height": null,
            "align_content": null,
            "visibility": null,
            "align_self": null,
            "height": null,
            "min_height": null,
            "padding": null,
            "grid_auto_rows": null,
            "grid_gap": null,
            "max_width": null,
            "order": null,
            "_view_module_version": "1.2.0",
            "grid_template_areas": null,
            "object_position": null,
            "object_fit": null,
            "grid_auto_columns": null,
            "margin": null,
            "display": null,
            "left": null
          }
        },
        "149c62f8be5c496cb4b0e26c67765315": {
          "model_module": "@jupyter-widgets/controls",
          "model_name": "HBoxModel",
          "state": {
            "_view_name": "HBoxView",
            "_dom_classes": [],
            "_model_name": "HBoxModel",
            "_view_module": "@jupyter-widgets/controls",
            "_model_module_version": "1.5.0",
            "_view_count": null,
            "_view_module_version": "1.5.0",
            "box_style": "",
            "layout": "IPY_MODEL_1bb21380c3e24841bb5ac9ee9ddf734d",
            "_model_module": "@jupyter-widgets/controls",
            "children": [
              "IPY_MODEL_ee2e22a856d94b6fb2c88dc0f54bc6d3",
              "IPY_MODEL_599e1aca11c04a0584921e274abaf3b1"
            ]
          }
        },
        "1bb21380c3e24841bb5ac9ee9ddf734d": {
          "model_module": "@jupyter-widgets/base",
          "model_name": "LayoutModel",
          "state": {
            "_view_name": "LayoutView",
            "grid_template_rows": null,
            "right": null,
            "justify_content": null,
            "_view_module": "@jupyter-widgets/base",
            "overflow": null,
            "_model_module_version": "1.2.0",
            "_view_count": null,
            "flex_flow": null,
            "width": null,
            "min_width": null,
            "border": null,
            "align_items": null,
            "bottom": null,
            "_model_module": "@jupyter-widgets/base",
            "top": null,
            "grid_column": null,
            "overflow_y": null,
            "overflow_x": null,
            "grid_auto_flow": null,
            "grid_area": null,
            "grid_template_columns": null,
            "flex": null,
            "_model_name": "LayoutModel",
            "justify_items": null,
            "grid_row": null,
            "max_height": null,
            "align_content": null,
            "visibility": null,
            "align_self": null,
            "height": null,
            "min_height": null,
            "padding": null,
            "grid_auto_rows": null,
            "grid_gap": null,
            "max_width": null,
            "order": null,
            "_view_module_version": "1.2.0",
            "grid_template_areas": null,
            "object_position": null,
            "object_fit": null,
            "grid_auto_columns": null,
            "margin": null,
            "display": null,
            "left": null
          }
        },
        "ee2e22a856d94b6fb2c88dc0f54bc6d3": {
          "model_module": "@jupyter-widgets/controls",
          "model_name": "FloatProgressModel",
          "state": {
            "_view_name": "ProgressView",
            "style": "IPY_MODEL_3956817957314c969f9cd7ff518b933b",
            "_dom_classes": [],
            "description": "  0%",
            "_model_name": "FloatProgressModel",
            "bar_style": "info",
            "max": 1,
            "_view_module": "@jupyter-widgets/controls",
            "_model_module_version": "1.5.0",
            "value": 0,
            "_view_count": null,
            "_view_module_version": "1.5.0",
            "orientation": "horizontal",
            "min": 0,
            "description_tooltip": null,
            "_model_module": "@jupyter-widgets/controls",
            "layout": "IPY_MODEL_ae52affd91b34c7a815034b2e51970ac"
          }
        },
        "599e1aca11c04a0584921e274abaf3b1": {
          "model_module": "@jupyter-widgets/controls",
          "model_name": "HTMLModel",
          "state": {
            "_view_name": "HTMLView",
            "style": "IPY_MODEL_568e75b8fba1451b8c36d58a8e40fa1a",
            "_dom_classes": [],
            "description": "",
            "_model_name": "HTMLModel",
            "placeholder": "​",
            "_view_module": "@jupyter-widgets/controls",
            "_model_module_version": "1.5.0",
            "value": " 0/4542 [00:00&lt;?, ?it/s]",
            "_view_count": null,
            "_view_module_version": "1.5.0",
            "description_tooltip": null,
            "_model_module": "@jupyter-widgets/controls",
            "layout": "IPY_MODEL_cb754f50dcbd4e0eaae9883319330c72"
          }
        },
        "3956817957314c969f9cd7ff518b933b": {
          "model_module": "@jupyter-widgets/controls",
          "model_name": "ProgressStyleModel",
          "state": {
            "_view_name": "StyleView",
            "_model_name": "ProgressStyleModel",
            "description_width": "initial",
            "_view_module": "@jupyter-widgets/base",
            "_model_module_version": "1.5.0",
            "_view_count": null,
            "_view_module_version": "1.2.0",
            "bar_color": null,
            "_model_module": "@jupyter-widgets/controls"
          }
        },
        "ae52affd91b34c7a815034b2e51970ac": {
          "model_module": "@jupyter-widgets/base",
          "model_name": "LayoutModel",
          "state": {
            "_view_name": "LayoutView",
            "grid_template_rows": null,
            "right": null,
            "justify_content": null,
            "_view_module": "@jupyter-widgets/base",
            "overflow": null,
            "_model_module_version": "1.2.0",
            "_view_count": null,
            "flex_flow": null,
            "width": null,
            "min_width": null,
            "border": null,
            "align_items": null,
            "bottom": null,
            "_model_module": "@jupyter-widgets/base",
            "top": null,
            "grid_column": null,
            "overflow_y": null,
            "overflow_x": null,
            "grid_auto_flow": null,
            "grid_area": null,
            "grid_template_columns": null,
            "flex": null,
            "_model_name": "LayoutModel",
            "justify_items": null,
            "grid_row": null,
            "max_height": null,
            "align_content": null,
            "visibility": null,
            "align_self": null,
            "height": null,
            "min_height": null,
            "padding": null,
            "grid_auto_rows": null,
            "grid_gap": null,
            "max_width": null,
            "order": null,
            "_view_module_version": "1.2.0",
            "grid_template_areas": null,
            "object_position": null,
            "object_fit": null,
            "grid_auto_columns": null,
            "margin": null,
            "display": null,
            "left": null
          }
        },
        "568e75b8fba1451b8c36d58a8e40fa1a": {
          "model_module": "@jupyter-widgets/controls",
          "model_name": "DescriptionStyleModel",
          "state": {
            "_view_name": "StyleView",
            "_model_name": "DescriptionStyleModel",
            "description_width": "",
            "_view_module": "@jupyter-widgets/base",
            "_model_module_version": "1.5.0",
            "_view_count": null,
            "_view_module_version": "1.2.0",
            "_model_module": "@jupyter-widgets/controls"
          }
        },
        "cb754f50dcbd4e0eaae9883319330c72": {
          "model_module": "@jupyter-widgets/base",
          "model_name": "LayoutModel",
          "state": {
            "_view_name": "LayoutView",
            "grid_template_rows": null,
            "right": null,
            "justify_content": null,
            "_view_module": "@jupyter-widgets/base",
            "overflow": null,
            "_model_module_version": "1.2.0",
            "_view_count": null,
            "flex_flow": null,
            "width": null,
            "min_width": null,
            "border": null,
            "align_items": null,
            "bottom": null,
            "_model_module": "@jupyter-widgets/base",
            "top": null,
            "grid_column": null,
            "overflow_y": null,
            "overflow_x": null,
            "grid_auto_flow": null,
            "grid_area": null,
            "grid_template_columns": null,
            "flex": null,
            "_model_name": "LayoutModel",
            "justify_items": null,
            "grid_row": null,
            "max_height": null,
            "align_content": null,
            "visibility": null,
            "align_self": null,
            "height": null,
            "min_height": null,
            "padding": null,
            "grid_auto_rows": null,
            "grid_gap": null,
            "max_width": null,
            "order": null,
            "_view_module_version": "1.2.0",
            "grid_template_areas": null,
            "object_position": null,
            "object_fit": null,
            "grid_auto_columns": null,
            "margin": null,
            "display": null,
            "left": null
          }
        }
      }
    }
  },
  "cells": [
    {
      "cell_type": "markdown",
      "metadata": {
        "id": "view-in-github",
        "colab_type": "text"
      },
      "source": [
        "<a href=\"https://colab.research.google.com/github/jvallalta/ia3/blob/main/1_RNNcell_PT.ipynb\" target=\"_parent\"><img src=\"https://colab.research.google.com/assets/colab-badge.svg\" alt=\"Open In Colab\"/></a>"
      ]
    },
    {
      "cell_type": "markdown",
      "metadata": {
        "id": "pdMe4F7s96iD"
      },
      "source": [
        "![IDAL](https://i.imgur.com/tIKXIG1.jpg)  \r\n",
        "\r\n",
        "#**Máster en Inteligencia Artificial Avanzada y Aplicada:  IA^3**\r\n",
        "---"
      ]
    },
    {
      "cell_type": "markdown",
      "metadata": {
        "id": "BVq5mz9s8CPL"
      },
      "source": [
        "#<strong><center>Construcción de RNNs es con PyTorch y Google Colab</center></strong>\n",
        "En este cuaderno, vamos a estudiar cómo construir una red neuronal recurrente (RNN) con una sola capa, que inicialmente consiste en una sola neurona, con PyTorch y Google Colab. Trasladaremos el concepto de una sola neurona recurrente a una célula de neuronas recurrentes en una sola capa y cómo implementar un modelo simple basado en RNN para la clasificación de imágenes.\n",
        "\n",
        "Este trabajo está fuertemente inspirado en el libro de Aurélien Géron llamado [\"Hand-On Machine Learning with Scikit-Learn and TensorFlow\"](https://www.oreilly.com/library/view/hands-on-machine-learning/9781491962282/). Aunque sus implementaciones de redes neuronales son puramente en TensorFlow, se han adoptado algunas notaciones/nombres de variables e implementado usando sólo PyTorch. Es un gran su libro y resulta ideal para aprender bien sobre este tema, por lo que recomiendo encarecidamente el libro.\n",
        "\n",
        "Vamos a utilizar Google Colab por lo que necesitamos instalar manualmente la biblioteca PyTorch primero. Puedes hacerlo usando el siguiente comando:"
      ]
    },
    {
      "cell_type": "code",
      "metadata": {
        "id": "hicY8Xs6_dI4",
        "colab": {
          "base_uri": "https://localhost:8080/"
        },
        "outputId": "92a56122-b5c7-41d2-bf63-3329957253a2"
      },
      "source": [
        "!pip3 install torch torchvision"
      ],
      "execution_count": 2,
      "outputs": [
        {
          "output_type": "stream",
          "text": [
            "Requirement already satisfied: torch in /usr/local/lib/python3.6/dist-packages (1.7.0+cu101)\n",
            "Requirement already satisfied: torchvision in /usr/local/lib/python3.6/dist-packages (0.8.1+cu101)\n",
            "Requirement already satisfied: numpy in /usr/local/lib/python3.6/dist-packages (from torch) (1.19.5)\n",
            "Requirement already satisfied: typing-extensions in /usr/local/lib/python3.6/dist-packages (from torch) (3.7.4.3)\n",
            "Requirement already satisfied: dataclasses in /usr/local/lib/python3.6/dist-packages (from torch) (0.8)\n",
            "Requirement already satisfied: future in /usr/local/lib/python3.6/dist-packages (from torch) (0.16.0)\n",
            "Requirement already satisfied: pillow>=4.1.1 in /usr/local/lib/python3.6/dist-packages (from torchvision) (7.0.0)\n"
          ],
          "name": "stdout"
        }
      ]
    },
    {
      "cell_type": "markdown",
      "metadata": {
        "id": "mXs_oWct-qxY"
      },
      "source": [
        "Ahora ya podemos realizar la importación de modulos necesarios:"
      ]
    },
    {
      "cell_type": "code",
      "metadata": {
        "id": "BBuAr4-L8CPN"
      },
      "source": [
        "import torch\n",
        "import torch.nn as nn\n",
        "import torch.nn.functional as F\n",
        "import os\n",
        "import numpy as np"
      ],
      "execution_count": 3,
      "outputs": []
    },
    {
      "cell_type": "markdown",
      "metadata": {
        "id": "EMQfRrRl8CPV"
      },
      "source": [
        "### RNN con una sola neurona\n",
        "\n",
        "\n",
        "La idea de este tutorial es mostrarte las operaciones básicas necesarias para construir una arquitectura RNN usando PyTorch. En este punto se asume que tienes conocimientos de RNNs básicas, al menos de forma teorica.\n",
        "\n",
        "En primer lugar, vamos a construir el gráfico de cálculo para una RNN de una sola capa. No nos preocupamos por las matemáticas por ahora, sólo vamos a centrarnos en las operaciones de PyTorch necesarias para construir los modelos RNN.\n",
        "\n",
        "A modo de ilustración, esta es la arquitectura que estamos construyendo:\n",
        "\n",
        "![alt txt](https://docs.google.com/drawings/d/e/2PACX-1vQXBLYvvI1dqAHdLA0hQdsP1PojmCfuSCMK2DXEL0uTvRUqvD1eYK8fsECcNCoekxCbgWJ-k7QF_1s4/pub?w=600&h=400)"
      ]
    },
    {
      "cell_type": "markdown",
      "metadata": {
        "id": "kHjE4j2x8CPW"
      },
      "source": [
        "Y el código:"
      ]
    },
    {
      "cell_type": "code",
      "metadata": {
        "id": "qiY3EllI8CPY"
      },
      "source": [
        "class SingleRNN(nn.Module):\n",
        "    def __init__(self, n_inputs, n_neurons):\n",
        "        super(SingleRNN, self).__init__()\n",
        "        \n",
        "        self.Wx = torch.randn(n_inputs, n_neurons) # 4 X 1\n",
        "        self.Wy = torch.randn(n_neurons, n_neurons) # 1 X 1\n",
        "        \n",
        "        self.b = torch.zeros(1, n_neurons) # 1 X 4\n",
        "        \n",
        "    def forward(self, X0, X1):\n",
        "        self.Y0 = torch.tanh(torch.mm(X0, self.Wx) + self.b) # 4 X 1\n",
        "        \n",
        "        self.Y1 = torch.tanh(torch.mm(self.Y0, self.Wy) +\n",
        "                            torch.mm(X1, self.Wx) + self.b) # 4 X 1\n",
        "        \n",
        "        return self.Y0, self.Y1"
      ],
      "execution_count": 5,
      "outputs": []
    },
    {
      "cell_type": "markdown",
      "metadata": {
        "id": "cP94VBHE8CPc"
      },
      "source": [
        "En el código anterior, se ha implementado una simple RNN de una capa y una neurona. Se han inicializado dos matrices de pesos, `Wx` y `Wy` con valores de una distribución normal. `Wx` contiene los pesos de conexión para las entradas del paso de tiempo actual, mientras que `Wy` contiene los pesos de conexión para las salidas del paso de tiempo anterior. Añadimos un sesgo `b`. La función `forward` calcula dos salidas - una para cada paso de tiempo... dos en este caso. Teng en cuenta que estamos utilizando `tanh` como la no linealidad (función de activación).\n",
        "\n",
        "En cuanto a la entrada, estamos proporcionando 4 instancias, con cada instancia que contiene dos secuencias de entrada.\n",
        "\n",
        "A modo de ilustración, así es como se introducen los datos en el modelo RNN: \n",
        "\n",
        "![alt txt](https://docs.google.com/drawings/d/e/2PACX-1vRpQYtOzO1U_3yQLf1885kMaja6MsXtJ8QnlqxrfpTgZmb4WpewJXphGdmotYXDB1VE6zlW6cBY_WqR/pub?w=600&h=600)"
      ]
    },
    {
      "cell_type": "markdown",
      "metadata": {
        "id": "ydSxau_eFpwH"
      },
      "source": [
        "Y este el código para testear el modelo:"
      ]
    },
    {
      "cell_type": "code",
      "metadata": {
        "id": "7a7-kIhj8CPe"
      },
      "source": [
        "N_INPUT = 4\n",
        "N_NEURONS = 1\n",
        "\n",
        "X0_batch = torch.tensor([[0,1,2,0], [3,4,5,0], \n",
        "                         [6,7,8,0], [9,0,1,0]],\n",
        "                        dtype = torch.float) #t=0 => 4 X 4\n",
        "\n",
        "X1_batch = torch.tensor([[9,8,7,0], [0,0,0,0], \n",
        "                         [6,5,4,0], [3,2,1,0]],\n",
        "                        dtype = torch.float) #t=1 => 4 X 4\n",
        "\n",
        "model = SingleRNN(N_INPUT, N_NEURONS)\n",
        "\n",
        "Y0_val, Y1_val = model(X0_batch, X1_batch)"
      ],
      "execution_count": 7,
      "outputs": []
    },
    {
      "cell_type": "markdown",
      "metadata": {
        "id": "uNaFkJUP8CPj"
      },
      "source": [
        "Después de haber introducido la entrada en el gráfico de cálculo, obtenemos salidas para cada paso de tiempo (`Y0`, `Y1`), que ahora podemos imprimir como sigue:"
      ]
    },
    {
      "cell_type": "code",
      "metadata": {
        "id": "q-teLNoV8CPl",
        "colab": {
          "base_uri": "https://localhost:8080/"
        },
        "outputId": "2e4e0a3e-f546-4068-d572-8441f748cba3"
      },
      "source": [
        "print(Y0_val)\n",
        "print(Y1_val)"
      ],
      "execution_count": null,
      "outputs": [
        {
          "output_type": "stream",
          "text": [
            "tensor([[-0.5958],\n",
            "        [-0.8295],\n",
            "        [-0.9337],\n",
            "        [ 0.9680]])\n",
            "tensor([[-0.6494],\n",
            "        [ 0.0534],\n",
            "        [-0.2475],\n",
            "        [ 0.1238]])\n"
          ],
          "name": "stdout"
        }
      ]
    },
    {
      "cell_type": "markdown",
      "metadata": {
        "id": "n6tcX6ii8CP0"
      },
      "source": [
        "### Aumentar las neuronas en la capa RNN\n",
        "A continuación, veremos cómo generalizar la RNN que acabamos de construir para que la capa única soporte una `n` cantidad de neuronas. En términos de la arquitectura, nada cambia realmente ya que hemos parametrizado el número de neuronas en el gráfico de cálculo que hemos construido. Sin embargo, el tamaño de la salida cambia ya que hemos cambiado el tamaño del número de unidades (es decir, neuronas) en la capa RNN. \n",
        "\n",
        "He aquí una ilustración de lo que vamos a construir:\n",
        "\n",
        "![alt txt](https://docs.google.com/drawings/d/e/2PACX-1vQov6BGg1fXOb7Bg5zenPh7R5j6VsZJh_D6JevQ_sm_fCxmXORxad3qLIFGG1FojzJig0qdcAQoGYoN/pub?w=600&h=404)"
      ]
    },
    {
      "cell_type": "markdown",
      "metadata": {
        "id": "t5e2Eh5dGvnB"
      },
      "source": [
        "Y el código:"
      ]
    },
    {
      "cell_type": "code",
      "metadata": {
        "id": "zcEqoDfP8CP2"
      },
      "source": [
        "class BasicRNN(nn.Module):\n",
        "    def __init__(self, n_inputs, n_neurons):\n",
        "        super(BasicRNN, self).__init__()\n",
        "        \n",
        "        self.Wx = torch.randn(n_inputs, n_neurons) # n_inputs X n_neurons\n",
        "        self.Wy = torch.randn(n_neurons, n_neurons) # n_neurons X n_neurons\n",
        "        \n",
        "        self.b = torch.zeros(1, n_neurons) # 1 X n_neurons\n",
        "    \n",
        "    def forward(self, X0, X1):\n",
        "        self.Y0 = torch.tanh(torch.mm(X0, self.Wx) + self.b) # batch_size X n_neurons\n",
        "        \n",
        "        self.Y1 = torch.tanh(torch.mm(self.Y0, self.Wy) +\n",
        "                            torch.mm(X1, self.Wx) + self.b) # batch_size X n_neurons\n",
        "        \n",
        "        return self.Y0, self.Y1"
      ],
      "execution_count": 8,
      "outputs": []
    },
    {
      "cell_type": "code",
      "metadata": {
        "id": "xlc4vEf88CP5"
      },
      "source": [
        "N_INPUT = 3 # number of features in input\n",
        "N_NEURONS = 5 # number of units in layer\n",
        "\n",
        "X0_batch = torch.tensor([[0,1,2], [3,4,5], \n",
        "                         [6,7,8], [9,0,1]],\n",
        "                        dtype = torch.float) #t=0 => 4 X 3\n",
        "\n",
        "X1_batch = torch.tensor([[9,8,7], [0,0,0], \n",
        "                         [6,5,4], [3,2,1]],\n",
        "                        dtype = torch.float) #t=1 => 4 X 3\n",
        "\n",
        "model = BasicRNN(N_INPUT, N_NEURONS)\n",
        "\n",
        "Y0_val, Y1_val = model(X0_batch, X1_batch)"
      ],
      "execution_count": 9,
      "outputs": []
    },
    {
      "cell_type": "markdown",
      "metadata": {
        "id": "c9VNN7jf8CP9"
      },
      "source": [
        "Ahora cuando imprimimos las salidas producidas para cada paso de tiempo, es de tamaño (`4 X 5`), que representa el tamaño del lote y el número de neuronas, respectivamente."
      ]
    },
    {
      "cell_type": "code",
      "metadata": {
        "id": "r1kiEzop8CP-",
        "colab": {
          "base_uri": "https://localhost:8080/"
        },
        "outputId": "a724574a-b542-47c6-d3e5-b519481ede88"
      },
      "source": [
        "print(Y0_val)\n",
        "print(Y1_val)"
      ],
      "execution_count": 10,
      "outputs": [
        {
          "output_type": "stream",
          "text": [
            "tensor([[-0.7165,  0.3600, -0.8273,  0.6142, -0.9570],\n",
            "        [-0.9334, -0.7547, -1.0000, -0.7477, -0.9481],\n",
            "        [-0.9857, -0.9818, -1.0000, -0.9901, -0.9375],\n",
            "        [-0.6185,  0.5402, -1.0000, -1.0000,  0.9958]])\n",
            "tensor([[-0.8913, -0.9994, -1.0000, -1.0000,  0.8548],\n",
            "        [ 0.9419,  0.9921,  0.9723, -0.9954, -0.3357],\n",
            "        [ 0.8898,  0.1007, -1.0000, -1.0000,  0.9547],\n",
            "        [ 0.9948, -0.8365, -1.0000, -0.9985,  0.8772]])\n"
          ],
          "name": "stdout"
        }
      ]
    },
    {
      "cell_type": "markdown",
      "metadata": {
        "id": "BRKjsv2t8CQG"
      },
      "source": [
        "### Célula RNN propia de PyTorch"
      ]
    },
    {
      "cell_type": "markdown",
      "metadata": {
        "id": "Rcu2H6D88CQH"
      },
      "source": [
        "Si observamos detenidamente el gráfico de cálculo `BasicRNN` que acabamos de construir, tiene un grave defecto. ¿Qué pasaría si quisiéramos construir una arquitectura que soportara entradas y salidas extremadamente grandes? La forma en que está construida actualmente, nos obligaría a calcular individualmente las salidas para cada paso de tiempo, aumentando las líneas de código necesarias para implementar el gráfico de cálculo deseado. A continuación vamos a ver como implementar esto de manera más eficiente y limpia utilizando el módulo incorporado RNNCell.\n",
        "\n",
        "Primero vamos a intentar implementar esto de manera informal para analizar el papel que juega `RNCell`:"
      ]
    },
    {
      "cell_type": "code",
      "metadata": {
        "id": "Dp0Wjh4Z8CQI",
        "colab": {
          "base_uri": "https://localhost:8080/"
        },
        "outputId": "9b85293b-58f5-41f8-fa68-bd22b54f9116"
      },
      "source": [
        "rnn = nn.RNNCell(3, 5) # n_input X n_neurons\n",
        "\n",
        "X_batch = torch.tensor([[[0,1,2], [3,4,5], \n",
        "                         [6,7,8], [9,0,1]],\n",
        "                        [[9,8,7], [0,0,0], \n",
        "                         [6,5,4], [3,2,1]]\n",
        "                       ], dtype = torch.float) # X0 and X1\n",
        "\n",
        "hx = torch.randn(4, 5) # m X n_neurons\n",
        "output = []\n",
        "\n",
        "# for each time step\n",
        "for i in range(2):\n",
        "    hx = rnn(X_batch[i], hx)\n",
        "    output.append(hx)\n",
        "\n",
        "print(output)"
      ],
      "execution_count": 12,
      "outputs": [
        {
          "output_type": "stream",
          "text": [
            "[tensor([[-0.2340, -0.0125, -0.4344,  0.1568,  0.8422],\n",
            "        [-0.3440, -0.8864,  0.0913,  0.8135,  0.9975],\n",
            "        [-0.7866, -0.9799,  0.6220,  0.9741,  1.0000],\n",
            "        [-0.6414, -0.9786,  0.9060,  0.9961,  0.9959]], grad_fn=<TanhBackward>), tensor([[-0.4558, -0.9700,  0.9332,  0.9883,  1.0000],\n",
            "        [ 0.7665,  0.2157, -0.3354,  0.0192,  0.2524],\n",
            "        [ 0.6805, -0.9052,  0.7435,  0.9191,  0.9996],\n",
            "        [ 0.8684, -0.5869,  0.3058,  0.6224,  0.9415]], grad_fn=<TanhBackward>)]\n"
          ],
          "name": "stdout"
        }
      ]
    },
    {
      "cell_type": "markdown",
      "metadata": {
        "id": "cRNUCsXl8CQN"
      },
      "source": [
        "Con el código anterior, hemos implementado básicamente el mismo modelo que se implementó en `BasicRNN`. El código `torch.RNCell(...)` hace toda la \"magia\" de crear y mantener los pesos y sesgos necesarios para nosotros. `Torch.RNNCell` acepta un tensor como entrada y da como resultado el siguiente estado oculto para cada elemento del lote. Lee más sobre este módulo [aquí](https://pytorch.org/docs/stable/nn.html?highlight=rnncell#torch.nn.RNNCell).\n",
        "\n",
        "Ahora, vamos a definir la función usando la misma información que usamos anteriormente."
      ]
    },
    {
      "cell_type": "code",
      "metadata": {
        "id": "Opob45Zj8CQP"
      },
      "source": [
        "class CleanBasicRNN(nn.Module):\n",
        "    def __init__(self, batch_size, n_inputs, n_neurons):\n",
        "        super(CleanBasicRNN, self).__init__()\n",
        "        \n",
        "        self.rnn = nn.RNNCell(n_inputs, n_neurons)\n",
        "        self.hx = torch.randn(batch_size, n_neurons) # initialize hidden state\n",
        "        \n",
        "    def forward(self, X):\n",
        "        output = []\n",
        "\n",
        "        # for each time step\n",
        "        for i in range(2):\n",
        "            self.hx = self.rnn(X[i], self.hx)\n",
        "            output.append(self.hx)\n",
        "        \n",
        "        return output, self.hx"
      ],
      "execution_count": 13,
      "outputs": []
    },
    {
      "cell_type": "code",
      "metadata": {
        "id": "oL1yBNis8CQa",
        "colab": {
          "base_uri": "https://localhost:8080/"
        },
        "outputId": "21d1bf7e-baa3-4d3f-f40a-bed654d6c201"
      },
      "source": [
        "FIXED_BATCH_SIZE = 4 # our batch size is fixed for now\n",
        "N_INPUT = 3\n",
        "N_NEURONS = 5\n",
        "\n",
        "X_batch = torch.tensor([[[0,1,2], [3,4,5], \n",
        "                         [6,7,8], [9,0,1]],\n",
        "                        [[9,8,7], [0,0,0], \n",
        "                         [6,5,4], [3,2,1]]\n",
        "                       ], dtype = torch.float) # X0 and X1\n",
        "\n",
        "\n",
        "model = CleanBasicRNN(FIXED_BATCH_SIZE, N_INPUT, N_NEURONS)\n",
        "output_val, states_val = model(X_batch)\n",
        "print(output_val) # contains all output for all timesteps\n",
        "print(states_val) # contain values for final state or final timestep, i.e., t=1"
      ],
      "execution_count": 14,
      "outputs": [
        {
          "output_type": "stream",
          "text": [
            "[tensor([[ 0.8987,  0.5421,  0.6307, -0.3965, -0.2838],\n",
            "        [ 0.4784, -0.1005,  0.9838, -0.8690,  0.9398],\n",
            "        [ 0.9601, -0.6768,  0.9998, -0.9658,  0.9836],\n",
            "        [-0.9675, -0.9944,  0.9882,  0.8519,  0.4850]], grad_fn=<TanhBackward>), tensor([[ 0.7521, -0.9858,  1.0000, -0.9850,  0.9984],\n",
            "        [ 0.2153,  0.4893, -0.1541, -0.2618, -0.3149],\n",
            "        [ 0.5337, -0.9302,  0.9985, -0.8779,  0.9540],\n",
            "        [-0.5926, -0.9351,  0.9654,  0.3914,  0.7838]], grad_fn=<TanhBackward>)]\n",
            "tensor([[ 0.7521, -0.9858,  1.0000, -0.9850,  0.9984],\n",
            "        [ 0.2153,  0.4893, -0.1541, -0.2618, -0.3149],\n",
            "        [ 0.5337, -0.9302,  0.9985, -0.8779,  0.9540],\n",
            "        [-0.5926, -0.9351,  0.9654,  0.3914,  0.7838]], grad_fn=<TanhBackward>)\n"
          ],
          "name": "stdout"
        }
      ]
    },
    {
      "cell_type": "markdown",
      "metadata": {
        "id": "l240cp4g8CQh"
      },
      "source": [
        "Puedes ver cómo el código es mucho más limpio ya que no necesitamos operar explícitamente sobre los pesos como se muestra en el fragmento de código anterior -- todo se maneja implícita y adecuadamente por PyTorch en un segundo plano."
      ]
    },
    {
      "cell_type": "markdown",
      "metadata": {
        "id": "n3zn-Ydx8CQi"
      },
      "source": [
        "### RNN for Image Classification"
      ]
    },
    {
      "cell_type": "markdown",
      "metadata": {
        "id": "eTJHs-S-8CQk"
      },
      "source": [
        "![alt txt](https://docs.google.com/drawings/d/e/2PACX-1vSiMstqkE9hTYmhPD3KMeFRNNKYA2NnrCayahBOEL1TalRqaWF7rH8a7O-nP9c-mKOdZRsWtmAGZfNN/pub?w=969&h=368)\n",
        "\n",
        "Ahora que ya sabemos construir una RNN simple desde cero y utilizando el módulo incorporado `RNCell` proporcionado en PyTorch, vamos a hacer algo más sofisticado y especial.\n",
        "\n",
        "Vamos a intentar construir un clasificador de imágenes utilizando el conjunto de datos MNIST. El conjunto de datos MNIST consiste en imágenes que contienen números escritos a mano del 1 al 10. Esencialmente, queremos construir un clasificador para predecir los números mostrados por un conjunto de imágenes. Este conjunto de datos lo hemos empleado y probado con diferentes técnicas (regresión logistica y MLP) en sesiones anteriores. Aunque puede parecer extraño, las RNN se comportan realmente bien en esta tarea de clasificación de imágenes. Vamos a comprobarlo.\n",
        "\n",
        "Además, también utilizaremos el módulo `RNN` en lugar del módulo `RNCell` ya que queremos generalizar el gráfico de cálculo para poder soportar también un `n` número de capas. Sólo utilizaremos una capa en el siguiente gráfico de cálculo, pero puedes experimentar con el código más adelante añadiendo más capas."
      ]
    },
    {
      "cell_type": "markdown",
      "metadata": {
        "id": "4vnhd2vR8CQo"
      },
      "source": [
        "#### Importar el conjunto de datos \n",
        "Antes de construir el gráfico de cálculo basado en RNN, vamos a importar el conjunto de datos MNIST, dividirlo en porciones de prueba y de entrenamiento, hacer algunas transformaciones y seguir explorándolo. \n",
        "\n",
        "Necesitarás las siguientes librerías PyTorch y líneas de código para descargar e importar el conjunto de datos MNIST a Google Colab."
      ]
    },
    {
      "cell_type": "code",
      "metadata": {
        "id": "6FViVH8w8CQr"
      },
      "source": [
        "import torchvision\n",
        "import torchvision.transforms as transforms"
      ],
      "execution_count": 15,
      "outputs": []
    },
    {
      "cell_type": "code",
      "metadata": {
        "id": "yrNdklIv8CQv",
        "colab": {
          "base_uri": "https://localhost:8080/",
          "height": 386,
          "referenced_widgets": [
            "80105e818f304ef786756f28caaa57d1",
            "ceb1f202028a4fc6bc646e36779c677d",
            "d4bba1b8f4a44284ab6a22f7a438ed63",
            "83518916f84b4aff805f51241f6ed0d2",
            "63884da3865d4a289fd29a00540647f9",
            "154bece6220b4ec89aeeac4c81388363",
            "7fecc25ac54c475f9dccd26a52628aa2",
            "2c1410ae42df4326aec9f367d4234d50",
            "474bdd3765d44f189995fb8cdf7988b7",
            "4be1385496cd475fa0cb08869762837c",
            "4d4285562327466abf002c14ad7eb7fc",
            "3d3174191ce34fba860d70a8f06f5ce3",
            "092f900fd15446ad9306210a40046e8f",
            "65a638babdf84ddd854214a2ce52d49b",
            "a9ce57bb75cd4465ad1f3dc4e2b27fa1",
            "707181b5370f42508b212d81380f068c",
            "8004d3fbe6594fb99dd34138e653a2f9",
            "19fca5a038c2433ebedca8ab7ccb5367",
            "da1251f800a84d00a88b4ef0a0a34597",
            "c0f687c6576f48b7a7d2c8c7414f9eb2",
            "24805f39c56944ef83fceb75b64604fb",
            "010a7f2d7b5e45d184ba301b8013c4ea",
            "3ba14e03704d4e4194f7df96e9709854",
            "e1653685ef5645e5a68f47f41bce09d2",
            "149c62f8be5c496cb4b0e26c67765315",
            "1bb21380c3e24841bb5ac9ee9ddf734d",
            "ee2e22a856d94b6fb2c88dc0f54bc6d3",
            "599e1aca11c04a0584921e274abaf3b1",
            "3956817957314c969f9cd7ff518b933b",
            "ae52affd91b34c7a815034b2e51970ac",
            "568e75b8fba1451b8c36d58a8e40fa1a",
            "cb754f50dcbd4e0eaae9883319330c72"
          ]
        },
        "outputId": "d01566c7-9f1c-4c1c-b93a-7104b4933111"
      },
      "source": [
        "BATCH_SIZE = 64\n",
        "\n",
        "# list all transformations\n",
        "transform = transforms.Compose(\n",
        "    [transforms.ToTensor()])\n",
        "\n",
        "# download and load training dataset\n",
        "trainset = torchvision.datasets.MNIST(root='./data', train=True,\n",
        "                                        download=True, transform=transform)\n",
        "trainloader = torch.utils.data.DataLoader(trainset, batch_size=BATCH_SIZE,\n",
        "                                          shuffle=True, num_workers=2)\n",
        "\n",
        "# download and load testing dataset\n",
        "testset = torchvision.datasets.MNIST(root='./data', train=False,\n",
        "                                       download=True, transform=transform)\n",
        "testloader = torch.utils.data.DataLoader(testset, batch_size=BATCH_SIZE,\n",
        "                                         shuffle=False, num_workers=2)"
      ],
      "execution_count": 16,
      "outputs": [
        {
          "output_type": "stream",
          "text": [
            "Downloading http://yann.lecun.com/exdb/mnist/train-images-idx3-ubyte.gz to ./data/MNIST/raw/train-images-idx3-ubyte.gz\n"
          ],
          "name": "stdout"
        },
        {
          "output_type": "display_data",
          "data": {
            "application/vnd.jupyter.widget-view+json": {
              "model_id": "80105e818f304ef786756f28caaa57d1",
              "version_minor": 0,
              "version_major": 2
            },
            "text/plain": [
              "HBox(children=(FloatProgress(value=1.0, bar_style='info', max=1.0), HTML(value='')))"
            ]
          },
          "metadata": {
            "tags": []
          }
        },
        {
          "output_type": "stream",
          "text": [
            "Extracting ./data/MNIST/raw/train-images-idx3-ubyte.gz to ./data/MNIST/raw\n",
            "Downloading http://yann.lecun.com/exdb/mnist/train-labels-idx1-ubyte.gz to ./data/MNIST/raw/train-labels-idx1-ubyte.gz\n"
          ],
          "name": "stdout"
        },
        {
          "output_type": "display_data",
          "data": {
            "application/vnd.jupyter.widget-view+json": {
              "model_id": "474bdd3765d44f189995fb8cdf7988b7",
              "version_minor": 0,
              "version_major": 2
            },
            "text/plain": [
              "HBox(children=(FloatProgress(value=1.0, bar_style='info', max=1.0), HTML(value='')))"
            ]
          },
          "metadata": {
            "tags": []
          }
        },
        {
          "output_type": "stream",
          "text": [
            "Extracting ./data/MNIST/raw/train-labels-idx1-ubyte.gz to ./data/MNIST/raw\n",
            "Downloading http://yann.lecun.com/exdb/mnist/t10k-images-idx3-ubyte.gz to ./data/MNIST/raw/t10k-images-idx3-ubyte.gz\n",
            "\n"
          ],
          "name": "stdout"
        },
        {
          "output_type": "display_data",
          "data": {
            "application/vnd.jupyter.widget-view+json": {
              "model_id": "8004d3fbe6594fb99dd34138e653a2f9",
              "version_minor": 0,
              "version_major": 2
            },
            "text/plain": [
              "HBox(children=(FloatProgress(value=1.0, bar_style='info', max=1.0), HTML(value='')))"
            ]
          },
          "metadata": {
            "tags": []
          }
        },
        {
          "output_type": "stream",
          "text": [
            "Extracting ./data/MNIST/raw/t10k-images-idx3-ubyte.gz to ./data/MNIST/raw\n",
            "Downloading http://yann.lecun.com/exdb/mnist/t10k-labels-idx1-ubyte.gz to ./data/MNIST/raw/t10k-labels-idx1-ubyte.gz\n"
          ],
          "name": "stdout"
        },
        {
          "output_type": "display_data",
          "data": {
            "application/vnd.jupyter.widget-view+json": {
              "model_id": "149c62f8be5c496cb4b0e26c67765315",
              "version_minor": 0,
              "version_major": 2
            },
            "text/plain": [
              "HBox(children=(FloatProgress(value=1.0, bar_style='info', max=1.0), HTML(value='')))"
            ]
          },
          "metadata": {
            "tags": []
          }
        },
        {
          "output_type": "stream",
          "text": [
            "Extracting ./data/MNIST/raw/t10k-labels-idx1-ubyte.gz to ./data/MNIST/raw\n",
            "Processing...\n",
            "Done!\n"
          ],
          "name": "stdout"
        },
        {
          "output_type": "stream",
          "text": [
            "/usr/local/lib/python3.6/dist-packages/torchvision/datasets/mnist.py:480: UserWarning: The given NumPy array is not writeable, and PyTorch does not support non-writeable tensors. This means you can write to the underlying (supposedly non-writeable) NumPy array using the tensor. You may want to copy the array to protect its data or make it writeable before converting it to a tensor. This type of warning will be suppressed for the rest of this program. (Triggered internally at  /pytorch/torch/csrc/utils/tensor_numpy.cpp:141.)\n",
            "  return torch.from_numpy(parsed.astype(m[2], copy=False)).view(*s)\n"
          ],
          "name": "stderr"
        }
      ]
    },
    {
      "cell_type": "markdown",
      "metadata": {
        "id": "Ixg3XnDM8CQy"
      },
      "source": [
        "El código anterior carga y prepara el conjunto de datos para introducirlo en el gráfico de cálculo que construiremos más adelante. \r\n",
        "\r\n",
        "Tómate unos minutos para jugar con el código y entender lo que está sucediendo. Fíjate en que necesitamos proporcionar un tamaño de lote. Esto se debe a que `trainloader` y `testloader` son iteradores que harán más fácil cuando estemos iterando sobre el conjunto de datos y entrenando nuestro modelo RNN con minilotes."
      ]
    },
    {
      "cell_type": "markdown",
      "metadata": {
        "id": "2f0fVaIV8CQ3"
      },
      "source": [
        "#### Exploración del conjunto de datos\n",
        "Aquí hay algunas líneas de código para explorar el conjunto de datos. No voy a cubrir mucho de lo que sucede aquí, pero puedes tomarte un tiempo y mirarlo por ti mismo.."
      ]
    },
    {
      "cell_type": "code",
      "metadata": {
        "id": "TEKzVTOY8CQ4",
        "colab": {
          "base_uri": "https://localhost:8080/",
          "height": 269
        },
        "outputId": "461fa2f6-abf7-4043-cb3f-57d123f568db"
      },
      "source": [
        "import matplotlib.pyplot as plt\n",
        "import numpy as np\n",
        "\n",
        "# functions to show an image\n",
        "def imshow(img):\n",
        "    #img = img / 2 + 0.5     # unnormalize\n",
        "    npimg = img.numpy()\n",
        "    plt.imshow(np.transpose(npimg, (1, 2, 0)))\n",
        "\n",
        "# get some random training images\n",
        "dataiter = iter(trainloader)\n",
        "images, labels = dataiter.next()\n",
        "\n",
        "# show images\n",
        "imshow(torchvision.utils.make_grid(images))"
      ],
      "execution_count": 17,
      "outputs": [
        {
          "output_type": "display_data",
          "data": {
            "image/png": "[encoded data removed]",
            "text/plain": [
              "<Figure size 432x288 with 1 Axes>"
            ]
          },
          "metadata": {
            "tags": [],
            "needs_background": "light"
          }
        }
      ]
    },
    {
      "cell_type": "markdown",
      "metadata": {
        "id": "Y7NloDy08CQ9"
      },
      "source": [
        "#### Modelo\n",
        "Vamos a construir el gráfo de cálculo. A continuación, los parámetros:"
      ]
    },
    {
      "cell_type": "code",
      "metadata": {
        "id": "dqjWHTo08CQ-"
      },
      "source": [
        "# parameters \n",
        "N_STEPS = 28\n",
        "N_INPUTS = 28\n",
        "N_NEURONS = 150\n",
        "N_OUTPUTS = 10\n",
        "N_EPHOCS = 10"
      ],
      "execution_count": 18,
      "outputs": []
    },
    {
      "cell_type": "markdown",
      "metadata": {
        "id": "gpFu75e88CRB"
      },
      "source": [
        " Y aquí el esquema de lo que vamos a construir\n",
        "\n",
        "![alt txt](https://docs.google.com/drawings/d/e/2PACX-1vQWhELhewvq_bHgqwf4vwDb5B9DN9-jAxeTF9Y73zr-OsW6OXC-ngxAfojivXyZEhjzLXceTZU2Ncz3/pub?w=550&h=600)"
      ]
    },
    {
      "cell_type": "markdown",
      "metadata": {
        "id": "HukX7ZjP8CRC"
      },
      "source": [
        "Código para la clase que vamos a definir:"
      ]
    },
    {
      "cell_type": "code",
      "metadata": {
        "id": "14jNZxeg8CRD"
      },
      "source": [
        "class ImageRNN(nn.Module):\n",
        "    def __init__(self, batch_size, n_steps, n_inputs, n_neurons, n_outputs):\n",
        "        super(ImageRNN, self).__init__()\n",
        "        \n",
        "        self.n_neurons = n_neurons\n",
        "        self.batch_size = batch_size\n",
        "        self.n_steps = n_steps\n",
        "        self.n_inputs = n_inputs\n",
        "        self.n_outputs = n_outputs\n",
        "        \n",
        "        self.basic_rnn = nn.RNN(self.n_inputs, self.n_neurons) \n",
        "        \n",
        "        self.FC = nn.Linear(self.n_neurons, self.n_outputs)\n",
        "        \n",
        "    def init_hidden(self,):\n",
        "        # (num_layers, batch_size, n_neurons)\n",
        "        return (torch.zeros(1, self.batch_size, self.n_neurons))\n",
        "        \n",
        "    def forward(self, X):\n",
        "        # transforms X to dimensions: n_steps X batch_size X n_inputs\n",
        "        X = X.permute(1, 0, 2) \n",
        "        \n",
        "        self.batch_size = X.size(1)\n",
        "        self.hidden = self.init_hidden()\n",
        "        \n",
        "        # rnn_out => n_steps, batch_size, n_neurons (hidden states for each time step)\n",
        "        # self.hidden => 1, batch_size, n_neurons (final state from each lstm_out)\n",
        "        rnn_out, self.hidden = self.basic_rnn(X, self.hidden)      \n",
        "        out = self.FC(self.hidden)\n",
        "        \n",
        "        return out.view(-1, self.n_outputs) # batch_size X n_output"
      ],
      "execution_count": 19,
      "outputs": []
    },
    {
      "cell_type": "markdown",
      "metadata": {
        "id": "8Yw8fFlp8CRJ"
      },
      "source": [
        "El modelo `ImageRNN` hace lo siguiente:\n",
        "- La función de inicialización `__init__(...)` declara algunas variables, y luego una capa RNN básica `basic_rnn` seguida de una capa totalmente conectada `self.FC`.\n",
        "- La función `init_hidden` inicializa los pesos ocultos con valores cero. \n",
        "La función `forward` acepta una entrada de tamaño `n_pasos X tamaño_de_lote X n_neuronas`. A continuación, los datos pasan por la capa RNN y luego por la capa totalmente conectada. \n",
        "- La salida son las probabilidades logarítmicas del modelo."
      ]
    },
    {
      "cell_type": "markdown",
      "metadata": {
        "id": "bJUCKm_U8CRK"
      },
      "source": [
        "#### Probar el modelo con algunas muestras\n",
        "Una muy buena práctica alentada por los desarrolladores de PyTorch a lo largo de su documentación, y que realmente me gusta y recomiendo, es probar el modelo con una porción del conjunto de datos antes del entrenamiento real. Esto permite asegurar que tienes la dimensión correcta especificada y que el modelo está dando la información que esperas. \n",
        "\n",
        "Aquí vemos cómo probar el modelo:"
      ]
    },
    {
      "cell_type": "code",
      "metadata": {
        "id": "P6W0jwK08CRM",
        "colab": {
          "base_uri": "https://localhost:8080/"
        },
        "outputId": "d2435059-86f4-40d0-ac75-8420e7d2b4b5"
      },
      "source": [
        "dataiter = iter(trainloader)\n",
        "images, labels = dataiter.next()\n",
        "model = ImageRNN(BATCH_SIZE, N_STEPS, N_INPUTS, N_NEURONS, N_OUTPUTS)\n",
        "logits = model(images.view(-1, 28,28))\n",
        "print(logits[0:10])"
      ],
      "execution_count": 20,
      "outputs": [
        {
          "output_type": "stream",
          "text": [
            "tensor([[-0.0654,  0.0702, -0.0080, -0.1534,  0.0052, -0.0442, -0.0055, -0.0428,\n",
            "         -0.0603, -0.0113],\n",
            "        [-0.0928,  0.0888,  0.0093, -0.1507,  0.0180, -0.0339,  0.0242, -0.0669,\n",
            "         -0.0698,  0.0067],\n",
            "        [-0.0771,  0.0849, -0.0231, -0.1572, -0.0019, -0.0382,  0.0136, -0.0402,\n",
            "         -0.0600, -0.0291],\n",
            "        [-0.0587,  0.0660, -0.0134, -0.1556,  0.0078, -0.0218, -0.0025, -0.0453,\n",
            "         -0.0687, -0.0148],\n",
            "        [-0.0790,  0.0754, -0.0163, -0.1445,  0.0079, -0.0251, -0.0004, -0.0455,\n",
            "         -0.0556, -0.0100],\n",
            "        [-0.1141,  0.0710,  0.0091, -0.1794,  0.0185, -0.0284,  0.0049, -0.0912,\n",
            "         -0.0354,  0.0027],\n",
            "        [-0.0714,  0.0760, -0.0032, -0.1584,  0.0065, -0.0513,  0.0029, -0.0437,\n",
            "         -0.0593, -0.0127],\n",
            "        [-0.0526,  0.0379, -0.0345, -0.2165, -0.0273, -0.0733, -0.0004, -0.0499,\n",
            "         -0.0441, -0.0735],\n",
            "        [-0.0743,  0.0767,  0.0012, -0.1535,  0.0056, -0.0475, -0.0003, -0.0442,\n",
            "         -0.0561, -0.0113],\n",
            "        [-0.0800,  0.0663, -0.0180, -0.1517, -0.0083, -0.0351,  0.0122, -0.0408,\n",
            "         -0.0642, -0.0221]], grad_fn=<SliceBackward>)\n"
          ],
          "name": "stdout"
        }
      ]
    },
    {
      "cell_type": "markdown",
      "metadata": {
        "id": "BKDkckp98CRQ"
      },
      "source": [
        "#### Entrenamiento"
      ]
    },
    {
      "cell_type": "markdown",
      "metadata": {
        "id": "46Qke-c08CRR"
      },
      "source": [
        "Ahora veamos el código para entrenar el modelo de clasificación de imágenes. Pero primero, vamos a declarar algunas funciones de ayuda necesarias para entrenar el modelo:"
      ]
    },
    {
      "cell_type": "code",
      "metadata": {
        "id": "BoDWoBuy8CRS"
      },
      "source": [
        "import torch.optim as optim\n",
        "\n",
        "# Device\n",
        "device = torch.device(\"cuda:0\" if torch.cuda.is_available() else \"cpu\")\n",
        "\n",
        "# Model instance\n",
        "model = ImageRNN(BATCH_SIZE, N_STEPS, N_INPUTS, N_NEURONS, N_OUTPUTS)\n",
        "criterion = nn.CrossEntropyLoss()\n",
        "optimizer = optim.Adam(model.parameters(), lr=0.001)\n",
        "\n",
        "def get_accuracy(logit, target, batch_size):\n",
        "    ''' Obtain accuracy for training round '''\n",
        "    corrects = (torch.max(logit, 1)[1].view(target.size()).data == target.data).sum()\n",
        "    accuracy = 100.0 * corrects/batch_size\n",
        "    return accuracy.item()"
      ],
      "execution_count": 21,
      "outputs": []
    },
    {
      "cell_type": "markdown",
      "metadata": {
        "id": "uvCzj28o8CRX"
      },
      "source": [
        "Antes de entrenar un modelo en PyTorch, se puede especificar programáticamente qué dispositivo se quiere utilizar durante el entrenamiento; la función `torch.device(...)` indica al programa que queremos utilizar la GPU si hay una disponible, de lo contrario la CPU será el dispositivo por defecto.\n",
        "\n",
        "A continuación creamos una instancia del modelo, `ImageRNN(...)`, con los parámetros adecuados. El criterio representa la función que utilizaremos para calcular la pérdida del modelo. La función `nn.CrossEntropyLoss()` básicamente aplica un log softmax seguido de una operación de pérdida de log likelihood negativa sobre la salida del modelo. Para calcular la pérdida, la función necesita tanto las probabilidades logarítmicas como los objetivos. Veremos más adelante en nuestro código cómo proporcionar esto al criterio.\n",
        "\n",
        "Para el entrenamiento, también necesitamos un algoritmo de optimización que ayude a actualizar los pesos basándose en la pérdida actual. Esto se consigue con la función de optimización `optim.Adam`, que requiere los parámetros del modelo y una tasa de aprendizaje. También se puede utilizar `optim.SGD` o cualquier otro algoritmo de optimización que esté disponible. \n",
        "\n",
        "La función `get_accuracy(...)` simplemente calcula la precisión del modelo dadas las probabilidades logarítmicas y los valores objetivo. Como ejercicio, puedes escribir código para probar esta función como hicimos antes con el modelo.\n",
        "\n",
        "Vamos a ponerlo todo junto y a entrenar nuestro nuevo modelo para clasificación de imágenes:"
      ]
    },
    {
      "cell_type": "code",
      "metadata": {
        "id": "LaAmGhZT8CRX",
        "colab": {
          "base_uri": "https://localhost:8080/"
        },
        "outputId": "7460ae71-dcdb-4ef8-b438-f96564d013a5"
      },
      "source": [
        "for epoch in range(N_EPHOCS):  # loop over the dataset multiple times\n",
        "    train_running_loss = 0.0\n",
        "    train_acc = 0.0\n",
        "    model.train()\n",
        "    \n",
        "    # TRAINING ROUND\n",
        "    for i, data in enumerate(trainloader):\n",
        "         # zero the parameter gradients\n",
        "        optimizer.zero_grad()\n",
        "        \n",
        "        # reset hidden states\n",
        "        model.hidden = model.init_hidden() \n",
        "        \n",
        "        # get the inputs\n",
        "        inputs, labels = data\n",
        "        inputs = inputs.view(-1, 28,28) \n",
        "\n",
        "        # forward + backward + optimize\n",
        "        outputs = model(inputs)\n",
        "\n",
        "        loss = criterion(outputs, labels)\n",
        "        loss.backward()\n",
        "        optimizer.step()\n",
        "\n",
        "        train_running_loss += loss.detach().item()\n",
        "        train_acc += get_accuracy(outputs, labels, BATCH_SIZE)\n",
        "         \n",
        "    model.eval()\n",
        "    print('Epoch:  %d | Loss: %.4f | Train Accuracy: %.2f' \n",
        "          %(epoch, train_running_loss / i, train_acc/i))"
      ],
      "execution_count": 22,
      "outputs": [
        {
          "output_type": "stream",
          "text": [
            "Epoch:  0 | Loss: 0.7747 | Train Accuracy: 74.19\n",
            "Epoch:  1 | Loss: 0.3676 | Train Accuracy: 89.12\n",
            "Epoch:  2 | Loss: 0.2465 | Train Accuracy: 92.95\n",
            "Epoch:  3 | Loss: 0.1981 | Train Accuracy: 94.37\n",
            "Epoch:  4 | Loss: 0.1664 | Train Accuracy: 95.36\n",
            "Epoch:  5 | Loss: 0.1497 | Train Accuracy: 95.75\n",
            "Epoch:  6 | Loss: 0.1376 | Train Accuracy: 96.17\n",
            "Epoch:  7 | Loss: 0.1247 | Train Accuracy: 96.50\n",
            "Epoch:  8 | Loss: 0.1180 | Train Accuracy: 96.69\n",
            "Epoch:  9 | Loss: 0.1137 | Train Accuracy: 96.81\n"
          ],
          "name": "stdout"
        }
      ]
    },
    {
      "cell_type": "markdown",
      "metadata": {
        "id": "93-DMqi58CRf"
      },
      "source": [
        "Tenemos que calcular la precisión en el conjunto de datos de prueba para comprobar el rendimiento del modelo en la tarea de clasificación de imágenes. Como se puede ver a continuación, nuestro modelo RNN funciona muy bien en la tarea de clasificación MNIST."
      ]
    },
    {
      "cell_type": "code",
      "metadata": {
        "id": "BzeqYT4N8CRi",
        "colab": {
          "base_uri": "https://localhost:8080/"
        },
        "outputId": "4a93f498-3454-433a-dff6-a7a39bd8f9b6"
      },
      "source": [
        "test_acc = 0.0\n",
        "for i, data in enumerate(testloader, 0):\n",
        "    inputs, labels = data\n",
        "    inputs = inputs.view(-1, 28, 28)\n",
        "\n",
        "    outputs = model(inputs)\n",
        "\n",
        "    test_acc += get_accuracy(outputs, labels, BATCH_SIZE)\n",
        "        \n",
        "print('Test Accuracy: %.2f'%( test_acc/i))"
      ],
      "execution_count": 23,
      "outputs": [
        {
          "output_type": "stream",
          "text": [
            "Test Accuracy: 96.62\n"
          ],
          "name": "stdout"
        }
      ]
    },
    {
      "cell_type": "markdown",
      "metadata": {
        "id": "FD98PsQi8CRv"
      },
      "source": [
        "### Observaciones finales\n",
        "Tenga en cuenta que no hemos utilizado la GPU en este tutorial ya que los modelos que estamos construyendo son relativamente simples. \n",
        "\n",
        "Como ejercicio, puedes echar un vistazo a la [documentación de PyTorch](https://pytorch.org/docs/stable/notes/cuda.html) para revisar como programar operaciones específicas para que se ejecuten en la GPU. A continuación, puedes intentar optimizar el código para que se ejecute en la GPU. \n",
        "\n",
        "Eso es todo para este documento. Enhorabuena. Ahora eres capaz de implementar una RNN básica en PyTorch y has aprendido a aplicar las RNN para resolver un problema de clasificación de imágenes del mundo real."
      ]
    },
    {
      "cell_type": "markdown",
      "metadata": {
        "id": "jKAm1xB08CRx"
      },
      "source": [
        "### Referencies\n",
        "- [A Simple Neural Network from Scratch with PyTorch and Google Colab](https://github.com/omarsar/pytorch_intro_neural_network/blob/master/nn.ipynb)\n",
        "- [Hands on Machine Learning with Scikit-learn and Tensorflow](http://shop.oreilly.com/product/0636920052289.do)"
      ]
    },
    {
      "cell_type": "markdown",
      "metadata": {
        "id": "PBAWjF6wEW0f"
      },
      "source": [
        "##Fin del Notebook"
      ]
    }
  ]
}