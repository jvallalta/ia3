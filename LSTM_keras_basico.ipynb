{
  "nbformat": 4,
  "nbformat_minor": 0,
  "metadata": {
    "colab": {
      "name": "LSTM_keras_basico.ipynb",
      "provenance": [],
      "authorship_tag": "ABX9TyN3zVZtOLrzRu0Q5JjMoVBh",
      "include_colab_link": true
    },
    "kernelspec": {
      "name": "python3",
      "display_name": "Python 3"
    }
  },
  "cells": [
    {
      "cell_type": "markdown",
      "metadata": {
        "id": "view-in-github",
        "colab_type": "text"
      },
      "source": [
        "<a href=\"https://colab.research.google.com/github/jvallalta/ia3/blob/main/LSTM_keras_basico.ipynb\" target=\"_parent\"><img src=\"https://colab.research.google.com/assets/colab-badge.svg\" alt=\"Open In Colab\"/></a>"
      ]
    },
    {
      "cell_type": "code",
      "metadata": {
        "id": "C-6n5s-a8spk"
      },
      "source": [
        "import tensorflow as tf"
      ],
      "execution_count": 1,
      "outputs": []
    },
    {
      "cell_type": "code",
      "metadata": {
        "id": "fOQYyZHi86Pz"
      },
      "source": [
        "inputs = tf.random.normal([32,10,8])"
      ],
      "execution_count": 4,
      "outputs": []
    },
    {
      "cell_type": "code",
      "metadata": {
        "id": "38ukLkWb9Fm3"
      },
      "source": [
        "from keras.layers import LSTMCell, LSTM"
      ],
      "execution_count": 6,
      "outputs": []
    },
    {
      "cell_type": "code",
      "metadata": {
        "id": "5skCnz3p9R8q"
      },
      "source": [
        "lstm = tf.keras.layers.LSTM(4)"
      ],
      "execution_count": 7,
      "outputs": []
    },
    {
      "cell_type": "code",
      "metadata": {
        "id": "Ay5RqiP0-EkP"
      },
      "source": [
        "output = lstm(inputs)"
      ],
      "execution_count": 8,
      "outputs": []
    },
    {
      "cell_type": "code",
      "metadata": {
        "colab": {
          "base_uri": "https://localhost:8080/"
        },
        "id": "PNHK0-U4-JmB",
        "outputId": "7f633ff5-3d5a-4d24-bae1-a1e333be5566"
      },
      "source": [
        "print(output.shape)"
      ],
      "execution_count": 10,
      "outputs": [
        {
          "output_type": "stream",
          "text": [
            "(32, 4)\n"
          ],
          "name": "stdout"
        }
      ]
    },
    {
      "cell_type": "code",
      "metadata": {
        "id": "WyYTekzm-OUo"
      },
      "source": [
        "lstm = tf.keras.layers.LSTM(4, return_sequences=True, return_state=True)"
      ],
      "execution_count": 11,
      "outputs": []
    },
    {
      "cell_type": "code",
      "metadata": {
        "id": "929wiP30-hOa"
      },
      "source": [
        "secuencia, memoria, estado = lstm(inputs)"
      ],
      "execution_count": 12,
      "outputs": []
    },
    {
      "cell_type": "code",
      "metadata": {
        "colab": {
          "base_uri": "https://localhost:8080/"
        },
        "id": "ssLlZZ1c-pLg",
        "outputId": "7b06555a-89a4-4212-80d5-d39faafa6f7d"
      },
      "source": [
        "print(secuencia.shape)"
      ],
      "execution_count": 13,
      "outputs": [
        {
          "output_type": "stream",
          "text": [
            "(32, 10, 4)\n"
          ],
          "name": "stdout"
        }
      ]
    },
    {
      "cell_type": "code",
      "metadata": {
        "colab": {
          "base_uri": "https://localhost:8080/"
        },
        "id": "c5hJOzNk-wEO",
        "outputId": "011094ed-ed6e-4c66-9a8a-b94c2ad650a6"
      },
      "source": [
        "print(memoria.shape)"
      ],
      "execution_count": 14,
      "outputs": [
        {
          "output_type": "stream",
          "text": [
            "(32, 4)\n"
          ],
          "name": "stdout"
        }
      ]
    },
    {
      "cell_type": "code",
      "metadata": {
        "colab": {
          "base_uri": "https://localhost:8080/"
        },
        "id": "hgZbcxjD-0w3",
        "outputId": "d35c672c-a64f-4893-d5f1-fc061cfa994b"
      },
      "source": [
        "print(estado.shape)"
      ],
      "execution_count": 15,
      "outputs": [
        {
          "output_type": "stream",
          "text": [
            "(32, 4)\n"
          ],
          "name": "stdout"
        }
      ]
    },
    {
      "cell_type": "markdown",
      "metadata": {
        "id": "CWNMN6aZ_P4b"
      },
      "source": [
        "Ejercicio 1"
      ]
    },
    {
      "cell_type": "code",
      "metadata": {
        "id": "2G1GeymS-4Q3"
      },
      "source": [
        "import numpy as np\r\n",
        "secuencia = tf.random.normal([1,10,2])\r\n"
      ],
      "execution_count": 37,
      "outputs": []
    },
    {
      "cell_type": "code",
      "metadata": {
        "colab": {
          "base_uri": "https://localhost:8080/"
        },
        "id": "KHM9UxH6_UkY",
        "outputId": "609b365d-3832-4b50-a20e-8dc9ccd130be"
      },
      "source": [
        "secuencia"
      ],
      "execution_count": 38,
      "outputs": [
        {
          "output_type": "execute_result",
          "data": {
            "text/plain": [
              "<tf.Tensor: shape=(1, 10, 2), dtype=float32, numpy=\n",
              "array([[[-0.18677881,  2.114399  ],\n",
              "        [ 0.24520142,  2.0664635 ],\n",
              "        [ 1.1847506 , -1.473997  ],\n",
              "        [ 0.86762476, -0.30733934],\n",
              "        [-1.3090165 , -1.3256246 ],\n",
              "        [-1.4213912 , -1.4124634 ],\n",
              "        [ 0.16435707,  0.3835207 ],\n",
              "        [-2.5825322 , -0.25591847],\n",
              "        [ 1.4195796 , -2.019553  ],\n",
              "        [-0.42746076,  1.6398534 ]]], dtype=float32)>"
            ]
          },
          "metadata": {
            "tags": []
          },
          "execution_count": 38
        }
      ]
    },
    {
      "cell_type": "code",
      "metadata": {
        "id": "ernZitHs_eqr"
      },
      "source": [
        "from keras.models import Sequential\r\n",
        "from keras.layers import Dense\r\n",
        "modelo = Sequential()\r\n",
        "modelo.add(LSTM(4, input_shape=(10,2), return_sequences=True))\r\n",
        "modelo.add(LSTM(4, input_shape=(10,2)))\r\n",
        "modelo.add(Dense(1))\r\n"
      ],
      "execution_count": 42,
      "outputs": []
    },
    {
      "cell_type": "code",
      "metadata": {
        "id": "ZZVRYyEB__tm"
      },
      "source": [
        "resultado = modelo(secuencia)"
      ],
      "execution_count": 43,
      "outputs": []
    },
    {
      "cell_type": "code",
      "metadata": {
        "colab": {
          "base_uri": "https://localhost:8080/"
        },
        "id": "C0n-fb41Abc6",
        "outputId": "ae0db19d-a7a8-4d9c-dbb2-c59578eb1a77"
      },
      "source": [
        "resultado"
      ],
      "execution_count": 44,
      "outputs": [
        {
          "output_type": "execute_result",
          "data": {
            "text/plain": [
              "<tf.Tensor: shape=(1, 1), dtype=float32, numpy=array([[0.00461306]], dtype=float32)>"
            ]
          },
          "metadata": {
            "tags": []
          },
          "execution_count": 44
        }
      ]
    },
    {
      "cell_type": "code",
      "metadata": {
        "id": "SrJAgaKwAysG"
      },
      "source": [
        ""
      ],
      "execution_count": null,
      "outputs": []
    }
  ]
}