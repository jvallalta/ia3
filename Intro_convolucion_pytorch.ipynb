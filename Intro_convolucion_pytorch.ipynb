{
  "nbformat": 4,
  "nbformat_minor": 0,
  "metadata": {
    "colab": {
      "name": "Intro_convolucion_pytorch",
      "provenance": [],
      "authorship_tag": "ABX9TyMaNtlmLZ97wnXfV2FlK8wG",
      "include_colab_link": true
    },
    "kernelspec": {
      "name": "python3",
      "display_name": "Python 3"
    },
    "accelerator": "GPU"
  },
  "cells": [
    {
      "cell_type": "markdown",
      "metadata": {
        "id": "view-in-github",
        "colab_type": "text"
      },
      "source": [
        "<a href=\"https://colab.research.google.com/github/jvallalta/ia3/blob/main/Intro_convolucion_pytorch.ipynb\" target=\"_parent\"><img src=\"https://colab.research.google.com/assets/colab-badge.svg\" alt=\"Open In Colab\"/></a>"
      ]
    },
    {
      "cell_type": "code",
      "metadata": {
        "id": "djZjm24Rq5-j"
      },
      "source": [
        "#Cargamos las librerias\r\n",
        "import numpy as np\r\n",
        "import torch\r\n",
        "import torchvision\r\n",
        "import torch.nn as nn\r\n",
        "import torch.optim as optim\r\n",
        "from torch.utils.data import Dataset, DataLoader\r\n",
        "import torch.nn.functional as F"
      ],
      "execution_count": 41,
      "outputs": []
    },
    {
      "cell_type": "code",
      "metadata": {
        "colab": {
          "base_uri": "https://localhost:8080/"
        },
        "id": "YkATNAMWsuqB",
        "outputId": "bc6570a5-d85f-4a8f-a1a8-25e6eff52923"
      },
      "source": [
        "input_1d = torch.tensor([1,2,3,4,5,6,7,8,9, 10], dtype=torch.float)\r\n",
        "input_1d.shape"
      ],
      "execution_count": 4,
      "outputs": [
        {
          "output_type": "execute_result",
          "data": {
            "text/plain": [
              "torch.Size([10])"
            ]
          },
          "metadata": {
            "tags": []
          },
          "execution_count": 4
        }
      ]
    },
    {
      "cell_type": "code",
      "metadata": {
        "colab": {
          "base_uri": "https://localhost:8080/"
        },
        "id": "yOwzJQ5etVJa",
        "outputId": "6d46146e-d755-4292-f826-c979d232181f"
      },
      "source": [
        "input_1d = input_1d.unsqueeze(0).unsqueeze(0)\r\n",
        "input_1d.shape"
      ],
      "execution_count": 6,
      "outputs": [
        {
          "output_type": "execute_result",
          "data": {
            "text/plain": [
              "torch.Size([1, 1, 10])"
            ]
          },
          "metadata": {
            "tags": []
          },
          "execution_count": 6
        }
      ]
    },
    {
      "cell_type": "code",
      "metadata": {
        "id": "KtXcBBkDttK4"
      },
      "source": [
        "cnn1d_1 = nn.Conv1d(in_channels=1, out_channels=1, kernel_size=3, stride=1 )\r\n"
      ],
      "execution_count": 8,
      "outputs": []
    },
    {
      "cell_type": "code",
      "metadata": {
        "colab": {
          "base_uri": "https://localhost:8080/"
        },
        "id": "SHJhKaTQuIgj",
        "outputId": "bef2cce9-24d6-4b52-ddc7-45f6e904a61d"
      },
      "source": [
        "print(cnn1d_1(input_1d).shape)\r\n",
        "print(cnn1d_1(input_1d))"
      ],
      "execution_count": 9,
      "outputs": [
        {
          "output_type": "stream",
          "text": [
            "torch.Size([1, 1, 8])\n",
            "tensor([[[-1.1439, -1.8429, -2.5419, -3.2409, -3.9399, -4.6389, -5.3379,\n",
            "          -6.0369]]], grad_fn=<SqueezeBackward1>)\n"
          ],
          "name": "stdout"
        }
      ]
    },
    {
      "cell_type": "code",
      "metadata": {
        "colab": {
          "base_uri": "https://localhost:8080/"
        },
        "id": "emPY-bVXvClB",
        "outputId": "07da3016-e02a-448f-c585-33ff14e91b95"
      },
      "source": [
        "cnn1d_2 = nn.Conv1d(in_channels=1, out_channels=1, kernel_size=3, stride=2 )\r\n",
        "print(cnn1d_2(input_1d).shape)\r\n",
        "print(cnn1d_2(input_1d))"
      ],
      "execution_count": 11,
      "outputs": [
        {
          "output_type": "stream",
          "text": [
            "torch.Size([1, 1, 4])\n",
            "tensor([[[0.8835, 0.6719, 0.4603, 0.2487]]], grad_fn=<SqueezeBackward1>)\n"
          ],
          "name": "stdout"
        }
      ]
    },
    {
      "cell_type": "code",
      "metadata": {
        "colab": {
          "base_uri": "https://localhost:8080/"
        },
        "id": "FlFsGN9yviRs",
        "outputId": "60fa20ec-9d0f-4d12-a7a5-48bb1103c33e"
      },
      "source": [
        "cnn1d_3 = nn.Conv1d(in_channels=1, out_channels=5, kernel_size=3, stride=1)\r\n",
        "print(cnn1d_3(input_1d).shape)\r\n",
        "print(cnn1d_3(input_1d))"
      ],
      "execution_count": 12,
      "outputs": [
        {
          "output_type": "stream",
          "text": [
            "torch.Size([1, 5, 8])\n",
            "tensor([[[-1.1465, -1.4818, -1.8171, -2.1524, -2.4877, -2.8230, -3.1583,\n",
            "          -3.4936],\n",
            "         [-0.6822, -0.9996, -1.3169, -1.6342, -1.9516, -2.2689, -2.5862,\n",
            "          -2.9036],\n",
            "         [ 0.3569,  0.3495,  0.3420,  0.3346,  0.3271,  0.3197,  0.3122,\n",
            "           0.3048],\n",
            "         [-1.7229, -2.3661, -3.0094, -3.6526, -4.2958, -4.9391, -5.5823,\n",
            "          -6.2256],\n",
            "         [-2.0663, -3.1798, -4.2933, -5.4068, -6.5203, -7.6338, -8.7474,\n",
            "          -9.8609]]], grad_fn=<SqueezeBackward1>)\n"
          ],
          "name": "stdout"
        }
      ]
    },
    {
      "cell_type": "code",
      "metadata": {
        "colab": {
          "base_uri": "https://localhost:8080/"
        },
        "id": "_jtzSlsauhJK",
        "outputId": "06bfead2-d0fb-47c1-8f5a-0139488263a8"
      },
      "source": [
        "cnn1d_4 = nn.Conv1d(in_channels=1, out_channels=5, kernel_size=3, stride=2, padding=1 )\r\n",
        "print(cnn1d_4(input_1d).shape)\r\n",
        "print(cnn1d_4(input_1d))"
      ],
      "execution_count": 15,
      "outputs": [
        {
          "output_type": "stream",
          "text": [
            "torch.Size([1, 5, 5])\n",
            "tensor([[[ 0.9320,  2.1710,  3.4101,  4.6492,  5.8882],\n",
            "         [-1.3820, -1.6559, -1.9298, -2.2037, -2.4776],\n",
            "         [ 0.8200,  1.8808,  2.9416,  4.0024,  5.0632],\n",
            "         [ 0.0587, -0.0389, -0.1365, -0.2341, -0.3317],\n",
            "         [ 0.0598, -0.7403, -1.5404, -2.3404, -3.1405]]],\n",
            "       grad_fn=<SqueezeBackward1>)\n"
          ],
          "name": "stdout"
        }
      ]
    },
    {
      "cell_type": "code",
      "metadata": {
        "colab": {
          "base_uri": "https://localhost:8080/"
        },
        "id": "jq2JkUxMusJc",
        "outputId": "ab587ca8-8249-4f95-a2a3-bcec5819dab8"
      },
      "source": [
        "input_2d = torch.tensor([[1,2,3,4,5,6,7,8,9, 10], [1,2,3,4,5,6,7,8,9, 10]] , dtype=torch.float)\r\n",
        "input_2d.shape"
      ],
      "execution_count": 17,
      "outputs": [
        {
          "output_type": "execute_result",
          "data": {
            "text/plain": [
              "torch.Size([2, 10])"
            ]
          },
          "metadata": {
            "tags": []
          },
          "execution_count": 17
        }
      ]
    },
    {
      "cell_type": "code",
      "metadata": {
        "colab": {
          "base_uri": "https://localhost:8080/"
        },
        "id": "y5wNa-RSw_kz",
        "outputId": "c36a9687-80fe-48af-db78-5a3a4e7814ef"
      },
      "source": [
        "input_2d = input_2d.unsqueeze(0)\r\n",
        "input_2d.shape"
      ],
      "execution_count": 18,
      "outputs": [
        {
          "output_type": "execute_result",
          "data": {
            "text/plain": [
              "torch.Size([1, 2, 10])"
            ]
          },
          "metadata": {
            "tags": []
          },
          "execution_count": 18
        }
      ]
    },
    {
      "cell_type": "code",
      "metadata": {
        "colab": {
          "base_uri": "https://localhost:8080/"
        },
        "id": "qnnQPvSjxQlx",
        "outputId": "de7ebbd3-967b-466d-8197-97c07f3b1cbd"
      },
      "source": [
        "cnn1d_5 = nn.Conv1d(in_channels=2, out_channels=5, kernel_size=3, stride=1, padding=1 )\r\n",
        "print(cnn1d_5(input_2d).shape)\r\n",
        "print(cnn1d_5(input_2d))"
      ],
      "execution_count": 24,
      "outputs": [
        {
          "output_type": "stream",
          "text": [
            "torch.Size([1, 5, 10])\n",
            "tensor([[[-4.5149e-01, -1.5633e+00, -2.6752e+00, -3.7870e+00, -4.8989e+00,\n",
            "          -6.0107e+00, -7.1226e+00, -8.2345e+00, -9.3463e+00, -8.7806e+00],\n",
            "         [-2.4606e-01, -3.2843e-01, -4.1080e-01, -4.9318e-01, -5.7555e-01,\n",
            "          -6.5792e-01, -7.4029e-01, -8.2266e-01, -9.0503e-01, -3.9816e+00],\n",
            "         [-4.5351e-01, -8.5880e-01, -1.2641e+00, -1.6694e+00, -2.0747e+00,\n",
            "          -2.4800e+00, -2.8853e+00, -3.2906e+00, -3.6959e+00, -8.8352e-03],\n",
            "         [-6.3470e-02,  3.0266e-01,  6.6878e-01,  1.0349e+00,  1.4010e+00,\n",
            "           1.7672e+00,  2.1333e+00,  2.4994e+00,  2.8655e+00,  4.1145e+00],\n",
            "         [ 9.1639e-02,  8.0193e-02,  6.8746e-02,  5.7300e-02,  4.5854e-02,\n",
            "           3.4408e-02,  2.2961e-02,  1.1515e-02,  6.9022e-05, -1.1202e+00]]],\n",
            "       grad_fn=<SqueezeBackward1>)\n"
          ],
          "name": "stdout"
        }
      ]
    },
    {
      "cell_type": "code",
      "metadata": {
        "colab": {
          "base_uri": "https://localhost:8080/"
        },
        "id": "EgEVUOG5xmyx",
        "outputId": "b24e7bac-1a70-41eb-8edb-c6ad7557a624"
      },
      "source": [
        "input_2d_img = torch.tensor([[[1,2,3,4,5,6,7,8,9, 10], [1,2,3,4,5,6,7,8,9, 10], [1,2,3,4,5,6,7,8,9, 10]], [[1,2,3,4,5,6,7,8,9, 10], [1,2,3,4,5,6,7,8,9, 10], [1,2,3,4,5,6,7,8,9, 10]], [[1,2,3,4,5,6,7,8,9, 10], [1,2,3,4,5,6,7,8,9, 10], [1,2,3,4,5,6,7,8,9, 10]]] , dtype=torch.float)\r\n",
        "input_2d_img.shape"
      ],
      "execution_count": 25,
      "outputs": [
        {
          "output_type": "execute_result",
          "data": {
            "text/plain": [
              "torch.Size([3, 3, 10])"
            ]
          },
          "metadata": {
            "tags": []
          },
          "execution_count": 25
        }
      ]
    },
    {
      "cell_type": "code",
      "metadata": {
        "colab": {
          "base_uri": "https://localhost:8080/"
        },
        "id": "CBaOe1E91dNu",
        "outputId": "44c61473-5429-48c3-9b2d-72bddccab401"
      },
      "source": [
        "input_2d_img = input_2d_img.unsqueeze(0)\r\n",
        "input_2d_img.shape"
      ],
      "execution_count": 26,
      "outputs": [
        {
          "output_type": "execute_result",
          "data": {
            "text/plain": [
              "torch.Size([1, 3, 3, 10])"
            ]
          },
          "metadata": {
            "tags": []
          },
          "execution_count": 26
        }
      ]
    },
    {
      "cell_type": "code",
      "metadata": {
        "colab": {
          "base_uri": "https://localhost:8080/"
        },
        "id": "BgihCF_q1rXz",
        "outputId": "c3306052-22a0-4328-bff5-6eb480493cd1"
      },
      "source": [
        "cnn2d_1 = nn.Conv2d(in_channels=3, out_channels=5, kernel_size=3, stride=1, padding=1 )\r\n",
        "print(cnn2d_1(input_2d_img).shape)\r\n",
        "print(cnn2d_1(input_2d_img))"
      ],
      "execution_count": 31,
      "outputs": [
        {
          "output_type": "stream",
          "text": [
            "torch.Size([1, 5, 3, 10])\n",
            "tensor([[[[-0.2005, -0.6111, -1.0216, -1.4322, -1.8427, -2.2533, -2.6638,\n",
            "           -3.0744, -3.4850, -4.9439],\n",
            "          [-0.4994, -1.0800, -1.6607, -2.2414, -2.8220, -3.4027, -3.9834,\n",
            "           -4.5640, -5.1447, -3.8503],\n",
            "          [-0.2564, -0.4563, -0.6561, -0.8559, -1.0558, -1.2556, -1.4554,\n",
            "           -1.6553, -1.8551, -0.8892]],\n",
            "\n",
            "         [[-0.6749, -1.6212, -2.5675, -3.5139, -4.4602, -5.4066, -6.3529,\n",
            "           -7.2992, -8.2456, -7.1272],\n",
            "          [-0.5449, -1.5165, -2.4882, -3.4599, -4.4316, -5.4033, -6.3750,\n",
            "           -7.3467, -8.3184, -7.7193],\n",
            "          [-0.2197, -0.8594, -1.4991, -2.1388, -2.7786, -3.4183, -4.0580,\n",
            "           -4.6977, -5.3374, -6.2780]],\n",
            "\n",
            "         [[ 0.2704,  0.7201,  1.1697,  1.6194,  2.0690,  2.5187,  2.9683,\n",
            "            3.4180,  3.8676,  4.2483],\n",
            "          [ 0.5349,  0.9263,  1.3178,  1.7093,  2.1007,  2.4922,  2.8837,\n",
            "            3.2751,  3.6666,  2.3816],\n",
            "          [ 0.2864,  0.2085,  0.1305,  0.0525, -0.0255, -0.1035, -0.1815,\n",
            "           -0.2595, -0.3375, -1.2537]],\n",
            "\n",
            "         [[-0.2248, -0.7669, -1.3091, -1.8513, -2.3934, -2.9356, -3.4778,\n",
            "           -4.0199, -4.5621, -4.9309],\n",
            "          [-0.3455, -0.9755, -1.6055, -2.2354, -2.8654, -3.4954, -4.1253,\n",
            "           -4.7553, -5.3853, -5.2810],\n",
            "          [-0.1596, -0.0883, -0.0170,  0.0542,  0.1255,  0.1968,  0.2680,\n",
            "            0.3393,  0.4106,  2.4074]],\n",
            "\n",
            "         [[-0.3205, -0.7596, -1.1987, -1.6378, -2.0769, -2.5160, -2.9551,\n",
            "           -3.3942, -3.8333, -4.0052],\n",
            "          [ 0.0153, -0.1274, -0.2700, -0.4127, -0.5553, -0.6980, -0.8406,\n",
            "           -0.9833, -1.1259, -2.4196],\n",
            "          [ 0.4706,  0.9012,  1.3317,  1.7623,  2.1928,  2.6234,  3.0540,\n",
            "            3.4845,  3.9151,  2.3206]]]], grad_fn=<ThnnConv2DBackward>)\n"
          ],
          "name": "stdout"
        }
      ]
    },
    {
      "cell_type": "markdown",
      "metadata": {
        "id": "CZPiWtDsOlkG"
      },
      "source": [
        "Ejemplo Práctico CIFAR-10"
      ]
    },
    {
      "cell_type": "code",
      "metadata": {
        "id": "XkCSCGsh2A3Y"
      },
      "source": [
        "import torch\r\n",
        "import torchvision\r\n",
        "import torchvision.transforms as transforms"
      ],
      "execution_count": 2,
      "outputs": []
    },
    {
      "cell_type": "code",
      "metadata": {
        "id": "0r_L2RCEO6CW"
      },
      "source": [
        "transform = transforms.Compose([transforms.ToTensor(), transforms.Normalize((0.5, 0.5, 0.5), (0.5,0.5,0.5))])"
      ],
      "execution_count": 4,
      "outputs": []
    },
    {
      "cell_type": "code",
      "metadata": {
        "id": "tgEEqKf-Pgel"
      },
      "source": [
        "batch_size=4"
      ],
      "execution_count": 5,
      "outputs": []
    },
    {
      "cell_type": "code",
      "metadata": {
        "colab": {
          "base_uri": "https://localhost:8080/"
        },
        "id": "JsezdwvQP7BQ",
        "outputId": "2286b36f-cf00-4a0d-b9db-da0b22061c98"
      },
      "source": [
        "trainset = torchvision.datasets.CIFAR10(root='./data', train=True, transform=transform, download=True)"
      ],
      "execution_count": 10,
      "outputs": [
        {
          "output_type": "stream",
          "text": [
            "Files already downloaded and verified\n"
          ],
          "name": "stdout"
        }
      ]
    },
    {
      "cell_type": "code",
      "metadata": {
        "colab": {
          "base_uri": "https://localhost:8080/"
        },
        "id": "uWeMUsfJQVTS",
        "outputId": "b6636b4b-f345-4d3d-a4c4-dd37051f0979"
      },
      "source": [
        "testset = torchvision.datasets.CIFAR10(root='./data', train=False, transform=transform, download=True)"
      ],
      "execution_count": 11,
      "outputs": [
        {
          "output_type": "stream",
          "text": [
            "Files already downloaded and verified\n"
          ],
          "name": "stdout"
        }
      ]
    },
    {
      "cell_type": "code",
      "metadata": {
        "id": "PmqnI5a5QfEn"
      },
      "source": [
        "trainloadoer = torch.utils.data.DataLoader(trainset, batch_size=batch_size, shuffle=True, num_workers=2)"
      ],
      "execution_count": 13,
      "outputs": []
    },
    {
      "cell_type": "code",
      "metadata": {
        "id": "dzoTisRKRA1S"
      },
      "source": [
        "testloader = torch.utils.data.DataLoader(testset, batch_size=batch_size, shuffle=False, num_workers=2)"
      ],
      "execution_count": 14,
      "outputs": []
    },
    {
      "cell_type": "code",
      "metadata": {
        "id": "5Upud8m6RKll"
      },
      "source": [
        "classes = ('plane', 'car', 'bird', 'cat', 'deer', 'dog', 'frog', 'horse', 'ship', 'truck')"
      ],
      "execution_count": 27,
      "outputs": []
    },
    {
      "cell_type": "code",
      "metadata": {
        "id": "zmBWfb3zRjQ6"
      },
      "source": [
        "import matplotlib.pyplot as plt"
      ],
      "execution_count": 16,
      "outputs": []
    },
    {
      "cell_type": "code",
      "metadata": {
        "id": "QcROLJcdRtZB"
      },
      "source": [
        "def imshow(img):\r\n",
        "  img = img/2 + 0.5\r\n",
        "  npimg = img.numpy()\r\n",
        "  plt.imshow(np.transpose(npimg, (1,2,0)))\r\n",
        "  plt.show()"
      ],
      "execution_count": 23,
      "outputs": []
    },
    {
      "cell_type": "code",
      "metadata": {
        "id": "pu3zdnUoTFEl"
      },
      "source": [
        "dataiter = iter(trainloadoer)"
      ],
      "execution_count": 18,
      "outputs": []
    },
    {
      "cell_type": "code",
      "metadata": {
        "id": "FlHFV62mTOfQ"
      },
      "source": [
        "images, labels = dataiter.next()"
      ],
      "execution_count": 19,
      "outputs": []
    },
    {
      "cell_type": "code",
      "metadata": {
        "colab": {
          "base_uri": "https://localhost:8080/",
          "height": 138
        },
        "id": "o022IxlmTTs8",
        "outputId": "31c5b80b-fe9b-43c5-897a-d8d24e5105f4"
      },
      "source": [
        "imshow(torchvision.utils.make_grid(images))"
      ],
      "execution_count": 24,
      "outputs": [
        {
          "output_type": "display_data",
          "data": {
            "image/png": "[encoded data removed]",
            "text/plain": [
              "<Figure size 432x288 with 1 Axes>"
            ]
          },
          "metadata": {
            "tags": [],
            "needs_background": "light"
          }
        }
      ]
    },
    {
      "cell_type": "code",
      "metadata": {
        "colab": {
          "base_uri": "https://localhost:8080/"
        },
        "id": "93DlTEZZTe-i",
        "outputId": "93f63f15-b400-4932-9b3c-f2ac3bd5692b"
      },
      "source": [
        "print(' '.join('%5s' % classes[labels[j]] for j in range(labels.size(0))))"
      ],
      "execution_count": 30,
      "outputs": [
        {
          "output_type": "stream",
          "text": [
            "horse horse  ship horse\n"
          ],
          "name": "stdout"
        }
      ]
    },
    {
      "cell_type": "code",
      "metadata": {
        "id": "fOZRMqXOUT_O"
      },
      "source": [
        "class Net(nn.Module):\r\n",
        "  def __init__(self):\r\n",
        "    super(Net, self).__init__()\r\n",
        "    self.conv1 = nn.Conv2d(3,6,5)\r\n",
        "    self.pool = nn.MaxPool2d(2,2)\r\n",
        "    self.conv2 = nn.Conv2d(6,16,5)\r\n",
        "    self.fc1 = nn.Linear(16*5*5, 120)\r\n",
        "    self.fc2 = nn.Linear(120,84)\r\n",
        "    self.fc3 = nn.Linear(84,19)\r\n",
        "    \r\n",
        "  def forward(self, x):\r\n",
        "    x = self.pool(F.relu(self.conv1(x)))\r\n",
        "    x = self.pool(F.relu(self.conv2(x)))\r\n",
        "    x = x.view(-1, 16*5*5)\r\n",
        "    x = F.relu(self.fc1(x))\r\n",
        "    x = F.relu(self.fc2(x))\r\n",
        "    x = self.fc3(x)\r\n",
        "\r\n",
        "    return(x)"
      ],
      "execution_count": 34,
      "outputs": []
    },
    {
      "cell_type": "code",
      "metadata": {
        "id": "GPLVf2rlWrvJ"
      },
      "source": [
        "net = Net()"
      ],
      "execution_count": 35,
      "outputs": []
    },
    {
      "cell_type": "code",
      "metadata": {
        "id": "OTeVrjXlXrmw"
      },
      "source": [
        "criterion = nn.CrossEntropyLoss()"
      ],
      "execution_count": 37,
      "outputs": []
    },
    {
      "cell_type": "code",
      "metadata": {
        "id": "E2y1sfVJX38K"
      },
      "source": [
        "optimizer = optim.SGD(net.parameters(), lr = 0.001, momentum=0.09)"
      ],
      "execution_count": 38,
      "outputs": []
    },
    {
      "cell_type": "code",
      "metadata": {
        "colab": {
          "base_uri": "https://localhost:8080/"
        },
        "id": "e24XaGLcYSSB",
        "outputId": "2cb86020-6ee9-4629-b6ad-dcafd3406401"
      },
      "source": [
        "net.train()\r\n",
        "train_loss = []\r\n",
        "epochs = 10\r\n",
        "for epoch in range(epochs):\r\n",
        "\r\n",
        "  running_loss = 0.0\r\n",
        "\r\n",
        "  for data in trainloadoer:\r\n",
        "    inputs, labels = data\r\n",
        "    optimizer.zero_grad()\r\n",
        "    outputs = net(inputs)\r\n",
        "    loss = criterion(outputs, labels)\r\n",
        "    loss.backward()\r\n",
        "    optimizer.step()\r\n",
        "    running_loss += loss.item() * inputs.size(0)\r\n",
        "\r\n",
        "  loss = running_loss / len(trainloadoer)\r\n",
        "\r\n",
        "  train_loss.append(loss)\r\n",
        "\r\n",
        "  print('epoch [%d/%d] loss %.3f' % (epoch+1, epochs, loss))\r\n",
        "\r\n",
        "print('Training terminado')\r\n"
      ],
      "execution_count": 44,
      "outputs": [
        {
          "output_type": "stream",
          "text": [
            "epoch [1/10] loss 9.143\n",
            "epoch [2/10] loss 7.290\n",
            "epoch [3/10] loss 6.415\n",
            "epoch [4/10] loss 5.968\n",
            "epoch [5/10] loss 5.655\n",
            "epoch [6/10] loss 5.389\n",
            "epoch [7/10] loss 5.166\n",
            "epoch [8/10] loss 4.977\n",
            "epoch [9/10] loss 4.808\n",
            "epoch [10/10] loss 4.656\n",
            "Training terminado\n"
          ],
          "name": "stdout"
        }
      ]
    },
    {
      "cell_type": "code",
      "metadata": {
        "id": "2C_OxpsEaspe"
      },
      "source": [
        "images, labels = dataiter.next()"
      ],
      "execution_count": 45,
      "outputs": []
    },
    {
      "cell_type": "code",
      "metadata": {
        "colab": {
          "base_uri": "https://localhost:8080/",
          "height": 138
        },
        "id": "GqW9JurZd_UM",
        "outputId": "e577354f-b8ce-416b-a47d-4786d1c101ac"
      },
      "source": [
        "imshow(torchvision.utils.make_grid(images))"
      ],
      "execution_count": 46,
      "outputs": [
        {
          "output_type": "display_data",
          "data": {
            "image/png": "[encoded data removed]",
            "text/plain": [
              "<Figure size 432x288 with 1 Axes>"
            ]
          },
          "metadata": {
            "tags": [],
            "needs_background": "light"
          }
        }
      ]
    },
    {
      "cell_type": "code",
      "metadata": {
        "colab": {
          "base_uri": "https://localhost:8080/"
        },
        "id": "Y_1hBNPneCVs",
        "outputId": "2db2c8dc-7dba-45db-8bfe-dceca06ccc94"
      },
      "source": [
        "print(' '.join('%5s' % classes[labels[j]] for j in range(labels.size(0))))"
      ],
      "execution_count": 47,
      "outputs": [
        {
          "output_type": "stream",
          "text": [
            "  dog  frog horse  ship\n"
          ],
          "name": "stdout"
        }
      ]
    },
    {
      "cell_type": "code",
      "metadata": {
        "colab": {
          "base_uri": "https://localhost:8080/",
          "height": 163
        },
        "id": "_nYRvsy5eF4v",
        "outputId": "0d42f5e1-20d5-483b-c935-4ff66cddccd0"
      },
      "source": [
        "images, labels = images.to(device), labels.to(device)"
      ],
      "execution_count": 48,
      "outputs": [
        {
          "output_type": "error",
          "ename": "NameError",
          "evalue": "ignored",
          "traceback": [
            "\u001b[0;31m---------------------------------------------------------------------------\u001b[0m",
            "\u001b[0;31mNameError\u001b[0m                                 Traceback (most recent call last)",
            "\u001b[0;32m<ipython-input-48-529e0de6728a>\u001b[0m in \u001b[0;36m<module>\u001b[0;34m()\u001b[0m\n\u001b[0;32m----> 1\u001b[0;31m \u001b[0mimages\u001b[0m\u001b[0;34m,\u001b[0m \u001b[0mlabels\u001b[0m \u001b[0;34m=\u001b[0m \u001b[0mimages\u001b[0m\u001b[0;34m.\u001b[0m\u001b[0mto\u001b[0m\u001b[0;34m(\u001b[0m\u001b[0mdevice\u001b[0m\u001b[0;34m)\u001b[0m\u001b[0;34m,\u001b[0m \u001b[0mlabels\u001b[0m\u001b[0;34m.\u001b[0m\u001b[0mto\u001b[0m\u001b[0;34m(\u001b[0m\u001b[0mdevice\u001b[0m\u001b[0;34m)\u001b[0m\u001b[0;34m\u001b[0m\u001b[0;34m\u001b[0m\u001b[0m\n\u001b[0m",
            "\u001b[0;31mNameError\u001b[0m: name 'device' is not defined"
          ]
        }
      ]
    },
    {
      "cell_type": "code",
      "metadata": {
        "id": "MCemLwEXeYz-"
      },
      "source": [
        "ouptus = net(images)"
      ],
      "execution_count": 49,
      "outputs": []
    },
    {
      "cell_type": "code",
      "metadata": {
        "id": "YiV_hCSMepcA"
      },
      "source": [
        "_ , predicted = torch.max(outputs,1)"
      ],
      "execution_count": 50,
      "outputs": []
    },
    {
      "cell_type": "code",
      "metadata": {
        "colab": {
          "base_uri": "https://localhost:8080/"
        },
        "id": "czRzG61Aexvq",
        "outputId": "3ef45070-ef7d-4d3c-d688-0c369304edc2"
      },
      "source": [
        "print('Predicción: ', ' '.join(classes[predicted[j]] for j in range(predicted.size(0))))"
      ],
      "execution_count": 51,
      "outputs": [
        {
          "output_type": "stream",
          "text": [
            "Predicción:  ship truck car horse\n"
          ],
          "name": "stdout"
        }
      ]
    },
    {
      "cell_type": "code",
      "metadata": {
        "colab": {
          "base_uri": "https://localhost:8080/"
        },
        "id": "bQucwBMofLk9",
        "outputId": "5751df4c-0d0b-4857-fed2-09087d2f6b65"
      },
      "source": [
        "net.eval()\r\n",
        "correct = 0\r\n",
        "total = 0\r\n",
        "with torch.no_grad():\r\n",
        "  for data in testloader:\r\n",
        "    images, labels = data\r\n",
        "    output = net(images)\r\n",
        "    _, predicted = torch.max(output, 1)\r\n",
        "    total += labels.size(0)\r\n",
        "    correct += (predicted == labels).sum().item()\r\n",
        "\r\n",
        "print('Accuracy imágenes de test %d %%' % (100*correct/total))"
      ],
      "execution_count": 55,
      "outputs": [
        {
          "output_type": "stream",
          "text": [
            "Accuracy imágenes de test 56 %\n"
          ],
          "name": "stdout"
        }
      ]
    },
    {
      "cell_type": "code",
      "metadata": {
        "colab": {
          "base_uri": "https://localhost:8080/",
          "height": 231
        },
        "id": "FdDeKp7Sg0gN",
        "outputId": "8776882e-451d-4dee-ca4c-ff8a4ddedf0f"
      },
      "source": [
        "net.eval()\r\n",
        "class_correct = list(0. for i in range(10))\r\n",
        "class_total = list(0. for i in range(10))\r\n",
        "\r\n",
        "with torch.no_grad():\r\n",
        "  for data in testloader:\r\n",
        "    images, labels = data\r\n",
        "    output = net(images)\r\n",
        "    _, predicted = torch.max(output, 1)\r\n",
        "    c = (predicted == labels).squeeze()\r\n",
        "    for i in range(labels.size(0)):\r\n",
        "      labels = labels[i]\r\n",
        "      class_correct += c[i].item()\r\n",
        "      class_total += 1\r\n",
        "    \r\n",
        "  \r\n",
        "for i in range(10):\r\n",
        "  print('Accuracy de %5s : %2d %%' % (classes[i], 100*class_correct[i]/class_total[i]))"
      ],
      "execution_count": 60,
      "outputs": [
        {
          "output_type": "error",
          "ename": "TypeError",
          "evalue": "ignored",
          "traceback": [
            "\u001b[0;31m---------------------------------------------------------------------------\u001b[0m",
            "\u001b[0;31mTypeError\u001b[0m                                 Traceback (most recent call last)",
            "\u001b[0;32m<ipython-input-60-8bec5a927210>\u001b[0m in \u001b[0;36m<module>\u001b[0;34m()\u001b[0m\n\u001b[1;32m     11\u001b[0m     \u001b[0;32mfor\u001b[0m \u001b[0mi\u001b[0m \u001b[0;32min\u001b[0m \u001b[0mrange\u001b[0m\u001b[0;34m(\u001b[0m\u001b[0mlabels\u001b[0m\u001b[0;34m.\u001b[0m\u001b[0msize\u001b[0m\u001b[0;34m(\u001b[0m\u001b[0;36m0\u001b[0m\u001b[0;34m)\u001b[0m\u001b[0;34m)\u001b[0m\u001b[0;34m:\u001b[0m\u001b[0;34m\u001b[0m\u001b[0;34m\u001b[0m\u001b[0m\n\u001b[1;32m     12\u001b[0m       \u001b[0mlabels\u001b[0m \u001b[0;34m=\u001b[0m \u001b[0mlabels\u001b[0m\u001b[0;34m[\u001b[0m\u001b[0mi\u001b[0m\u001b[0;34m]\u001b[0m\u001b[0;34m\u001b[0m\u001b[0;34m\u001b[0m\u001b[0m\n\u001b[0;32m---> 13\u001b[0;31m       \u001b[0mclass_correct\u001b[0m \u001b[0;34m+=\u001b[0m \u001b[0mc\u001b[0m\u001b[0;34m[\u001b[0m\u001b[0mi\u001b[0m\u001b[0;34m]\u001b[0m\u001b[0;34m.\u001b[0m\u001b[0mitem\u001b[0m\u001b[0;34m(\u001b[0m\u001b[0;34m)\u001b[0m\u001b[0;34m\u001b[0m\u001b[0;34m\u001b[0m\u001b[0m\n\u001b[0m\u001b[1;32m     14\u001b[0m       \u001b[0mclass_total\u001b[0m \u001b[0;34m+=\u001b[0m \u001b[0;36m1\u001b[0m\u001b[0;34m\u001b[0m\u001b[0;34m\u001b[0m\u001b[0m\n\u001b[1;32m     15\u001b[0m \u001b[0;34m\u001b[0m\u001b[0m\n",
            "\u001b[0;31mTypeError\u001b[0m: 'bool' object is not iterable"
          ]
        }
      ]
    },
    {
      "cell_type": "code",
      "metadata": {
        "id": "76XbpFMYjB7l"
      },
      "source": [
        ""
      ],
      "execution_count": null,
      "outputs": []
    }
  ]
}