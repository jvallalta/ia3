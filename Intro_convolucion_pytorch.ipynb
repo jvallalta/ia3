{
  "nbformat": 4,
  "nbformat_minor": 0,
  "metadata": {
    "colab": {
      "name": "Intro_convolucion_pytorch",
      "provenance": [],
      "authorship_tag": "ABX9TyONJ3IUOBeD7iAaWlaWtB8t",
      "include_colab_link": true
    },
    "kernelspec": {
      "name": "python3",
      "display_name": "Python 3"
    },
    "accelerator": "GPU"
  },
  "cells": [
    {
      "cell_type": "markdown",
      "metadata": {
        "id": "view-in-github",
        "colab_type": "text"
      },
      "source": [
        "<a href=\"https://colab.research.google.com/github/jvallalta/ia3/blob/main/Intro_convolucion_pytorch.ipynb\" target=\"_parent\"><img src=\"https://colab.research.google.com/assets/colab-badge.svg\" alt=\"Open In Colab\"/></a>"
      ]
    },
    {
      "cell_type": "code",
      "metadata": {
        "id": "djZjm24Rq5-j"
      },
      "source": [
        "#Cargamos las librerias\r\n",
        "import numpy as np\r\n",
        "import torch\r\n",
        "import torchvision\r\n",
        "import torch.nn as nn\r\n",
        "import torch.optim as optim\r\n",
        "from torch.utils.data import Dataset, DataLoader"
      ],
      "execution_count": 2,
      "outputs": []
    },
    {
      "cell_type": "code",
      "metadata": {
        "colab": {
          "base_uri": "https://localhost:8080/"
        },
        "id": "YkATNAMWsuqB",
        "outputId": "bc6570a5-d85f-4a8f-a1a8-25e6eff52923"
      },
      "source": [
        "input_1d = torch.tensor([1,2,3,4,5,6,7,8,9, 10], dtype=torch.float)\r\n",
        "input_1d.shape"
      ],
      "execution_count": 4,
      "outputs": [
        {
          "output_type": "execute_result",
          "data": {
            "text/plain": [
              "torch.Size([10])"
            ]
          },
          "metadata": {
            "tags": []
          },
          "execution_count": 4
        }
      ]
    },
    {
      "cell_type": "code",
      "metadata": {
        "colab": {
          "base_uri": "https://localhost:8080/"
        },
        "id": "yOwzJQ5etVJa",
        "outputId": "6d46146e-d755-4292-f826-c979d232181f"
      },
      "source": [
        "input_1d = input_1d.unsqueeze(0).unsqueeze(0)\r\n",
        "input_1d.shape"
      ],
      "execution_count": 6,
      "outputs": [
        {
          "output_type": "execute_result",
          "data": {
            "text/plain": [
              "torch.Size([1, 1, 10])"
            ]
          },
          "metadata": {
            "tags": []
          },
          "execution_count": 6
        }
      ]
    },
    {
      "cell_type": "code",
      "metadata": {
        "id": "KtXcBBkDttK4"
      },
      "source": [
        "cnn1d_1 = nn.Conv1d(in_channels=1, out_channels=1, kernel_size=3, stride=1 )\r\n"
      ],
      "execution_count": 8,
      "outputs": []
    },
    {
      "cell_type": "code",
      "metadata": {
        "colab": {
          "base_uri": "https://localhost:8080/"
        },
        "id": "SHJhKaTQuIgj",
        "outputId": "bef2cce9-24d6-4b52-ddc7-45f6e904a61d"
      },
      "source": [
        "print(cnn1d_1(input_1d).shape)\r\n",
        "print(cnn1d_1(input_1d))"
      ],
      "execution_count": 9,
      "outputs": [
        {
          "output_type": "stream",
          "text": [
            "torch.Size([1, 1, 8])\n",
            "tensor([[[-1.1439, -1.8429, -2.5419, -3.2409, -3.9399, -4.6389, -5.3379,\n",
            "          -6.0369]]], grad_fn=<SqueezeBackward1>)\n"
          ],
          "name": "stdout"
        }
      ]
    },
    {
      "cell_type": "code",
      "metadata": {
        "colab": {
          "base_uri": "https://localhost:8080/"
        },
        "id": "emPY-bVXvClB",
        "outputId": "07da3016-e02a-448f-c585-33ff14e91b95"
      },
      "source": [
        "cnn1d_2 = nn.Conv1d(in_channels=1, out_channels=1, kernel_size=3, stride=2 )\r\n",
        "print(cnn1d_2(input_1d).shape)\r\n",
        "print(cnn1d_2(input_1d))"
      ],
      "execution_count": 11,
      "outputs": [
        {
          "output_type": "stream",
          "text": [
            "torch.Size([1, 1, 4])\n",
            "tensor([[[0.8835, 0.6719, 0.4603, 0.2487]]], grad_fn=<SqueezeBackward1>)\n"
          ],
          "name": "stdout"
        }
      ]
    },
    {
      "cell_type": "code",
      "metadata": {
        "colab": {
          "base_uri": "https://localhost:8080/"
        },
        "id": "FlFsGN9yviRs",
        "outputId": "60fa20ec-9d0f-4d12-a7a5-48bb1103c33e"
      },
      "source": [
        "cnn1d_3 = nn.Conv1d(in_channels=1, out_channels=5, kernel_size=3, stride=1)\r\n",
        "print(cnn1d_3(input_1d).shape)\r\n",
        "print(cnn1d_3(input_1d))"
      ],
      "execution_count": 12,
      "outputs": [
        {
          "output_type": "stream",
          "text": [
            "torch.Size([1, 5, 8])\n",
            "tensor([[[-1.1465, -1.4818, -1.8171, -2.1524, -2.4877, -2.8230, -3.1583,\n",
            "          -3.4936],\n",
            "         [-0.6822, -0.9996, -1.3169, -1.6342, -1.9516, -2.2689, -2.5862,\n",
            "          -2.9036],\n",
            "         [ 0.3569,  0.3495,  0.3420,  0.3346,  0.3271,  0.3197,  0.3122,\n",
            "           0.3048],\n",
            "         [-1.7229, -2.3661, -3.0094, -3.6526, -4.2958, -4.9391, -5.5823,\n",
            "          -6.2256],\n",
            "         [-2.0663, -3.1798, -4.2933, -5.4068, -6.5203, -7.6338, -8.7474,\n",
            "          -9.8609]]], grad_fn=<SqueezeBackward1>)\n"
          ],
          "name": "stdout"
        }
      ]
    },
    {
      "cell_type": "code",
      "metadata": {
        "colab": {
          "base_uri": "https://localhost:8080/"
        },
        "id": "_jtzSlsauhJK",
        "outputId": "06bfead2-d0fb-47c1-8f5a-0139488263a8"
      },
      "source": [
        "cnn1d_4 = nn.Conv1d(in_channels=1, out_channels=5, kernel_size=3, stride=2, padding=1 )\r\n",
        "print(cnn1d_4(input_1d).shape)\r\n",
        "print(cnn1d_4(input_1d))"
      ],
      "execution_count": 15,
      "outputs": [
        {
          "output_type": "stream",
          "text": [
            "torch.Size([1, 5, 5])\n",
            "tensor([[[ 0.9320,  2.1710,  3.4101,  4.6492,  5.8882],\n",
            "         [-1.3820, -1.6559, -1.9298, -2.2037, -2.4776],\n",
            "         [ 0.8200,  1.8808,  2.9416,  4.0024,  5.0632],\n",
            "         [ 0.0587, -0.0389, -0.1365, -0.2341, -0.3317],\n",
            "         [ 0.0598, -0.7403, -1.5404, -2.3404, -3.1405]]],\n",
            "       grad_fn=<SqueezeBackward1>)\n"
          ],
          "name": "stdout"
        }
      ]
    },
    {
      "cell_type": "code",
      "metadata": {
        "colab": {
          "base_uri": "https://localhost:8080/"
        },
        "id": "jq2JkUxMusJc",
        "outputId": "ab587ca8-8249-4f95-a2a3-bcec5819dab8"
      },
      "source": [
        "input_2d = torch.tensor([[1,2,3,4,5,6,7,8,9, 10], [1,2,3,4,5,6,7,8,9, 10]] , dtype=torch.float)\r\n",
        "input_2d.shape"
      ],
      "execution_count": 17,
      "outputs": [
        {
          "output_type": "execute_result",
          "data": {
            "text/plain": [
              "torch.Size([2, 10])"
            ]
          },
          "metadata": {
            "tags": []
          },
          "execution_count": 17
        }
      ]
    },
    {
      "cell_type": "code",
      "metadata": {
        "colab": {
          "base_uri": "https://localhost:8080/"
        },
        "id": "y5wNa-RSw_kz",
        "outputId": "c36a9687-80fe-48af-db78-5a3a4e7814ef"
      },
      "source": [
        "input_2d = input_2d.unsqueeze(0)\r\n",
        "input_2d.shape"
      ],
      "execution_count": 18,
      "outputs": [
        {
          "output_type": "execute_result",
          "data": {
            "text/plain": [
              "torch.Size([1, 2, 10])"
            ]
          },
          "metadata": {
            "tags": []
          },
          "execution_count": 18
        }
      ]
    },
    {
      "cell_type": "code",
      "metadata": {
        "colab": {
          "base_uri": "https://localhost:8080/"
        },
        "id": "qnnQPvSjxQlx",
        "outputId": "de7ebbd3-967b-466d-8197-97c07f3b1cbd"
      },
      "source": [
        "cnn1d_5 = nn.Conv1d(in_channels=2, out_channels=5, kernel_size=3, stride=1, padding=1 )\r\n",
        "print(cnn1d_5(input_2d).shape)\r\n",
        "print(cnn1d_5(input_2d))"
      ],
      "execution_count": 24,
      "outputs": [
        {
          "output_type": "stream",
          "text": [
            "torch.Size([1, 5, 10])\n",
            "tensor([[[-4.5149e-01, -1.5633e+00, -2.6752e+00, -3.7870e+00, -4.8989e+00,\n",
            "          -6.0107e+00, -7.1226e+00, -8.2345e+00, -9.3463e+00, -8.7806e+00],\n",
            "         [-2.4606e-01, -3.2843e-01, -4.1080e-01, -4.9318e-01, -5.7555e-01,\n",
            "          -6.5792e-01, -7.4029e-01, -8.2266e-01, -9.0503e-01, -3.9816e+00],\n",
            "         [-4.5351e-01, -8.5880e-01, -1.2641e+00, -1.6694e+00, -2.0747e+00,\n",
            "          -2.4800e+00, -2.8853e+00, -3.2906e+00, -3.6959e+00, -8.8352e-03],\n",
            "         [-6.3470e-02,  3.0266e-01,  6.6878e-01,  1.0349e+00,  1.4010e+00,\n",
            "           1.7672e+00,  2.1333e+00,  2.4994e+00,  2.8655e+00,  4.1145e+00],\n",
            "         [ 9.1639e-02,  8.0193e-02,  6.8746e-02,  5.7300e-02,  4.5854e-02,\n",
            "           3.4408e-02,  2.2961e-02,  1.1515e-02,  6.9022e-05, -1.1202e+00]]],\n",
            "       grad_fn=<SqueezeBackward1>)\n"
          ],
          "name": "stdout"
        }
      ]
    },
    {
      "cell_type": "code",
      "metadata": {
        "colab": {
          "base_uri": "https://localhost:8080/"
        },
        "id": "EgEVUOG5xmyx",
        "outputId": "b24e7bac-1a70-41eb-8edb-c6ad7557a624"
      },
      "source": [
        "input_2d_img = torch.tensor([[[1,2,3,4,5,6,7,8,9, 10], [1,2,3,4,5,6,7,8,9, 10], [1,2,3,4,5,6,7,8,9, 10]], [[1,2,3,4,5,6,7,8,9, 10], [1,2,3,4,5,6,7,8,9, 10], [1,2,3,4,5,6,7,8,9, 10]], [[1,2,3,4,5,6,7,8,9, 10], [1,2,3,4,5,6,7,8,9, 10], [1,2,3,4,5,6,7,8,9, 10]]] , dtype=torch.float)\r\n",
        "input_2d_img.shape"
      ],
      "execution_count": 25,
      "outputs": [
        {
          "output_type": "execute_result",
          "data": {
            "text/plain": [
              "torch.Size([3, 3, 10])"
            ]
          },
          "metadata": {
            "tags": []
          },
          "execution_count": 25
        }
      ]
    },
    {
      "cell_type": "code",
      "metadata": {
        "colab": {
          "base_uri": "https://localhost:8080/"
        },
        "id": "CBaOe1E91dNu",
        "outputId": "44c61473-5429-48c3-9b2d-72bddccab401"
      },
      "source": [
        "input_2d_img = input_2d_img.unsqueeze(0)\r\n",
        "input_2d_img.shape"
      ],
      "execution_count": 26,
      "outputs": [
        {
          "output_type": "execute_result",
          "data": {
            "text/plain": [
              "torch.Size([1, 3, 3, 10])"
            ]
          },
          "metadata": {
            "tags": []
          },
          "execution_count": 26
        }
      ]
    },
    {
      "cell_type": "code",
      "metadata": {
        "colab": {
          "base_uri": "https://localhost:8080/"
        },
        "id": "BgihCF_q1rXz",
        "outputId": "c3306052-22a0-4328-bff5-6eb480493cd1"
      },
      "source": [
        "cnn2d_1 = nn.Conv2d(in_channels=3, out_channels=5, kernel_size=3, stride=1, padding=1 )\r\n",
        "print(cnn2d_1(input_2d_img).shape)\r\n",
        "print(cnn2d_1(input_2d_img))"
      ],
      "execution_count": 31,
      "outputs": [
        {
          "output_type": "stream",
          "text": [
            "torch.Size([1, 5, 3, 10])\n",
            "tensor([[[[-0.2005, -0.6111, -1.0216, -1.4322, -1.8427, -2.2533, -2.6638,\n",
            "           -3.0744, -3.4850, -4.9439],\n",
            "          [-0.4994, -1.0800, -1.6607, -2.2414, -2.8220, -3.4027, -3.9834,\n",
            "           -4.5640, -5.1447, -3.8503],\n",
            "          [-0.2564, -0.4563, -0.6561, -0.8559, -1.0558, -1.2556, -1.4554,\n",
            "           -1.6553, -1.8551, -0.8892]],\n",
            "\n",
            "         [[-0.6749, -1.6212, -2.5675, -3.5139, -4.4602, -5.4066, -6.3529,\n",
            "           -7.2992, -8.2456, -7.1272],\n",
            "          [-0.5449, -1.5165, -2.4882, -3.4599, -4.4316, -5.4033, -6.3750,\n",
            "           -7.3467, -8.3184, -7.7193],\n",
            "          [-0.2197, -0.8594, -1.4991, -2.1388, -2.7786, -3.4183, -4.0580,\n",
            "           -4.6977, -5.3374, -6.2780]],\n",
            "\n",
            "         [[ 0.2704,  0.7201,  1.1697,  1.6194,  2.0690,  2.5187,  2.9683,\n",
            "            3.4180,  3.8676,  4.2483],\n",
            "          [ 0.5349,  0.9263,  1.3178,  1.7093,  2.1007,  2.4922,  2.8837,\n",
            "            3.2751,  3.6666,  2.3816],\n",
            "          [ 0.2864,  0.2085,  0.1305,  0.0525, -0.0255, -0.1035, -0.1815,\n",
            "           -0.2595, -0.3375, -1.2537]],\n",
            "\n",
            "         [[-0.2248, -0.7669, -1.3091, -1.8513, -2.3934, -2.9356, -3.4778,\n",
            "           -4.0199, -4.5621, -4.9309],\n",
            "          [-0.3455, -0.9755, -1.6055, -2.2354, -2.8654, -3.4954, -4.1253,\n",
            "           -4.7553, -5.3853, -5.2810],\n",
            "          [-0.1596, -0.0883, -0.0170,  0.0542,  0.1255,  0.1968,  0.2680,\n",
            "            0.3393,  0.4106,  2.4074]],\n",
            "\n",
            "         [[-0.3205, -0.7596, -1.1987, -1.6378, -2.0769, -2.5160, -2.9551,\n",
            "           -3.3942, -3.8333, -4.0052],\n",
            "          [ 0.0153, -0.1274, -0.2700, -0.4127, -0.5553, -0.6980, -0.8406,\n",
            "           -0.9833, -1.1259, -2.4196],\n",
            "          [ 0.4706,  0.9012,  1.3317,  1.7623,  2.1928,  2.6234,  3.0540,\n",
            "            3.4845,  3.9151,  2.3206]]]], grad_fn=<ThnnConv2DBackward>)\n"
          ],
          "name": "stdout"
        }
      ]
    },
    {
      "cell_type": "code",
      "metadata": {
        "id": "XkCSCGsh2A3Y"
      },
      "source": [
        ""
      ],
      "execution_count": null,
      "outputs": []
    }
  ]
}