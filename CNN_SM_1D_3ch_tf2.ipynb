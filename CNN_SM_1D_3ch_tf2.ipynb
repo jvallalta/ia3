{
  "nbformat": 4,
  "nbformat_minor": 0,
  "metadata": {
    "colab": {
      "name": "CNN_SM_1D_3ch_tf2.ipynb",
      "provenance": [],
      "collapsed_sections": [],
      "include_colab_link": true
    },
    "kernelspec": {
      "display_name": "Python [default]",
      "language": "python",
      "name": "python3"
    }
  },
  "cells": [
    {
      "cell_type": "markdown",
      "metadata": {
        "id": "view-in-github",
        "colab_type": "text"
      },
      "source": [
        "<a href=\"https://colab.research.google.com/github/jvallalta/ia3/blob/main/CNN_SM_1D_3ch_tf2.ipynb\" target=\"_parent\"><img src=\"https://colab.research.google.com/assets/colab-badge.svg\" alt=\"Open In Colab\"/></a>"
      ]
    },
    {
      "cell_type": "code",
      "metadata": {
        "id": "xAEC-qUHfEy_",
        "colab": {
          "base_uri": "https://localhost:8080/"
        },
        "outputId": "2266eaa2-7448-4c86-c220-b70d2a3e901a"
      },
      "source": [
        "#from __future__ import absolute_import, division, print_function, unicode_literals\n",
        "# Installa TensorFlow\n",
        "%tensorflow_version 2.x\n",
        "import tensorflow as tf\n",
        "print(tf.__version__)\n"
      ],
      "execution_count": 1,
      "outputs": [
        {
          "output_type": "stream",
          "text": [
            "2.3.0\n"
          ],
          "name": "stdout"
        }
      ]
    },
    {
      "cell_type": "code",
      "metadata": {
        "id": "mWq9F9XmwWAC"
      },
      "source": [
        "from tensorflow.keras.models import Sequential\n",
        "from tensorflow.keras.layers import Dense, Flatten, Conv1D\n",
        "import numpy as np"
      ],
      "execution_count": 2,
      "outputs": []
    },
    {
      "cell_type": "markdown",
      "metadata": {
        "collapsed": true,
        "id": "e18-vJ_IfEza"
      },
      "source": [
        "Para leer datos lo mejor es usar la toolbox pandas\n",
        "\n",
        "Los datos se han sacado de:\n",
        "https://www.kaggle.com/borismarjanovic/price-volume-data-for-all-us-stocks-etfs/version/3"
      ]
    },
    {
      "cell_type": "code",
      "metadata": {
        "id": "7HsjSYqPfEze"
      },
      "source": [
        "import pandas as pd\n",
        "\n",
        "# Leer los datos \n",
        "# En local: tenemos que tener el fichero en la misma carpeta que el notebook (o cambiar la ruta)\n",
        "# En Colab: abre la carpeta (usando el boton de la izquierda) y arrastralos dentro desde tu ordenador.\n",
        "\n",
        "dd_googl = pd.read_csv(\"googl.us.txt\", delimiter=\",\")\n",
        "dd_aa = pd.read_csv(\"aa.us.txt\", delimiter=\",\")\n",
        "dd_iae = pd.read_csv(\"iae.us.txt\", delimiter=\",\")\n"
      ],
      "execution_count": 3,
      "outputs": []
    },
    {
      "cell_type": "code",
      "metadata": {
        "scrolled": true,
        "id": "JHD9MWiRfEzo",
        "colab": {
          "base_uri": "https://localhost:8080/",
          "height": 419
        },
        "outputId": "534183b3-91d3-49ca-e29a-9888dca7a5a3"
      },
      "source": [
        "# Estos son los datos de google\n",
        "dd_googl"
      ],
      "execution_count": 4,
      "outputs": [
        {
          "output_type": "execute_result",
          "data": {
            "text/html": [
              "<div>\n",
              "<style scoped>\n",
              "    .dataframe tbody tr th:only-of-type {\n",
              "        vertical-align: middle;\n",
              "    }\n",
              "\n",
              "    .dataframe tbody tr th {\n",
              "        vertical-align: top;\n",
              "    }\n",
              "\n",
              "    .dataframe thead th {\n",
              "        text-align: right;\n",
              "    }\n",
              "</style>\n",
              "<table border=\"1\" class=\"dataframe\">\n",
              "  <thead>\n",
              "    <tr style=\"text-align: right;\">\n",
              "      <th></th>\n",
              "      <th>Date</th>\n",
              "      <th>Open</th>\n",
              "      <th>High</th>\n",
              "      <th>Low</th>\n",
              "      <th>Close</th>\n",
              "      <th>Volume</th>\n",
              "      <th>OpenInt</th>\n",
              "    </tr>\n",
              "  </thead>\n",
              "  <tbody>\n",
              "    <tr>\n",
              "      <th>0</th>\n",
              "      <td>2004-08-19</td>\n",
              "      <td>50.000</td>\n",
              "      <td>52.03</td>\n",
              "      <td>47.980</td>\n",
              "      <td>50.170</td>\n",
              "      <td>44703800</td>\n",
              "      <td>0</td>\n",
              "    </tr>\n",
              "    <tr>\n",
              "      <th>1</th>\n",
              "      <td>2004-08-20</td>\n",
              "      <td>50.505</td>\n",
              "      <td>54.54</td>\n",
              "      <td>50.250</td>\n",
              "      <td>54.155</td>\n",
              "      <td>22857200</td>\n",
              "      <td>0</td>\n",
              "    </tr>\n",
              "    <tr>\n",
              "      <th>2</th>\n",
              "      <td>2004-08-23</td>\n",
              "      <td>55.375</td>\n",
              "      <td>56.74</td>\n",
              "      <td>54.525</td>\n",
              "      <td>54.700</td>\n",
              "      <td>18274400</td>\n",
              "      <td>0</td>\n",
              "    </tr>\n",
              "    <tr>\n",
              "      <th>3</th>\n",
              "      <td>2004-08-24</td>\n",
              "      <td>55.620</td>\n",
              "      <td>55.80</td>\n",
              "      <td>51.785</td>\n",
              "      <td>52.435</td>\n",
              "      <td>15262600</td>\n",
              "      <td>0</td>\n",
              "    </tr>\n",
              "    <tr>\n",
              "      <th>4</th>\n",
              "      <td>2004-08-25</td>\n",
              "      <td>52.480</td>\n",
              "      <td>54.00</td>\n",
              "      <td>51.940</td>\n",
              "      <td>53.000</td>\n",
              "      <td>9197800</td>\n",
              "      <td>0</td>\n",
              "    </tr>\n",
              "    <tr>\n",
              "      <th>...</th>\n",
              "      <td>...</td>\n",
              "      <td>...</td>\n",
              "      <td>...</td>\n",
              "      <td>...</td>\n",
              "      <td>...</td>\n",
              "      <td>...</td>\n",
              "      <td>...</td>\n",
              "    </tr>\n",
              "    <tr>\n",
              "      <th>3328</th>\n",
              "      <td>2017-11-06</td>\n",
              "      <td>1049.100</td>\n",
              "      <td>1052.59</td>\n",
              "      <td>1042.000</td>\n",
              "      <td>1042.680</td>\n",
              "      <td>913954</td>\n",
              "      <td>0</td>\n",
              "    </tr>\n",
              "    <tr>\n",
              "      <th>3329</th>\n",
              "      <td>2017-11-07</td>\n",
              "      <td>1049.650</td>\n",
              "      <td>1053.41</td>\n",
              "      <td>1043.000</td>\n",
              "      <td>1052.390</td>\n",
              "      <td>1303832</td>\n",
              "      <td>0</td>\n",
              "    </tr>\n",
              "    <tr>\n",
              "      <th>3330</th>\n",
              "      <td>2017-11-08</td>\n",
              "      <td>1050.050</td>\n",
              "      <td>1062.69</td>\n",
              "      <td>1047.050</td>\n",
              "      <td>1058.290</td>\n",
              "      <td>1214469</td>\n",
              "      <td>0</td>\n",
              "    </tr>\n",
              "    <tr>\n",
              "      <th>3331</th>\n",
              "      <td>2017-11-09</td>\n",
              "      <td>1048.000</td>\n",
              "      <td>1050.88</td>\n",
              "      <td>1035.850</td>\n",
              "      <td>1047.720</td>\n",
              "      <td>1793994</td>\n",
              "      <td>0</td>\n",
              "    </tr>\n",
              "    <tr>\n",
              "      <th>3332</th>\n",
              "      <td>2017-11-10</td>\n",
              "      <td>1043.870</td>\n",
              "      <td>1046.63</td>\n",
              "      <td>1041.220</td>\n",
              "      <td>1044.150</td>\n",
              "      <td>970498</td>\n",
              "      <td>0</td>\n",
              "    </tr>\n",
              "  </tbody>\n",
              "</table>\n",
              "<p>3333 rows × 7 columns</p>\n",
              "</div>"
            ],
            "text/plain": [
              "            Date      Open     High       Low     Close    Volume  OpenInt\n",
              "0     2004-08-19    50.000    52.03    47.980    50.170  44703800        0\n",
              "1     2004-08-20    50.505    54.54    50.250    54.155  22857200        0\n",
              "2     2004-08-23    55.375    56.74    54.525    54.700  18274400        0\n",
              "3     2004-08-24    55.620    55.80    51.785    52.435  15262600        0\n",
              "4     2004-08-25    52.480    54.00    51.940    53.000   9197800        0\n",
              "...          ...       ...      ...       ...       ...       ...      ...\n",
              "3328  2017-11-06  1049.100  1052.59  1042.000  1042.680    913954        0\n",
              "3329  2017-11-07  1049.650  1053.41  1043.000  1052.390   1303832        0\n",
              "3330  2017-11-08  1050.050  1062.69  1047.050  1058.290   1214469        0\n",
              "3331  2017-11-09  1048.000  1050.88  1035.850  1047.720   1793994        0\n",
              "3332  2017-11-10  1043.870  1046.63  1041.220  1044.150    970498        0\n",
              "\n",
              "[3333 rows x 7 columns]"
            ]
          },
          "metadata": {
            "tags": []
          },
          "execution_count": 4
        }
      ]
    },
    {
      "cell_type": "code",
      "metadata": {
        "id": "VtM0xnsYfEz0"
      },
      "source": [
        "# Nos quedamos con los datos de apertura\n",
        "googl_op = dd_googl['Open'].values\n",
        "aa_op = dd_aa['Open'].values\n",
        "iae_op = dd_iae['Open'].values"
      ],
      "execution_count": 5,
      "outputs": []
    },
    {
      "cell_type": "code",
      "metadata": {
        "id": "hN4bVTZUfEz8"
      },
      "source": [
        "# Como no coinciden en el tiempo los 3 valores me cojo solo los que coinciden\n",
        "# Primero me los ordeno teniendo en cuenta la fecha\n",
        "aa = dd_googl['Date'].values\n",
        "googl_indice = np.zeros(aa.shape)\n",
        "for n in range(0, aa.shape[0]):\n",
        "    cc = aa[n]\n",
        "    qq1 = np.asarray(cc[0:4], dtype=np.float64, order='C')\n",
        "    qq2 = np.asarray(cc[5:7], dtype=np.float64, order='C')\n",
        "    qq3 = np.asarray(cc[8:10], dtype=np.float64, order='C')\n",
        "\n",
        "    googl_indice[n] = (qq1-2000)*365 + qq2*30 + qq3"
      ],
      "execution_count": 6,
      "outputs": []
    },
    {
      "cell_type": "code",
      "metadata": {
        "id": "tpwSaRT7fE0D"
      },
      "source": [
        "aa = dd_aa['Date'].values\n",
        "aa_indice = np.zeros(aa.shape)\n",
        "for n in range(0, aa.shape[0]):\n",
        "    cc = aa[n]\n",
        "    qq1 = np.asarray(cc[0:4], dtype=np.float64, order='C')\n",
        "    qq2 = np.asarray(cc[5:7], dtype=np.float64, order='C')\n",
        "    qq3 = np.asarray(cc[8:10], dtype=np.float64, order='C')\n",
        "\n",
        "    aa_indice[n] = (qq1-2000)*365 + qq2*30 + qq3"
      ],
      "execution_count": 7,
      "outputs": []
    },
    {
      "cell_type": "code",
      "metadata": {
        "id": "WfkAsDo4fE0N"
      },
      "source": [
        "aa = dd_iae['Date'].values\n",
        "iae_indice = np.zeros(aa.shape)\n",
        "for n in range(0, aa.shape[0]):\n",
        "    cc = aa[n]\n",
        "    qq1 = np.asarray(cc[0:4], dtype=np.float64, order='C')\n",
        "    qq2 = np.asarray(cc[5:7], dtype=np.float64, order='C')\n",
        "    qq3 = np.asarray(cc[8:10], dtype=np.float64, order='C')\n",
        "\n",
        "    iae_indice[n] = (qq1-2000)*365 + qq2*30 + qq3"
      ],
      "execution_count": 8,
      "outputs": []
    },
    {
      "cell_type": "code",
      "metadata": {
        "id": "VR2FHL6ufE0V",
        "colab": {
          "base_uri": "https://localhost:8080/"
        },
        "outputId": "02f433ab-412e-4126-e0a3-49e8967cdf1c"
      },
      "source": [
        "print(googl_indice.shape)\n",
        "print(googl_op.shape)"
      ],
      "execution_count": 9,
      "outputs": [
        {
          "output_type": "stream",
          "text": [
            "(3333,)\n",
            "(3333,)\n"
          ],
          "name": "stdout"
        }
      ]
    },
    {
      "cell_type": "code",
      "metadata": {
        "id": "AbFh3W4hfE0n",
        "colab": {
          "base_uri": "https://localhost:8080/",
          "height": 282
        },
        "outputId": "e90f8fbc-62ba-4f93-9684-9ff79c8b3a9d"
      },
      "source": [
        "# Los ploteo y veo que hay un tramo en el coinciden las fechas\n",
        "import matplotlib.pyplot as plt\n",
        "%matplotlib inline\n",
        "plt.figure()\n",
        "plt.plot(googl_indice,googl_op)\n",
        "plt.plot(aa_indice,aa_op)\n",
        "plt.plot(iae_indice,iae_op)"
      ],
      "execution_count": 10,
      "outputs": [
        {
          "output_type": "execute_result",
          "data": {
            "text/plain": [
              "[<matplotlib.lines.Line2D at 0x7feab0cb75f8>]"
            ]
          },
          "metadata": {
            "tags": []
          },
          "execution_count": 10
        },
        {
          "output_type": "display_data",
          "data": {
            "image/png": "[encoded data removed]",
            "text/plain": [
              "<Figure size 432x288 with 1 Axes>"
            ]
          },
          "metadata": {
            "tags": [],
            "needs_background": "light"
          }
        }
      ]
    },
    {
      "cell_type": "code",
      "metadata": {
        "id": "Z75bJRV5fE0y"
      },
      "source": [
        "# Me quedo solo las fechas que coinciden\n",
        "indices = set(googl_indice) & set(aa_indice) & set(iae_indice) \n",
        "\n",
        "ii = np.in1d(googl_indice,list(indices))\n",
        "data_googl = googl_op[ii]\n",
        "ii = np.in1d(aa_indice,list(indices))\n",
        "data_aa = aa_op[ii]\n",
        "ii = np.in1d(iae_indice,list(indices))\n",
        "data_iae = iae_op[ii]"
      ],
      "execution_count": 11,
      "outputs": []
    },
    {
      "cell_type": "code",
      "metadata": {
        "id": "jS3hc9OefE04",
        "colab": {
          "base_uri": "https://localhost:8080/",
          "height": 282
        },
        "outputId": "fc52e149-14b9-4ecd-b167-fe7aad9a9eb4"
      },
      "source": [
        "# Los ploteo y ahora síí coinciden en todo el tramo\n",
        "import matplotlib.pyplot as plt\n",
        "%matplotlib inline\n",
        "plt.figure()\n",
        "plt.plot(data_googl)\n",
        "plt.plot(data_aa)\n",
        "plt.plot(data_iae)"
      ],
      "execution_count": 12,
      "outputs": [
        {
          "output_type": "execute_result",
          "data": {
            "text/plain": [
              "[<matplotlib.lines.Line2D at 0x7feafce8c390>]"
            ]
          },
          "metadata": {
            "tags": []
          },
          "execution_count": 12
        },
        {
          "output_type": "display_data",
          "data": {
            "image/png": "[encoded data removed]",
            "text/plain": [
              "<Figure size 432x288 with 1 Axes>"
            ]
          },
          "metadata": {
            "tags": [],
            "needs_background": "light"
          }
        }
      ]
    },
    {
      "cell_type": "code",
      "metadata": {
        "id": "XtuUa24tfE1C"
      },
      "source": [
        "# Los coloco todos juntos en un dataset\n",
        "DAT = np.zeros((data_googl.shape[0],3))\n",
        "DAT[:,0] = data_googl\n",
        "DAT[:,1] = data_aa\n",
        "DAT[:,2] = data_iae\n",
        "               "
      ],
      "execution_count": 13,
      "outputs": []
    },
    {
      "cell_type": "code",
      "metadata": {
        "id": "nX_OppGJfE1H",
        "colab": {
          "base_uri": "https://localhost:8080/",
          "height": 282
        },
        "outputId": "b0fe979a-2406-4ed2-bbd8-7ea1d43bd0a0"
      },
      "source": [
        "# Los ploteo\n",
        "import matplotlib.pyplot as plt\n",
        "%matplotlib inline\n",
        "plt.figure()\n",
        "plt.plot(DAT[:,0])\n",
        "plt.plot(DAT[:,1])\n",
        "plt.plot(DAT[:,2])"
      ],
      "execution_count": 14,
      "outputs": [
        {
          "output_type": "execute_result",
          "data": {
            "text/plain": [
              "[<matplotlib.lines.Line2D at 0x7feab0788320>]"
            ]
          },
          "metadata": {
            "tags": []
          },
          "execution_count": 14
        },
        {
          "output_type": "display_data",
          "data": {
            "image/png": "[encoded data removed]",
            "text/plain": [
              "<Figure size 432x288 with 1 Axes>"
            ]
          },
          "metadata": {
            "tags": [],
            "needs_background": "light"
          }
        }
      ]
    },
    {
      "cell_type": "code",
      "metadata": {
        "id": "0q-WTBlkg6lc",
        "colab": {
          "base_uri": "https://localhost:8080/"
        },
        "outputId": "a7ec593c-c3a4-4c51-b601-4ed7d50ac31c"
      },
      "source": [
        "# Dimensiones del dataset\n",
        "DAT.shape"
      ],
      "execution_count": 15,
      "outputs": [
        {
          "output_type": "execute_result",
          "data": {
            "text/plain": [
              "(2678, 3)"
            ]
          },
          "metadata": {
            "tags": []
          },
          "execution_count": 15
        }
      ]
    },
    {
      "cell_type": "code",
      "metadata": {
        "id": "xmCzN6XUfE1S"
      },
      "source": [
        "# Reordeno el dataset para hacer bloques de LAG dias\n",
        "LAG = 15\n",
        "DAT_TS = np.zeros((DAT.shape[0]-LAG,LAG,DAT.shape[1]))\n",
        "\n",
        "for ii in range(0,DAT.shape[0]-LAG):\n",
        "    DAT_TS[ii,:,:] = DAT[ii:ii+LAG,:]\n",
        "    "
      ],
      "execution_count": 16,
      "outputs": []
    },
    {
      "cell_type": "code",
      "metadata": {
        "scrolled": true,
        "id": "tur6hib9fE1X",
        "colab": {
          "base_uri": "https://localhost:8080/"
        },
        "outputId": "16a8b3f3-a312-4a5c-eb82-509abffa76e7"
      },
      "source": [
        "# Tengo (#muestras,#longitud,#variables)\n",
        "DAT_TS.shape"
      ],
      "execution_count": 17,
      "outputs": [
        {
          "output_type": "execute_result",
          "data": {
            "text/plain": [
              "(2663, 15, 3)"
            ]
          },
          "metadata": {
            "tags": []
          },
          "execution_count": 17
        }
      ]
    },
    {
      "cell_type": "code",
      "metadata": {
        "id": "StW902QwfE1l",
        "colab": {
          "base_uri": "https://localhost:8080/"
        },
        "outputId": "451d76ee-1011-4136-f0f7-3f8cabc09af6"
      },
      "source": [
        "# Cojo 14 dias para entrada y el dia 15 de la variable \"Y_target\" como variable a predecir\n",
        "# Separo en train y test\n",
        "\n",
        "Ntr = np.floor(DAT_TS.shape[0]/2)\n",
        "Y_target = 0\n",
        "\n",
        "XX_tr = DAT_TS[range(0,np.int(Ntr)),0:LAG-1,:]\n",
        "XX_ts = DAT_TS[range(np.int(Ntr)+1,2*np.int(Ntr)),0:LAG-1,:]\n",
        "\n",
        "YY_tr = DAT_TS[range(0,np.int(Ntr)),LAG-1,Y_target]\n",
        "YY_ts = DAT_TS[range(np.int(Ntr)+1,2*np.int(Ntr)),LAG-1,Y_target]\n",
        "\n",
        "LAG-1"
      ],
      "execution_count": 18,
      "outputs": [
        {
          "output_type": "execute_result",
          "data": {
            "text/plain": [
              "14"
            ]
          },
          "metadata": {
            "tags": []
          },
          "execution_count": 18
        }
      ]
    },
    {
      "cell_type": "code",
      "metadata": {
        "id": "yqrTYim2fE1v",
        "colab": {
          "base_uri": "https://localhost:8080/"
        },
        "outputId": "4abb1f5e-eded-4e88-df5a-fd4ef7df8eaf"
      },
      "source": [
        "# Los datos de entrada\n",
        "XX_tr.shape"
      ],
      "execution_count": 19,
      "outputs": [
        {
          "output_type": "execute_result",
          "data": {
            "text/plain": [
              "(1331, 14, 3)"
            ]
          },
          "metadata": {
            "tags": []
          },
          "execution_count": 19
        }
      ]
    },
    {
      "cell_type": "code",
      "metadata": {
        "id": "ekMBff60xnVY",
        "colab": {
          "base_uri": "https://localhost:8080/"
        },
        "outputId": "75052a67-f44a-416c-ba7d-24513304b4f5"
      },
      "source": [
        "# Los datos a predecir\n",
        "YY_tr.shape"
      ],
      "execution_count": 20,
      "outputs": [
        {
          "output_type": "execute_result",
          "data": {
            "text/plain": [
              "(1331,)"
            ]
          },
          "metadata": {
            "tags": []
          },
          "execution_count": 20
        }
      ]
    },
    {
      "cell_type": "markdown",
      "metadata": {
        "id": "WPJMRR95fE1_"
      },
      "source": [
        "KERAS MODEL"
      ]
    },
    {
      "cell_type": "code",
      "metadata": {
        "id": "m_n915JGfE2B",
        "colab": {
          "base_uri": "https://localhost:8080/"
        },
        "outputId": "c7a51656-1f45-439f-b035-8182f14f484d"
      },
      "source": [
        "# Definimos un modelo con una capa convolucional 1D y 1 capa densa\n",
        "model = Sequential()\n",
        "model.add(Conv1D(10, 3, input_shape=XX_tr.shape[1:]))\n",
        "model.add(Flatten())\n",
        "model.add(Dense(1))\n",
        "\n",
        "# mostramos el modelo\n",
        "model.summary()\n"
      ],
      "execution_count": 21,
      "outputs": [
        {
          "output_type": "stream",
          "text": [
            "Model: \"sequential\"\n",
            "_________________________________________________________________\n",
            "Layer (type)                 Output Shape              Param #   \n",
            "=================================================================\n",
            "conv1d (Conv1D)              (None, 12, 10)            100       \n",
            "_________________________________________________________________\n",
            "flatten (Flatten)            (None, 120)               0         \n",
            "_________________________________________________________________\n",
            "dense (Dense)                (None, 1)                 121       \n",
            "=================================================================\n",
            "Total params: 221\n",
            "Trainable params: 221\n",
            "Non-trainable params: 0\n",
            "_________________________________________________________________\n"
          ],
          "name": "stdout"
        }
      ]
    },
    {
      "cell_type": "code",
      "metadata": {
        "id": "CZQMkaFGfE2R",
        "colab": {
          "base_uri": "https://localhost:8080/"
        },
        "outputId": "19d75413-e90a-438f-b92a-6feb5ba97871"
      },
      "source": [
        "# Otra posibilidad 2 convolucionales 1D y una densa\n",
        "model = Sequential()\n",
        "model.add(Conv1D(10, 3, input_shape=XX_tr.shape[1:]))\n",
        "model.add(Conv1D(10, 3, input_shape=XX_tr.shape[1:]))\n",
        "model.add(Flatten())\n",
        "model.add(Dense(1))\n",
        "\n",
        "# mostramos el modelo\n",
        "model.summary()"
      ],
      "execution_count": 22,
      "outputs": [
        {
          "output_type": "stream",
          "text": [
            "Model: \"sequential_1\"\n",
            "_________________________________________________________________\n",
            "Layer (type)                 Output Shape              Param #   \n",
            "=================================================================\n",
            "conv1d_1 (Conv1D)            (None, 12, 10)            100       \n",
            "_________________________________________________________________\n",
            "conv1d_2 (Conv1D)            (None, 10, 10)            310       \n",
            "_________________________________________________________________\n",
            "flatten_1 (Flatten)          (None, 100)               0         \n",
            "_________________________________________________________________\n",
            "dense_1 (Dense)              (None, 1)                 101       \n",
            "=================================================================\n",
            "Total params: 511\n",
            "Trainable params: 511\n",
            "Non-trainable params: 0\n",
            "_________________________________________________________________\n"
          ],
          "name": "stdout"
        }
      ]
    },
    {
      "cell_type": "code",
      "metadata": {
        "id": "4Bp4GtCJfE2V",
        "colab": {
          "base_uri": "https://localhost:8080/"
        },
        "outputId": "e2de5c45-64fe-4cea-d4d4-273f64920379"
      },
      "source": [
        "# Otra posibilidad 2 convolucionales 1D y 2 densas\n",
        "model = Sequential()\n",
        "model.add(Conv1D(10, 3, input_shape=XX_tr.shape[1:]))\n",
        "model.add(Conv1D(10, 3, input_shape=XX_tr.shape[1:]))\n",
        "model.add(Flatten())\n",
        "model.add(Dense(10))\n",
        "model.add(Dense(1))\n",
        "\n",
        "# mostramos el modelo\n",
        "model.summary()"
      ],
      "execution_count": 23,
      "outputs": [
        {
          "output_type": "stream",
          "text": [
            "Model: \"sequential_2\"\n",
            "_________________________________________________________________\n",
            "Layer (type)                 Output Shape              Param #   \n",
            "=================================================================\n",
            "conv1d_3 (Conv1D)            (None, 12, 10)            100       \n",
            "_________________________________________________________________\n",
            "conv1d_4 (Conv1D)            (None, 10, 10)            310       \n",
            "_________________________________________________________________\n",
            "flatten_2 (Flatten)          (None, 100)               0         \n",
            "_________________________________________________________________\n",
            "dense_2 (Dense)              (None, 10)                1010      \n",
            "_________________________________________________________________\n",
            "dense_3 (Dense)              (None, 1)                 11        \n",
            "=================================================================\n",
            "Total params: 1,431\n",
            "Trainable params: 1,431\n",
            "Non-trainable params: 0\n",
            "_________________________________________________________________\n"
          ],
          "name": "stdout"
        }
      ]
    },
    {
      "cell_type": "code",
      "metadata": {
        "id": "lS6XW4BjfE2g"
      },
      "source": [
        "# Compilamos el modelo\n",
        "model.compile(optimizer='adam',loss='mae')"
      ],
      "execution_count": 24,
      "outputs": []
    },
    {
      "cell_type": "code",
      "metadata": {
        "id": "NRFC-ErDi_Ir"
      },
      "source": [
        "# Entrenamos el modelo. Para guardarnos la evolucióón usando callbacks\n",
        "\n",
        "# from keras.callbacks import History \n",
        "# history = History()\n",
        "\n",
        "# model.fit(XX_tr, YY_tr, batch_size=32, epochs=100, verbose=1, callbacks=[history])"
      ],
      "execution_count": 25,
      "outputs": []
    },
    {
      "cell_type": "code",
      "metadata": {
        "scrolled": true,
        "id": "rUzDlBvefE2y",
        "colab": {
          "base_uri": "https://localhost:8080/"
        },
        "outputId": "94a79d7c-c9fa-4379-9ad3-9025bef27fc4"
      },
      "source": [
        "# Entrenamos el modelo, nos guardamos la evolución en 'history' \n",
        "# Esto es equivalente a usar callbacks para history\n",
        "history = model.fit(XX_tr, YY_tr, batch_size=32, epochs=100, verbose=1)"
      ],
      "execution_count": 26,
      "outputs": [
        {
          "output_type": "stream",
          "text": [
            "Epoch 1/100\n",
            "42/42 [==============================] - 0s 2ms/step - loss: 113.3566\n",
            "Epoch 2/100\n",
            "42/42 [==============================] - 0s 2ms/step - loss: 14.3688\n",
            "Epoch 3/100\n",
            "42/42 [==============================] - 0s 2ms/step - loss: 10.1971\n",
            "Epoch 4/100\n",
            "42/42 [==============================] - 0s 2ms/step - loss: 8.6031\n",
            "Epoch 5/100\n",
            "42/42 [==============================] - 0s 2ms/step - loss: 8.7968\n",
            "Epoch 6/100\n",
            "42/42 [==============================] - 0s 2ms/step - loss: 7.6989\n",
            "Epoch 7/100\n",
            "42/42 [==============================] - 0s 2ms/step - loss: 7.5009\n",
            "Epoch 8/100\n",
            "42/42 [==============================] - 0s 1ms/step - loss: 7.7683\n",
            "Epoch 9/100\n",
            "42/42 [==============================] - 0s 1ms/step - loss: 9.3902\n",
            "Epoch 10/100\n",
            "42/42 [==============================] - 0s 2ms/step - loss: 7.4143\n",
            "Epoch 11/100\n",
            "42/42 [==============================] - 0s 1ms/step - loss: 6.9746\n",
            "Epoch 12/100\n",
            "42/42 [==============================] - 0s 1ms/step - loss: 7.4276\n",
            "Epoch 13/100\n",
            "42/42 [==============================] - 0s 1ms/step - loss: 6.3833\n",
            "Epoch 14/100\n",
            "42/42 [==============================] - 0s 2ms/step - loss: 5.9536\n",
            "Epoch 15/100\n",
            "42/42 [==============================] - 0s 1ms/step - loss: 5.8231\n",
            "Epoch 16/100\n",
            "42/42 [==============================] - 0s 1ms/step - loss: 6.3321\n",
            "Epoch 17/100\n",
            "42/42 [==============================] - 0s 2ms/step - loss: 7.5196\n",
            "Epoch 18/100\n",
            "42/42 [==============================] - 0s 1ms/step - loss: 5.7436\n",
            "Epoch 19/100\n",
            "42/42 [==============================] - 0s 2ms/step - loss: 5.6814\n",
            "Epoch 20/100\n",
            "42/42 [==============================] - 0s 1ms/step - loss: 5.4071\n",
            "Epoch 21/100\n",
            "42/42 [==============================] - 0s 1ms/step - loss: 5.5606\n",
            "Epoch 22/100\n",
            "42/42 [==============================] - 0s 2ms/step - loss: 5.1921\n",
            "Epoch 23/100\n",
            "42/42 [==============================] - 0s 2ms/step - loss: 5.7248\n",
            "Epoch 24/100\n",
            "42/42 [==============================] - 0s 1ms/step - loss: 5.8239\n",
            "Epoch 25/100\n",
            "42/42 [==============================] - 0s 1ms/step - loss: 6.2107\n",
            "Epoch 26/100\n",
            "42/42 [==============================] - 0s 1ms/step - loss: 4.9508\n",
            "Epoch 27/100\n",
            "42/42 [==============================] - 0s 1ms/step - loss: 5.3719\n",
            "Epoch 28/100\n",
            "42/42 [==============================] - 0s 1ms/step - loss: 5.0593\n",
            "Epoch 29/100\n",
            "42/42 [==============================] - 0s 2ms/step - loss: 5.3032\n",
            "Epoch 30/100\n",
            "42/42 [==============================] - 0s 1ms/step - loss: 5.1520\n",
            "Epoch 31/100\n",
            "42/42 [==============================] - 0s 2ms/step - loss: 5.6197\n",
            "Epoch 32/100\n",
            "42/42 [==============================] - 0s 2ms/step - loss: 4.9156\n",
            "Epoch 33/100\n",
            "42/42 [==============================] - 0s 1ms/step - loss: 4.7946\n",
            "Epoch 34/100\n",
            "42/42 [==============================] - 0s 2ms/step - loss: 5.0471\n",
            "Epoch 35/100\n",
            "42/42 [==============================] - 0s 1ms/step - loss: 5.1683\n",
            "Epoch 36/100\n",
            "42/42 [==============================] - 0s 2ms/step - loss: 5.1692\n",
            "Epoch 37/100\n",
            "42/42 [==============================] - 0s 2ms/step - loss: 4.6650\n",
            "Epoch 38/100\n",
            "42/42 [==============================] - 0s 1ms/step - loss: 4.9423\n",
            "Epoch 39/100\n",
            "42/42 [==============================] - 0s 2ms/step - loss: 5.2200\n",
            "Epoch 40/100\n",
            "42/42 [==============================] - 0s 2ms/step - loss: 4.6229\n",
            "Epoch 41/100\n",
            "42/42 [==============================] - 0s 1ms/step - loss: 4.5637\n",
            "Epoch 42/100\n",
            "42/42 [==============================] - 0s 1ms/step - loss: 4.4133\n",
            "Epoch 43/100\n",
            "42/42 [==============================] - 0s 1ms/step - loss: 4.5596\n",
            "Epoch 44/100\n",
            "42/42 [==============================] - 0s 2ms/step - loss: 4.5683\n",
            "Epoch 45/100\n",
            "42/42 [==============================] - 0s 1ms/step - loss: 4.6632\n",
            "Epoch 46/100\n",
            "42/42 [==============================] - 0s 1ms/step - loss: 4.1375\n",
            "Epoch 47/100\n",
            "42/42 [==============================] - 0s 2ms/step - loss: 5.1489\n",
            "Epoch 48/100\n",
            "42/42 [==============================] - 0s 1ms/step - loss: 4.7971\n",
            "Epoch 49/100\n",
            "42/42 [==============================] - 0s 1ms/step - loss: 4.2531\n",
            "Epoch 50/100\n",
            "42/42 [==============================] - 0s 2ms/step - loss: 4.7476\n",
            "Epoch 51/100\n",
            "42/42 [==============================] - 0s 1ms/step - loss: 4.9055\n",
            "Epoch 52/100\n",
            "42/42 [==============================] - 0s 2ms/step - loss: 5.2049\n",
            "Epoch 53/100\n",
            "42/42 [==============================] - 0s 2ms/step - loss: 4.4029\n",
            "Epoch 54/100\n",
            "42/42 [==============================] - 0s 1ms/step - loss: 4.2498\n",
            "Epoch 55/100\n",
            "42/42 [==============================] - 0s 1ms/step - loss: 4.5753\n",
            "Epoch 56/100\n",
            "42/42 [==============================] - 0s 2ms/step - loss: 4.4327\n",
            "Epoch 57/100\n",
            "42/42 [==============================] - 0s 2ms/step - loss: 4.0679\n",
            "Epoch 58/100\n",
            "42/42 [==============================] - 0s 2ms/step - loss: 4.5848\n",
            "Epoch 59/100\n",
            "42/42 [==============================] - 0s 1ms/step - loss: 4.6612\n",
            "Epoch 60/100\n",
            "42/42 [==============================] - 0s 2ms/step - loss: 4.1451\n",
            "Epoch 61/100\n",
            "42/42 [==============================] - 0s 2ms/step - loss: 4.3547\n",
            "Epoch 62/100\n",
            "42/42 [==============================] - 0s 1ms/step - loss: 4.3222\n",
            "Epoch 63/100\n",
            "42/42 [==============================] - 0s 1ms/step - loss: 4.3718\n",
            "Epoch 64/100\n",
            "42/42 [==============================] - 0s 1ms/step - loss: 4.8719\n",
            "Epoch 65/100\n",
            "42/42 [==============================] - 0s 1ms/step - loss: 4.5554\n",
            "Epoch 66/100\n",
            "42/42 [==============================] - 0s 1ms/step - loss: 4.5639\n",
            "Epoch 67/100\n",
            "42/42 [==============================] - 0s 2ms/step - loss: 4.2142\n",
            "Epoch 68/100\n",
            "42/42 [==============================] - 0s 2ms/step - loss: 4.2181\n",
            "Epoch 69/100\n",
            "42/42 [==============================] - 0s 2ms/step - loss: 4.1853\n",
            "Epoch 70/100\n",
            "42/42 [==============================] - 0s 1ms/step - loss: 4.4844\n",
            "Epoch 71/100\n",
            "42/42 [==============================] - 0s 2ms/step - loss: 3.9185\n",
            "Epoch 72/100\n",
            "42/42 [==============================] - 0s 2ms/step - loss: 4.0474\n",
            "Epoch 73/100\n",
            "42/42 [==============================] - 0s 1ms/step - loss: 4.4440\n",
            "Epoch 74/100\n",
            "42/42 [==============================] - 0s 2ms/step - loss: 4.0320\n",
            "Epoch 75/100\n",
            "42/42 [==============================] - 0s 1ms/step - loss: 4.5153\n",
            "Epoch 76/100\n",
            "42/42 [==============================] - 0s 2ms/step - loss: 4.1978\n",
            "Epoch 77/100\n",
            "42/42 [==============================] - 0s 1ms/step - loss: 4.0010\n",
            "Epoch 78/100\n",
            "42/42 [==============================] - 0s 2ms/step - loss: 4.0605\n",
            "Epoch 79/100\n",
            "42/42 [==============================] - 0s 1ms/step - loss: 4.2300\n",
            "Epoch 80/100\n",
            "42/42 [==============================] - 0s 2ms/step - loss: 4.0244\n",
            "Epoch 81/100\n",
            "42/42 [==============================] - 0s 1ms/step - loss: 4.6312\n",
            "Epoch 82/100\n",
            "42/42 [==============================] - 0s 1ms/step - loss: 4.1256\n",
            "Epoch 83/100\n",
            "42/42 [==============================] - 0s 1ms/step - loss: 3.9655\n",
            "Epoch 84/100\n",
            "42/42 [==============================] - 0s 1ms/step - loss: 3.9708\n",
            "Epoch 85/100\n",
            "42/42 [==============================] - 0s 2ms/step - loss: 4.4032\n",
            "Epoch 86/100\n",
            "42/42 [==============================] - 0s 1ms/step - loss: 4.4338\n",
            "Epoch 87/100\n",
            "42/42 [==============================] - 0s 2ms/step - loss: 5.5951\n",
            "Epoch 88/100\n",
            "42/42 [==============================] - 0s 2ms/step - loss: 4.0066\n",
            "Epoch 89/100\n",
            "42/42 [==============================] - 0s 1ms/step - loss: 4.2553\n",
            "Epoch 90/100\n",
            "42/42 [==============================] - 0s 2ms/step - loss: 4.6711\n",
            "Epoch 91/100\n",
            "42/42 [==============================] - 0s 2ms/step - loss: 3.9473\n",
            "Epoch 92/100\n",
            "42/42 [==============================] - 0s 1ms/step - loss: 3.9164\n",
            "Epoch 93/100\n",
            "42/42 [==============================] - 0s 2ms/step - loss: 3.8694\n",
            "Epoch 94/100\n",
            "42/42 [==============================] - 0s 2ms/step - loss: 4.0718\n",
            "Epoch 95/100\n",
            "42/42 [==============================] - 0s 1ms/step - loss: 3.9398\n",
            "Epoch 96/100\n",
            "42/42 [==============================] - 0s 1ms/step - loss: 4.2150\n",
            "Epoch 97/100\n",
            "42/42 [==============================] - 0s 1ms/step - loss: 4.0058\n",
            "Epoch 98/100\n",
            "42/42 [==============================] - 0s 2ms/step - loss: 4.1859\n",
            "Epoch 99/100\n",
            "42/42 [==============================] - 0s 1ms/step - loss: 3.8282\n",
            "Epoch 100/100\n",
            "42/42 [==============================] - 0s 1ms/step - loss: 3.8863\n"
          ],
          "name": "stdout"
        }
      ]
    },
    {
      "cell_type": "code",
      "metadata": {
        "id": "1mvxBnpofE28",
        "colab": {
          "base_uri": "https://localhost:8080/",
          "height": 282
        },
        "outputId": "88411151-c88e-4d4a-ee95-f5827979f811"
      },
      "source": [
        "# Mostramos la evolucióón del entrenamiento\n",
        "loss_ev = history.history['loss']\n",
        "\n",
        "import matplotlib.pyplot as plt\n",
        "%matplotlib inline\n",
        "plt.figure()\n",
        "plt.plot(loss_ev)"
      ],
      "execution_count": 27,
      "outputs": [
        {
          "output_type": "execute_result",
          "data": {
            "text/plain": [
              "[<matplotlib.lines.Line2D at 0x7feaa78c1278>]"
            ]
          },
          "metadata": {
            "tags": []
          },
          "execution_count": 27
        },
        {
          "output_type": "display_data",
          "data": {
            "image/png": "[encoded data removed]",
            "text/plain": [
              "<Figure size 432x288 with 1 Axes>"
            ]
          },
          "metadata": {
            "tags": [],
            "needs_background": "light"
          }
        }
      ]
    },
    {
      "cell_type": "code",
      "metadata": {
        "id": "cpMU60wRfE3G",
        "colab": {
          "base_uri": "https://localhost:8080/"
        },
        "outputId": "6faf8629-d92f-48fe-aaa7-0582616d6100"
      },
      "source": [
        "# Evaluamos el modelo en train\n",
        "score = model.evaluate(XX_tr, YY_tr, verbose=0)\n",
        "score"
      ],
      "execution_count": 28,
      "outputs": [
        {
          "output_type": "execute_result",
          "data": {
            "text/plain": [
              "4.187546730041504"
            ]
          },
          "metadata": {
            "tags": []
          },
          "execution_count": 28
        }
      ]
    },
    {
      "cell_type": "code",
      "metadata": {
        "id": "IWCBN1aZfE3L",
        "colab": {
          "base_uri": "https://localhost:8080/"
        },
        "outputId": "db86f4f0-bf57-4ceb-8539-da6c79ae1f83"
      },
      "source": [
        "# Predecimos con los datos de train\n",
        "y_hat = model.predict(XX_tr)\n",
        "np.mean(abs(y_hat[:,0]-YY_tr))"
      ],
      "execution_count": 29,
      "outputs": [
        {
          "output_type": "execute_result",
          "data": {
            "text/plain": [
              "4.187546169358389"
            ]
          },
          "metadata": {
            "tags": []
          },
          "execution_count": 29
        }
      ]
    },
    {
      "cell_type": "code",
      "metadata": {
        "id": "CW_o_6cGfE3S",
        "colab": {
          "base_uri": "https://localhost:8080/"
        },
        "outputId": "35f9df3f-ec15-4866-d783-422f4997524c"
      },
      "source": [
        "y_hat.shape"
      ],
      "execution_count": 30,
      "outputs": [
        {
          "output_type": "execute_result",
          "data": {
            "text/plain": [
              "(1331, 1)"
            ]
          },
          "metadata": {
            "tags": []
          },
          "execution_count": 30
        }
      ]
    },
    {
      "cell_type": "code",
      "metadata": {
        "id": "bdbBQi-hfE3Z",
        "colab": {
          "base_uri": "https://localhost:8080/",
          "height": 282
        },
        "outputId": "d030acf6-0d52-41ca-f744-528b5a930682"
      },
      "source": [
        "# Mostramos las predicciones\n",
        "import matplotlib.pyplot as plt\n",
        "%matplotlib inline\n",
        "plt.figure()\n",
        "plt.plot(y_hat, label='datos')\n",
        "plt.plot(YY_tr, label='predicciones')\n",
        "plt.legend()"
      ],
      "execution_count": 31,
      "outputs": [
        {
          "output_type": "execute_result",
          "data": {
            "text/plain": [
              "<matplotlib.legend.Legend at 0x7feaa6fa7128>"
            ]
          },
          "metadata": {
            "tags": []
          },
          "execution_count": 31
        },
        {
          "output_type": "display_data",
          "data": {
            "image/png": "[encoded data removed]",
            "text/plain": [
              "<Figure size 432x288 with 1 Axes>"
            ]
          },
          "metadata": {
            "tags": [],
            "needs_background": "light"
          }
        }
      ]
    },
    {
      "cell_type": "markdown",
      "metadata": {
        "id": "c_I2B87hfE3g"
      },
      "source": [
        "TEST"
      ]
    },
    {
      "cell_type": "code",
      "metadata": {
        "id": "nu6befzBfE3h",
        "colab": {
          "base_uri": "https://localhost:8080/"
        },
        "outputId": "541f874b-403f-454e-d01c-9f5670f7b14b"
      },
      "source": [
        "# Predecimos en test\n",
        "y_hat = model.predict(XX_ts)\n",
        "# mostramos el error\n",
        "np.mean(abs(y_hat[:,0]-YY_ts))"
      ],
      "execution_count": 32,
      "outputs": [
        {
          "output_type": "execute_result",
          "data": {
            "text/plain": [
              "10.396066507210412"
            ]
          },
          "metadata": {
            "tags": []
          },
          "execution_count": 32
        }
      ]
    },
    {
      "cell_type": "code",
      "metadata": {
        "id": "pfEI5qOhkKOC",
        "colab": {
          "base_uri": "https://localhost:8080/",
          "height": 282
        },
        "outputId": "5f0adf6d-6fba-43a3-d7b0-7662ba04daf5"
      },
      "source": [
        "# Mostramos las predicciones\n",
        "import matplotlib.pyplot as plt\n",
        "%matplotlib inline\n",
        "plt.figure()\n",
        "plt.plot(y_hat, label='datos')\n",
        "plt.plot(YY_ts, label='predicciones')\n",
        "plt.legend()"
      ],
      "execution_count": 33,
      "outputs": [
        {
          "output_type": "execute_result",
          "data": {
            "text/plain": [
              "<matplotlib.legend.Legend at 0x7feaa67616d8>"
            ]
          },
          "metadata": {
            "tags": []
          },
          "execution_count": 33
        },
        {
          "output_type": "display_data",
          "data": {
            "image/png": "[encoded data removed]",
            "text/plain": [
              "<Figure size 432x288 with 1 Axes>"
            ]
          },
          "metadata": {
            "tags": [],
            "needs_background": "light"
          }
        }
      ]
    },
    {
      "cell_type": "code",
      "metadata": {
        "scrolled": true,
        "id": "daRz2tXdfE3l",
        "colab": {
          "base_uri": "https://localhost:8080/",
          "height": 282
        },
        "outputId": "65af3205-b22a-4988-bc3c-324e86205bfe"
      },
      "source": [
        "# Estas son las diferencias\n",
        "import matplotlib.pyplot as plt\n",
        "%matplotlib inline\n",
        "plt.figure()\n",
        "plt.plot(y_hat[:,0]-YY_ts, label='NN')\n",
        "plt.legend()"
      ],
      "execution_count": 34,
      "outputs": [
        {
          "output_type": "execute_result",
          "data": {
            "text/plain": [
              "<matplotlib.legend.Legend at 0x7feaa672dfd0>"
            ]
          },
          "metadata": {
            "tags": []
          },
          "execution_count": 34
        },
        {
          "output_type": "display_data",
          "data": {
            "image/png": "[encoded data removed]",
            "text/plain": [
              "<Figure size 432x288 with 1 Axes>"
            ]
          },
          "metadata": {
            "tags": [],
            "needs_background": "light"
          }
        }
      ]
    },
    {
      "cell_type": "code",
      "metadata": {
        "id": "gsa1cipEfE4B"
      },
      "source": [
        ""
      ],
      "execution_count": null,
      "outputs": []
    }
  ]
}